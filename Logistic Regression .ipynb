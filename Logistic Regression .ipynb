{
 "cells": [
  {
   "cell_type": "markdown",
   "metadata": {
    "colab_type": "text",
    "id": "UIn1GsFNJkjH"
   },
   "source": [
    "# Amazon Fine Food Reviews Analysis\n",
    "\n",
    "\n",
    "Data Source: https://www.kaggle.com/snap/amazon-fine-food-reviews <br>\n",
    "\n",
    "EDA: https://nycdatascience.com/blog/student-works/amazon-fine-foods-visualization/\n",
    "\n",
    "\n",
    "The Amazon Fine Food Reviews dataset consists of reviews of fine foods from Amazon.<br>\n",
    "\n",
    "Number of reviews: 568,454<br>\n",
    "Number of users: 256,059<br>\n",
    "Number of products: 74,258<br>\n",
    "Timespan: Oct 1999 - Oct 2012<br>\n",
    "Number of Attributes/Columns in data: 10 \n",
    "\n",
    "Attribute Information:\n",
    "\n",
    "1. Id\n",
    "2. ProductId - unique identifier for the product\n",
    "3. UserId - unqiue identifier for the user\n",
    "4. ProfileName\n",
    "5. HelpfulnessNumerator - number of users who found the review helpful\n",
    "6. HelpfulnessDenominator - number of users who indicated whether they found the review helpful or not\n",
    "7. Score - rating between 1 and 5\n",
    "8. Time - timestamp for the review\n",
    "9. Summary - brief summary of the review\n",
    "10. Text - text of the review\n",
    "\n",
    "\n",
    "#### Objective:\n",
    "Given a review, determine whether the review is positive (rating of 4 or 5) or negative (rating of 1 or 2).\n",
    "\n",
    "<br>\n",
    "[Q] How to determine if a review is positive or negative?<br>\n",
    "<br> \n",
    "[Ans] We could use Score/Rating. A rating of 4 or 5 can be cosnidered as a positive review. A rating of 1 or 2 can be considered as negative one. A review of rating 3 is considered nuetral and such reviews are ignored from our analysis. This is an approximate and proxy way of determining the polarity (positivity/negativity) of a review.\n",
    "\n",
    "\n"
   ]
  },
  {
   "cell_type": "markdown",
   "metadata": {
    "colab_type": "text",
    "id": "5Uf26aoLJkjJ"
   },
   "source": [
    "# [1]. Reading Data"
   ]
  },
  {
   "cell_type": "markdown",
   "metadata": {
    "colab_type": "text",
    "id": "yo-LaJg3JkjK"
   },
   "source": [
    "## [1.1] Loading the data\n",
    "\n",
    "The dataset is available in two forms\n",
    "1. .csv file\n",
    "2. SQLite Database\n",
    "\n",
    "In order to load the data, We have used the SQLITE dataset as it is easier to query the data and visualise the data efficiently.\n",
    "<br> \n",
    "\n",
    "Here as we only want to get the global sentiment of the recommendations (positive or negative), we will purposefully ignore all Scores equal to 3. If the score is above 3, then the recommendation wil be set to \"positive\". Otherwise, it will be set to \"negative\"."
   ]
  },
  {
   "cell_type": "code",
   "execution_count": 1,
   "metadata": {
    "colab": {},
    "colab_type": "code",
    "id": "dLYq3BkfJkjL"
   },
   "outputs": [],
   "source": [
    "%matplotlib inline\n",
    "import warnings\n",
    "warnings.filterwarnings(\"ignore\")\n",
    "\n",
    "\n",
    "import sqlite3\n",
    "import pandas as pd\n",
    "import numpy as np\n",
    "import nltk\n",
    "import string\n",
    "import matplotlib.pyplot as plt\n",
    "import seaborn as sns\n",
    "from sklearn.feature_extraction.text import TfidfTransformer\n",
    "from sklearn.feature_extraction.text import TfidfVectorizer\n",
    "\n",
    "from sklearn.feature_extraction.text import CountVectorizer\n",
    "from sklearn.metrics import confusion_matrix\n",
    "from sklearn import metrics\n",
    "from sklearn.metrics import roc_curve, auc\n",
    "from nltk.stem.porter import PorterStemmer\n",
    "\n",
    "import re\n",
    "# Tutorial about Python regular expressions: https://pymotw.com/2/re/\n",
    "import string\n",
    "from nltk.corpus import stopwords\n",
    "from nltk.stem import PorterStemmer\n",
    "from nltk.stem.wordnet import WordNetLemmatizer\n",
    "\n",
    "from gensim.models import Word2Vec\n",
    "from gensim.models import KeyedVectors\n",
    "import pickle\n",
    "\n",
    "from tqdm import tqdm\n",
    "import os"
   ]
  },
  {
   "cell_type": "code",
   "execution_count": 2,
   "metadata": {
    "colab": {},
    "colab_type": "code",
    "id": "rXVxnx_NJkjO",
    "outputId": "98628980-4d6e-4c53-913f-2d207932d2d0"
   },
   "outputs": [
    {
     "name": "stdout",
     "output_type": "stream",
     "text": [
      "Number of data points in our data (100000, 10)\n"
     ]
    },
    {
     "data": {
      "text/html": [
       "<div>\n",
       "<style scoped>\n",
       "    .dataframe tbody tr th:only-of-type {\n",
       "        vertical-align: middle;\n",
       "    }\n",
       "\n",
       "    .dataframe tbody tr th {\n",
       "        vertical-align: top;\n",
       "    }\n",
       "\n",
       "    .dataframe thead th {\n",
       "        text-align: right;\n",
       "    }\n",
       "</style>\n",
       "<table border=\"1\" class=\"dataframe\">\n",
       "  <thead>\n",
       "    <tr style=\"text-align: right;\">\n",
       "      <th></th>\n",
       "      <th>Id</th>\n",
       "      <th>ProductId</th>\n",
       "      <th>UserId</th>\n",
       "      <th>ProfileName</th>\n",
       "      <th>HelpfulnessNumerator</th>\n",
       "      <th>HelpfulnessDenominator</th>\n",
       "      <th>Score</th>\n",
       "      <th>Time</th>\n",
       "      <th>Summary</th>\n",
       "      <th>Text</th>\n",
       "    </tr>\n",
       "  </thead>\n",
       "  <tbody>\n",
       "    <tr>\n",
       "      <th>0</th>\n",
       "      <td>1</td>\n",
       "      <td>B001E4KFG0</td>\n",
       "      <td>A3SGXH7AUHU8GW</td>\n",
       "      <td>delmartian</td>\n",
       "      <td>1</td>\n",
       "      <td>1</td>\n",
       "      <td>1</td>\n",
       "      <td>1303862400</td>\n",
       "      <td>Good Quality Dog Food</td>\n",
       "      <td>I have bought several of the Vitality canned d...</td>\n",
       "    </tr>\n",
       "    <tr>\n",
       "      <th>1</th>\n",
       "      <td>2</td>\n",
       "      <td>B00813GRG4</td>\n",
       "      <td>A1D87F6ZCVE5NK</td>\n",
       "      <td>dll pa</td>\n",
       "      <td>0</td>\n",
       "      <td>0</td>\n",
       "      <td>0</td>\n",
       "      <td>1346976000</td>\n",
       "      <td>Not as Advertised</td>\n",
       "      <td>Product arrived labeled as Jumbo Salted Peanut...</td>\n",
       "    </tr>\n",
       "    <tr>\n",
       "      <th>2</th>\n",
       "      <td>3</td>\n",
       "      <td>B000LQOCH0</td>\n",
       "      <td>ABXLMWJIXXAIN</td>\n",
       "      <td>Natalia Corres \"Natalia Corres\"</td>\n",
       "      <td>1</td>\n",
       "      <td>1</td>\n",
       "      <td>1</td>\n",
       "      <td>1219017600</td>\n",
       "      <td>\"Delight\" says it all</td>\n",
       "      <td>This is a confection that has been around a fe...</td>\n",
       "    </tr>\n",
       "  </tbody>\n",
       "</table>\n",
       "</div>"
      ],
      "text/plain": [
       "   Id   ProductId          UserId                      ProfileName  \\\n",
       "0   1  B001E4KFG0  A3SGXH7AUHU8GW                       delmartian   \n",
       "1   2  B00813GRG4  A1D87F6ZCVE5NK                           dll pa   \n",
       "2   3  B000LQOCH0   ABXLMWJIXXAIN  Natalia Corres \"Natalia Corres\"   \n",
       "\n",
       "   HelpfulnessNumerator  HelpfulnessDenominator  Score        Time  \\\n",
       "0                     1                       1      1  1303862400   \n",
       "1                     0                       0      0  1346976000   \n",
       "2                     1                       1      1  1219017600   \n",
       "\n",
       "                 Summary                                               Text  \n",
       "0  Good Quality Dog Food  I have bought several of the Vitality canned d...  \n",
       "1      Not as Advertised  Product arrived labeled as Jumbo Salted Peanut...  \n",
       "2  \"Delight\" says it all  This is a confection that has been around a fe...  "
      ]
     },
     "execution_count": 2,
     "metadata": {},
     "output_type": "execute_result"
    }
   ],
   "source": [
    "# using SQLite Table to read data.\n",
    "con = sqlite3.connect('database.sqlite') \n",
    "\n",
    "# filtering only positive and negative reviews i.e. \n",
    "# not taking into consideration those reviews with Score=3\n",
    "# SELECT * FROM Reviews WHERE Score != 3 LIMIT 500000, will give top 500000 data points\n",
    "# you can change the number to any other number based on your computing power\n",
    "\n",
    "# filtered_data = pd.read_sql_query(\"\"\" SELECT * FROM Reviews WHERE Score != 3 LIMIT 500000\"\"\", con) \n",
    "# for tsne assignment you can take 5k data points\n",
    "\n",
    "filtered_data = pd.read_sql_query(\"\"\" SELECT * FROM Reviews WHERE Score != 3 LIMIT 100000\"\"\", con) \n",
    "\n",
    "# Give reviews with Score>3 a positive rating(1), and reviews with a score<3 a negative rating(0).\n",
    "def partition(x):\n",
    "    if x < 3:\n",
    "        return 0\n",
    "    return 1\n",
    "\n",
    "#changing reviews with score less than 3 to be positive and vice-versa\n",
    "actualScore = filtered_data['Score']\n",
    "positiveNegative = actualScore.map(partition) \n",
    "filtered_data['Score'] = positiveNegative\n",
    "print(\"Number of data points in our data\", filtered_data.shape)\n",
    "filtered_data.head(3)"
   ]
  },
  {
   "cell_type": "code",
   "execution_count": 3,
   "metadata": {
    "colab": {},
    "colab_type": "code",
    "id": "ZLasp3QxJkjS"
   },
   "outputs": [],
   "source": [
    "display = pd.read_sql_query(\"\"\"\n",
    "SELECT UserId, ProductId, ProfileName, Time, Score, Text, COUNT(*)\n",
    "FROM Reviews\n",
    "GROUP BY UserId\n",
    "HAVING COUNT(*)>1\n",
    "\"\"\", con)"
   ]
  },
  {
   "cell_type": "code",
   "execution_count": 4,
   "metadata": {
    "colab": {},
    "colab_type": "code",
    "id": "pHzk_lUkJkjW",
    "outputId": "3461f626-dc72-4b0d-af37-c3625e7e81b2",
    "scrolled": true
   },
   "outputs": [
    {
     "name": "stdout",
     "output_type": "stream",
     "text": [
      "(80668, 7)\n"
     ]
    },
    {
     "data": {
      "text/html": [
       "<div>\n",
       "<style scoped>\n",
       "    .dataframe tbody tr th:only-of-type {\n",
       "        vertical-align: middle;\n",
       "    }\n",
       "\n",
       "    .dataframe tbody tr th {\n",
       "        vertical-align: top;\n",
       "    }\n",
       "\n",
       "    .dataframe thead th {\n",
       "        text-align: right;\n",
       "    }\n",
       "</style>\n",
       "<table border=\"1\" class=\"dataframe\">\n",
       "  <thead>\n",
       "    <tr style=\"text-align: right;\">\n",
       "      <th></th>\n",
       "      <th>UserId</th>\n",
       "      <th>ProductId</th>\n",
       "      <th>ProfileName</th>\n",
       "      <th>Time</th>\n",
       "      <th>Score</th>\n",
       "      <th>Text</th>\n",
       "      <th>COUNT(*)</th>\n",
       "    </tr>\n",
       "  </thead>\n",
       "  <tbody>\n",
       "    <tr>\n",
       "      <th>0</th>\n",
       "      <td>#oc-R115TNMSPFT9I7</td>\n",
       "      <td>B007Y59HVM</td>\n",
       "      <td>Breyton</td>\n",
       "      <td>1331510400</td>\n",
       "      <td>2</td>\n",
       "      <td>Overall its just OK when considering the price...</td>\n",
       "      <td>2</td>\n",
       "    </tr>\n",
       "    <tr>\n",
       "      <th>1</th>\n",
       "      <td>#oc-R11D9D7SHXIJB9</td>\n",
       "      <td>B005HG9ET0</td>\n",
       "      <td>Louis E. Emory \"hoppy\"</td>\n",
       "      <td>1342396800</td>\n",
       "      <td>5</td>\n",
       "      <td>My wife has recurring extreme muscle spasms, u...</td>\n",
       "      <td>3</td>\n",
       "    </tr>\n",
       "    <tr>\n",
       "      <th>2</th>\n",
       "      <td>#oc-R11DNU2NBKQ23Z</td>\n",
       "      <td>B007Y59HVM</td>\n",
       "      <td>Kim Cieszykowski</td>\n",
       "      <td>1348531200</td>\n",
       "      <td>1</td>\n",
       "      <td>This coffee is horrible and unfortunately not ...</td>\n",
       "      <td>2</td>\n",
       "    </tr>\n",
       "    <tr>\n",
       "      <th>3</th>\n",
       "      <td>#oc-R11O5J5ZVQE25C</td>\n",
       "      <td>B005HG9ET0</td>\n",
       "      <td>Penguin Chick</td>\n",
       "      <td>1346889600</td>\n",
       "      <td>5</td>\n",
       "      <td>This will be the bottle that you grab from the...</td>\n",
       "      <td>3</td>\n",
       "    </tr>\n",
       "    <tr>\n",
       "      <th>4</th>\n",
       "      <td>#oc-R12KPBODL2B5ZD</td>\n",
       "      <td>B007OSBE1U</td>\n",
       "      <td>Christopher P. Presta</td>\n",
       "      <td>1348617600</td>\n",
       "      <td>1</td>\n",
       "      <td>I didnt like this coffee. Instead of telling y...</td>\n",
       "      <td>2</td>\n",
       "    </tr>\n",
       "  </tbody>\n",
       "</table>\n",
       "</div>"
      ],
      "text/plain": [
       "               UserId   ProductId             ProfileName        Time  Score  \\\n",
       "0  #oc-R115TNMSPFT9I7  B007Y59HVM                 Breyton  1331510400      2   \n",
       "1  #oc-R11D9D7SHXIJB9  B005HG9ET0  Louis E. Emory \"hoppy\"  1342396800      5   \n",
       "2  #oc-R11DNU2NBKQ23Z  B007Y59HVM        Kim Cieszykowski  1348531200      1   \n",
       "3  #oc-R11O5J5ZVQE25C  B005HG9ET0           Penguin Chick  1346889600      5   \n",
       "4  #oc-R12KPBODL2B5ZD  B007OSBE1U   Christopher P. Presta  1348617600      1   \n",
       "\n",
       "                                                Text  COUNT(*)  \n",
       "0  Overall its just OK when considering the price...         2  \n",
       "1  My wife has recurring extreme muscle spasms, u...         3  \n",
       "2  This coffee is horrible and unfortunately not ...         2  \n",
       "3  This will be the bottle that you grab from the...         3  \n",
       "4  I didnt like this coffee. Instead of telling y...         2  "
      ]
     },
     "execution_count": 4,
     "metadata": {},
     "output_type": "execute_result"
    }
   ],
   "source": [
    "print(display.shape)\n",
    "display.head()"
   ]
  },
  {
   "cell_type": "code",
   "execution_count": 5,
   "metadata": {
    "colab": {},
    "colab_type": "code",
    "id": "HUsn2lg8Jkjb",
    "outputId": "76e2e98e-b728-46ba-d619-c2008134a3b7"
   },
   "outputs": [
    {
     "data": {
      "text/html": [
       "<div>\n",
       "<style scoped>\n",
       "    .dataframe tbody tr th:only-of-type {\n",
       "        vertical-align: middle;\n",
       "    }\n",
       "\n",
       "    .dataframe tbody tr th {\n",
       "        vertical-align: top;\n",
       "    }\n",
       "\n",
       "    .dataframe thead th {\n",
       "        text-align: right;\n",
       "    }\n",
       "</style>\n",
       "<table border=\"1\" class=\"dataframe\">\n",
       "  <thead>\n",
       "    <tr style=\"text-align: right;\">\n",
       "      <th></th>\n",
       "      <th>UserId</th>\n",
       "      <th>ProductId</th>\n",
       "      <th>ProfileName</th>\n",
       "      <th>Time</th>\n",
       "      <th>Score</th>\n",
       "      <th>Text</th>\n",
       "      <th>COUNT(*)</th>\n",
       "    </tr>\n",
       "  </thead>\n",
       "  <tbody>\n",
       "    <tr>\n",
       "      <th>80638</th>\n",
       "      <td>AZY10LLTJ71NX</td>\n",
       "      <td>B006P7E5ZI</td>\n",
       "      <td>undertheshrine \"undertheshrine\"</td>\n",
       "      <td>1334707200</td>\n",
       "      <td>5</td>\n",
       "      <td>I was recommended to try green tea extract to ...</td>\n",
       "      <td>5</td>\n",
       "    </tr>\n",
       "  </tbody>\n",
       "</table>\n",
       "</div>"
      ],
      "text/plain": [
       "              UserId   ProductId                      ProfileName        Time  \\\n",
       "80638  AZY10LLTJ71NX  B006P7E5ZI  undertheshrine \"undertheshrine\"  1334707200   \n",
       "\n",
       "       Score                                               Text  COUNT(*)  \n",
       "80638      5  I was recommended to try green tea extract to ...         5  "
      ]
     },
     "execution_count": 5,
     "metadata": {},
     "output_type": "execute_result"
    }
   ],
   "source": [
    "display[display['UserId']=='AZY10LLTJ71NX']"
   ]
  },
  {
   "cell_type": "code",
   "execution_count": 6,
   "metadata": {
    "colab": {},
    "colab_type": "code",
    "id": "CyPhzHZKJkjf",
    "outputId": "28b60f13-e2e6-4960-e5ba-3467e16dbd03"
   },
   "outputs": [
    {
     "data": {
      "text/plain": [
       "393063"
      ]
     },
     "execution_count": 6,
     "metadata": {},
     "output_type": "execute_result"
    }
   ],
   "source": [
    "display['COUNT(*)'].sum()"
   ]
  },
  {
   "cell_type": "markdown",
   "metadata": {
    "colab_type": "text",
    "id": "y22fy_WtJkji"
   },
   "source": [
    "#  [2] Exploratory Data Analysis"
   ]
  },
  {
   "cell_type": "markdown",
   "metadata": {
    "colab_type": "text",
    "id": "ZqpW3tWPJkjl"
   },
   "source": [
    "## [2.1] Data Cleaning: Deduplication\n",
    "\n",
    "It is observed (as shown in the table below) that the reviews data had many duplicate entries. Hence it was necessary to remove duplicates in order to get unbiased results for the analysis of the data.  Following is an example:"
   ]
  },
  {
   "cell_type": "code",
   "execution_count": 7,
   "metadata": {
    "colab": {},
    "colab_type": "code",
    "id": "fmlu_oooJkjl",
    "outputId": "9ae82f65-ed65-425a-ad4d-b96091e37940",
    "scrolled": false
   },
   "outputs": [
    {
     "data": {
      "text/html": [
       "<div>\n",
       "<style scoped>\n",
       "    .dataframe tbody tr th:only-of-type {\n",
       "        vertical-align: middle;\n",
       "    }\n",
       "\n",
       "    .dataframe tbody tr th {\n",
       "        vertical-align: top;\n",
       "    }\n",
       "\n",
       "    .dataframe thead th {\n",
       "        text-align: right;\n",
       "    }\n",
       "</style>\n",
       "<table border=\"1\" class=\"dataframe\">\n",
       "  <thead>\n",
       "    <tr style=\"text-align: right;\">\n",
       "      <th></th>\n",
       "      <th>Id</th>\n",
       "      <th>ProductId</th>\n",
       "      <th>UserId</th>\n",
       "      <th>ProfileName</th>\n",
       "      <th>HelpfulnessNumerator</th>\n",
       "      <th>HelpfulnessDenominator</th>\n",
       "      <th>Score</th>\n",
       "      <th>Time</th>\n",
       "      <th>Summary</th>\n",
       "      <th>Text</th>\n",
       "    </tr>\n",
       "  </thead>\n",
       "  <tbody>\n",
       "    <tr>\n",
       "      <th>0</th>\n",
       "      <td>78445</td>\n",
       "      <td>B000HDL1RQ</td>\n",
       "      <td>AR5J8UI46CURR</td>\n",
       "      <td>Geetha Krishnan</td>\n",
       "      <td>2</td>\n",
       "      <td>2</td>\n",
       "      <td>5</td>\n",
       "      <td>1199577600</td>\n",
       "      <td>LOACKER QUADRATINI VANILLA WAFERS</td>\n",
       "      <td>DELICIOUS WAFERS. I FIND THAT EUROPEAN WAFERS ...</td>\n",
       "    </tr>\n",
       "    <tr>\n",
       "      <th>1</th>\n",
       "      <td>138317</td>\n",
       "      <td>B000HDOPYC</td>\n",
       "      <td>AR5J8UI46CURR</td>\n",
       "      <td>Geetha Krishnan</td>\n",
       "      <td>2</td>\n",
       "      <td>2</td>\n",
       "      <td>5</td>\n",
       "      <td>1199577600</td>\n",
       "      <td>LOACKER QUADRATINI VANILLA WAFERS</td>\n",
       "      <td>DELICIOUS WAFERS. I FIND THAT EUROPEAN WAFERS ...</td>\n",
       "    </tr>\n",
       "    <tr>\n",
       "      <th>2</th>\n",
       "      <td>138277</td>\n",
       "      <td>B000HDOPYM</td>\n",
       "      <td>AR5J8UI46CURR</td>\n",
       "      <td>Geetha Krishnan</td>\n",
       "      <td>2</td>\n",
       "      <td>2</td>\n",
       "      <td>5</td>\n",
       "      <td>1199577600</td>\n",
       "      <td>LOACKER QUADRATINI VANILLA WAFERS</td>\n",
       "      <td>DELICIOUS WAFERS. I FIND THAT EUROPEAN WAFERS ...</td>\n",
       "    </tr>\n",
       "    <tr>\n",
       "      <th>3</th>\n",
       "      <td>73791</td>\n",
       "      <td>B000HDOPZG</td>\n",
       "      <td>AR5J8UI46CURR</td>\n",
       "      <td>Geetha Krishnan</td>\n",
       "      <td>2</td>\n",
       "      <td>2</td>\n",
       "      <td>5</td>\n",
       "      <td>1199577600</td>\n",
       "      <td>LOACKER QUADRATINI VANILLA WAFERS</td>\n",
       "      <td>DELICIOUS WAFERS. I FIND THAT EUROPEAN WAFERS ...</td>\n",
       "    </tr>\n",
       "    <tr>\n",
       "      <th>4</th>\n",
       "      <td>155049</td>\n",
       "      <td>B000PAQ75C</td>\n",
       "      <td>AR5J8UI46CURR</td>\n",
       "      <td>Geetha Krishnan</td>\n",
       "      <td>2</td>\n",
       "      <td>2</td>\n",
       "      <td>5</td>\n",
       "      <td>1199577600</td>\n",
       "      <td>LOACKER QUADRATINI VANILLA WAFERS</td>\n",
       "      <td>DELICIOUS WAFERS. I FIND THAT EUROPEAN WAFERS ...</td>\n",
       "    </tr>\n",
       "  </tbody>\n",
       "</table>\n",
       "</div>"
      ],
      "text/plain": [
       "       Id   ProductId         UserId      ProfileName  HelpfulnessNumerator  \\\n",
       "0   78445  B000HDL1RQ  AR5J8UI46CURR  Geetha Krishnan                     2   \n",
       "1  138317  B000HDOPYC  AR5J8UI46CURR  Geetha Krishnan                     2   \n",
       "2  138277  B000HDOPYM  AR5J8UI46CURR  Geetha Krishnan                     2   \n",
       "3   73791  B000HDOPZG  AR5J8UI46CURR  Geetha Krishnan                     2   \n",
       "4  155049  B000PAQ75C  AR5J8UI46CURR  Geetha Krishnan                     2   \n",
       "\n",
       "   HelpfulnessDenominator  Score        Time  \\\n",
       "0                       2      5  1199577600   \n",
       "1                       2      5  1199577600   \n",
       "2                       2      5  1199577600   \n",
       "3                       2      5  1199577600   \n",
       "4                       2      5  1199577600   \n",
       "\n",
       "                             Summary  \\\n",
       "0  LOACKER QUADRATINI VANILLA WAFERS   \n",
       "1  LOACKER QUADRATINI VANILLA WAFERS   \n",
       "2  LOACKER QUADRATINI VANILLA WAFERS   \n",
       "3  LOACKER QUADRATINI VANILLA WAFERS   \n",
       "4  LOACKER QUADRATINI VANILLA WAFERS   \n",
       "\n",
       "                                                Text  \n",
       "0  DELICIOUS WAFERS. I FIND THAT EUROPEAN WAFERS ...  \n",
       "1  DELICIOUS WAFERS. I FIND THAT EUROPEAN WAFERS ...  \n",
       "2  DELICIOUS WAFERS. I FIND THAT EUROPEAN WAFERS ...  \n",
       "3  DELICIOUS WAFERS. I FIND THAT EUROPEAN WAFERS ...  \n",
       "4  DELICIOUS WAFERS. I FIND THAT EUROPEAN WAFERS ...  "
      ]
     },
     "execution_count": 7,
     "metadata": {},
     "output_type": "execute_result"
    }
   ],
   "source": [
    "display= pd.read_sql_query(\"\"\"\n",
    "SELECT *\n",
    "FROM Reviews\n",
    "WHERE Score != 3 AND UserId=\"AR5J8UI46CURR\"\n",
    "ORDER BY ProductID\n",
    "\"\"\", con)\n",
    "display.head()"
   ]
  },
  {
   "cell_type": "markdown",
   "metadata": {
    "colab_type": "text",
    "id": "pvogJHEyJkjq"
   },
   "source": [
    "As it can be seen above that same user has multiple reviews with same values for HelpfulnessNumerator, HelpfulnessDenominator, Score, Time, Summary and Text and on doing analysis it was found that <br>\n",
    "<br> \n",
    "ProductId=B000HDOPZG was Loacker Quadratini Vanilla Wafer Cookies, 8.82-Ounce Packages (Pack of 8)<br>\n",
    "<br> \n",
    "ProductId=B000HDL1RQ was Loacker Quadratini Lemon Wafer Cookies, 8.82-Ounce Packages (Pack of 8) and so on<br>\n",
    "\n",
    "It was inferred after analysis that reviews with same parameters other than ProductId belonged to the same product just having different flavour or quantity. Hence in order to reduce redundancy it was decided to eliminate the rows having same parameters.<br>\n",
    "\n",
    "The method used for the same was that we first sort the data according to ProductId and then just keep the first similar product review and delelte the others. for eg. in the above just the review for ProductId=B000HDL1RQ remains. This method ensures that there is only one representative for each product and deduplication without sorting would lead to possibility of different representatives still existing for the same product."
   ]
  },
  {
   "cell_type": "code",
   "execution_count": 8,
   "metadata": {
    "colab": {},
    "colab_type": "code",
    "id": "LAWOrfBaJkjr"
   },
   "outputs": [],
   "source": [
    "#Sorting data according to ProductId in ascending order\n",
    "sorted_data=filtered_data.sort_values('ProductId', axis=0, ascending=True, inplace=False, kind='quicksort', na_position='last')"
   ]
  },
  {
   "cell_type": "code",
   "execution_count": 9,
   "metadata": {
    "colab": {},
    "colab_type": "code",
    "id": "dfaQob28Jkju",
    "outputId": "21104e4f-cd18-4353-a54a-5b4638fc552b"
   },
   "outputs": [
    {
     "data": {
      "text/plain": [
       "(87775, 10)"
      ]
     },
     "execution_count": 9,
     "metadata": {},
     "output_type": "execute_result"
    }
   ],
   "source": [
    "#Deduplication of entries\n",
    "final=sorted_data.drop_duplicates(subset={\"UserId\",\"ProfileName\",\"Time\",\"Text\"}, keep='first', inplace=False)\n",
    "final.shape"
   ]
  },
  {
   "cell_type": "code",
   "execution_count": 10,
   "metadata": {
    "colab": {},
    "colab_type": "code",
    "id": "9QVxT6oxJkjx",
    "outputId": "f292b9fe-6065-4979-830d-c79bc6785a3d"
   },
   "outputs": [
    {
     "data": {
      "text/plain": [
       "87.775"
      ]
     },
     "execution_count": 10,
     "metadata": {},
     "output_type": "execute_result"
    }
   ],
   "source": [
    "#Checking to see how much % of data still remains\n",
    "(final['Id'].size*1.0)/(filtered_data['Id'].size*1.0)*100"
   ]
  },
  {
   "cell_type": "markdown",
   "metadata": {
    "colab_type": "text",
    "id": "qVaxONHLJkj1"
   },
   "source": [
    "<b>Observation:-</b> It was also seen that in two rows given below the value of HelpfulnessNumerator is greater than HelpfulnessDenominator which is not practically possible hence these two rows too are removed from calcualtions"
   ]
  },
  {
   "cell_type": "code",
   "execution_count": 11,
   "metadata": {
    "colab": {},
    "colab_type": "code",
    "id": "vLoqfOjcJkj1",
    "outputId": "db3448f8-fbda-4205-a7cc-5048e0f1fd19"
   },
   "outputs": [
    {
     "data": {
      "text/html": [
       "<div>\n",
       "<style scoped>\n",
       "    .dataframe tbody tr th:only-of-type {\n",
       "        vertical-align: middle;\n",
       "    }\n",
       "\n",
       "    .dataframe tbody tr th {\n",
       "        vertical-align: top;\n",
       "    }\n",
       "\n",
       "    .dataframe thead th {\n",
       "        text-align: right;\n",
       "    }\n",
       "</style>\n",
       "<table border=\"1\" class=\"dataframe\">\n",
       "  <thead>\n",
       "    <tr style=\"text-align: right;\">\n",
       "      <th></th>\n",
       "      <th>Id</th>\n",
       "      <th>ProductId</th>\n",
       "      <th>UserId</th>\n",
       "      <th>ProfileName</th>\n",
       "      <th>HelpfulnessNumerator</th>\n",
       "      <th>HelpfulnessDenominator</th>\n",
       "      <th>Score</th>\n",
       "      <th>Time</th>\n",
       "      <th>Summary</th>\n",
       "      <th>Text</th>\n",
       "    </tr>\n",
       "  </thead>\n",
       "  <tbody>\n",
       "    <tr>\n",
       "      <th>0</th>\n",
       "      <td>64422</td>\n",
       "      <td>B000MIDROQ</td>\n",
       "      <td>A161DK06JJMCYF</td>\n",
       "      <td>J. E. Stephens \"Jeanne\"</td>\n",
       "      <td>3</td>\n",
       "      <td>1</td>\n",
       "      <td>5</td>\n",
       "      <td>1224892800</td>\n",
       "      <td>Bought This for My Son at College</td>\n",
       "      <td>My son loves spaghetti so I didn't hesitate or...</td>\n",
       "    </tr>\n",
       "    <tr>\n",
       "      <th>1</th>\n",
       "      <td>44737</td>\n",
       "      <td>B001EQ55RW</td>\n",
       "      <td>A2V0I904FH7ABY</td>\n",
       "      <td>Ram</td>\n",
       "      <td>3</td>\n",
       "      <td>2</td>\n",
       "      <td>4</td>\n",
       "      <td>1212883200</td>\n",
       "      <td>Pure cocoa taste with crunchy almonds inside</td>\n",
       "      <td>It was almost a 'love at first bite' - the per...</td>\n",
       "    </tr>\n",
       "  </tbody>\n",
       "</table>\n",
       "</div>"
      ],
      "text/plain": [
       "      Id   ProductId          UserId              ProfileName  \\\n",
       "0  64422  B000MIDROQ  A161DK06JJMCYF  J. E. Stephens \"Jeanne\"   \n",
       "1  44737  B001EQ55RW  A2V0I904FH7ABY                      Ram   \n",
       "\n",
       "   HelpfulnessNumerator  HelpfulnessDenominator  Score        Time  \\\n",
       "0                     3                       1      5  1224892800   \n",
       "1                     3                       2      4  1212883200   \n",
       "\n",
       "                                        Summary  \\\n",
       "0             Bought This for My Son at College   \n",
       "1  Pure cocoa taste with crunchy almonds inside   \n",
       "\n",
       "                                                Text  \n",
       "0  My son loves spaghetti so I didn't hesitate or...  \n",
       "1  It was almost a 'love at first bite' - the per...  "
      ]
     },
     "execution_count": 11,
     "metadata": {},
     "output_type": "execute_result"
    }
   ],
   "source": [
    "display= pd.read_sql_query(\"\"\"\n",
    "SELECT *\n",
    "FROM Reviews\n",
    "WHERE Score != 3 AND Id=44737 OR Id=64422\n",
    "ORDER BY ProductID\n",
    "\"\"\", con)\n",
    "\n",
    "display.head()"
   ]
  },
  {
   "cell_type": "code",
   "execution_count": 12,
   "metadata": {
    "colab": {},
    "colab_type": "code",
    "id": "f_185ozFJkj9"
   },
   "outputs": [],
   "source": [
    "final=final[final.HelpfulnessNumerator<=final.HelpfulnessDenominator]"
   ]
  },
  {
   "cell_type": "code",
   "execution_count": 13,
   "metadata": {
    "colab": {},
    "colab_type": "code",
    "id": "CofRySJyJkkC",
    "outputId": "a06c52f6-66a9-429b-8a5e-e20259f0bb21"
   },
   "outputs": [
    {
     "name": "stdout",
     "output_type": "stream",
     "text": [
      "(87773, 10)\n"
     ]
    },
    {
     "data": {
      "text/plain": [
       "1    73592\n",
       "0    14181\n",
       "Name: Score, dtype: int64"
      ]
     },
     "execution_count": 13,
     "metadata": {},
     "output_type": "execute_result"
    }
   ],
   "source": [
    "#Before starting the next phase of preprocessing lets see the number of entries left\n",
    "print(final.shape)\n",
    "\n",
    "#How many positive and negative reviews are present in our dataset?\n",
    "final['Score'].value_counts()"
   ]
  },
  {
   "cell_type": "markdown",
   "metadata": {
    "colab_type": "text",
    "id": "-fEWeywxJkkI"
   },
   "source": [
    "#  [3] Preprocessing"
   ]
  },
  {
   "cell_type": "markdown",
   "metadata": {
    "colab_type": "text",
    "id": "tzpbt9aOJkkJ"
   },
   "source": [
    "## [3.1].  Preprocessing Review Text\n",
    "\n",
    "Now that we have finished deduplication our data requires some preprocessing before we go on further with analysis and making the prediction model.\n",
    "\n",
    "Hence in the Preprocessing phase we do the following in the order below:-\n",
    "\n",
    "1. Begin by removing the html tags\n",
    "2. Remove any punctuations or limited set of special characters like , or . or # etc.\n",
    "3. Check if the word is made up of english letters and is not alpha-numeric\n",
    "4. Check to see if the length of the word is greater than 2 (as it was researched that there is no adjective in 2-letters)\n",
    "5. Convert the word to lowercase\n",
    "6. Remove Stopwords\n",
    "7. Finally Snowball Stemming the word (it was obsereved to be better than Porter Stemming)<br>\n",
    "\n",
    "After which we collect the words used to describe positive and negative reviews"
   ]
  },
  {
   "cell_type": "code",
   "execution_count": 14,
   "metadata": {
    "colab": {},
    "colab_type": "code",
    "id": "YqxBeLk8JkkL",
    "outputId": "1819632d-0129-4a13-d7ff-4e7bbf129dff"
   },
   "outputs": [
    {
     "name": "stdout",
     "output_type": "stream",
     "text": [
      "My dogs loves this chicken but its a product from China, so we wont be buying it anymore.  Its very hard to find any chicken products made in the USA but they are out there, but this one isnt.  Its too bad too because its a good product but I wont take any chances till they know what is going on with the china imports.\n",
      "==================================================\n",
      "The Candy Blocks were a nice visual for the Lego Birthday party but the candy has little taste to it.  Very little of the 2 lbs that I bought were eaten and I threw the rest away.  I would not buy the candy again.\n",
      "==================================================\n",
      "was way to hot for my blood, took a bite and did a jig  lol\n",
      "==================================================\n",
      "My dog LOVES these treats. They tend to have a very strong fish oil smell. So if you are afraid of the fishy smell, don't get it. But I think my dog likes it because of the smell. These treats are really small in size. They are great for training. You can give your dog several of these without worrying about him over eating. Amazon's price was much more reasonable than any other retailer. You can buy a 1 pound bag on Amazon for almost the same price as a 6 ounce bag at other retailers. It's definitely worth it to buy a big bag if your dog eats them a lot.\n",
      "==================================================\n"
     ]
    }
   ],
   "source": [
    "# printing some random reviews\n",
    "sent_0 = final['Text'].values[0]\n",
    "print(sent_0)\n",
    "print(\"=\"*50)\n",
    "\n",
    "sent_1000 = final['Text'].values[1000]\n",
    "print(sent_1000)\n",
    "print(\"=\"*50)\n",
    "\n",
    "sent_1500 = final['Text'].values[1500]\n",
    "print(sent_1500)\n",
    "print(\"=\"*50)\n",
    "\n",
    "sent_4900 = final['Text'].values[4900]\n",
    "print(sent_4900)\n",
    "print(\"=\"*50)"
   ]
  },
  {
   "cell_type": "code",
   "execution_count": 15,
   "metadata": {
    "colab": {},
    "colab_type": "code",
    "id": "lWiJ2_9gJkkP",
    "outputId": "08234806-3657-4d8f-c6d2-020dc9cda61c"
   },
   "outputs": [
    {
     "name": "stdout",
     "output_type": "stream",
     "text": [
      "My dogs loves this chicken but its a product from China, so we wont be buying it anymore.  Its very hard to find any chicken products made in the USA but they are out there, but this one isnt.  Its too bad too because its a good product but I wont take any chances till they know what is going on with the china imports.\n"
     ]
    }
   ],
   "source": [
    "# remove urls from text python: https://stackoverflow.com/a/40823105/4084039\n",
    "sent_0 = re.sub(r\"http\\S+\", \"\", sent_0)\n",
    "sent_1000 = re.sub(r\"http\\S+\", \"\", sent_1000)\n",
    "sent_150 = re.sub(r\"http\\S+\", \"\", sent_1500)\n",
    "sent_4900 = re.sub(r\"http\\S+\", \"\", sent_4900)\n",
    "\n",
    "print(sent_0)"
   ]
  },
  {
   "cell_type": "code",
   "execution_count": 16,
   "metadata": {
    "colab": {},
    "colab_type": "code",
    "id": "cpLtZ-lAJkkR",
    "outputId": "7e0bf159-4db4-4ffe-d72e-6d5952d453f1"
   },
   "outputs": [
    {
     "name": "stdout",
     "output_type": "stream",
     "text": [
      "My dogs loves this chicken but its a product from China, so we wont be buying it anymore.  Its very hard to find any chicken products made in the USA but they are out there, but this one isnt.  Its too bad too because its a good product but I wont take any chances till they know what is going on with the china imports.\n",
      "==================================================\n",
      "The Candy Blocks were a nice visual for the Lego Birthday party but the candy has little taste to it.  Very little of the 2 lbs that I bought were eaten and I threw the rest away.  I would not buy the candy again.\n",
      "==================================================\n",
      "was way to hot for my blood, took a bite and did a jig  lol\n",
      "==================================================\n",
      "My dog LOVES these treats. They tend to have a very strong fish oil smell. So if you are afraid of the fishy smell, don't get it. But I think my dog likes it because of the smell. These treats are really small in size. They are great for training. You can give your dog several of these without worrying about him over eating. Amazon's price was much more reasonable than any other retailer. You can buy a 1 pound bag on Amazon for almost the same price as a 6 ounce bag at other retailers. It's definitely worth it to buy a big bag if your dog eats them a lot.\n"
     ]
    }
   ],
   "source": [
    "# https://stackoverflow.com/questions/16206380/python-beautifulsoup-how-to-remove-all-tags-from-an-element\n",
    "from bs4 import BeautifulSoup\n",
    "\n",
    "soup = BeautifulSoup(sent_0, 'lxml')\n",
    "text = soup.get_text()\n",
    "print(text)\n",
    "print(\"=\"*50)\n",
    "\n",
    "soup = BeautifulSoup(sent_1000, 'lxml')\n",
    "text = soup.get_text()\n",
    "print(text)\n",
    "print(\"=\"*50)\n",
    "\n",
    "soup = BeautifulSoup(sent_1500, 'lxml')\n",
    "text = soup.get_text()\n",
    "print(text)\n",
    "print(\"=\"*50)\n",
    "\n",
    "soup = BeautifulSoup(sent_4900, 'lxml')\n",
    "text = soup.get_text()\n",
    "print(text)"
   ]
  },
  {
   "cell_type": "code",
   "execution_count": 17,
   "metadata": {
    "colab": {},
    "colab_type": "code",
    "id": "HYBbtiCMJkkW"
   },
   "outputs": [],
   "source": [
    "# https://stackoverflow.com/a/47091490/4084039\n",
    "import re\n",
    "\n",
    "def decontracted(phrase):\n",
    "    # specific\n",
    "    phrase = re.sub(r\"won't\", \"will not\", phrase)\n",
    "    phrase = re.sub(r\"can\\'t\", \"can not\", phrase)\n",
    "\n",
    "    # general\n",
    "    phrase = re.sub(r\"n\\'t\", \" not\", phrase)\n",
    "    phrase = re.sub(r\"\\'re\", \" are\", phrase)\n",
    "    phrase = re.sub(r\"\\'s\", \" is\", phrase)\n",
    "    phrase = re.sub(r\"\\'d\", \" would\", phrase)\n",
    "    phrase = re.sub(r\"\\'ll\", \" will\", phrase)\n",
    "    phrase = re.sub(r\"\\'t\", \" not\", phrase)\n",
    "    phrase = re.sub(r\"\\'ve\", \" have\", phrase)\n",
    "    phrase = re.sub(r\"\\'m\", \" am\", phrase)\n",
    "    return phrase"
   ]
  },
  {
   "cell_type": "code",
   "execution_count": 18,
   "metadata": {
    "colab": {},
    "colab_type": "code",
    "id": "WPQSZurTJkkY",
    "outputId": "6d91fc9f-8f77-497c-95bb-96bfc9781196"
   },
   "outputs": [
    {
     "name": "stdout",
     "output_type": "stream",
     "text": [
      "was way to hot for my blood, took a bite and did a jig  lol\n",
      "==================================================\n"
     ]
    }
   ],
   "source": [
    "sent_1500 = decontracted(sent_1500)\n",
    "print(sent_1500)\n",
    "print(\"=\"*50)"
   ]
  },
  {
   "cell_type": "code",
   "execution_count": 19,
   "metadata": {
    "colab": {},
    "colab_type": "code",
    "id": "6bakeyaQJkkb",
    "outputId": "f7cf0096-0b7b-4ec1-84df-01e838621d62"
   },
   "outputs": [
    {
     "name": "stdout",
     "output_type": "stream",
     "text": [
      "My dogs loves this chicken but its a product from China, so we wont be buying it anymore.  Its very hard to find any chicken products made in the USA but they are out there, but this one isnt.  Its too bad too because its a good product but I wont take any chances till they know what is going on with the china imports.\n"
     ]
    }
   ],
   "source": [
    "#remove words with numbers python: https://stackoverflow.com/a/18082370/4084039\n",
    "sent_0 = re.sub(\"\\S*\\d\\S*\", \"\", sent_0).strip()\n",
    "print(sent_0)"
   ]
  },
  {
   "cell_type": "code",
   "execution_count": 20,
   "metadata": {
    "colab": {},
    "colab_type": "code",
    "id": "dMqqVqadJkkg",
    "outputId": "e4a6bd28-9d39-4dd2-9483-0406dd3dff50"
   },
   "outputs": [
    {
     "name": "stdout",
     "output_type": "stream",
     "text": [
      "was way to hot for my blood took a bite and did a jig lol\n"
     ]
    }
   ],
   "source": [
    "#remove spacial character: https://stackoverflow.com/a/5843547/4084039\n",
    "sent_1500 = re.sub('[^A-Za-z0-9]+', ' ', sent_1500)\n",
    "print(sent_1500)"
   ]
  },
  {
   "cell_type": "code",
   "execution_count": 21,
   "metadata": {
    "colab": {},
    "colab_type": "code",
    "id": "bvEoXB5NJkkk"
   },
   "outputs": [],
   "source": [
    "# https://gist.github.com/sebleier/554280\n",
    "# we are removing the words from the stop words list: 'no', 'nor', 'not'\n",
    "# <br /><br /> ==> after the above steps, we are getting \"br br\"\n",
    "# we are including them into stop words list\n",
    "# instead of <br /> if we have <br/> these tags would have revmoved in the 1st step\n",
    "\n",
    "stopwords= set(['br', 'the', 'i', 'me', 'my', 'myself', 'we', 'our', 'ours', 'ourselves', 'you', \"you're\", \"you've\",\\\n",
    "            \"you'll\", \"you'd\", 'your', 'yours', 'yourself', 'yourselves', 'he', 'him', 'his', 'himself', \\\n",
    "            'she', \"she's\", 'her', 'hers', 'herself', 'it', \"it's\", 'its', 'itself', 'they', 'them', 'their',\\\n",
    "            'theirs', 'themselves', 'what', 'which', 'who', 'whom', 'this', 'that', \"that'll\", 'these', 'those', \\\n",
    "            'am', 'is', 'are', 'was', 'were', 'be', 'been', 'being', 'have', 'has', 'had', 'having', 'do', 'does', \\\n",
    "            'did', 'doing', 'a', 'an', 'the', 'and', 'but', 'if', 'or', 'because', 'as', 'until', 'while', 'of', \\\n",
    "            'at', 'by', 'for', 'with', 'about', 'against', 'between', 'into', 'through', 'during', 'before', 'after',\\\n",
    "            'above', 'below', 'to', 'from', 'up', 'down', 'in', 'out', 'on', 'off', 'over', 'under', 'again', 'further',\\\n",
    "            'then', 'once', 'here', 'there', 'when', 'where', 'why', 'how', 'all', 'any', 'both', 'each', 'few', 'more',\\\n",
    "            'most', 'other', 'some', 'such', 'only', 'own', 'same', 'so', 'than', 'too', 'very', \\\n",
    "            's', 't', 'can', 'will', 'just', 'don', \"don't\", 'should', \"should've\", 'now', 'd', 'll', 'm', 'o', 're', \\\n",
    "            've', 'y', 'ain', 'aren', \"aren't\", 'couldn', \"couldn't\", 'didn', \"didn't\", 'doesn', \"doesn't\", 'hadn',\\\n",
    "            \"hadn't\", 'hasn', \"hasn't\", 'haven', \"haven't\", 'isn', \"isn't\", 'ma', 'mightn', \"mightn't\", 'mustn',\\\n",
    "            \"mustn't\", 'needn', \"needn't\", 'shan', \"shan't\", 'shouldn', \"shouldn't\", 'wasn', \"wasn't\", 'weren', \"weren't\", \\\n",
    "            'won', \"won't\", 'wouldn', \"wouldn't\"])"
   ]
  },
  {
   "cell_type": "code",
   "execution_count": 22,
   "metadata": {
    "colab": {},
    "colab_type": "code",
    "id": "0j3jfqWCJkko",
    "outputId": "c83c59c5-fe17-4ad2-d43f-0b0947a6e6ba"
   },
   "outputs": [
    {
     "name": "stderr",
     "output_type": "stream",
     "text": [
      "100%|██████████████████████████████████████████████████████████████████████████| 87773/87773 [00:56<00:00, 1560.08it/s]\n"
     ]
    }
   ],
   "source": [
    "# Combining all the above stundents \n",
    "from tqdm import tqdm\n",
    "preprocessed_reviews = []\n",
    "# tqdm is for printing the status bar\n",
    "for sentance in tqdm(final['Text'].values):\n",
    "    sentance = re.sub(r\"http\\S+\", \"\", sentance)\n",
    "    sentance = BeautifulSoup(sentance, 'lxml').get_text()\n",
    "    sentance = decontracted(sentance)\n",
    "    sentance = re.sub(\"\\S*\\d\\S*\", \"\", sentance).strip()\n",
    "    sentance = re.sub('[^A-Za-z]+', ' ', sentance)\n",
    "    # https://gist.github.com/sebleier/554280\n",
    "    sentance = ' '.join(e.lower() for e in sentance.split() if e.lower() not in stopwords)\n",
    "    preprocessed_reviews.append(sentance.strip())"
   ]
  },
  {
   "cell_type": "code",
   "execution_count": 23,
   "metadata": {},
   "outputs": [],
   "source": [
    "final['Cleaned Text'] = preprocessed_reviews"
   ]
  },
  {
   "cell_type": "code",
   "execution_count": 24,
   "metadata": {},
   "outputs": [],
   "source": [
    "sample1 = pd.DataFrame()"
   ]
  },
  {
   "cell_type": "code",
   "execution_count": 25,
   "metadata": {},
   "outputs": [],
   "source": [
    "sample1['Cleaned Text'] =preprocessed_reviews"
   ]
  },
  {
   "cell_type": "code",
   "execution_count": 26,
   "metadata": {},
   "outputs": [
    {
     "data": {
      "text/html": [
       "<div>\n",
       "<style scoped>\n",
       "    .dataframe tbody tr th:only-of-type {\n",
       "        vertical-align: middle;\n",
       "    }\n",
       "\n",
       "    .dataframe tbody tr th {\n",
       "        vertical-align: top;\n",
       "    }\n",
       "\n",
       "    .dataframe thead th {\n",
       "        text-align: right;\n",
       "    }\n",
       "</style>\n",
       "<table border=\"1\" class=\"dataframe\">\n",
       "  <thead>\n",
       "    <tr style=\"text-align: right;\">\n",
       "      <th></th>\n",
       "      <th>Cleaned Text</th>\n",
       "    </tr>\n",
       "  </thead>\n",
       "  <tbody>\n",
       "    <tr>\n",
       "      <th>87770</th>\n",
       "      <td>trader joe product good quality buy straight t...</td>\n",
       "    </tr>\n",
       "    <tr>\n",
       "      <th>87771</th>\n",
       "      <td>coffee supposedly premium tastes watery thin n...</td>\n",
       "    </tr>\n",
       "    <tr>\n",
       "      <th>87772</th>\n",
       "      <td>purchased product local store ny kids love qui...</td>\n",
       "    </tr>\n",
       "  </tbody>\n",
       "</table>\n",
       "</div>"
      ],
      "text/plain": [
       "                                            Cleaned Text\n",
       "87770  trader joe product good quality buy straight t...\n",
       "87771  coffee supposedly premium tastes watery thin n...\n",
       "87772  purchased product local store ny kids love qui..."
      ]
     },
     "execution_count": 26,
     "metadata": {},
     "output_type": "execute_result"
    }
   ],
   "source": [
    "sample1.tail(3)"
   ]
  },
  {
   "cell_type": "code",
   "execution_count": 27,
   "metadata": {},
   "outputs": [],
   "source": [
    "k1 = []"
   ]
  },
  {
   "cell_type": "code",
   "execution_count": 28,
   "metadata": {},
   "outputs": [
    {
     "data": {
      "text/plain": [
       "(87773, 1)"
      ]
     },
     "execution_count": 28,
     "metadata": {},
     "output_type": "execute_result"
    }
   ],
   "source": [
    "sample1.shape"
   ]
  },
  {
   "cell_type": "code",
   "execution_count": 29,
   "metadata": {},
   "outputs": [],
   "source": [
    "for i in range(0,87773):\n",
    "    k1.append(len(preprocessed_reviews[i]))"
   ]
  },
  {
   "cell_type": "code",
   "execution_count": 30,
   "metadata": {},
   "outputs": [],
   "source": [
    "sample1['Length'] = k1"
   ]
  },
  {
   "cell_type": "code",
   "execution_count": 31,
   "metadata": {},
   "outputs": [
    {
     "data": {
      "text/html": [
       "<div>\n",
       "<style scoped>\n",
       "    .dataframe tbody tr th:only-of-type {\n",
       "        vertical-align: middle;\n",
       "    }\n",
       "\n",
       "    .dataframe tbody tr th {\n",
       "        vertical-align: top;\n",
       "    }\n",
       "\n",
       "    .dataframe thead th {\n",
       "        text-align: right;\n",
       "    }\n",
       "</style>\n",
       "<table border=\"1\" class=\"dataframe\">\n",
       "  <thead>\n",
       "    <tr style=\"text-align: right;\">\n",
       "      <th></th>\n",
       "      <th>Cleaned Text</th>\n",
       "      <th>Length</th>\n",
       "    </tr>\n",
       "  </thead>\n",
       "  <tbody>\n",
       "    <tr>\n",
       "      <th>0</th>\n",
       "      <td>dogs loves chicken product china wont buying a...</td>\n",
       "      <td>162</td>\n",
       "    </tr>\n",
       "    <tr>\n",
       "      <th>1</th>\n",
       "      <td>dogs love saw pet store tag attached regarding...</td>\n",
       "      <td>72</td>\n",
       "    </tr>\n",
       "    <tr>\n",
       "      <th>2</th>\n",
       "      <td>infestation fruitflies literally everywhere fl...</td>\n",
       "      <td>406</td>\n",
       "    </tr>\n",
       "  </tbody>\n",
       "</table>\n",
       "</div>"
      ],
      "text/plain": [
       "                                        Cleaned Text  Length\n",
       "0  dogs loves chicken product china wont buying a...     162\n",
       "1  dogs love saw pet store tag attached regarding...      72\n",
       "2  infestation fruitflies literally everywhere fl...     406"
      ]
     },
     "execution_count": 31,
     "metadata": {},
     "output_type": "execute_result"
    }
   ],
   "source": [
    "sample1.head(3)"
   ]
  },
  {
   "cell_type": "markdown",
   "metadata": {
    "colab_type": "text",
    "id": "zak5yP5zJkkt"
   },
   "source": [
    "<h2><font color='red'>[3.2] Preprocessing Review Summary</font></h2>"
   ]
  },
  {
   "cell_type": "code",
   "execution_count": 32,
   "metadata": {},
   "outputs": [],
   "source": [
    "from sklearn.feature_extraction.text import CountVectorizer\n",
    "from sklearn.model_selection import train_test_split\n",
    "from sklearn import preprocessing"
   ]
  },
  {
   "cell_type": "markdown",
   "metadata": {},
   "source": [
    "# Splitting the Data with feature engineering"
   ]
  },
  {
   "cell_type": "code",
   "execution_count": 33,
   "metadata": {},
   "outputs": [],
   "source": [
    "X_train1, X_test1, y_train1, y_test1 = train_test_split(sample1,final['Score'].values,test_size=0.3,shuffle=False)"
   ]
  },
  {
   "cell_type": "code",
   "execution_count": 34,
   "metadata": {},
   "outputs": [
    {
     "data": {
      "text/plain": [
       "(61441,)"
      ]
     },
     "execution_count": 34,
     "metadata": {},
     "output_type": "execute_result"
    }
   ],
   "source": [
    "y_train1.shape"
   ]
  },
  {
   "cell_type": "code",
   "execution_count": 35,
   "metadata": {},
   "outputs": [
    {
     "data": {
      "text/plain": [
       "(61441, 2)"
      ]
     },
     "execution_count": 35,
     "metadata": {},
     "output_type": "execute_result"
    }
   ],
   "source": [
    "X_train1.shape"
   ]
  },
  {
   "cell_type": "code",
   "execution_count": 36,
   "metadata": {},
   "outputs": [
    {
     "data": {
      "text/plain": [
       "(26332, 2)"
      ]
     },
     "execution_count": 36,
     "metadata": {},
     "output_type": "execute_result"
    }
   ],
   "source": [
    "X_test1.shape"
   ]
  },
  {
   "cell_type": "code",
   "execution_count": 37,
   "metadata": {},
   "outputs": [
    {
     "data": {
      "text/plain": [
       "numpy.ndarray"
      ]
     },
     "execution_count": 37,
     "metadata": {},
     "output_type": "execute_result"
    }
   ],
   "source": [
    "type(y_test1)"
   ]
  },
  {
   "cell_type": "code",
   "execution_count": 38,
   "metadata": {},
   "outputs": [
    {
     "data": {
      "text/plain": [
       "pandas.core.frame.DataFrame"
      ]
     },
     "execution_count": 38,
     "metadata": {},
     "output_type": "execute_result"
    }
   ],
   "source": [
    "type(X_test1)"
   ]
  },
  {
   "cell_type": "code",
   "execution_count": 39,
   "metadata": {},
   "outputs": [
    {
     "data": {
      "text/html": [
       "<div>\n",
       "<style scoped>\n",
       "    .dataframe tbody tr th:only-of-type {\n",
       "        vertical-align: middle;\n",
       "    }\n",
       "\n",
       "    .dataframe tbody tr th {\n",
       "        vertical-align: top;\n",
       "    }\n",
       "\n",
       "    .dataframe thead th {\n",
       "        text-align: right;\n",
       "    }\n",
       "</style>\n",
       "<table border=\"1\" class=\"dataframe\">\n",
       "  <thead>\n",
       "    <tr style=\"text-align: right;\">\n",
       "      <th></th>\n",
       "      <th>Cleaned Text</th>\n",
       "      <th>Length</th>\n",
       "    </tr>\n",
       "  </thead>\n",
       "  <tbody>\n",
       "    <tr>\n",
       "      <th>0</th>\n",
       "      <td>dogs loves chicken product china wont buying a...</td>\n",
       "      <td>162</td>\n",
       "    </tr>\n",
       "    <tr>\n",
       "      <th>1</th>\n",
       "      <td>dogs love saw pet store tag attached regarding...</td>\n",
       "      <td>72</td>\n",
       "    </tr>\n",
       "    <tr>\n",
       "      <th>2</th>\n",
       "      <td>infestation fruitflies literally everywhere fl...</td>\n",
       "      <td>406</td>\n",
       "    </tr>\n",
       "  </tbody>\n",
       "</table>\n",
       "</div>"
      ],
      "text/plain": [
       "                                        Cleaned Text  Length\n",
       "0  dogs loves chicken product china wont buying a...     162\n",
       "1  dogs love saw pet store tag attached regarding...      72\n",
       "2  infestation fruitflies literally everywhere fl...     406"
      ]
     },
     "execution_count": 39,
     "metadata": {},
     "output_type": "execute_result"
    }
   ],
   "source": [
    "X_train1.head(3)"
   ]
  },
  {
   "cell_type": "code",
   "execution_count": 40,
   "metadata": {},
   "outputs": [
    {
     "data": {
      "text/html": [
       "<div>\n",
       "<style scoped>\n",
       "    .dataframe tbody tr th:only-of-type {\n",
       "        vertical-align: middle;\n",
       "    }\n",
       "\n",
       "    .dataframe tbody tr th {\n",
       "        vertical-align: top;\n",
       "    }\n",
       "\n",
       "    .dataframe thead th {\n",
       "        text-align: right;\n",
       "    }\n",
       "</style>\n",
       "<table border=\"1\" class=\"dataframe\">\n",
       "  <thead>\n",
       "    <tr style=\"text-align: right;\">\n",
       "      <th></th>\n",
       "      <th>Cleaned Text</th>\n",
       "      <th>Length</th>\n",
       "    </tr>\n",
       "  </thead>\n",
       "  <tbody>\n",
       "    <tr>\n",
       "      <th>61441</th>\n",
       "      <td>used treat training reward dog loves easy brea...</td>\n",
       "      <td>66</td>\n",
       "    </tr>\n",
       "    <tr>\n",
       "      <th>61442</th>\n",
       "      <td>much fun watching puppies asking chicken treat...</td>\n",
       "      <td>134</td>\n",
       "    </tr>\n",
       "    <tr>\n",
       "      <th>61443</th>\n",
       "      <td>little shih tzu absolutely loves cesar softies...</td>\n",
       "      <td>181</td>\n",
       "    </tr>\n",
       "  </tbody>\n",
       "</table>\n",
       "</div>"
      ],
      "text/plain": [
       "                                            Cleaned Text  Length\n",
       "61441  used treat training reward dog loves easy brea...      66\n",
       "61442  much fun watching puppies asking chicken treat...     134\n",
       "61443  little shih tzu absolutely loves cesar softies...     181"
      ]
     },
     "execution_count": 40,
     "metadata": {},
     "output_type": "execute_result"
    }
   ],
   "source": [
    "X_test1.head(3)"
   ]
  },
  {
   "cell_type": "code",
   "execution_count": 41,
   "metadata": {},
   "outputs": [],
   "source": [
    "X_trainbow = pd.DataFrame()"
   ]
  },
  {
   "cell_type": "code",
   "execution_count": 42,
   "metadata": {},
   "outputs": [],
   "source": [
    "X_trainbow['Cleaned Text'] = X_train1['Cleaned Text'] "
   ]
  },
  {
   "cell_type": "code",
   "execution_count": 43,
   "metadata": {},
   "outputs": [
    {
     "data": {
      "text/html": [
       "<div>\n",
       "<style scoped>\n",
       "    .dataframe tbody tr th:only-of-type {\n",
       "        vertical-align: middle;\n",
       "    }\n",
       "\n",
       "    .dataframe tbody tr th {\n",
       "        vertical-align: top;\n",
       "    }\n",
       "\n",
       "    .dataframe thead th {\n",
       "        text-align: right;\n",
       "    }\n",
       "</style>\n",
       "<table border=\"1\" class=\"dataframe\">\n",
       "  <thead>\n",
       "    <tr style=\"text-align: right;\">\n",
       "      <th></th>\n",
       "      <th>Cleaned Text</th>\n",
       "    </tr>\n",
       "  </thead>\n",
       "  <tbody>\n",
       "    <tr>\n",
       "      <th>0</th>\n",
       "      <td>dogs loves chicken product china wont buying a...</td>\n",
       "    </tr>\n",
       "    <tr>\n",
       "      <th>1</th>\n",
       "      <td>dogs love saw pet store tag attached regarding...</td>\n",
       "    </tr>\n",
       "    <tr>\n",
       "      <th>2</th>\n",
       "      <td>infestation fruitflies literally everywhere fl...</td>\n",
       "    </tr>\n",
       "  </tbody>\n",
       "</table>\n",
       "</div>"
      ],
      "text/plain": [
       "                                        Cleaned Text\n",
       "0  dogs loves chicken product china wont buying a...\n",
       "1  dogs love saw pet store tag attached regarding...\n",
       "2  infestation fruitflies literally everywhere fl..."
      ]
     },
     "execution_count": 43,
     "metadata": {},
     "output_type": "execute_result"
    }
   ],
   "source": [
    "X_trainbow.head(3)"
   ]
  },
  {
   "cell_type": "code",
   "execution_count": 44,
   "metadata": {},
   "outputs": [],
   "source": [
    "X_testbow = pd.DataFrame()"
   ]
  },
  {
   "cell_type": "code",
   "execution_count": 45,
   "metadata": {},
   "outputs": [],
   "source": [
    "X_testbow['Cleaned Text'] = X_test1['Cleaned Text']"
   ]
  },
  {
   "cell_type": "code",
   "execution_count": 47,
   "metadata": {},
   "outputs": [
    {
     "data": {
      "text/html": [
       "<div>\n",
       "<style scoped>\n",
       "    .dataframe tbody tr th:only-of-type {\n",
       "        vertical-align: middle;\n",
       "    }\n",
       "\n",
       "    .dataframe tbody tr th {\n",
       "        vertical-align: top;\n",
       "    }\n",
       "\n",
       "    .dataframe thead th {\n",
       "        text-align: right;\n",
       "    }\n",
       "</style>\n",
       "<table border=\"1\" class=\"dataframe\">\n",
       "  <thead>\n",
       "    <tr style=\"text-align: right;\">\n",
       "      <th></th>\n",
       "      <th>Cleaned Text</th>\n",
       "    </tr>\n",
       "  </thead>\n",
       "  <tbody>\n",
       "    <tr>\n",
       "      <th>61441</th>\n",
       "      <td>used treat training reward dog loves easy brea...</td>\n",
       "    </tr>\n",
       "    <tr>\n",
       "      <th>61442</th>\n",
       "      <td>much fun watching puppies asking chicken treat...</td>\n",
       "    </tr>\n",
       "    <tr>\n",
       "      <th>61443</th>\n",
       "      <td>little shih tzu absolutely loves cesar softies...</td>\n",
       "    </tr>\n",
       "  </tbody>\n",
       "</table>\n",
       "</div>"
      ],
      "text/plain": [
       "                                            Cleaned Text\n",
       "61441  used treat training reward dog loves easy brea...\n",
       "61442  much fun watching puppies asking chicken treat...\n",
       "61443  little shih tzu absolutely loves cesar softies..."
      ]
     },
     "execution_count": 47,
     "metadata": {},
     "output_type": "execute_result"
    }
   ],
   "source": [
    "X_testbow.head(3)"
   ]
  },
  {
   "cell_type": "markdown",
   "metadata": {},
   "source": [
    "# BAG OF WORDS WITH FEATURE ENGINEERING "
   ]
  },
  {
   "cell_type": "code",
   "execution_count": 48,
   "metadata": {},
   "outputs": [
    {
     "data": {
      "text/plain": [
       "(61441, 1)"
      ]
     },
     "execution_count": 48,
     "metadata": {},
     "output_type": "execute_result"
    }
   ],
   "source": [
    "X_trainbow.shape"
   ]
  },
  {
   "cell_type": "code",
   "execution_count": 49,
   "metadata": {},
   "outputs": [
    {
     "data": {
      "text/plain": [
       "(26332, 1)"
      ]
     },
     "execution_count": 49,
     "metadata": {},
     "output_type": "execute_result"
    }
   ],
   "source": [
    "X_testbow.shape"
   ]
  },
  {
   "cell_type": "code",
   "execution_count": 50,
   "metadata": {},
   "outputs": [],
   "source": [
    "count_vect = CountVectorizer() \n",
    "a1 = count_vect.fit_transform(X_trainbow['Cleaned Text'].values)\n",
    "b1 = count_vect.transform(X_testbow['Cleaned Text'])"
   ]
  },
  {
   "cell_type": "code",
   "execution_count": 51,
   "metadata": {},
   "outputs": [
    {
     "name": "stdout",
     "output_type": "stream",
     "text": [
      "the type of count vectorizer : <class 'scipy.sparse.csr.csr_matrix'>\n",
      "the shape of out text BOW vectorizer :  (61441, 46008)\n",
      "the number of unique words : 46008\n"
     ]
    }
   ],
   "source": [
    "print(\"the type of count vectorizer :\",type(a1))\n",
    "print(\"the shape of out text BOW vectorizer : \",a1.get_shape())\n",
    "print(\"the number of unique words :\", a1.get_shape()[1])"
   ]
  },
  {
   "cell_type": "markdown",
   "metadata": {},
   "source": [
    "# ADDING LENGTH OF REVIEWS AS ONE FEATURE "
   ]
  },
  {
   "cell_type": "code",
   "execution_count": 52,
   "metadata": {},
   "outputs": [],
   "source": [
    "a1 = preprocessing.normalize(a1)"
   ]
  },
  {
   "cell_type": "code",
   "execution_count": 53,
   "metadata": {},
   "outputs": [],
   "source": [
    "from scipy import sparse"
   ]
  },
  {
   "cell_type": "code",
   "execution_count": 54,
   "metadata": {},
   "outputs": [],
   "source": [
    "from scipy.sparse import csr_matrix"
   ]
  },
  {
   "cell_type": "code",
   "execution_count": 55,
   "metadata": {},
   "outputs": [],
   "source": [
    "a2 = sparse.csr_matrix(X_train1['Length'].values)"
   ]
  },
  {
   "cell_type": "code",
   "execution_count": 56,
   "metadata": {},
   "outputs": [],
   "source": [
    "a2 = preprocessing.normalize(a2)"
   ]
  },
  {
   "cell_type": "code",
   "execution_count": 57,
   "metadata": {},
   "outputs": [
    {
     "data": {
      "text/plain": [
       "<61441x46008 sparse matrix of type '<class 'numpy.float64'>'\n",
       "\twith 2002037 stored elements in Compressed Sparse Row format>"
      ]
     },
     "execution_count": 57,
     "metadata": {},
     "output_type": "execute_result"
    }
   ],
   "source": [
    "a1"
   ]
  },
  {
   "cell_type": "code",
   "execution_count": 58,
   "metadata": {},
   "outputs": [
    {
     "data": {
      "text/plain": [
       "<61441x1 sparse matrix of type '<class 'numpy.float64'>'\n",
       "\twith 61271 stored elements in Compressed Sparse Column format>"
      ]
     },
     "execution_count": 58,
     "metadata": {},
     "output_type": "execute_result"
    }
   ],
   "source": [
    "a2.T"
   ]
  },
  {
   "cell_type": "code",
   "execution_count": 59,
   "metadata": {},
   "outputs": [],
   "source": [
    "a3 = sparse.hstack([a1, a2.T])"
   ]
  },
  {
   "cell_type": "code",
   "execution_count": 60,
   "metadata": {},
   "outputs": [
    {
     "data": {
      "text/plain": [
       "(61441, 46009)"
      ]
     },
     "execution_count": 60,
     "metadata": {},
     "output_type": "execute_result"
    }
   ],
   "source": [
    "a3.shape"
   ]
  },
  {
   "cell_type": "code",
   "execution_count": 61,
   "metadata": {},
   "outputs": [],
   "source": [
    "b1 = preprocessing.normalize(b1)"
   ]
  },
  {
   "cell_type": "code",
   "execution_count": 62,
   "metadata": {},
   "outputs": [],
   "source": [
    "b2 = sparse.csr_matrix(X_test1['Length'].values)"
   ]
  },
  {
   "cell_type": "code",
   "execution_count": 63,
   "metadata": {},
   "outputs": [],
   "source": [
    "b2 = preprocessing.normalize(b2)"
   ]
  },
  {
   "cell_type": "code",
   "execution_count": 64,
   "metadata": {},
   "outputs": [
    {
     "data": {
      "text/plain": [
       "<26332x46008 sparse matrix of type '<class 'numpy.float64'>'\n",
       "\twith 888781 stored elements in Compressed Sparse Row format>"
      ]
     },
     "execution_count": 64,
     "metadata": {},
     "output_type": "execute_result"
    }
   ],
   "source": [
    "b1"
   ]
  },
  {
   "cell_type": "code",
   "execution_count": 65,
   "metadata": {},
   "outputs": [
    {
     "data": {
      "text/plain": [
       "<26332x1 sparse matrix of type '<class 'numpy.float64'>'\n",
       "\twith 26286 stored elements in Compressed Sparse Column format>"
      ]
     },
     "execution_count": 65,
     "metadata": {},
     "output_type": "execute_result"
    }
   ],
   "source": [
    "b2.T"
   ]
  },
  {
   "cell_type": "code",
   "execution_count": 66,
   "metadata": {},
   "outputs": [],
   "source": [
    "b3 = sparse.hstack([b1, b2.T])"
   ]
  },
  {
   "cell_type": "code",
   "execution_count": 67,
   "metadata": {},
   "outputs": [
    {
     "data": {
      "text/plain": [
       "(61441, 46009)"
      ]
     },
     "execution_count": 67,
     "metadata": {},
     "output_type": "execute_result"
    }
   ],
   "source": [
    "a3.shape"
   ]
  },
  {
   "cell_type": "code",
   "execution_count": 122,
   "metadata": {},
   "outputs": [
    {
     "data": {
      "text/plain": [
       "(26332, 46009)"
      ]
     },
     "execution_count": 122,
     "metadata": {},
     "output_type": "execute_result"
    }
   ],
   "source": [
    "b3.shape"
   ]
  },
  {
   "cell_type": "code",
   "execution_count": 69,
   "metadata": {},
   "outputs": [
    {
     "data": {
      "text/plain": [
       "(26332,)"
      ]
     },
     "execution_count": 69,
     "metadata": {},
     "output_type": "execute_result"
    }
   ],
   "source": [
    "y_test1.shape"
   ]
  },
  {
   "cell_type": "code",
   "execution_count": 121,
   "metadata": {},
   "outputs": [
    {
     "data": {
      "text/plain": [
       "(61441,)"
      ]
     },
     "execution_count": 121,
     "metadata": {},
     "output_type": "execute_result"
    }
   ],
   "source": [
    "y_train1.shape"
   ]
  },
  {
   "cell_type": "markdown",
   "metadata": {},
   "source": [
    "# Logistic Regression for BOW with Feature Engineering"
   ]
  },
  {
   "cell_type": "code",
   "execution_count": 71,
   "metadata": {},
   "outputs": [],
   "source": [
    "from sklearn.model_selection import train_test_split\n",
    "#from sklearn.grid_search import GridSearchCV\n",
    "from sklearn.model_selection import GridSearchCV\n",
    "from sklearn.datasets import *\n",
    "from sklearn.linear_model import LogisticRegression"
   ]
  },
  {
   "cell_type": "markdown",
   "metadata": {},
   "source": [
    "# L2 REGULARISATION"
   ]
  },
  {
   "cell_type": "code",
   "execution_count": 123,
   "metadata": {},
   "outputs": [
    {
     "name": "stdout",
     "output_type": "stream",
     "text": [
      "LogisticRegression(C=1, class_weight='balanced', dual=False,\n",
      "          fit_intercept=True, intercept_scaling=1, max_iter=100,\n",
      "          multi_class='ovr', n_jobs=1, penalty='l2', random_state=None,\n",
      "          solver='liblinear', tol=0.0001, verbose=0, warm_start=False)\n",
      "0.9490679045177951\n"
     ]
    }
   ],
   "source": [
    "#refer: http://scikit-learn.org/stable/modules/generated/sklearn.datasets.load_breast_cancer.html#sklearn.datasets.load_breast_cancer\n",
    "tuned_parameters = [{'C': [10**-5,10**-4, 10**-2, 10**0, 10**2, 10**4,10**5]}]\n",
    "# AS C INCREASES IT SHOULD OVERFIT. HERE C IS NOTHING BUT 1/LAMDA. LAMDA IS THE HYPER PARAMETER.\n",
    "#Using GridSearchCV\n",
    "model1 = GridSearchCV(LogisticRegression(class_weight = 'balanced'), tuned_parameters, scoring = 'roc_auc', cv=5, return_train_score= True)\n",
    "model1.fit(a3, y_train1)\n",
    "print(model1.best_estimator_)\n",
    "print(model1.score(b3, y_test1))"
   ]
  },
  {
   "cell_type": "markdown",
   "metadata": {},
   "source": [
    "# L1 REGULARISATION "
   ]
  },
  {
   "cell_type": "code",
   "execution_count": 124,
   "metadata": {},
   "outputs": [
    {
     "name": "stdout",
     "output_type": "stream",
     "text": [
      "LogisticRegression(C=1, class_weight='balanced', dual=False,\n",
      "          fit_intercept=True, intercept_scaling=1, max_iter=100,\n",
      "          multi_class='ovr', n_jobs=1, penalty='l1', random_state=None,\n",
      "          solver='liblinear', tol=0.0001, verbose=0, warm_start=False)\n",
      "0.9500053287544736\n"
     ]
    }
   ],
   "source": [
    "tuned_parameters = [{'C': [10**-5,10**-4, 10**-2, 10**0, 10**2, 10**4,10**5]}]\n",
    "\n",
    "# AS C INCREASES IT SHOULD OVERFIT. HERE C IS NOTHING BUT 1/LAMDA. LAMDA IS THE HYPER PARAMETER.\n",
    "#Using GridSearchCV\n",
    "model = GridSearchCV(LogisticRegression(penalty='l1', class_weight = 'balanced'), tuned_parameters, scoring = 'roc_auc', cv=5, return_train_score = True)\n",
    "model.fit(a3, y_train1)\n",
    "print(model.best_estimator_)\n",
    "print(model.score(b3, y_test1))"
   ]
  },
  {
   "cell_type": "markdown",
   "metadata": {},
   "source": [
    "# Observations for Logistic Regression (BOW) (BOTH L1 AND L2) "
   ]
  },
  {
   "cell_type": "markdown",
   "metadata": {},
   "source": [
    "1) We found that with L2 REGULARISER THE optimum c is 1 and the best  score was 0.949\n",
    " \n",
    "2) With L1 REGULARISATION TOO THE OPTIMUM C IS 1. \n",
    "\n",
    "3) We found that L1 is better than L2 slightly."
   ]
  },
  {
   "cell_type": "code",
   "execution_count": 72,
   "metadata": {},
   "outputs": [],
   "source": [
    "from sklearn.model_selection import cross_val_score\n",
    "from sklearn.metrics import accuracy_score,confusion_matrix,f1_score,precision_score,recall_score"
   ]
  },
  {
   "cell_type": "markdown",
   "metadata": {},
   "source": [
    "# Running the Model with Optimal C and L1 regularisation"
   ]
  },
  {
   "cell_type": "code",
   "execution_count": 73,
   "metadata": {},
   "outputs": [],
   "source": [
    "from sklearn.metrics import roc_auc_score"
   ]
  },
  {
   "cell_type": "code",
   "execution_count": 125,
   "metadata": {},
   "outputs": [],
   "source": [
    "alph1 = [10**-5,10**-4, 10**-2, 10**0, 10**2, 10**4,10**5]"
   ]
  },
  {
   "cell_type": "code",
   "execution_count": 126,
   "metadata": {},
   "outputs": [
    {
     "data": {
      "text/plain": [
       "{'mean_fit_time': array([0.08266292, 0.09372878, 0.29012675, 0.68707824, 1.769346  ,\n",
       "        2.01248002, 1.12386308]),\n",
       " 'std_fit_time': array([8.45582399e-03, 3.20582129e-06, 2.85730244e-02, 3.51254491e-02,\n",
       "        5.91012298e-02, 1.23447958e-01, 5.29811604e-02]),\n",
       " 'mean_score_time': array([0.006846  , 0.        , 0.00418916, 0.00179505, 0.00219207,\n",
       "        0.00392156, 0.0045198 ]),\n",
       " 'std_score_time': array([0.00724591, 0.        , 0.00040095, 0.00222071, 0.00182659,\n",
       "        0.0060496 , 0.0057745 ]),\n",
       " 'param_C': masked_array(data=[1e-05, 0.0001, 0.01, 1, 100, 10000, 100000],\n",
       "              mask=[False, False, False, False, False, False, False],\n",
       "        fill_value='?',\n",
       "             dtype=object),\n",
       " 'params': [{'C': 1e-05},\n",
       "  {'C': 0.0001},\n",
       "  {'C': 0.01},\n",
       "  {'C': 1},\n",
       "  {'C': 100},\n",
       "  {'C': 10000},\n",
       "  {'C': 100000}],\n",
       " 'split0_test_score': array([0.5       , 0.5       , 0.77091467, 0.94435936, 0.89845904,\n",
       "        0.8751227 , 0.84881126]),\n",
       " 'split1_test_score': array([0.5       , 0.5       , 0.75711164, 0.94591224, 0.902958  ,\n",
       "        0.88156854, 0.85349536]),\n",
       " 'split2_test_score': array([0.5       , 0.5       , 0.77100869, 0.94663594, 0.90356426,\n",
       "        0.88658161, 0.85606224]),\n",
       " 'split3_test_score': array([0.5       , 0.5       , 0.76779075, 0.9414538 , 0.8986355 ,\n",
       "        0.87854231, 0.8510552 ]),\n",
       " 'split4_test_score': array([0.5       , 0.5       , 0.76331504, 0.94544867, 0.89777895,\n",
       "        0.8791261 , 0.84641103]),\n",
       " 'mean_test_score': array([0.5       , 0.5       , 0.76602819, 0.94476209, 0.90027929,\n",
       "        0.88018834, 0.85116718]),\n",
       " 'std_test_score': array([0.        , 0.        , 0.00526618, 0.00181172, 0.00245903,\n",
       "        0.00380214, 0.00339311]),\n",
       " 'rank_test_score': array([6, 6, 5, 1, 2, 3, 4]),\n",
       " 'split0_train_score': array([0.5       , 0.5       , 0.76502343, 0.96442476, 0.99984399,\n",
       "        0.99999769, 0.99999769]),\n",
       " 'split1_train_score': array([0.5       , 0.5       , 0.76898591, 0.9635157 , 0.99982704,\n",
       "        0.99999785, 0.99999785]),\n",
       " 'split2_train_score': array([0.5       , 0.5       , 0.76927205, 0.9641083 , 0.99986773,\n",
       "        0.99999744, 0.99999744]),\n",
       " 'split3_train_score': array([0.5       , 0.5       , 0.76832783, 0.96464762, 0.99985853,\n",
       "        0.99999692, 0.99999692]),\n",
       " 'split4_train_score': array([0.5       , 0.5       , 0.76822919, 0.9643573 , 0.99988505,\n",
       "        0.99999636, 0.99999636]),\n",
       " 'mean_train_score': array([0.5       , 0.5       , 0.76796768, 0.96421074, 0.99985647,\n",
       "        0.99999725, 0.99999725]),\n",
       " 'std_train_score': array([0.00000000e+00, 0.00000000e+00, 1.52347573e-03, 3.87742306e-04,\n",
       "        1.98491190e-05, 5.45720853e-07, 5.45720853e-07])}"
      ]
     },
     "execution_count": 126,
     "metadata": {},
     "output_type": "execute_result"
    }
   ],
   "source": [
    "model.cv_results_"
   ]
  },
  {
   "cell_type": "code",
   "execution_count": 78,
   "metadata": {},
   "outputs": [],
   "source": [
    "train_auc= model.cv_results_['mean_train_score']\n",
    "cv_auc= model.cv_results_['mean_test_score']"
   ]
  },
  {
   "cell_type": "code",
   "execution_count": 79,
   "metadata": {},
   "outputs": [],
   "source": [
    "train_auc1= model1.cv_results_['mean_train_score']\n",
    "cv_auc1= model1.cv_results_['mean_test_score']"
   ]
  },
  {
   "cell_type": "code",
   "execution_count": 80,
   "metadata": {},
   "outputs": [
    {
     "data": {
      "text/plain": [
       "array([0.78373149, 0.78622319, 0.86606284, 0.96677728, 0.9970892 ,\n",
       "       0.99998889, 0.99999724])"
      ]
     },
     "execution_count": 80,
     "metadata": {},
     "output_type": "execute_result"
    }
   ],
   "source": [
    "train_auc1"
   ]
  },
  {
   "cell_type": "code",
   "execution_count": 81,
   "metadata": {},
   "outputs": [
    {
     "data": {
      "text/plain": [
       "array([0.77980099, 0.78219249, 0.85854813, 0.94386418, 0.9318972 ,\n",
       "       0.89148987, 0.88467314])"
      ]
     },
     "execution_count": 81,
     "metadata": {},
     "output_type": "execute_result"
    }
   ],
   "source": [
    "cv_auc1"
   ]
  },
  {
   "cell_type": "code",
   "execution_count": 82,
   "metadata": {},
   "outputs": [
    {
     "data": {
      "text/plain": [
       "array([0.5       , 0.5       , 0.76796783, 0.96421071, 0.99985648,\n",
       "       0.99999725, 0.99999725])"
      ]
     },
     "execution_count": 82,
     "metadata": {},
     "output_type": "execute_result"
    }
   ],
   "source": [
    "train_auc"
   ]
  },
  {
   "cell_type": "code",
   "execution_count": 83,
   "metadata": {},
   "outputs": [
    {
     "data": {
      "text/plain": [
       "array([0.5       , 0.5       , 0.76602852, 0.94476225, 0.90027524,\n",
       "       0.8802149 , 0.85237726])"
      ]
     },
     "execution_count": 83,
     "metadata": {},
     "output_type": "execute_result"
    }
   ],
   "source": [
    "cv_auc"
   ]
  },
  {
   "cell_type": "code",
   "execution_count": 74,
   "metadata": {},
   "outputs": [],
   "source": [
    "import math\n",
    "from math import log"
   ]
  },
  {
   "cell_type": "code",
   "execution_count": 85,
   "metadata": {},
   "outputs": [
    {
     "data": {
      "image/png": "[encoded data removed]",
      "text/plain": [
       "<Figure size 432x288 with 1 Axes>"
      ]
     },
     "metadata": {},
     "output_type": "display_data"
    },
    {
     "name": "stdout",
     "output_type": "stream",
     "text": [
      "\n",
      "\n",
      " Alpha values :\n",
      " [1e-05, 0.0001, 0.01, 1, 100, 10000, 100000]\n",
      "\n",
      " Train AUC for each alpha value is :\n",
      "  [0.78373 0.78622 0.86606 0.96678 0.99709 0.99999 1.     ]\n",
      "\n",
      " CV AUC for each alpha value is :\n",
      "  [0.7798  0.78219 0.85855 0.94386 0.9319  0.89149 0.88467]\n"
     ]
    }
   ],
   "source": [
    "# This is just for my reference - I am trying to plot both for L1 and L2 REGULARISER\n",
    "# hERE IT IS FOR L2 REGULARISER\n",
    "plt.plot(alph1,train_auc1)\n",
    "plt.plot(alph1,cv_auc1)\n",
    "plt.xlabel('Inverse of Hyperparameter - C',size=10)\n",
    "plt.ylabel('AUC',size=10)\n",
    "plt.title('AUC VS HYPERPARAMETER FOR L2 REGULARISATION',size=16)\n",
    "plt.xscale('log')\n",
    "plt.grid()\n",
    "plt.show()\n",
    "print(\"\\n\\n Alpha values :\\n\", alph1)\n",
    "print(\"\\n Train AUC for each alpha value is :\\n \", np.round(train_auc1,5))\n",
    "print(\"\\n CV AUC for each alpha value is :\\n \", np.round(cv_auc1,5))"
   ]
  },
  {
   "cell_type": "code",
   "execution_count": 86,
   "metadata": {},
   "outputs": [
    {
     "data": {
      "image/png": "[encoded data removed]",
      "text/plain": [
       "<Figure size 432x288 with 1 Axes>"
      ]
     },
     "metadata": {},
     "output_type": "display_data"
    },
    {
     "name": "stdout",
     "output_type": "stream",
     "text": [
      "\n",
      "\n",
      " Alpha values :\n",
      " [1e-05, 0.0001, 0.01, 1, 100, 10000, 100000]\n",
      "\n",
      " Train AUC for each alpha value is :\n",
      "  [0.5     0.5     0.76797 0.96421 0.99986 1.      1.     ]\n",
      "\n",
      " CV AUC for each alpha value is :\n",
      "  [0.5     0.5     0.76603 0.94476 0.90028 0.88021 0.85238]\n"
     ]
    }
   ],
   "source": [
    "# plot accuracy vs alpha \n",
    "plt.plot(alph1,train_auc)\n",
    "plt.plot(alph1,cv_auc)\n",
    "plt.xlabel('Inverse of Hyperparameter - C',size=10)\n",
    "plt.ylabel('AUC',size=10)\n",
    "plt.title('AUC VS HYPERPARAMETER FOR L1 REGULARISATION',size=16)\n",
    "plt.xscale('log')\n",
    "plt.grid()\n",
    "plt.show()\n",
    "print(\"\\n\\n Alpha values :\\n\", alph1)\n",
    "print(\"\\n Train AUC for each alpha value is :\\n \", np.round(train_auc,5))\n",
    "print(\"\\n CV AUC for each alpha value is :\\n \", np.round(cv_auc,5))"
   ]
  },
  {
   "cell_type": "markdown",
   "metadata": {},
   "source": [
    "# Observations\n",
    "\n",
    "1) We have found that the optimal C  occurs at 1 as the cv accuracy is high at that point for both L1 and L2."
   ]
  },
  {
   "cell_type": "code",
   "execution_count": 87,
   "metadata": {},
   "outputs": [],
   "source": [
    "optimalalpha2_bow = 1\n",
    "auc_bow = max(cv_auc)\n",
    "auc_bow1 = max(cv_auc1)"
   ]
  },
  {
   "cell_type": "code",
   "execution_count": 88,
   "metadata": {},
   "outputs": [
    {
     "data": {
      "text/html": [
       "<table>\n",
       "<tbody>\n",
       "<tr><td>Vectorizer</td><td>Model              </td><td>Regularisation</td><td>Hyperparameter</td><td>AUC   </td></tr>\n",
       "<tr><td>BOW       </td><td>Logistic Regression</td><td>L1            </td><td>1             </td><td>0.9448</td></tr>\n",
       "<tr><td>BOW       </td><td>Logistic Regression</td><td>L2            </td><td>1             </td><td>0.9439</td></tr>\n",
       "</tbody>\n",
       "</table>"
      ],
      "text/plain": [
       "<IPython.core.display.HTML object>"
      ]
     },
     "metadata": {},
     "output_type": "display_data"
    }
   ],
   "source": [
    "from IPython.display import HTML, display\n",
    "import tabulate\n",
    "table = [[\"Vectorizer\",\"Model\",\"Regularisation\",\"Hyperparameter\",\"AUC\"],\n",
    "         [\"BOW\", \"Logistic Regression \", \"L1 \" ,optimalalpha2_bow, np.round(auc_bow,4) ],\n",
    "         [\"BOW\", \"Logistic Regression \", \"L2 \" ,optimalalpha2_bow, np.round(auc_bow1,4)]]\n",
    "display(HTML(tabulate.tabulate(table, tablefmt='html')))"
   ]
  },
  {
   "cell_type": "code",
   "execution_count": 90,
   "metadata": {},
   "outputs": [],
   "source": [
    "# after you found the best hyper parameter, you need to train your model with it, \n",
    "#and find the AUC on test data and plot the ROC curve on both train and test. \n",
    "# Along with plotting ROC curve, you need to print the confusion matrix with predicted \n",
    "#and original labels of test data points. Please visualize your confusion matrices using seaborn heatmaps. "
   ]
  },
  {
   "cell_type": "markdown",
   "metadata": {},
   "source": [
    "# Training the model with the best hyper parameter "
   ]
  },
  {
   "cell_type": "code",
   "execution_count": 127,
   "metadata": {},
   "outputs": [],
   "source": [
    "om_bow = LogisticRegression(C = 1 , penalty = 'l1' , class_weight = 'balanced')"
   ]
  },
  {
   "cell_type": "code",
   "execution_count": 128,
   "metadata": {},
   "outputs": [],
   "source": [
    "#om_bow = MultinomialNB(alpha = optimalalpha2_bow)\n",
    "# fitting the model and predicting the responses\n",
    "om_bow.fit(a3, y_train1)\n",
    "ompredictions_bow  = om_bow.predict(b3)"
   ]
  },
  {
   "cell_type": "code",
   "execution_count": 129,
   "metadata": {},
   "outputs": [
    {
     "data": {
      "text/plain": [
       "26332"
      ]
     },
     "execution_count": 129,
     "metadata": {},
     "output_type": "execute_result"
    }
   ],
   "source": [
    "len(ompredictions_bow)"
   ]
  },
  {
   "cell_type": "code",
   "execution_count": 130,
   "metadata": {},
   "outputs": [
    {
     "data": {
      "text/plain": [
       "26332"
      ]
     },
     "execution_count": 130,
     "metadata": {},
     "output_type": "execute_result"
    }
   ],
   "source": [
    "len(y_test1)"
   ]
  },
  {
   "cell_type": "code",
   "execution_count": 131,
   "metadata": {},
   "outputs": [],
   "source": [
    "probs = om_bow.predict_proba(b3)"
   ]
  },
  {
   "cell_type": "code",
   "execution_count": 132,
   "metadata": {},
   "outputs": [],
   "source": [
    "probs1 = om_bow.predict_proba(a3)"
   ]
  },
  {
   "cell_type": "code",
   "execution_count": 133,
   "metadata": {},
   "outputs": [
    {
     "data": {
      "text/plain": [
       "61441"
      ]
     },
     "execution_count": 133,
     "metadata": {},
     "output_type": "execute_result"
    }
   ],
   "source": [
    "len(probs1)"
   ]
  },
  {
   "cell_type": "code",
   "execution_count": 134,
   "metadata": {},
   "outputs": [
    {
     "data": {
      "text/plain": [
       "26332"
      ]
     },
     "execution_count": 134,
     "metadata": {},
     "output_type": "execute_result"
    }
   ],
   "source": [
    "len(probs)"
   ]
  },
  {
   "cell_type": "code",
   "execution_count": 135,
   "metadata": {},
   "outputs": [],
   "source": [
    "probs = probs[:, 1]"
   ]
  },
  {
   "cell_type": "code",
   "execution_count": 136,
   "metadata": {},
   "outputs": [],
   "source": [
    "probs1 = probs1[:, -1]"
   ]
  },
  {
   "cell_type": "markdown",
   "metadata": {},
   "source": [
    "# FEATURE IMPORTANCE  FOR BOW "
   ]
  },
  {
   "cell_type": "code",
   "execution_count": 101,
   "metadata": {},
   "outputs": [
    {
     "data": {
      "text/plain": [
       "<bound method BaseEstimator.get_params of LogisticRegression(C=1, class_weight='balanced', dual=False,\n",
       "          fit_intercept=True, intercept_scaling=1, max_iter=100,\n",
       "          multi_class='ovr', n_jobs=1, penalty='l1', random_state=None,\n",
       "          solver='liblinear', tol=0.0001, verbose=0, warm_start=False)>"
      ]
     },
     "execution_count": 101,
     "metadata": {},
     "output_type": "execute_result"
    }
   ],
   "source": [
    "om_bow.get_params"
   ]
  },
  {
   "cell_type": "code",
   "execution_count": 102,
   "metadata": {},
   "outputs": [
    {
     "data": {
      "text/plain": [
       "<bound method BaseEstimator.get_params of CountVectorizer(analyzer='word', binary=False, decode_error='strict',\n",
       "        dtype=<class 'numpy.int64'>, encoding='utf-8', input='content',\n",
       "        lowercase=True, max_df=1.0, max_features=None, min_df=1,\n",
       "        ngram_range=(1, 1), preprocessor=None, stop_words=None,\n",
       "        strip_accents=None, token_pattern='(?u)\\\\b\\\\w\\\\w+\\\\b',\n",
       "        tokenizer=None, vocabulary=None)>"
      ]
     },
     "execution_count": 102,
     "metadata": {},
     "output_type": "execute_result"
    }
   ],
   "source": [
    "count_vect.get_params"
   ]
  },
  {
   "cell_type": "code",
   "execution_count": 137,
   "metadata": {},
   "outputs": [],
   "source": [
    "features = count_vect.get_feature_names()"
   ]
  },
  {
   "cell_type": "code",
   "execution_count": 138,
   "metadata": {},
   "outputs": [],
   "source": [
    "Coefficients = om_bow.coef_[0]"
   ]
  },
  {
   "cell_type": "code",
   "execution_count": 105,
   "metadata": {},
   "outputs": [],
   "source": [
    "len(features)\n",
    "features.append('zzzzzzzzzza')"
   ]
  },
  {
   "cell_type": "code",
   "execution_count": 106,
   "metadata": {},
   "outputs": [
    {
     "data": {
      "text/plain": [
       "46009"
      ]
     },
     "execution_count": 106,
     "metadata": {},
     "output_type": "execute_result"
    }
   ],
   "source": [
    "len(features)"
   ]
  },
  {
   "cell_type": "code",
   "execution_count": 139,
   "metadata": {},
   "outputs": [],
   "source": [
    "coef = Coefficients"
   ]
  },
  {
   "cell_type": "code",
   "execution_count": 108,
   "metadata": {},
   "outputs": [
    {
     "name": "stdout",
     "output_type": "stream",
     "text": [
      "***** Top 10 IMPORTANT FEATURES FOR POSITIVE CLASS *****\n",
      "\n",
      "\n",
      "             Word  Coefficient\n",
      "30411  pleasantly    15.503561\n",
      "19188      hooked    11.330013\n",
      "10560   delicious    10.827128\n",
      "3391         beat    10.672516\n",
      "45829       yummy    10.645699\n",
      "8225    complaint    10.211309\n",
      "2762      awesome     9.742074\n",
      "45797         yum     9.696419\n",
      "35114   satisfied     9.654699\n",
      "1285      amazing     9.644375\n",
      "\n",
      "\n",
      "***** Top 10 IMPORTANT FEATURES FOR NEGATIVE CLASS *****\n",
      "\n",
      "\n",
      "                 Word  Coefficient\n",
      "11574      disgusting   -10.663955\n",
      "34257             rip   -10.835473\n",
      "5763         canceled   -11.059954\n",
      "41905           trash   -11.218602\n",
      "40533        terrible   -11.726037\n",
      "5766        cancelled   -11.859516\n",
      "19207           hopes   -12.392379\n",
      "11444  disappointment   -12.766767\n",
      "11442   disappointing   -14.818483\n",
      "45296           worst   -18.515108\n"
     ]
    }
   ],
   "source": [
    "cf = pd.DataFrame({'Word' : features, 'Coefficient' : Coefficients})\n",
    "cf_new = cf.sort_values(\"Coefficient\", ascending = False)\n",
    "print('***** Top 10 IMPORTANT FEATURES FOR POSITIVE CLASS *****')\n",
    "print('\\n')\n",
    "print(cf_new.head(10))\n",
    "print('\\n')\n",
    "print('***** Top 10 IMPORTANT FEATURES FOR NEGATIVE CLASS *****')\n",
    "print('\\n')\n",
    "print(cf_new.tail(10))"
   ]
  },
  {
   "cell_type": "markdown",
   "metadata": {},
   "source": [
    "# Observations :\n",
    "1) We have found that pleasantly and hooked are the top 2 words that influences the positive class.\n",
    "\n",
    "2) We have found that worst and the disappointing are the top 2 words that influences the neagative class. "
   ]
  },
  {
   "cell_type": "markdown",
   "metadata": {},
   "source": [
    "# Pertubation Test "
   ]
  },
  {
   "cell_type": "code",
   "execution_count": 140,
   "metadata": {},
   "outputs": [
    {
     "name": "stdout",
     "output_type": "stream",
     "text": [
      "[ 2.58630232  1.37180366  1.42565548 -0.73121525  0.91877654 -1.58608666\n",
      "  0.8360767  -0.2916829   4.37558997  0.0241404   0.80723978  5.59328376\n",
      "  4.79488589  3.48302139  7.42767805  1.54287792  0.63039365  3.25218314\n",
      "  0.90448357 -0.91686193  5.75879313  2.74630744 -1.24343087  0.10072506\n",
      " -1.47284846]\n"
     ]
    }
   ],
   "source": [
    "from scipy.sparse import find\n",
    "# OLD COEFFICIENTS\n",
    "old_coef = om_bow.coef_[0]\n",
    "w_coef1 = old_coef[np.nonzero(old_coef)]\n",
    "print(w_coef1[:25])"
   ]
  },
  {
   "cell_type": "code",
   "execution_count": 141,
   "metadata": {},
   "outputs": [
    {
     "data": {
      "text/plain": [
       "46009"
      ]
     },
     "execution_count": 141,
     "metadata": {},
     "output_type": "execute_result"
    }
   ],
   "source": [
    "len(old_coef)"
   ]
  },
  {
   "cell_type": "code",
   "execution_count": 142,
   "metadata": {},
   "outputs": [
    {
     "data": {
      "text/plain": [
       "<61441x46009 sparse matrix of type '<class 'numpy.float64'>'\n",
       "\twith 2063308 stored elements in COOrdinate format>"
      ]
     },
     "execution_count": 142,
     "metadata": {},
     "output_type": "execute_result"
    }
   ],
   "source": [
    "a3"
   ]
  },
  {
   "cell_type": "code",
   "execution_count": 143,
   "metadata": {},
   "outputs": [],
   "source": [
    "a3_modified = a3.todense()"
   ]
  },
  {
   "cell_type": "code",
   "execution_count": 144,
   "metadata": {},
   "outputs": [],
   "source": [
    "a3_modified[5] = a3_modified[5] + 0.000001"
   ]
  },
  {
   "cell_type": "code",
   "execution_count": 145,
   "metadata": {},
   "outputs": [],
   "source": [
    "om_bow_new = LogisticRegression( C= 1,class_weight = 'balanced', penalty = 'l1')"
   ]
  },
  {
   "cell_type": "code",
   "execution_count": 146,
   "metadata": {},
   "outputs": [
    {
     "data": {
      "text/plain": [
       "LogisticRegression(C=1, class_weight='balanced', dual=False,\n",
       "          fit_intercept=True, intercept_scaling=1, max_iter=100,\n",
       "          multi_class='ovr', n_jobs=1, penalty='l1', random_state=None,\n",
       "          solver='liblinear', tol=0.0001, verbose=0, warm_start=False)"
      ]
     },
     "execution_count": 146,
     "metadata": {},
     "output_type": "execute_result"
    }
   ],
   "source": [
    "om_bow_new.fit(a3_modified, y_train1)\n",
    "#ompredictions_bow  = om_bow.predict(b3)"
   ]
  },
  {
   "cell_type": "code",
   "execution_count": 147,
   "metadata": {},
   "outputs": [],
   "source": [
    "new_coef = om_bow_new.coef_[0]"
   ]
  },
  {
   "cell_type": "code",
   "execution_count": 118,
   "metadata": {},
   "outputs": [],
   "source": [
    "# new_coef is the new weights obtained for the noise data. \n",
    "# old_coef is the old weights obtained for the original data.\n",
    "# Now I am going to find the percentage change in Weights. However there are many zero's in the weight vectors. \n",
    "# FOR AVOIDING DIVISON BY ZERO ERROR I AM ADDING SMALL VALUES LIKE 10^-6 TO BOTH WEIGHT VECTORS."
   ]
  },
  {
   "cell_type": "code",
   "execution_count": 148,
   "metadata": {},
   "outputs": [],
   "source": [
    "old_coef = old_coef + 0.000003\n",
    "new_coef = new_coef + 0.000003"
   ]
  },
  {
   "cell_type": "code",
   "execution_count": 149,
   "metadata": {},
   "outputs": [],
   "source": [
    "diff_coef = new_coef - old_coef"
   ]
  },
  {
   "cell_type": "code",
   "execution_count": 150,
   "metadata": {},
   "outputs": [],
   "source": [
    "delta_coef = diff_coef / old_coef"
   ]
  },
  {
   "cell_type": "code",
   "execution_count": 151,
   "metadata": {},
   "outputs": [
    {
     "data": {
      "text/plain": [
       "numpy.ndarray"
      ]
     },
     "execution_count": 151,
     "metadata": {},
     "output_type": "execute_result"
    }
   ],
   "source": [
    "type(delta_coef)"
   ]
  },
  {
   "cell_type": "code",
   "execution_count": 152,
   "metadata": {},
   "outputs": [
    {
     "data": {
      "text/plain": [
       "array([0., 0., 0., 0., 0.])"
      ]
     },
     "execution_count": 152,
     "metadata": {},
     "output_type": "execute_result"
    }
   ],
   "source": [
    "delta_coef[1:6]"
   ]
  },
  {
   "cell_type": "code",
   "execution_count": null,
   "metadata": {},
   "outputs": [],
   "source": [
    "# Sorting the array in ascending order"
   ]
  },
  {
   "cell_type": "code",
   "execution_count": 157,
   "metadata": {},
   "outputs": [],
   "source": [
    "delta_coef1 = delta_coef"
   ]
  },
  {
   "cell_type": "code",
   "execution_count": 159,
   "metadata": {},
   "outputs": [],
   "source": [
    "delta_coef1 = abs(delta_coef1)"
   ]
  },
  {
   "cell_type": "code",
   "execution_count": 160,
   "metadata": {},
   "outputs": [],
   "source": [
    "dc2 = np.sort(delta_coef1)"
   ]
  },
  {
   "cell_type": "code",
   "execution_count": 161,
   "metadata": {},
   "outputs": [],
   "source": [
    "dc2 = dc2*100"
   ]
  },
  {
   "cell_type": "code",
   "execution_count": 162,
   "metadata": {},
   "outputs": [
    {
     "data": {
      "text/plain": [
       "array([0., 0., 0., 0., 0.])"
      ]
     },
     "execution_count": 162,
     "metadata": {},
     "output_type": "execute_result"
    }
   ],
   "source": [
    "dc2[1:6]"
   ]
  },
  {
   "cell_type": "code",
   "execution_count": 163,
   "metadata": {},
   "outputs": [
    {
     "data": {
      "text/plain": [
       "376.13373456448153"
      ]
     },
     "execution_count": 163,
     "metadata": {},
     "output_type": "execute_result"
    }
   ],
   "source": [
    "max(dc2)"
   ]
  },
  {
   "cell_type": "code",
   "execution_count": 165,
   "metadata": {},
   "outputs": [
    {
     "name": "stdout",
     "output_type": "stream",
     "text": [
      "The :  10 percentile is :  0\n",
      "The :  20 percentile is :  0\n",
      "The :  30 percentile is :  0\n",
      "The :  40 percentile is :  0\n",
      "The :  50 percentile is :  0\n",
      "The :  60 percentile is :  0\n",
      "The :  70 percentile is :  0\n",
      "The :  80 percentile is :  0\n",
      "The :  90 percentile is :  0\n",
      "The :  100 percentile is :  376\n"
     ]
    }
   ],
   "source": [
    "for i in range(10,110,10):\n",
    "    p = np.percentile(dc2, i) # return bth percentile.\n",
    "    print(\"The : % 3d percentile is : % 2d\" %(i, p)) "
   ]
  },
  {
   "cell_type": "markdown",
   "metadata": {},
   "source": [
    "# Observations\n",
    "\n",
    "The above result implies that there are no many changes in the weights even with noise. \n",
    "\n",
    "Hence we can conclude that maximum are non collinear."
   ]
  },
  {
   "cell_type": "code",
   "execution_count": 167,
   "metadata": {},
   "outputs": [
    {
     "name": "stdout",
     "output_type": "stream",
     "text": [
      "The   90 percentile is :  0\n",
      "The   91 percentile is :  0\n",
      "The   92 percentile is :  0\n",
      "The   93 percentile is :  0\n",
      "The   94 percentile is :  0\n",
      "The   95 percentile is :  0\n",
      "The   96 percentile is :  0\n",
      "The   97 percentile is :  0\n",
      "The   98 percentile is :  0\n",
      "The   99 percentile is :  0\n",
      "The   100 percentile is :  376\n"
     ]
    }
   ],
   "source": [
    "for i in range(90,101):\n",
    "    p = np.percentile(dc2, i) # return bth percentile.\n",
    "    print(\"The  % 3d percentile is : % 2d\" %(i, p)) "
   ]
  },
  {
   "cell_type": "raw",
   "metadata": {},
   "source": [
    "# As the above approach is not able to get the required result . I would like to remove all zeros and then approach the problem."
   ]
  },
  {
   "cell_type": "code",
   "execution_count": 172,
   "metadata": {},
   "outputs": [
    {
     "name": "stdout",
     "output_type": "stream",
     "text": [
      "[1.61799893e-06 4.24790496e-06 6.11605834e-06 7.62730197e-06\n",
      " 7.74157847e-06 8.66284769e-06 9.94869955e-06 1.14847284e-05\n",
      " 1.14972509e-05 1.17835492e-05 1.21933856e-05 1.25637626e-05\n",
      " 1.33311533e-05 2.30494874e-05 2.31202053e-05 2.39833253e-05\n",
      " 2.77156135e-05 2.94851341e-05 3.07637229e-05 3.16205515e-05\n",
      " 3.17243646e-05 3.19128680e-05 3.34617720e-05 3.39997751e-05\n",
      " 3.54703025e-05]\n"
     ]
    }
   ],
   "source": [
    "w123 = dc2[np.nonzero(dc2)]\n",
    "print(w123[:25])"
   ]
  },
  {
   "cell_type": "code",
   "execution_count": 186,
   "metadata": {},
   "outputs": [],
   "source": [
    "w123 = w123 * 100"
   ]
  },
  {
   "cell_type": "code",
   "execution_count": 187,
   "metadata": {},
   "outputs": [
    {
     "data": {
      "text/plain": [
       "array([0.00042479, 0.00061161])"
      ]
     },
     "execution_count": 187,
     "metadata": {},
     "output_type": "execute_result"
    }
   ],
   "source": [
    "w123[1:3]"
   ]
  },
  {
   "cell_type": "code",
   "execution_count": 188,
   "metadata": {},
   "outputs": [
    {
     "data": {
      "text/plain": [
       "(0.00016179989300771878, 37613.37345644816)"
      ]
     },
     "execution_count": 188,
     "metadata": {},
     "output_type": "execute_result"
    }
   ],
   "source": [
    "min(w123),max(w123)"
   ]
  },
  {
   "cell_type": "code",
   "execution_count": 189,
   "metadata": {},
   "outputs": [
    {
     "name": "stdout",
     "output_type": "stream",
     "text": [
      "The :  10 percentile is :  0\n",
      "The :  20 percentile is :  0\n",
      "The :  30 percentile is :  0\n",
      "The :  40 percentile is :  0\n",
      "The :  50 percentile is :  0\n",
      "The :  60 percentile is :  0\n",
      "The :  70 percentile is :  0\n",
      "The :  80 percentile is :  1\n",
      "The :  90 percentile is :  2\n",
      "The :  100 percentile is :  37613\n"
     ]
    }
   ],
   "source": [
    "for i in range(10,110,10):\n",
    "    p = np.percentile(w123, i) # return bth percentile.\n",
    "    print(\"The : % 3d percentile is : % 2d\" %(i, p)) "
   ]
  },
  {
   "cell_type": "code",
   "execution_count": 190,
   "metadata": {},
   "outputs": [
    {
     "name": "stdout",
     "output_type": "stream",
     "text": [
      "The :  90 percentile is :  2\n",
      "The :  91 percentile is :  2\n",
      "The :  92 percentile is :  3\n",
      "The :  93 percentile is :  3\n",
      "The :  94 percentile is :  4\n",
      "The :  95 percentile is :  5\n",
      "The :  96 percentile is :  7\n",
      "The :  97 percentile is :  10\n",
      "The :  98 percentile is :  14\n",
      "The :  99 percentile is :  33\n",
      "The :  100 percentile is :  37613\n"
     ]
    }
   ],
   "source": [
    "for i in range(90,101,1):\n",
    "    p = np.percentile(w123, i) # return bth percentile.\n",
    "    print(\"The : % 3d percentile is : % 2d\" %(i, np.round(p,7))) "
   ]
  },
  {
   "cell_type": "code",
   "execution_count": 192,
   "metadata": {},
   "outputs": [],
   "source": [
    "# We found that there is a sudden rise in the value from 99th percentile to 100th percentile.\n",
    "# Hence I am considering the floating percentiles."
   ]
  },
  {
   "cell_type": "code",
   "execution_count": 197,
   "metadata": {},
   "outputs": [
    {
     "name": "stdout",
     "output_type": "stream",
     "text": [
      "The :  99.100000 percentile is :  42\n",
      "The :  99.200000 percentile is :  50\n",
      "The :  99.300000 percentile is :  62\n",
      "The :  99.400000 percentile is :  82\n",
      "The :  99.500000 percentile is :  119\n",
      "The :  99.600000 percentile is :  131\n",
      "The :  99.700000 percentile is :  304\n",
      "The :  99.800000 percentile is :  445\n",
      "The :  99.900000 percentile is :  4831\n",
      "The :  100.000000 percentile is :  37613\n"
     ]
    }
   ],
   "source": [
    "b123 = 99.1\n",
    "\n",
    "for i in range(0,10):\n",
    "    p = np.percentile(w123, b123)\n",
    "    print(\"The : % 3f percentile is : % 2d\" %(b123 , np.round(p,7))) \n",
    "    b123 = b123 + 0.1 "
   ]
  },
  {
   "cell_type": "markdown",
   "metadata": {},
   "source": [
    "# Observations :\n",
    "\n",
    "1) AFTER 99.6 PERCENTILE THERE IS HUGE RISE FROM 131 TO 304.  \n",
    "2) Hence the threshold value is 304 now."
   ]
  },
  {
   "cell_type": "code",
   "execution_count": null,
   "metadata": {},
   "outputs": [],
   "source": []
  },
  {
   "cell_type": "code",
   "execution_count": 199,
   "metadata": {},
   "outputs": [
    {
     "data": {
      "text/plain": [
       "3.761337345644815"
      ]
     },
     "execution_count": 199,
     "metadata": {},
     "output_type": "execute_result"
    }
   ],
   "source": [
    "max(delta_coef)"
   ]
  },
  {
   "cell_type": "code",
   "execution_count": 134,
   "metadata": {},
   "outputs": [],
   "source": [
    "#delta_coef1 = delta_coef[::-1].sort()"
   ]
  },
  {
   "cell_type": "code",
   "execution_count": 200,
   "metadata": {},
   "outputs": [],
   "source": [
    "dc1 = -np.sort(-delta_coef)"
   ]
  },
  {
   "cell_type": "code",
   "execution_count": 201,
   "metadata": {},
   "outputs": [],
   "source": [
    "dc1 = dc1*100"
   ]
  },
  {
   "cell_type": "code",
   "execution_count": 202,
   "metadata": {},
   "outputs": [
    {
     "data": {
      "text/plain": [
       "array([376.13373456,  23.47031277,   2.9559747 , ...,  -3.58095283,\n",
       "        -4.73332921, -89.0140016 ])"
      ]
     },
     "execution_count": 202,
     "metadata": {},
     "output_type": "execute_result"
    }
   ],
   "source": [
    "dc1"
   ]
  },
  {
   "cell_type": "code",
   "execution_count": 203,
   "metadata": {},
   "outputs": [
    {
     "data": {
      "text/plain": [
       "array([376.13373456,  23.47031277,   2.9559747 ,   1.38582639,\n",
       "         1.2394528 ])"
      ]
     },
     "execution_count": 203,
     "metadata": {},
     "output_type": "execute_result"
    }
   ],
   "source": [
    "dc1[0:5]"
   ]
  },
  {
   "cell_type": "code",
   "execution_count": 204,
   "metadata": {},
   "outputs": [
    {
     "data": {
      "text/plain": [
       "array([1.2394528 , 1.19301763, 1.16555094, 0.64312315, 0.43285265,\n",
       "       0.33750781, 0.30089797, 0.29326849, 0.1773409 , 0.14166514])"
      ]
     },
     "execution_count": 204,
     "metadata": {},
     "output_type": "execute_result"
    }
   ],
   "source": [
    "dc1[4:14]"
   ]
  },
  {
   "cell_type": "code",
   "execution_count": 205,
   "metadata": {},
   "outputs": [],
   "source": [
    "iteration_number = [i for i in range (1,len(delta_coef)+1)]"
   ]
  },
  {
   "cell_type": "code",
   "execution_count": 206,
   "metadata": {},
   "outputs": [
    {
     "data": {
      "text/plain": [
       "46009"
      ]
     },
     "execution_count": 206,
     "metadata": {},
     "output_type": "execute_result"
    }
   ],
   "source": [
    "len(iteration_number)"
   ]
  },
  {
   "cell_type": "code",
   "execution_count": 207,
   "metadata": {},
   "outputs": [
    {
     "data": {
      "text/plain": [
       "1622"
      ]
     },
     "execution_count": 207,
     "metadata": {},
     "output_type": "execute_result"
    }
   ],
   "source": [
    "len(w123)"
   ]
  },
  {
   "cell_type": "code",
   "execution_count": 208,
   "metadata": {},
   "outputs": [
    {
     "data": {
      "image/png": "[encoded data removed]",
      "text/plain": [
       "<Figure size 432x288 with 1 Axes>"
      ]
     },
     "metadata": {},
     "output_type": "display_data"
    }
   ],
   "source": [
    "plt.plot(iteration_number,dc1)\n",
    "#plt.plot(alph1,cv_auc)\n",
    "plt.ylabel('Percentage Coefficients',size=10)\n",
    "plt.xlabel('Iteration Number',size=10)\n",
    "plt.title('Iteration Number  VS Percentage Coefficients',size=16)\n",
    "plt.xscale('log')\n",
    "plt.grid()\n",
    "plt.show()"
   ]
  },
  {
   "cell_type": "code",
   "execution_count": 209,
   "metadata": {},
   "outputs": [
    {
     "data": {
      "text/plain": [
       "3.761337345644815"
      ]
     },
     "execution_count": 209,
     "metadata": {},
     "output_type": "execute_result"
    }
   ],
   "source": [
    "max(delta_coef)"
   ]
  },
  {
   "cell_type": "markdown",
   "metadata": {},
   "source": [
    "# Observations - > Pertubation Test\n",
    "\n",
    "1) We observe that for only one feature the percentage difference is higher than our threshhold value.\n",
    "\n",
    "2) Hence I can conclude that maximum of the features are non collinear. There are only few features which are collinear to some \n",
    "    extent. If i choose the threshold value as 1.5% , we observe that 3 variables are collinear. \n",
    "    \n",
    "3) FINAL CONCLUSION - from pertubation test is - > As the weights does not chnage by a larger percentage, the features are non-collinear.\n"
   ]
  },
  {
   "cell_type": "markdown",
   "metadata": {},
   "source": [
    "# PERFORMANCE MEASURMENTS  FOR BOW ( LOGISTIC REGRESSION)"
   ]
  },
  {
   "cell_type": "code",
   "execution_count": 170,
   "metadata": {},
   "outputs": [],
   "source": [
    "precision_bow = precision_score(y_test1, ompredictions_bow, pos_label = 1) \n",
    "recall_bow = recall_score(y_test1, ompredictions_bow, pos_label = 1) \n",
    "f1score_bow = f1_score(y_test1, ompredictions_bow, pos_label = 1) "
   ]
  },
  {
   "cell_type": "code",
   "execution_count": 171,
   "metadata": {},
   "outputs": [
    {
     "name": "stdout",
     "output_type": "stream",
     "text": [
      "\n",
      "The Test Precision for optimal alpha for Logistic Regression (BOW)   is 0.974156\n",
      "\n",
      "The Test Recall for optimal alpha for Logistic Regression (BOW)  is 0.869565\n",
      "\n",
      "The Test F1-Score for optimal alpha for Logistic Regression (BOW)  is 0.918894\n"
     ]
    }
   ],
   "source": [
    "print('\\nThe Test Precision for optimal alpha for Logistic Regression (BOW)   is %f' % (precision_bow))\n",
    "print('\\nThe Test Recall for optimal alpha for Logistic Regression (BOW)  is %f' % (recall_bow))\n",
    "print('\\nThe Test F1-Score for optimal alpha for Logistic Regression (BOW)  is %f' %  (f1score_bow))"
   ]
  },
  {
   "cell_type": "markdown",
   "metadata": {},
   "source": [
    "# CONFUSION MATRIX "
   ]
  },
  {
   "cell_type": "code",
   "execution_count": 132,
   "metadata": {},
   "outputs": [],
   "source": [
    "# Reference Links \n",
    "# https://datatofish.com/confusion-matrix-python/"
   ]
  },
  {
   "cell_type": "code",
   "execution_count": 172,
   "metadata": {},
   "outputs": [
    {
     "data": {
      "image/png": "[encoded data removed]",
      "text/plain": [
       "<Figure size 720x504 with 2 Axes>"
      ]
     },
     "metadata": {},
     "output_type": "display_data"
    }
   ],
   "source": [
    "# Code for drawing seaborn heatmaps\n",
    "class_names = [ 0,1]\n",
    "df_heatmap = pd.DataFrame(confusion_matrix(y_test1, ompredictions_bow), index=class_names, columns=class_names )\n",
    "fig = plt.figure(figsize=(10,7))\n",
    "heatmap = sns.heatmap(df_heatmap, annot=True, fmt=\"d\")\n",
    "\n",
    "# Setting tick labels for heatmap\n",
    "heatmap.yaxis.set_ticklabels(heatmap.yaxis.get_ticklabels(), rotation=0, ha='right', fontsize=10)#\n",
    "heatmap.xaxis.set_ticklabels(heatmap.xaxis.get_ticklabels(), rotation=0, ha='right', fontsize=10)\n",
    "plt.ylabel('Predicted label',size=18)\n",
    "plt.xlabel('Actual label',size=18)\n",
    "plt.title(\"Confusion Matrix\\n\",size=20)\n",
    "plt.show()"
   ]
  },
  {
   "cell_type": "code",
   "execution_count": 173,
   "metadata": {},
   "outputs": [],
   "source": [
    "TrueNeg,FalseNeg,FalsePos, TruePos = confusion_matrix(y_test1, ompredictions_bow).ravel()\n",
    "TPR = TruePos/(FalseNeg + TruePos)\n",
    "FPR = FalsePos/(TrueNeg + FalsePos)\n",
    "TNR = TrueNeg/(TrueNeg + FalsePos)\n",
    "FNR = FalseNeg/(FalseNeg + TruePos)"
   ]
  },
  {
   "cell_type": "code",
   "execution_count": 174,
   "metadata": {},
   "outputs": [
    {
     "name": "stdout",
     "output_type": "stream",
     "text": [
      "TPR of the Multinomial naive Bayes classifier (BOW) for alpha  is :  0.974156\n",
      "FPR of the Multinomial naive Bayes classifier (BOW) for alpha  is :  0.414034\n",
      "TNR of the Multinomial naive Bayes classifier (BOW) for alpha  is :  0.585966\n",
      "FNR of the Multinomial naive Bayes classifier (BOW) for alpha  is :  0.025844\n"
     ]
    }
   ],
   "source": [
    "print(\"TPR of the Multinomial naive Bayes classifier (BOW) for alpha  is :  %f\" % (TPR))\n",
    "print(\"FPR of the Multinomial naive Bayes classifier (BOW) for alpha  is :  %f\" % (FPR))\n",
    "print(\"TNR of the Multinomial naive Bayes classifier (BOW) for alpha  is :  %f\" % (TNR))\n",
    "print(\"FNR of the Multinomial naive Bayes classifier (BOW) for alpha  is :  %f\" % (FNR))"
   ]
  },
  {
   "cell_type": "markdown",
   "metadata": {},
   "source": [
    "# PLOTTING THE ROC CURVE  (BOW) ---- > FOR BOTH TRAIN AND TEST DATA "
   ]
  },
  {
   "cell_type": "code",
   "execution_count": 175,
   "metadata": {},
   "outputs": [
    {
     "data": {
      "text/plain": [
       "61441"
      ]
     },
     "execution_count": 175,
     "metadata": {},
     "output_type": "execute_result"
    }
   ],
   "source": [
    "len(y_train1)"
   ]
  },
  {
   "cell_type": "code",
   "execution_count": 176,
   "metadata": {},
   "outputs": [
    {
     "data": {
      "text/plain": [
       "61441"
      ]
     },
     "execution_count": 176,
     "metadata": {},
     "output_type": "execute_result"
    }
   ],
   "source": [
    "len(probs1)"
   ]
  },
  {
   "cell_type": "code",
   "execution_count": 177,
   "metadata": {},
   "outputs": [],
   "source": [
    "import matplotlib.pyplot as plt\n",
    "from sklearn.metrics import roc_curve, auc\n",
    "fpr = dict()\n",
    "tpr = dict()\n",
    "roc_auc = dict()\n",
    "\n",
    "fpr1 = dict()\n",
    "tpr1 = dict()\n",
    "roc_auc1 = dict()\n",
    "\n",
    "#for i in range(26331):\n",
    "for i in range(4):\n",
    "    fpr[i], tpr[i], _ = roc_curve(y_test1,probs)\n",
    "    roc_auc[i] = auc(fpr[i], tpr[i])\n",
    "    \n",
    "#for i in range(61441):\n",
    "for i in range(4):    \n",
    "    fpr1[i], tpr1[i], _ = roc_curve(y_train1,probs1)\n",
    "    roc_auc1[i] = auc(fpr1[i], tpr1[i])    "
   ]
  },
  {
   "cell_type": "code",
   "execution_count": 179,
   "metadata": {},
   "outputs": [
    {
     "data": {
      "image/png": "[encoded data removed]",
      "text/plain": [
       "<Figure size 432x288 with 1 Axes>"
      ]
     },
     "metadata": {},
     "output_type": "display_data"
    }
   ],
   "source": [
    "#print(roc_auc_score(y_test1,ompredictions_bow))\n",
    "plt.figure()\n",
    "#plt.plot(fpr[1], tpr[1])\n",
    "lw = 2\n",
    "plt.plot(fpr[0], tpr[0], color='darkorange',lw=lw, label=' Test ROC curve (area = %0.3f)' % roc_auc[0])\n",
    "plt.plot(fpr1[0], tpr1[0], color='blue',lw=lw, label='Train ROC curve (area = %0.3f)' % roc_auc1[0])\n",
    "plt.xlim([0.0, 1.0])\n",
    "plt.ylim([0.0, 1.05])\n",
    "plt.xlabel('False Positive Rate')\n",
    "plt.ylabel('True Positive Rate')\n",
    "plt.legend(loc=\"lower right\")\n",
    "plt.title('Receiver operating characteristic')\n",
    "plt.show()"
   ]
  },
  {
   "cell_type": "markdown",
   "metadata": {},
   "source": [
    "# Observations \n",
    "1) We observe that AUC for test data is 0.95 and train data is 0.96 which implies that the model is very good."
   ]
  },
  {
   "cell_type": "markdown",
   "metadata": {},
   "source": [
    "# TFIDF WITH FEATURE ENGINEERING "
   ]
  },
  {
   "cell_type": "code",
   "execution_count": 90,
   "metadata": {},
   "outputs": [
    {
     "name": "stdout",
     "output_type": "stream",
     "text": [
      "the type of count vectorizer : <class 'scipy.sparse.csr.csr_matrix'>\n",
      "the shape of out text TFIDF vectorizer :  (61441, 9723)\n",
      "the number of unique words : 9723\n"
     ]
    }
   ],
   "source": [
    "tf_idf_vect = TfidfVectorizer(min_df=10)\n",
    "c1 = tf_idf_vect.fit_transform(X_trainbow['Cleaned Text'].values)\n",
    "d1 = tf_idf_vect.transform(X_testbow['Cleaned Text'])\n",
    "print(\"the type of count vectorizer :\",type(c1))\n",
    "print(\"the shape of out text TFIDF vectorizer : \",c1.get_shape())\n",
    "print(\"the number of unique words :\", c1.get_shape()[1])"
   ]
  },
  {
   "cell_type": "code",
   "execution_count": 91,
   "metadata": {},
   "outputs": [],
   "source": [
    "c1 = preprocessing.normalize(c1)"
   ]
  },
  {
   "cell_type": "code",
   "execution_count": 92,
   "metadata": {},
   "outputs": [],
   "source": [
    "c2 = sparse.csr_matrix(X_train1['Length'].values)\n",
    "c2 = preprocessing.normalize(c2)"
   ]
  },
  {
   "cell_type": "code",
   "execution_count": 93,
   "metadata": {},
   "outputs": [
    {
     "data": {
      "text/plain": [
       "<61441x9723 sparse matrix of type '<class 'numpy.float64'>'\n",
       "\twith 1925265 stored elements in Compressed Sparse Row format>"
      ]
     },
     "execution_count": 93,
     "metadata": {},
     "output_type": "execute_result"
    }
   ],
   "source": [
    "c1"
   ]
  },
  {
   "cell_type": "code",
   "execution_count": 94,
   "metadata": {},
   "outputs": [
    {
     "data": {
      "text/plain": [
       "<61441x1 sparse matrix of type '<class 'numpy.float64'>'\n",
       "\twith 61271 stored elements in Compressed Sparse Column format>"
      ]
     },
     "execution_count": 94,
     "metadata": {},
     "output_type": "execute_result"
    }
   ],
   "source": [
    "c2.T"
   ]
  },
  {
   "cell_type": "code",
   "execution_count": 95,
   "metadata": {},
   "outputs": [],
   "source": [
    "c3 = sparse.hstack([c1, c2.T])"
   ]
  },
  {
   "cell_type": "code",
   "execution_count": 96,
   "metadata": {},
   "outputs": [],
   "source": [
    "d1 = preprocessing.normalize(d1)\n",
    "d2 = sparse.csr_matrix(X_test1['Length'].values)\n",
    "d2 = preprocessing.normalize(d2)\n",
    "d3 = sparse.hstack([d1, d2.T])"
   ]
  },
  {
   "cell_type": "markdown",
   "metadata": {},
   "source": [
    "# L1 REGULARISATION - TFIDF"
   ]
  },
  {
   "cell_type": "code",
   "execution_count": 190,
   "metadata": {},
   "outputs": [
    {
     "name": "stdout",
     "output_type": "stream",
     "text": [
      "LogisticRegression(C=1, class_weight='balanced', dual=False,\n",
      "          fit_intercept=True, intercept_scaling=1, max_iter=100,\n",
      "          multi_class='ovr', n_jobs=1, penalty='l1', random_state=None,\n",
      "          solver='liblinear', tol=0.0001, verbose=0, warm_start=False)\n",
      "0.9509492252855993\n"
     ]
    }
   ],
   "source": [
    "tuned_parameters = [{'C': [10**-5,10**-4, 10**-2, 10**0, 10**2, 10**4,10**5]}]\n",
    "\n",
    "# AS C INCREASES IT SHOULD OVERFIT. HERE C IS NOTHING BUT 1/LAMDA. LAMDA IS THE HYPER PARAMETER.\n",
    "#Using GridSearchCV\n",
    "model = GridSearchCV(LogisticRegression(penalty='l1', class_weight = 'balanced'), tuned_parameters, scoring = 'roc_auc', cv=5, return_train_score = True)\n",
    "model.fit(c3, y_train1)\n",
    "print(model.best_estimator_)\n",
    "print(model.score(d3, y_test1))"
   ]
  },
  {
   "cell_type": "raw",
   "metadata": {},
   "source": [
    "# As the above one is taking loads of time to run, I am reducing the parameters"
   ]
  },
  {
   "cell_type": "markdown",
   "metadata": {},
   "source": [
    "# L2 REGULARISATION - TFIDF"
   ]
  },
  {
   "cell_type": "code",
   "execution_count": 195,
   "metadata": {},
   "outputs": [
    {
     "name": "stdout",
     "output_type": "stream",
     "text": [
      "LogisticRegression(C=1, class_weight='balanced', dual=False,\n",
      "          fit_intercept=True, intercept_scaling=1, max_iter=100,\n",
      "          multi_class='ovr', n_jobs=1, penalty='l2', random_state=None,\n",
      "          solver='liblinear', tol=0.0001, verbose=0, warm_start=False)\n",
      "0.9515943783291295\n"
     ]
    }
   ],
   "source": [
    "#tuned_parameters = [{'C': [10**-1,10**0, 10]}]\n",
    "tuned_parameters = [{'C': [10**-5,10**-4, 10**-2, 10**0, 10**2, 10**4,10**5]}]\n",
    "\n",
    "# AS C INCREASES IT SHOULD OVERFIT. HERE C IS NOTHING BUT 1/LAMDA. LAMDA IS THE HYPER PARAMETER.\n",
    "#Using GridSearchCV\n",
    "model = GridSearchCV(LogisticRegression(penalty='l2', class_weight = 'balanced'), tuned_parameters, scoring = 'roc_auc', cv=5, return_train_score = True)\n",
    "model.fit(c3, y_train1)\n",
    "print(model.best_estimator_)\n",
    "print(model.score(d3, y_test1))"
   ]
  },
  {
   "cell_type": "markdown",
   "metadata": {},
   "source": [
    "# Observations :\n",
    "\n",
    "1) Throogh L1 regularisation and L2 regularisation we observed that the optimal C is at 1.\n",
    "\n",
    "2) However the accuracy is slightly better in L2 ( 0.952) than in L1 (0.951). "
   ]
  },
  {
   "cell_type": "markdown",
   "metadata": {},
   "source": [
    "# OPTIMAL ALPHA FOR TFIDF - THROUGH PLOTTING APPROACH "
   ]
  },
  {
   "cell_type": "code",
   "execution_count": 196,
   "metadata": {},
   "outputs": [],
   "source": [
    "train_auc_tfidf = model.cv_results_['mean_train_score']\n",
    "cv_auc_tfidf = model.cv_results_['mean_test_score']"
   ]
  },
  {
   "cell_type": "code",
   "execution_count": 197,
   "metadata": {},
   "outputs": [
    {
     "data": {
      "image/png": "[encoded data removed]",
      "text/plain": [
       "<Figure size 432x288 with 1 Axes>"
      ]
     },
     "metadata": {},
     "output_type": "display_data"
    },
    {
     "name": "stdout",
     "output_type": "stream",
     "text": [
      "\n",
      "\n",
      " Alpha values :\n",
      " [1e-05, 0.0001, 0.01, 1, 100, 10000, 100000]\n",
      "\n",
      " Train AUC for each alpha value is :\n",
      "  [0.90288 0.90321 0.92032 0.97457 0.99549 0.99953 0.99982]\n",
      "\n",
      " CV AUC for each alpha value is :\n",
      "  [0.89347 0.89379 0.90986 0.94759 0.92107 0.87734 0.86974]\n"
     ]
    }
   ],
   "source": [
    "plt.plot(alph1,train_auc_tfidf)\n",
    "plt.plot(alph1,cv_auc_tfidf)\n",
    "plt.xlabel('Inverse of Hyperparameter - C',size=10)\n",
    "plt.ylabel('AUC',size=10)\n",
    "plt.title('AUC VS HYPERPARAMETER FOR L2 REGULARISATION',size=16)\n",
    "plt.xscale('log')\n",
    "plt.grid()\n",
    "plt.show()\n",
    "print(\"\\n\\n Alpha values :\\n\", alph1)\n",
    "print(\"\\n Train AUC for each alpha value is :\\n \", np.round(train_auc_tfidf,5))\n",
    "print(\"\\n CV AUC for each alpha value is :\\n \", np.round(cv_auc_tfidf,5))"
   ]
  },
  {
   "cell_type": "markdown",
   "metadata": {},
   "source": [
    "# Observations :\n",
    "\n",
    "1) We found that optimal value for C is 1 as the cv accuracy is highest for that point."
   ]
  },
  {
   "cell_type": "code",
   "execution_count": 200,
   "metadata": {},
   "outputs": [
    {
     "data": {
      "text/plain": [
       "0.9475897505932972"
      ]
     },
     "execution_count": 200,
     "metadata": {},
     "output_type": "execute_result"
    }
   ],
   "source": [
    "auc_tfidf = max(cv_auc_tfidf)\n",
    "auc_tfidf"
   ]
  },
  {
   "cell_type": "markdown",
   "metadata": {},
   "source": [
    "# Training the model with the best hyper parameter for TFIDF "
   ]
  },
  {
   "cell_type": "code",
   "execution_count": 201,
   "metadata": {},
   "outputs": [],
   "source": [
    "om_tfidf = LogisticRegression(C = 1 , penalty = 'l2' , class_weight = 'balanced')"
   ]
  },
  {
   "cell_type": "code",
   "execution_count": 202,
   "metadata": {},
   "outputs": [],
   "source": [
    "om_tfidf.fit(c3, y_train1)\n",
    "ompredictions_tfidf  = om_tfidf.predict(d3)\n",
    "# Checking the test accuracy\n",
    "#tesacc_tfidf   = accuracy_score(y_test1, ompredictions_tfidf) * 100\n",
    "#res_tesaccuracy.append(tesacc_tfidf)"
   ]
  },
  {
   "cell_type": "code",
   "execution_count": 203,
   "metadata": {},
   "outputs": [],
   "source": [
    "probs2 = om_tfidf.predict_proba(c3)\n",
    "probs3 = om_tfidf.predict_proba(d3)\n",
    "probs2= probs2[:, 1]\n",
    "probs3 = probs3[:, 1]"
   ]
  },
  {
   "cell_type": "markdown",
   "metadata": {},
   "source": [
    "# Feature  Importance for TFIDF "
   ]
  },
  {
   "cell_type": "code",
   "execution_count": 205,
   "metadata": {},
   "outputs": [],
   "source": [
    "features = tf_idf_vect.get_feature_names()\n",
    "Coefficients = om_tfidf.coef_[0]"
   ]
  },
  {
   "cell_type": "code",
   "execution_count": 210,
   "metadata": {},
   "outputs": [
    {
     "data": {
      "text/plain": [
       "9724"
      ]
     },
     "execution_count": 210,
     "metadata": {},
     "output_type": "execute_result"
    }
   ],
   "source": [
    "len(features)"
   ]
  },
  {
   "cell_type": "code",
   "execution_count": 207,
   "metadata": {},
   "outputs": [
    {
     "data": {
      "text/plain": [
       "9724"
      ]
     },
     "execution_count": 207,
     "metadata": {},
     "output_type": "execute_result"
    }
   ],
   "source": [
    "len(Coefficients)"
   ]
  },
  {
   "cell_type": "code",
   "execution_count": 209,
   "metadata": {},
   "outputs": [],
   "source": [
    "features.append('zzzzzzzzzzzaaaaaa')"
   ]
  },
  {
   "cell_type": "code",
   "execution_count": 211,
   "metadata": {},
   "outputs": [
    {
     "name": "stdout",
     "output_type": "stream",
     "text": [
      "***** Top 10 IMPORTANT FEATURES FOR POSITIVE CLASS *****\n",
      "\n",
      "\n",
      "           Word  Coefficient\n",
      "3778      great    10.433094\n",
      "2241  delicious     9.641246\n",
      "718        best     8.455048\n",
      "6176    perfect     7.962292\n",
      "5008      loves     7.455525\n",
      "2965  excellent     7.171921\n",
      "9582  wonderful     6.770990\n",
      "5003       love     6.449309\n",
      "4045     highly     6.417160\n",
      "3698       good     6.295831\n",
      "\n",
      "\n",
      "***** Top 10 IMPORTANT FEATURES FOR NEGATIVE CLASS *****\n",
      "\n",
      "\n",
      "                Word  Coefficient\n",
      "788            bland    -5.087184\n",
      "2445  disappointment    -5.287840\n",
      "9129   unfortunately    -5.474570\n",
      "527            awful    -5.489053\n",
      "4116        horrible    -5.726445\n",
      "8676        terrible    -6.433064\n",
      "2444   disappointing    -6.889281\n",
      "2443    disappointed    -7.182908\n",
      "9616           worst    -7.987299\n",
      "5710             not    -7.993105\n"
     ]
    }
   ],
   "source": [
    "cf = pd.DataFrame({'Word' : features, 'Coefficient' : Coefficients})\n",
    "cf_new = cf.sort_values(\"Coefficient\", ascending = False)\n",
    "print('***** Top 10 IMPORTANT FEATURES FOR POSITIVE CLASS *****')\n",
    "print('\\n')\n",
    "print(cf_new.head(10))\n",
    "print('\\n')\n",
    "print('***** Top 10 IMPORTANT FEATURES FOR NEGATIVE CLASS *****')\n",
    "print('\\n')\n",
    "print(cf_new.tail(10))"
   ]
  },
  {
   "cell_type": "markdown",
   "metadata": {},
   "source": [
    "# Observations :\n",
    "1) We found that the top 2 most important features affecting positive class are great and delicious.\n",
    "\n",
    "2) For the negative class the top 2 most important features affecting are not and worst."
   ]
  },
  {
   "cell_type": "markdown",
   "metadata": {},
   "source": [
    "# PERFORMANCE MEASURMENTS FOR TFIDF "
   ]
  },
  {
   "cell_type": "code",
   "execution_count": 212,
   "metadata": {},
   "outputs": [],
   "source": [
    "precision_tfidf = precision_score(y_test1, ompredictions_tfidf, pos_label = 1) \n",
    "recall_tfidf = recall_score(y_test1, ompredictions_tfidf, pos_label = 1) \n",
    "f1score_tfidf = f1_score(y_test1, ompredictions_tfidf, pos_label = 1) "
   ]
  },
  {
   "cell_type": "code",
   "execution_count": 213,
   "metadata": {},
   "outputs": [
    {
     "name": "stdout",
     "output_type": "stream",
     "text": [
      "\n",
      "The Test Precision for optimal c for LR (TFIDF) is 0.973480\n",
      "\n",
      "The Test Recall for optimal c for LR (TFIDF) is  0.878784\n",
      "\n",
      "The Test F1-Score for optimal c for LR (TFIDF) is  0.923711\n"
     ]
    }
   ],
   "source": [
    "print('\\nThe Test Precision for optimal c for LR (TFIDF) is %f' % (precision_tfidf))\n",
    "print('\\nThe Test Recall for optimal c for LR (TFIDF) is  %f' % (recall_tfidf))\n",
    "print('\\nThe Test F1-Score for optimal c for LR (TFIDF) is  %f' % (f1score_tfidf))"
   ]
  },
  {
   "cell_type": "markdown",
   "metadata": {},
   "source": [
    "# CONFUSION MATRIX (TFIDF)"
   ]
  },
  {
   "cell_type": "code",
   "execution_count": 214,
   "metadata": {},
   "outputs": [
    {
     "data": {
      "image/png": "[encoded data removed]",
      "text/plain": [
       "<Figure size 720x504 with 2 Axes>"
      ]
     },
     "metadata": {},
     "output_type": "display_data"
    }
   ],
   "source": [
    "# Code for drawing seaborn heatmaps\n",
    "class_names = [ 0,1]\n",
    "df_heatmap = pd.DataFrame(confusion_matrix(y_test1, ompredictions_tfidf), index=class_names, columns=class_names )\n",
    "fig = plt.figure(figsize=(10,7))\n",
    "heatmap = sns.heatmap(df_heatmap, annot=True, fmt=\"d\")\n",
    "\n",
    "# Setting tick labels for heatmap\n",
    "heatmap.yaxis.set_ticklabels(heatmap.yaxis.get_ticklabels(), rotation=0, ha='right', fontsize=10)#\n",
    "heatmap.xaxis.set_ticklabels(heatmap.xaxis.get_ticklabels(), rotation=0, ha='right', fontsize=10)\n",
    "plt.ylabel('Predicted label',size=18)\n",
    "plt.xlabel('Actual label',size=18)\n",
    "plt.title(\"Confusion Matrix\\n\",size=20)\n",
    "plt.show()"
   ]
  },
  {
   "cell_type": "code",
   "execution_count": 216,
   "metadata": {},
   "outputs": [
    {
     "name": "stdout",
     "output_type": "stream",
     "text": [
      "TPR of the Multinomial naive Bayes classifier (TFIDF) for alpha  is :  0.973480\n",
      "FPR of the Multinomial naive Bayes classifier (TFIDF) for alpha  is :  0.397503\n",
      "TNR of the Multinomial naive Bayes classifier (TFIDF) for alpha  is :  0.602497\n",
      "FNR of the Multinomial naive Bayes classifier (TFIDF) for alpha  is :  0.026520\n"
     ]
    }
   ],
   "source": [
    "TrueNeg,FalseNeg,FalsePos, TruePos = confusion_matrix(y_test1, ompredictions_tfidf).ravel()\n",
    "TPR = TruePos/(FalseNeg + TruePos)\n",
    "FPR = FalsePos/(TrueNeg + FalsePos)\n",
    "TNR = TrueNeg/(TrueNeg + FalsePos)\n",
    "FNR = FalseNeg/(FalseNeg + TruePos)\n",
    "print(\"TPR of the Multinomial naive Bayes classifier (TFIDF) for alpha  is :  %f\" % (TPR))\n",
    "print(\"FPR of the Multinomial naive Bayes classifier (TFIDF) for alpha  is :  %f\" % (FPR))\n",
    "print(\"TNR of the Multinomial naive Bayes classifier (TFIDF) for alpha  is :  %f\" % (TNR))\n",
    "print(\"FNR of the Multinomial naive Bayes classifier (TFIDF) for alpha  is :  %f\" % (FNR))"
   ]
  },
  {
   "cell_type": "markdown",
   "metadata": {},
   "source": [
    "# ROC CURVE FOR TFIDF "
   ]
  },
  {
   "cell_type": "code",
   "execution_count": 217,
   "metadata": {},
   "outputs": [],
   "source": [
    "import matplotlib.pyplot as plt\n",
    "from sklearn.metrics import roc_curve, auc\n",
    "fpr = dict()\n",
    "tpr = dict()\n",
    "roc_auc = dict()\n",
    "\n",
    "fpr1 = dict()\n",
    "tpr1 = dict()\n",
    "roc_auc1 = dict()\n",
    "\n",
    "for i in range(4):\n",
    "    fpr[i], tpr[i], _ = roc_curve(y_test1,probs3)\n",
    "    roc_auc[i] = auc(fpr[i], tpr[i])"
   ]
  },
  {
   "cell_type": "code",
   "execution_count": 218,
   "metadata": {},
   "outputs": [],
   "source": [
    "from tqdm import tqdm\n",
    "for i in range(4):\n",
    "    fpr1[i], tpr1[i], _ = roc_curve(y_train1,probs2)\n",
    "    roc_auc1[i] = auc(fpr1[i], tpr1[i])    "
   ]
  },
  {
   "cell_type": "code",
   "execution_count": 219,
   "metadata": {},
   "outputs": [
    {
     "data": {
      "image/png": "[encoded data removed]",
      "text/plain": [
       "<Figure size 432x288 with 1 Axes>"
      ]
     },
     "metadata": {},
     "output_type": "display_data"
    }
   ],
   "source": [
    "#print(roc_auc_score(y_test1,ompredictions_bow))\n",
    "plt.figure()\n",
    "#plt.plot(fpr[1], tpr[1])\n",
    "lw = 2\n",
    "plt.plot(fpr[0], tpr[0], color='darkorange',lw=lw, label=' Test ROC curve (area = %0.2f)' % roc_auc[0])\n",
    "plt.plot(fpr1[0], tpr1[0], color='blue',lw=lw, label='Train ROC curve (area = %0.2f)' % roc_auc1[0])\n",
    "plt.xlim([0.0, 1.0])\n",
    "plt.ylim([0.0, 1.05])\n",
    "plt.xlabel('False Positive Rate')\n",
    "plt.ylabel('True Positive Rate')\n",
    "plt.legend(loc=\"lower right\")\n",
    "plt.title('Receiver operating characteristic')\n",
    "plt.show()"
   ]
  },
  {
   "cell_type": "markdown",
   "metadata": {},
   "source": [
    "# Observations: \n",
    "1) We found that the model has been good as test score is 0.95."
   ]
  },
  {
   "cell_type": "code",
   "execution_count": 221,
   "metadata": {},
   "outputs": [
    {
     "data": {
      "text/html": [
       "<table>\n",
       "<tbody>\n",
       "<tr><td>Vectorizer</td><td>Model              </td><td>Regularisation</td><td>Hyperparameter</td><td>AUC   </td></tr>\n",
       "<tr><td>TFIDF     </td><td>Logistic Regression</td><td>L2            </td><td>1             </td><td>0.9476</td></tr>\n",
       "</tbody>\n",
       "</table>"
      ],
      "text/plain": [
       "<IPython.core.display.HTML object>"
      ]
     },
     "metadata": {},
     "output_type": "display_data"
    }
   ],
   "source": [
    "from IPython.display import HTML, display\n",
    "import tabulate\n",
    "table = [[\"Vectorizer\",\"Model\",\"Regularisation\",\"Hyperparameter\",\"AUC\"],\n",
    "         [\"TFIDF\", \"Logistic Regression \", \"L2 \" , 1, np.round(auc_tfidf,4) ]]\n",
    "display(HTML(tabulate.tabulate(table, tablefmt='html')))"
   ]
  },
  {
   "cell_type": "code",
   "execution_count": null,
   "metadata": {},
   "outputs": [],
   "source": []
  },
  {
   "cell_type": "markdown",
   "metadata": {},
   "source": [
    "# Word 2 Vector Data"
   ]
  },
  {
   "cell_type": "markdown",
   "metadata": {},
   "source": [
    "# Preparaing Training Data for Word to Vector "
   ]
  },
  {
   "cell_type": "code",
   "execution_count": 81,
   "metadata": {},
   "outputs": [],
   "source": [
    "i=0\n",
    "list_of_sentance=[]\n",
    "for sentance in (X_trainbow['Cleaned Text'].values):\n",
    "    list_of_sentance.append(sentance.split())"
   ]
  },
  {
   "cell_type": "code",
   "execution_count": 82,
   "metadata": {},
   "outputs": [
    {
     "name": "stdout",
     "output_type": "stream",
     "text": [
      "[('awesome', 0.837866485118866), ('fantastic', 0.8337129950523376), ('good', 0.8291321992874146), ('terrific', 0.8278248310089111), ('excellent', 0.8037208914756775), ('amazing', 0.7729521989822388), ('wonderful', 0.7634998559951782), ('perfect', 0.7406936883926392), ('fabulous', 0.7048882246017456), ('nice', 0.6872305870056152)]\n",
      "==================================================\n",
      "[('greatest', 0.7341300249099731), ('best', 0.718138575553894), ('tastiest', 0.6966129541397095), ('coolest', 0.6698259115219116), ('softest', 0.6337562203407288), ('experienced', 0.6275156736373901), ('disgusting', 0.6122303009033203), ('hardly', 0.6104421615600586), ('sweetest', 0.6094722151756287), ('healthiest', 0.6028370261192322)]\n",
      "number of words that occured minimum 5 times  14706\n",
      "sample words  ['dogs', 'loves', 'chicken', 'product', 'china', 'wont', 'buying', 'anymore', 'hard', 'find', 'products', 'made', 'usa', 'one', 'isnt', 'bad', 'good', 'take', 'chances', 'till', 'know', 'going', 'imports', 'love', 'saw', 'pet', 'store', 'tag', 'attached', 'regarding', 'satisfied', 'safe', 'infestation', 'literally', 'everywhere', 'flying', 'around', 'kitchen', 'bought', 'hoping', 'least', 'get', 'rid', 'weeks', 'fly', 'stuck', 'buggers', 'success', 'rate', 'day']\n"
     ]
    }
   ],
   "source": [
    "#WORD TO VECTOR\n",
    "\n",
    "is_your_ram_gt_16g=False\n",
    "want_to_use_google_w2v = False\n",
    "want_to_train_w2v = True\n",
    "\n",
    "if want_to_train_w2v:\n",
    "    # min_count = 5 considers only words that occured atleast 5 times\n",
    "    w2v_model=Word2Vec(list_of_sentance,min_count=5,size=50, workers=4)\n",
    "    print(w2v_model.wv.most_similar('great'))\n",
    "    print('='*50)\n",
    "    print(w2v_model.wv.most_similar('worst'))\n",
    "    \n",
    "elif want_to_use_google_w2v and is_your_ram_gt_16g:\n",
    "    if os.path.isfile('GoogleNews-vectors-negative300.bin'):\n",
    "        w2v_model=KeyedVectors.load_word2vec_format('GoogleNews-vectors-negative300.bin', binary=True)\n",
    "        print(w2v_model.wv.most_similar('great'))\n",
    "        print(w2v_model.wv.most_similar('worst'))\n",
    "    else:\n",
    "        print(\"you don't have gogole's word2vec file, keep want_to_train_w2v = True, to train your own w2v \")\n",
    "\n",
    "\n",
    "w2v_words = list(w2v_model.wv.vocab)\n",
    "print(\"number of words that occured minimum 5 times \",len(w2v_words))\n",
    "print(\"sample words \", w2v_words[0:50])"
   ]
  },
  {
   "cell_type": "code",
   "execution_count": 83,
   "metadata": {},
   "outputs": [
    {
     "name": "stderr",
     "output_type": "stream",
     "text": [
      "100%|███████████████████████████████████████████████████████████████████████████| 61441/61441 [02:58<00:00, 344.80it/s]\n"
     ]
    },
    {
     "name": "stdout",
     "output_type": "stream",
     "text": [
      "61441\n",
      "50\n"
     ]
    }
   ],
   "source": [
    "sent_vectors = []; # the avg-w2v for each sentence/review is stored in this list\n",
    "for sent in tqdm(list_of_sentance): # for each review/sentence\n",
    "    sent_vec = np.zeros(50) # as word vectors are of zero length 50, you might need to change this to 300 if you use google's w2v\n",
    "    cnt_words =0; # num of words with a valid vector in the sentence/review\n",
    "    for word in sent: # for each word in a review/sentence\n",
    "        if word in w2v_words:\n",
    "            vec = w2v_model.wv[word]\n",
    "            sent_vec += vec\n",
    "            cnt_words += 1\n",
    "    if cnt_words != 0:\n",
    "        sent_vec /= cnt_words\n",
    "    sent_vectors.append(sent_vec)\n",
    "print(len(sent_vectors))\n",
    "print(len(sent_vectors[0]))"
   ]
  },
  {
   "cell_type": "code",
   "execution_count": 84,
   "metadata": {},
   "outputs": [
    {
     "data": {
      "text/plain": [
       "array([ 0.04890214, -0.14278135, -1.10542209, -0.99986619,  1.0820545 ,\n",
       "       -0.56911343, -0.004523  ,  0.07691254,  0.50313495, -0.38799589,\n",
       "        0.68416539,  0.52483384,  0.96414184, -0.19560302, -0.59333614,\n",
       "       -0.46169094, -0.54413816,  0.31657766, -0.75484315, -0.55712079,\n",
       "       -0.89080958, -0.31800228,  0.50076959, -0.88002695,  0.56853789,\n",
       "       -0.03655677,  0.49549705, -0.49388191, -0.00710877,  0.07185667,\n",
       "        0.55003923,  0.42068573,  0.33435393, -0.44359435, -0.84809294,\n",
       "        0.10629431, -0.07982829, -1.04015905, -0.38349784, -0.08395805,\n",
       "        0.37014867,  0.33803843, -0.34764388,  0.19936448,  0.41075423,\n",
       "        0.42167061, -0.54079796,  0.89475422,  0.43667886, -0.40579795])"
      ]
     },
     "execution_count": 84,
     "metadata": {},
     "output_type": "execute_result"
    }
   ],
   "source": [
    "sent_vectors[1]"
   ]
  },
  {
   "cell_type": "markdown",
   "metadata": {},
   "source": [
    "# Preparing Test Data for Word to Vector "
   ]
  },
  {
   "cell_type": "code",
   "execution_count": 98,
   "metadata": {},
   "outputs": [
    {
     "data": {
      "text/html": [
       "<div>\n",
       "<style scoped>\n",
       "    .dataframe tbody tr th:only-of-type {\n",
       "        vertical-align: middle;\n",
       "    }\n",
       "\n",
       "    .dataframe tbody tr th {\n",
       "        vertical-align: top;\n",
       "    }\n",
       "\n",
       "    .dataframe thead th {\n",
       "        text-align: right;\n",
       "    }\n",
       "</style>\n",
       "<table border=\"1\" class=\"dataframe\">\n",
       "  <thead>\n",
       "    <tr style=\"text-align: right;\">\n",
       "      <th></th>\n",
       "      <th>Cleaned Text</th>\n",
       "      <th>Length</th>\n",
       "    </tr>\n",
       "  </thead>\n",
       "  <tbody>\n",
       "    <tr>\n",
       "      <th>61441</th>\n",
       "      <td>used treat training reward dog loves easy brea...</td>\n",
       "      <td>66</td>\n",
       "    </tr>\n",
       "    <tr>\n",
       "      <th>61442</th>\n",
       "      <td>much fun watching puppies asking chicken treat...</td>\n",
       "      <td>134</td>\n",
       "    </tr>\n",
       "    <tr>\n",
       "      <th>61443</th>\n",
       "      <td>little shih tzu absolutely loves cesar softies...</td>\n",
       "      <td>181</td>\n",
       "    </tr>\n",
       "    <tr>\n",
       "      <th>61444</th>\n",
       "      <td>westie like picture package loves treats perfe...</td>\n",
       "      <td>162</td>\n",
       "    </tr>\n",
       "  </tbody>\n",
       "</table>\n",
       "</div>"
      ],
      "text/plain": [
       "                                            Cleaned Text  Length\n",
       "61441  used treat training reward dog loves easy brea...      66\n",
       "61442  much fun watching puppies asking chicken treat...     134\n",
       "61443  little shih tzu absolutely loves cesar softies...     181\n",
       "61444  westie like picture package loves treats perfe...     162"
      ]
     },
     "execution_count": 98,
     "metadata": {},
     "output_type": "execute_result"
    }
   ],
   "source": [
    "X_test1.head(4)"
   ]
  },
  {
   "cell_type": "code",
   "execution_count": 85,
   "metadata": {},
   "outputs": [],
   "source": [
    "i=0\n",
    "list_of_sentance1=[]\n",
    "for sentance in (X_test1['Cleaned Text'].values):\n",
    "    list_of_sentance1.append(sentance.split())"
   ]
  },
  {
   "cell_type": "code",
   "execution_count": 86,
   "metadata": {},
   "outputs": [
    {
     "name": "stdout",
     "output_type": "stream",
     "text": [
      "[('awesome', 0.8288255929946899), ('fantastic', 0.809904158115387), ('excellent', 0.808659017086029), ('good', 0.7877645492553711), ('wonderful', 0.785922646522522), ('amazing', 0.7437194585800171), ('perfect', 0.7215654850006104), ('nice', 0.6872482299804688), ('decent', 0.6802107095718384), ('especially', 0.6469941139221191)]\n",
      "==================================================\n",
      "[('greatest', 0.7991249561309814), ('closest', 0.7835322022438049), ('best', 0.7637677192687988), ('nastiest', 0.7435516715049744), ('ever', 0.7076125144958496), ('hottest', 0.684563398361206), ('tastiest', 0.6682063341140747), ('disgusting', 0.6582975387573242), ('honestly', 0.6542456746101379), ('smoothest', 0.6514889001846313)]\n",
      "number of words that occured minimum 5 times  9573\n",
      "sample words  ['used', 'treat', 'training', 'reward', 'dog', 'loves', 'easy', 'break', 'smaller', 'pieces', 'buy', 'much', 'fun', 'watching', 'puppies', 'asking', 'chicken', 'treats', 'go', 'crazy', 'show', 'blue', 'package', 'small', 'eat', 'not', 'bad', 'smell', 'recommend', 'happy', 'little', 'shih', 'tzu', 'absolutely', 'tried', 'different', 'flavors', 'seems', 'enjoy', 'grilled', 'flavor', 'soft', 'enough', 'half', 'satisfy', 'westie', 'like', 'picture', 'perfect', 'size']\n"
     ]
    }
   ],
   "source": [
    "is_your_ram_gt_16g=False\n",
    "want_to_use_google_w2v = False\n",
    "want_to_train_w2v = True\n",
    "\n",
    "if want_to_train_w2v:\n",
    "    # min_count = 5 considers only words that occured atleast 5 times\n",
    "    w2v_model1=Word2Vec(list_of_sentance1,min_count=5,size=50, workers=4)\n",
    "    print(w2v_model1.wv.most_similar('great'))\n",
    "    print('='*50)\n",
    "    print(w2v_model1.wv.most_similar('worst'))\n",
    "    \n",
    "elif want_to_use_google_w2v and is_your_ram_gt_16g:\n",
    "    if os.path.isfile('GoogleNews-vectors-negative300.bin'):\n",
    "        w2v_model1=KeyedVectors.load_word2vec_format('GoogleNews-vectors-negative300.bin', binary=True)\n",
    "        print(w2v_model1.wv.most_similar('great'))\n",
    "        print(w2v_model1.wv.most_similar('worst'))\n",
    "    else:\n",
    "        print(\"you don't have gogole's word2vec file, keep want_to_train_w2v = True, to train your own w2v \")\n",
    "\n",
    "\n",
    "w2v_words1 = list(w2v_model1.wv.vocab)\n",
    "print(\"number of words that occured minimum 5 times \",len(w2v_words1))\n",
    "print(\"sample words \", w2v_words1[0:50])"
   ]
  },
  {
   "cell_type": "code",
   "execution_count": 87,
   "metadata": {},
   "outputs": [
    {
     "name": "stderr",
     "output_type": "stream",
     "text": [
      "100%|███████████████████████████████████████████████████████████████████████████| 26332/26332 [00:57<00:00, 456.00it/s]\n"
     ]
    },
    {
     "name": "stdout",
     "output_type": "stream",
     "text": [
      "26332\n",
      "50\n"
     ]
    }
   ],
   "source": [
    "sent_vectors1 = []; # the avg-w2v for each sentence/review is stored in this list\n",
    "for sent in tqdm(list_of_sentance1): # for each review/sentence\n",
    "    sent_vec = np.zeros(50) # as word vectors are of zero length 50, you might need to change this to 300 if you use google's w2v\n",
    "    cnt_words =0; # num of words with a valid vector in the sentence/review\n",
    "    for word in sent: # for each word in a review/sentence\n",
    "        if word in w2v_words1:\n",
    "            vec = w2v_model1.wv[word]\n",
    "            sent_vec += vec\n",
    "            cnt_words += 1\n",
    "    if cnt_words != 0:\n",
    "        sent_vec /= cnt_words\n",
    "    sent_vectors1.append(sent_vec)\n",
    "print(len(sent_vectors1))\n",
    "print(len(sent_vectors1[0]))"
   ]
  },
  {
   "cell_type": "code",
   "execution_count": 88,
   "metadata": {},
   "outputs": [],
   "source": [
    "e3 = sent_vectors\n",
    "f3 = sent_vectors1"
   ]
  },
  {
   "cell_type": "code",
   "execution_count": 89,
   "metadata": {},
   "outputs": [
    {
     "data": {
      "text/plain": [
       "26332"
      ]
     },
     "execution_count": 89,
     "metadata": {},
     "output_type": "execute_result"
    }
   ],
   "source": [
    "len(y_test1)"
   ]
  },
  {
   "cell_type": "code",
   "execution_count": 90,
   "metadata": {},
   "outputs": [],
   "source": [
    "e3 = preprocessing.normalize(e3)\n",
    "e4 = sparse.csr_matrix(X_train1['Length'].values)\n",
    "e4 = preprocessing.normalize(e4)\n",
    "e5 = sparse.hstack([e3, e4.T])"
   ]
  },
  {
   "cell_type": "code",
   "execution_count": 91,
   "metadata": {},
   "outputs": [],
   "source": [
    "f3 = preprocessing.normalize(f3)\n",
    "f4 = sparse.csr_matrix(X_test1['Length'].values)\n",
    "f4 = preprocessing.normalize(f4)\n",
    "f5 = sparse.hstack([f3, f4.T])"
   ]
  },
  {
   "cell_type": "markdown",
   "metadata": {},
   "source": [
    "# Applying Logistic Regression on Word to VECTOR "
   ]
  },
  {
   "cell_type": "markdown",
   "metadata": {},
   "source": [
    "# L1 REGULARISATION  (with out feature engineering)"
   ]
  },
  {
   "cell_type": "code",
   "execution_count": 136,
   "metadata": {},
   "outputs": [
    {
     "name": "stdout",
     "output_type": "stream",
     "text": [
      "LogisticRegression(C=1, class_weight='balanced', dual=False,\n",
      "          fit_intercept=True, intercept_scaling=1, max_iter=100,\n",
      "          multi_class='ovr', n_jobs=1, penalty='l1', random_state=None,\n",
      "          solver='liblinear', tol=0.0001, verbose=0, warm_start=False)\n",
      "0.8323192696350981\n"
     ]
    }
   ],
   "source": [
    "tuned_parameters = [{'C': [10**-5,10**-4, 10**-2, 10**0, 10**2, 10**4,10**5]}]\n",
    "#tuned_parameters = [{'C': [10**0, 10**2, 10**5]}]\n",
    "# AS C INCREASES IT SHOULD OVERFIT. HERE C IS NOTHING BUT 1/LAMDA. LAMDA IS THE HYPER PARAMETER.\n",
    "#Using GridSearchCV\n",
    "model1 = GridSearchCV(LogisticRegression(penalty='l1', class_weight = 'balanced'), tuned_parameters, scoring = 'roc_auc', cv= 10 , return_train_score = True)\n",
    "model1.fit(e3, y_train1)\n",
    "print(model1.best_estimator_)\n",
    "print(model1.score(f3, y_test1))"
   ]
  },
  {
   "cell_type": "markdown",
   "metadata": {},
   "source": [
    "# L1 REGULARISATION (with feature engineering)"
   ]
  },
  {
   "cell_type": "code",
   "execution_count": 137,
   "metadata": {},
   "outputs": [
    {
     "name": "stdout",
     "output_type": "stream",
     "text": [
      "LogisticRegression(C=10000, class_weight='balanced', dual=False,\n",
      "          fit_intercept=True, intercept_scaling=1, max_iter=100,\n",
      "          multi_class='ovr', n_jobs=1, penalty='l1', random_state=None,\n",
      "          solver='liblinear', tol=0.0001, verbose=0, warm_start=False)\n",
      "0.8300318858244313\n"
     ]
    }
   ],
   "source": [
    "tuned_parameters = [{'C': [10**-5,10**-4, 10**-2, 10**0, 10**2, 10**4,10**5]}]\n",
    "#tuned_parameters = [{'C': [10**0, 10**2, 10**5]}]\n",
    "# AS C INCREASES IT SHOULD OVERFIT. HERE C IS NOTHING BUT 1/LAMDA. LAMDA IS THE HYPER PARAMETER.\n",
    "#Using GridSearchCV\n",
    "model2 = GridSearchCV(LogisticRegression(penalty='l1', class_weight = 'balanced'), tuned_parameters, scoring = 'roc_auc', cv= 10, return_train_score = True)\n",
    "model2.fit(e5, y_train1)\n",
    "print(model2.best_estimator_)\n",
    "print(model2.score(f5, y_test1))"
   ]
  },
  {
   "cell_type": "markdown",
   "metadata": {},
   "source": [
    "# L2 REGULARISATION (with out feature engineering)"
   ]
  },
  {
   "cell_type": "code",
   "execution_count": 138,
   "metadata": {},
   "outputs": [
    {
     "name": "stdout",
     "output_type": "stream",
     "text": [
      "LogisticRegression(C=1, class_weight='balanced', dual=False,\n",
      "          fit_intercept=True, intercept_scaling=1, max_iter=100,\n",
      "          multi_class='ovr', n_jobs=1, penalty='l2', random_state=None,\n",
      "          solver='liblinear', tol=0.0001, verbose=0, warm_start=False)\n",
      "0.8340502994717474\n"
     ]
    }
   ],
   "source": [
    "tuned_parameters = [{'C': [10**-5,10**-4, 10**-2, 10**0, 10**2, 10**4,10**5]}]\n",
    "#tuned_parameters = [{'C': [10**0, 10**2, 10**5]}]\n",
    "# AS C INCREASES IT SHOULD OVERFIT. HERE C IS NOTHING BUT 1/LAMDA. LAMDA IS THE HYPER PARAMETER.\n",
    "#Using GridSearchCV\n",
    "model3 = GridSearchCV(LogisticRegression(penalty='l2', class_weight = 'balanced'), tuned_parameters, scoring = 'roc_auc', cv= 10, return_train_score = True)\n",
    "model3.fit(e3, y_train1)\n",
    "print(model3.best_estimator_)\n",
    "print(model3.score(f3, y_test1))"
   ]
  },
  {
   "cell_type": "markdown",
   "metadata": {},
   "source": [
    "# L2 REGULARISATION ( with feature engineering )"
   ]
  },
  {
   "cell_type": "code",
   "execution_count": 139,
   "metadata": {},
   "outputs": [
    {
     "name": "stdout",
     "output_type": "stream",
     "text": [
      "LogisticRegression(C=100, class_weight='balanced', dual=False,\n",
      "          fit_intercept=True, intercept_scaling=1, max_iter=100,\n",
      "          multi_class='ovr', n_jobs=1, penalty='l2', random_state=None,\n",
      "          solver='liblinear', tol=0.0001, verbose=0, warm_start=False)\n",
      "0.8306388432148152\n"
     ]
    }
   ],
   "source": [
    "tuned_parameters = [{'C': [10**-5,10**-4, 10**-2, 10**0, 10**2, 10**4,10**5]}]\n",
    "#tuned_parameters = [{'C': [10**0, 10**2, 10**5]}]\n",
    "# AS C INCREASES IT SHOULD OVERFIT. HERE C IS NOTHING BUT 1/LAMDA. LAMDA IS THE HYPER PARAMETER.\n",
    "#Using GridSearchCV\n",
    "model4 = GridSearchCV(LogisticRegression(penalty='l2', class_weight = 'balanced'), tuned_parameters, scoring = 'roc_auc', cv= 10, return_train_score = True)\n",
    "model4.fit(e5, y_train1)\n",
    "print(model4.best_estimator_)\n",
    "print(model4.score(f5, y_test1))"
   ]
  },
  {
   "cell_type": "markdown",
   "metadata": {},
   "source": [
    "# Observations:\n",
    "\n",
    "1) We found that there is a difference of 2% in the ROC_AUC value when applied with feature engineering in both regularisations.\n",
    "\n",
    "2) However L2 regularisation performed marginally better when compared to L1 regularisation. \n",
    "\n",
    "3) Finallly L2 regularisation with feature engineering is the better model among the 4. "
   ]
  },
  {
   "cell_type": "code",
   "execution_count": 140,
   "metadata": {},
   "outputs": [],
   "source": [
    "model_w2v = model3"
   ]
  },
  {
   "cell_type": "markdown",
   "metadata": {},
   "source": [
    "# Finding Optimal Hyper parameter through plotting approach"
   ]
  },
  {
   "cell_type": "code",
   "execution_count": 141,
   "metadata": {},
   "outputs": [
    {
     "data": {
      "text/plain": [
       "{'mean_fit_time': array([0.1204649 , 0.13902953, 0.33884156, 0.63425193, 0.63269374,\n",
       "        0.64831564, 0.64050553]),\n",
       " 'std_fit_time': array([0.01294119, 0.01093562, 0.01214535, 0.01430981, 0.01881007,\n",
       "        0.01881102, 0.0156204 ]),\n",
       " 'mean_score_time': array([0.00176158, 0.0062485 , 0.00156212, 0.        , 0.00155902,\n",
       "        0.        , 0.00468192]),\n",
       " 'std_score_time': array([0.00465799, 0.00765282, 0.00468636, 0.        , 0.00467706,\n",
       "        0.        , 0.00715176]),\n",
       " 'param_C': masked_array(data=[1e-05, 0.0001, 0.01, 1, 100, 10000, 100000],\n",
       "              mask=[False, False, False, False, False, False, False],\n",
       "        fill_value='?',\n",
       "             dtype=object),\n",
       " 'params': [{'C': 1e-05},\n",
       "  {'C': 0.0001},\n",
       "  {'C': 0.01},\n",
       "  {'C': 1},\n",
       "  {'C': 100},\n",
       "  {'C': 10000},\n",
       "  {'C': 100000}],\n",
       " 'split0_test_score': array([0.87981604, 0.88286926, 0.90258058, 0.90627662, 0.90617388,\n",
       "        0.90617128, 0.90617148]),\n",
       " 'split1_test_score': array([0.88241853, 0.88570041, 0.9071761 , 0.91290576, 0.91302029,\n",
       "        0.91302269, 0.91302269]),\n",
       " 'split2_test_score': array([0.87974269, 0.8827995 , 0.90221279, 0.90498577, 0.90493061,\n",
       "        0.90492821, 0.90492821]),\n",
       " 'split3_test_score': array([0.8863234 , 0.88820666, 0.89774718, 0.90064989, 0.90056806,\n",
       "        0.90056786, 0.90056786]),\n",
       " 'split4_test_score': array([0.88582748, 0.88831221, 0.90451875, 0.90868944, 0.90872225,\n",
       "        0.90872425, 0.90872425]),\n",
       " 'split5_test_score': array([0.85866678, 0.86238386, 0.88988932, 0.89517932, 0.89518892,\n",
       "        0.89518592, 0.89518572]),\n",
       " 'split6_test_score': array([0.87403034, 0.87709592, 0.89733349, 0.90028263, 0.90015117,\n",
       "        0.90015157, 0.90015157]),\n",
       " 'split7_test_score': array([0.85444526, 0.85954898, 0.89244708, 0.89534339, 0.89509768,\n",
       "        0.89509248, 0.89509248]),\n",
       " 'split8_test_score': array([0.86385545, 0.86923212, 0.90544732, 0.91002528, 0.90993802,\n",
       "        0.90993862, 0.90993882]),\n",
       " 'split9_test_score': array([0.85411656, 0.85734785, 0.88031468, 0.88760599, 0.88780212,\n",
       "        0.88780032, 0.88780032]),\n",
       " 'mean_test_score': array([0.8719251 , 0.87535048, 0.89796719, 0.90219481, 0.90215969,\n",
       "        0.90215871, 0.90215873]),\n",
       " 'std_test_score': array([0.01225584, 0.01155327, 0.0079418 , 0.00746777, 0.00745959,\n",
       "        0.00746107, 0.00746112]),\n",
       " 'rank_test_score': array([7, 6, 5, 1, 2, 4, 3]),\n",
       " 'split0_train_score': array([0.87229575, 0.87563781, 0.89838774, 0.90338923, 0.9034145 ,\n",
       "        0.90341488, 0.90341488]),\n",
       " 'split1_train_score': array([0.87103737, 0.87461613, 0.89791811, 0.9026479 , 0.90267175,\n",
       "        0.90267191, 0.90267191]),\n",
       " 'split2_train_score': array([0.87172071, 0.87528295, 0.89846055, 0.90347057, 0.90349584,\n",
       "        0.90349559, 0.90349559]),\n",
       " 'split3_train_score': array([0.87614889, 0.87906524, 0.89893493, 0.90385897, 0.90388104,\n",
       "        0.90388119, 0.90388119]),\n",
       " 'split4_train_score': array([0.87462692, 0.87761471, 0.89820905, 0.90305133, 0.90307267,\n",
       "        0.90307224, 0.90307222]),\n",
       " 'split5_train_score': array([0.87382818, 0.8771665 , 0.89949064, 0.90449093, 0.90452026,\n",
       "        0.90451972, 0.90451974]),\n",
       " 'split6_train_score': array([0.87241678, 0.87595333, 0.89897059, 0.90405995, 0.90409117,\n",
       "        0.90409113, 0.90409115]),\n",
       " 'split7_train_score': array([0.87170192, 0.87526577, 0.89937489, 0.9045407 , 0.90456751,\n",
       "        0.90456722, 0.90456724]),\n",
       " 'split8_train_score': array([0.8689042 , 0.87264661, 0.89788331, 0.90295511, 0.90298236,\n",
       "        0.90298261, 0.90298261]),\n",
       " 'split9_train_score': array([0.87279625, 0.87651911, 0.90050156, 0.90524357, 0.90526349,\n",
       "        0.90526359, 0.90526359]),\n",
       " 'mean_train_score': array([0.8725477 , 0.87597682, 0.89881314, 0.90377082, 0.90379606,\n",
       "        0.90379601, 0.90379601]),\n",
       " 'std_train_score': array([0.00189814, 0.00167256, 0.00077465, 0.00077791, 0.00077798,\n",
       "        0.0007779 , 0.0007779 ])}"
      ]
     },
     "execution_count": 141,
     "metadata": {},
     "output_type": "execute_result"
    }
   ],
   "source": [
    "model3.cv_results_"
   ]
  },
  {
   "cell_type": "code",
   "execution_count": 142,
   "metadata": {},
   "outputs": [],
   "source": [
    "train_auc_w2v = model3.cv_results_['mean_train_score']\n",
    "cv_auc_w2v = model3.cv_results_['mean_test_score']"
   ]
  },
  {
   "cell_type": "code",
   "execution_count": 143,
   "metadata": {},
   "outputs": [],
   "source": [
    "alph1 = [10**-5,10**-4, 10**-2, 10**0, 10**2, 10**4,10**5]"
   ]
  },
  {
   "cell_type": "code",
   "execution_count": 144,
   "metadata": {},
   "outputs": [
    {
     "data": {
      "text/plain": [
       "array([0.8725477 , 0.87597682, 0.89881314, 0.90377082, 0.90379606,\n",
       "       0.90379601, 0.90379601])"
      ]
     },
     "execution_count": 144,
     "metadata": {},
     "output_type": "execute_result"
    }
   ],
   "source": [
    "train_auc_w2v"
   ]
  },
  {
   "cell_type": "code",
   "execution_count": 145,
   "metadata": {},
   "outputs": [
    {
     "data": {
      "text/plain": [
       "array([0.8719251 , 0.87535048, 0.89796719, 0.90219481, 0.90215969,\n",
       "       0.90215871, 0.90215873])"
      ]
     },
     "execution_count": 145,
     "metadata": {},
     "output_type": "execute_result"
    }
   ],
   "source": [
    "cv_auc_w2v"
   ]
  },
  {
   "cell_type": "code",
   "execution_count": 146,
   "metadata": {},
   "outputs": [
    {
     "data": {
      "image/png": "[encoded data removed]",
      "text/plain": [
       "<Figure size 432x288 with 1 Axes>"
      ]
     },
     "metadata": {},
     "output_type": "display_data"
    },
    {
     "name": "stdout",
     "output_type": "stream",
     "text": [
      "\n",
      "\n",
      " Alpha values :\n",
      " [1e-05, 0.0001, 0.01, 1, 100, 10000, 100000]\n",
      "\n",
      " Train AUC for each alpha value is :\n",
      "  [0.87255 0.87598 0.89881 0.90377 0.9038  0.9038  0.9038 ]\n",
      "\n",
      " CV AUC for each alpha value is :\n",
      "  [0.87193 0.87535 0.89797 0.90219 0.90216 0.90216 0.90216]\n"
     ]
    }
   ],
   "source": [
    "plt.plot(alph1,train_auc_w2v)\n",
    "plt.plot(alph1,cv_auc_w2v)\n",
    "plt.xlabel('Inverse of Hyperparameter - C',size=10)\n",
    "plt.ylabel('AUC',size=10)\n",
    "plt.title('AUC VS HYPERPARAMETER FOR L2 REGULARISATION',size=16)\n",
    "plt.xscale('log')\n",
    "plt.grid()\n",
    "plt.show()\n",
    "print(\"\\n\\n Alpha values :\\n\", alph1)\n",
    "print(\"\\n Train AUC for each alpha value is :\\n \", np.round(train_auc_w2v,5))\n",
    "print(\"\\n CV AUC for each alpha value is :\\n \", np.round(cv_auc_w2v,5))"
   ]
  },
  {
   "cell_type": "markdown",
   "metadata": {},
   "source": [
    "# Observations:\n",
    "\n",
    "1) This is a shock to me. Despite trying many times, I have found that there is a similarity between train and cv AUC'S.\n",
    "\n",
    "2) However I have chosen the optimal C to be 1 . "
   ]
  },
  {
   "cell_type": "markdown",
   "metadata": {},
   "source": [
    "# Running the model with the optimal hyperparameter "
   ]
  },
  {
   "cell_type": "code",
   "execution_count": 148,
   "metadata": {},
   "outputs": [],
   "source": [
    "om_w2v = LogisticRegression(C = 1 , penalty = 'l2' , class_weight = 'balanced')\n",
    "om_w2v.fit(e3, y_train1)\n",
    "ompredictions_w2v  = om_w2v.predict(f3)\n",
    "probs4 = om_w2v.predict_proba(e3)\n",
    "probs5 = om_w2v.predict_proba(f3)\n",
    "probs4= probs4[:, 1]\n",
    "probs5 = probs5[:, 1]"
   ]
  },
  {
   "cell_type": "markdown",
   "metadata": {},
   "source": [
    "# PERFORMANCE MEASURMENTS FOR w2v Logistic Regression "
   ]
  },
  {
   "cell_type": "code",
   "execution_count": 149,
   "metadata": {},
   "outputs": [
    {
     "name": "stdout",
     "output_type": "stream",
     "text": [
      "\n",
      "The Test Precision for optimal c for LR (TFIDF) is 0.875116\n",
      "\n",
      "The Test Recall for optimal c for LR (TFIDF) is  0.954183\n",
      "\n",
      "The Test F1-Score for optimal c for LR (TFIDF) is  0.912940\n"
     ]
    }
   ],
   "source": [
    "precision_w2v = precision_score(y_test1, ompredictions_w2v, pos_label = 1) \n",
    "recall_w2v = recall_score(y_test1, ompredictions_w2v, pos_label = 1) \n",
    "f1score_w2v = f1_score(y_test1, ompredictions_w2v, pos_label = 1) \n",
    "\n",
    "print('\\nThe Test Precision for optimal c for LR (TFIDF) is %f' % (precision_w2v))\n",
    "print('\\nThe Test Recall for optimal c for LR (TFIDF) is  %f' % (recall_w2v))\n",
    "print('\\nThe Test F1-Score for optimal c for LR (TFIDF) is  %f' % (f1score_w2v))"
   ]
  },
  {
   "cell_type": "code",
   "execution_count": 150,
   "metadata": {},
   "outputs": [
    {
     "data": {
      "text/plain": [
       "Text(0.5,1,'Confusion Matrix\\n')"
      ]
     },
     "execution_count": 150,
     "metadata": {},
     "output_type": "execute_result"
    },
    {
     "data": {
      "image/png": "[encoded data removed]",
      "text/plain": [
       "<Figure size 720x504 with 2 Axes>"
      ]
     },
     "metadata": {},
     "output_type": "display_data"
    }
   ],
   "source": [
    "class_names = [ 0,1]\n",
    "df_heatmap = pd.DataFrame(confusion_matrix(y_test1, ompredictions_w2v), index=class_names, columns=class_names )\n",
    "fig = plt.figure(figsize=(10,7))\n",
    "heatmap = sns.heatmap(df_heatmap, annot=True, fmt=\"d\")\n",
    "\n",
    "# Setting tick labels for heatmap\n",
    "heatmap.yaxis.set_ticklabels(heatmap.yaxis.get_ticklabels(), rotation=0, ha='right', fontsize=10)#\n",
    "heatmap.xaxis.set_ticklabels(heatmap.xaxis.get_ticklabels(), rotation=0, ha='right', fontsize=10)\n",
    "plt.ylabel('Predicted label',size=18)\n",
    "plt.xlabel('Actual label',size=18)\n",
    "plt.title(\"Confusion Matrix\\n\",size=20)"
   ]
  },
  {
   "cell_type": "code",
   "execution_count": 153,
   "metadata": {},
   "outputs": [
    {
     "name": "stdout",
     "output_type": "stream",
     "text": [
      "TPR of the Logistic Regression  (TFIDF) for optimal alpha   is :  0.875116\n",
      "FPR of the Logistic Regression (TFIDF) for optimal  alpha  is :  0.390539\n",
      "TNR of the Logistic Regression (TFIDF) for optimal alpha  is :  0.609461\n",
      "FNR of the Logistic Regression (TFIDF) for optimal alpha  is :  0.124884\n"
     ]
    }
   ],
   "source": [
    "TrueNeg,FalseNeg,FalsePos, TruePos = confusion_matrix(y_test1, ompredictions_w2v).ravel()\n",
    "TPR = TruePos/(FalseNeg + TruePos)\n",
    "FPR = FalsePos/(TrueNeg + FalsePos)\n",
    "TNR = TrueNeg/(TrueNeg + FalsePos)\n",
    "FNR = FalseNeg/(FalseNeg + TruePos)\n",
    "print(\"TPR of the Logistic Regression  (TFIDF) for optimal alpha   is :  %f\" % (TPR))\n",
    "print(\"FPR of the Logistic Regression (TFIDF) for optimal  alpha  is :  %f\" % (FPR))\n",
    "print(\"TNR of the Logistic Regression (TFIDF) for optimal alpha  is :  %f\" % (TNR))\n",
    "print(\"FNR of the Logistic Regression (TFIDF) for optimal alpha  is :  %f\" % (FNR))"
   ]
  },
  {
   "cell_type": "code",
   "execution_count": 155,
   "metadata": {},
   "outputs": [
    {
     "data": {
      "image/png": "[encoded data removed]",
      "text/plain": [
       "<Figure size 432x288 with 1 Axes>"
      ]
     },
     "metadata": {},
     "output_type": "display_data"
    }
   ],
   "source": [
    "import matplotlib.pyplot as plt\n",
    "from sklearn.metrics import roc_curve, auc\n",
    "fpr = dict()\n",
    "tpr = dict()\n",
    "roc_auc = dict()\n",
    "\n",
    "fpr1 = dict()\n",
    "tpr1 = dict()\n",
    "roc_auc1 = dict()\n",
    "\n",
    "for i in range(4):\n",
    "    fpr[i], tpr[i], _ = roc_curve(y_test1,probs5)\n",
    "    roc_auc[i] = auc(fpr[i], tpr[i])\n",
    "\n",
    "\n",
    "from tqdm import tqdm\n",
    "for i in range(4):\n",
    "    fpr1[i], tpr1[i], _ = roc_curve(y_train1,probs4)\n",
    "    roc_auc1[i] = auc(fpr1[i], tpr1[i])    \n",
    "\n",
    "\n",
    "#print(roc_auc_score(y_test1,ompredictions_bow))\n",
    "plt.figure()\n",
    "#plt.plot(fpr[1], tpr[1])\n",
    "lw = 2\n",
    "plt.plot(fpr[0], tpr[0], color='darkorange',lw=lw, label=' Test ROC curve (area = %0.2f)' % roc_auc[0])\n",
    "plt.plot(fpr1[0], tpr1[0], color='blue',lw=lw, label='Train ROC curve (area = %0.2f)' % roc_auc1[0])\n",
    "plt.xlim([0.0, 1.0])\n",
    "plt.ylim([0.0, 1.05])\n",
    "plt.xlabel('False Positive Rate')\n",
    "plt.ylabel('True Positive Rate')\n",
    "plt.legend(loc=\"lower right\")\n",
    "plt.title('Receiver operating characteristic for W2V ')\n",
    "plt.show()"
   ]
  },
  {
   "cell_type": "markdown",
   "metadata": {},
   "source": [
    "# Observations :\n",
    "\n",
    "1) Word 2 vECTOR HAS NOT PERFORMED THAT EFFICIENTLY WHEN COMPARED TO BOW or TFIDF.\n",
    "\n",
    "2) Test Acuuracy is very less when compared to train accuracy. Hence Overfitting would have been the issue here."
   ]
  },
  {
   "cell_type": "markdown",
   "metadata": {},
   "source": [
    "# TFIDF AVERGE WORD TO VECTOR "
   ]
  },
  {
   "cell_type": "markdown",
   "metadata": {},
   "source": [
    "# Preparing Training Data for TFIDF-AVG W2V"
   ]
  },
  {
   "cell_type": "code",
   "execution_count": 92,
   "metadata": {},
   "outputs": [],
   "source": [
    "model = TfidfVectorizer()\n",
    "tf_idf_matrix = model.fit_transform(X_trainbow['Cleaned Text'].values)\n",
    "# we are converting a dictionary with word as a key, and the idf as a value\n",
    "dictionary = dict(zip(model.get_feature_names(), list(model.idf_)))"
   ]
  },
  {
   "cell_type": "code",
   "execution_count": 93,
   "metadata": {},
   "outputs": [
    {
     "name": "stderr",
     "output_type": "stream",
     "text": [
      "100%|████████████████████████████████████████████████████████████████████████████| 61441/61441 [30:36<00:00, 33.46it/s]\n"
     ]
    }
   ],
   "source": [
    "# TF-IDF weighted Word2Vec\n",
    "tfidf_feat = model.get_feature_names() # tfidf words/col-names\n",
    "# final_tf_idf is the sparse matrix with row= sentence, col=word and cell_val = tfidf\n",
    "\n",
    "tfidf_sent_vectors = []; # the tfidf-w2v for each sentence/review is stored in this list\n",
    "row=0;\n",
    "for sent in tqdm(list_of_sentance): # for each review/sentence \n",
    "    sent_vec = np.zeros(50) # as word vectors are of zero length\n",
    "    weight_sum =0; # num of words with a valid vector in the sentence/review\n",
    "    for word in sent: # for each word in a review/sentence\n",
    "        if word in w2v_words and word in tfidf_feat:\n",
    "            vec = w2v_model.wv[word]\n",
    "            #tf_idf = tf_idf_matrix[row, tfidf_feat.index(word)]\n",
    "            # to reduce the computation we are \n",
    "            # dictionary[word] = idf value of word in whole courpus\n",
    "            # sent.count(word) = tf valeus of word in this review\n",
    "            tf_idf = dictionary[word]*(sent.count(word)/len(sent))\n",
    "            sent_vec += (vec * tf_idf)\n",
    "            weight_sum += tf_idf\n",
    "    if weight_sum != 0:\n",
    "        sent_vec /= weight_sum\n",
    "    tfidf_sent_vectors.append(sent_vec)\n",
    "    row += 1"
   ]
  },
  {
   "cell_type": "markdown",
   "metadata": {},
   "source": [
    "# Preparing Test Data for TFIDF- AVG W2V"
   ]
  },
  {
   "cell_type": "code",
   "execution_count": 94,
   "metadata": {},
   "outputs": [
    {
     "name": "stderr",
     "output_type": "stream",
     "text": [
      "100%|████████████████████████████████████████████████████████████████████████████| 26332/26332 [11:56<00:00, 36.75it/s]\n"
     ]
    }
   ],
   "source": [
    "# TF-IDF weighted Word2Vec\n",
    "tfidf_feat = model.get_feature_names() # tfidf words/col-names\n",
    "# final_tf_idf is the sparse matrix with row= sentence, col=word and cell_val = tfidf\n",
    "\n",
    "tfidf_sent_vectors1 = []; # the tfidf-w2v for each sentence/review is stored in this list\n",
    "row=0;\n",
    "for sent in tqdm(list_of_sentance1): # for each review/sentence \n",
    "    sent_vec = np.zeros(50) # as word vectors are of zero length\n",
    "    weight_sum =0; # num of words with a valid vector in the sentence/review\n",
    "    for word in sent: # for each word in a review/sentence\n",
    "        if word in w2v_words1 and word in tfidf_feat:\n",
    "            vec = w2v_model1.wv[word]\n",
    "            #tf_idf = tf_idf_matrix[row, tfidf_feat.index(word)]\n",
    "            # to reduce the computation we are \n",
    "            # dictionary[word] = idf value of word in whole courpus\n",
    "            # sent.count(word) = tf valeus of word in this review\n",
    "            tf_idf = dictionary[word]*(sent.count(word)/len(sent))\n",
    "            sent_vec += (vec * tf_idf)\n",
    "            weight_sum += tf_idf\n",
    "    if weight_sum != 0:\n",
    "        sent_vec /= weight_sum\n",
    "    tfidf_sent_vectors1.append(sent_vec)\n",
    "    row += 1"
   ]
  },
  {
   "cell_type": "code",
   "execution_count": 96,
   "metadata": {},
   "outputs": [],
   "source": [
    "g3 = tfidf_sent_vectors\n",
    "h3 = tfidf_sent_vectors1"
   ]
  },
  {
   "cell_type": "code",
   "execution_count": 97,
   "metadata": {},
   "outputs": [],
   "source": [
    "g3 = preprocessing.normalize(g3)\n",
    "h3 = preprocessing.normalize(h3)"
   ]
  },
  {
   "cell_type": "markdown",
   "metadata": {},
   "source": [
    "# LOGISTIC REGRESSION ON TFIDF - AVG W2V \n",
    "\n",
    "# CHECKING SPARSITY ON L1 REGURALISATION - LR"
   ]
  },
  {
   "cell_type": "code",
   "execution_count": 99,
   "metadata": {},
   "outputs": [
    {
     "name": "stdout",
     "output_type": "stream",
     "text": [
      "Accuracy on test set: 83.332%\n",
      "F1-Score on test set: 0.833\n",
      "Non Zero weights: 20\n"
     ]
    }
   ],
   "source": [
    "from sklearn.linear_model import LogisticRegression\n",
    "clf = LogisticRegression(C= 0.01, penalty= 'l1')\n",
    "clf.fit(g3,y_train1)\n",
    "y_pred = clf.predict(h3)\n",
    "print(\"Accuracy on test set: %0.3f%%\"%(accuracy_score(y_test1, y_pred)*100))\n",
    "print(\"F1-Score on test set: %0.3f\"%(f1_score(y_test1, y_pred,average='micro')))\n",
    "print(\"Non Zero weights:\",np.count_nonzero(clf.coef_))"
   ]
  },
  {
   "cell_type": "code",
   "execution_count": 100,
   "metadata": {},
   "outputs": [
    {
     "name": "stdout",
     "output_type": "stream",
     "text": [
      "Non Zero weights: 38\n"
     ]
    }
   ],
   "source": [
    "clf = LogisticRegression(C= 0.1, penalty= 'l1')\n",
    "clf.fit(g3,y_train1)\n",
    "y_pred = clf.predict(h3)\n",
    "#print(\"Accuracy on test set: %0.3f%%\"%(accuracy_score(y_test, y_pred)*100))\n",
    "#print(\"F1-Score on test set: %0.3f\"%(f1_score(y_test, y_pred,average='micro')))\n",
    "print(\"Non Zero weights:\",np.count_nonzero(clf.coef_))"
   ]
  },
  {
   "cell_type": "code",
   "execution_count": 101,
   "metadata": {},
   "outputs": [
    {
     "name": "stdout",
     "output_type": "stream",
     "text": [
      "Non Zero weights: 49\n"
     ]
    }
   ],
   "source": [
    "clf = LogisticRegression(C= 1, penalty= 'l1')\n",
    "clf.fit(g3,y_train1)\n",
    "y_pred = clf.predict(h3)\n",
    "#print(\"Accuracy on test set: %0.3f%%\"%(accuracy_score(y_test, y_pred)*100))\n",
    "#print(\"F1-Score on test set: %0.3f\"%(f1_score(y_test, y_pred,average='micro')))\n",
    "print(\"Non Zero weights:\",np.count_nonzero(clf.coef_))"
   ]
  },
  {
   "cell_type": "code",
   "execution_count": 102,
   "metadata": {},
   "outputs": [
    {
     "name": "stdout",
     "output_type": "stream",
     "text": [
      "Non Zero weights: 50\n"
     ]
    }
   ],
   "source": [
    "clf = LogisticRegression(C= 10, penalty= 'l1')\n",
    "clf.fit(g3,y_train1)\n",
    "y_pred = clf.predict(h3)\n",
    "#print(\"Accuracy on test set: %0.3f%%\"%(accuracy_score(y_test, y_pred)*100))\n",
    "#print(\"F1-Score on test set: %0.3f\"%(f1_score(y_test, y_pred,average='micro')))\n",
    "print(\"Non Zero weights:\",np.count_nonzero(clf.coef_))"
   ]
  },
  {
   "cell_type": "code",
   "execution_count": 103,
   "metadata": {},
   "outputs": [
    {
     "name": "stdout",
     "output_type": "stream",
     "text": [
      "Non Zero weights: 50\n"
     ]
    }
   ],
   "source": [
    "clf = LogisticRegression(C= 100, penalty= 'l1')\n",
    "clf.fit(g3,y_train1)\n",
    "y_pred = clf.predict(h3)\n",
    "#print(\"Accuracy on test set: %0.3f%%\"%(accuracy_score(y_test, y_pred)*100))\n",
    "#print(\"F1-Score on test set: %0.3f\"%(f1_score(y_test, y_pred,average='micro')))\n",
    "print(\"Non Zero weights:\",np.count_nonzero(clf.coef_))"
   ]
  },
  {
   "cell_type": "markdown",
   "metadata": {},
   "source": [
    "# OBSERVATIONS :\n",
    "\n",
    "1) As lamda value increases the count of non zero value decreases for l1 regularisation."
   ]
  },
  {
   "cell_type": "code",
   "execution_count": 104,
   "metadata": {},
   "outputs": [
    {
     "name": "stdout",
     "output_type": "stream",
     "text": [
      "LogisticRegression(C=1, class_weight='balanced', dual=False,\n",
      "          fit_intercept=True, intercept_scaling=1, max_iter=100,\n",
      "          multi_class='ovr', n_jobs=1, penalty='l2', random_state=None,\n",
      "          solver='liblinear', tol=0.0001, verbose=0, warm_start=False)\n",
      "0.7784120558810812\n"
     ]
    }
   ],
   "source": [
    "tuned_parameters = [{'C': [10**-5,10**-4, 10**-2, 10**0, 10**2, 10**4,10**5]}]\n",
    "#tuned_parameters = [{'C': [10**0, 10**2, 10**5]}]\n",
    "# AS C INCREASES IT SHOULD OVERFIT. HERE C IS NOTHING BUT 1/LAMDA. LAMDA IS THE HYPER PARAMETER.\n",
    "#Using GridSearchCV\n",
    "model1 = GridSearchCV(LogisticRegression(penalty='l2', class_weight = 'balanced'), tuned_parameters, scoring = 'roc_auc', cv= 10 , return_train_score = True)\n",
    "model1.fit(g3, y_train1)\n",
    "print(model1.best_estimator_)\n",
    "print(model1.score(h3, y_test1))"
   ]
  },
  {
   "cell_type": "code",
   "execution_count": 105,
   "metadata": {},
   "outputs": [
    {
     "name": "stdout",
     "output_type": "stream",
     "text": [
      "LogisticRegression(C=1, class_weight='balanced', dual=False,\n",
      "          fit_intercept=True, intercept_scaling=1, max_iter=100,\n",
      "          multi_class='ovr', n_jobs=1, penalty='l1', random_state=None,\n",
      "          solver='liblinear', tol=0.0001, verbose=0, warm_start=False)\n",
      "0.7772799715648505\n"
     ]
    }
   ],
   "source": [
    "tuned_parameters = [{'C': [10**-5,10**-4, 10**-2, 10**0, 10**2, 10**4,10**5]}]\n",
    "#tuned_parameters = [{'C': [10**0, 10**2, 10**5]}]\n",
    "# AS C INCREASES IT SHOULD OVERFIT. HERE C IS NOTHING BUT 1/LAMDA. LAMDA IS THE HYPER PARAMETER.\n",
    "#Using GridSearchCV\n",
    "model2 = GridSearchCV(LogisticRegression(penalty='l1', class_weight = 'balanced'), tuned_parameters, scoring = 'roc_auc', cv= 10 , return_train_score = True)\n",
    "model2.fit(g3, y_train1)\n",
    "print(model2.best_estimator_)\n",
    "print(model2.score(h3, y_test1))"
   ]
  },
  {
   "cell_type": "markdown",
   "metadata": {},
   "source": [
    "# Running the model with the optimal c - tfidf-avgw2v"
   ]
  },
  {
   "cell_type": "code",
   "execution_count": 106,
   "metadata": {},
   "outputs": [],
   "source": [
    "om_w2vtfidf = LogisticRegression(C = 1 , penalty = 'l2' , class_weight = 'balanced')\n",
    "om_w2vtfidf.fit(g3, y_train1)\n",
    "ompredictions_w2vtfidf  = om_w2vtfidf.predict(h3)"
   ]
  },
  {
   "cell_type": "code",
   "execution_count": 107,
   "metadata": {},
   "outputs": [],
   "source": [
    "probs6 = om_w2vtfidf.predict_proba(g3)\n",
    "probs7 = om_w2vtfidf.predict_proba(h3)\n",
    "probs6= probs6[:, 1]\n",
    "probs7 = probs7[:, 1]"
   ]
  },
  {
   "cell_type": "code",
   "execution_count": 108,
   "metadata": {},
   "outputs": [],
   "source": [
    "precision_w2vtfidf = precision_score(y_test1, ompredictions_w2vtfidf, pos_label = 1) \n",
    "recall_w2vtfidf = recall_score(y_test1, ompredictions_w2vtfidf, pos_label = 1) \n",
    "f1score_w2vtfidf = f1_score(y_test1, ompredictions_w2vtfidf, pos_label = 1) "
   ]
  },
  {
   "cell_type": "code",
   "execution_count": 109,
   "metadata": {},
   "outputs": [
    {
     "name": "stdout",
     "output_type": "stream",
     "text": [
      "\n",
      "The Test Precision for optimal c for LR (TFIDF) is 0.902072\n",
      "\n",
      "The Test Recall for optimal c for LR (TFIDF) is  0.788754\n",
      "\n",
      "The Test F1-Score for optimal c for LR (TFIDF) is  0.841616\n"
     ]
    }
   ],
   "source": [
    "print('\\nThe Test Precision for optimal c for LR (TFIDF) is %f' % (precision_w2vtfidf))\n",
    "print('\\nThe Test Recall for optimal c for LR (TFIDF) is  %f' % (recall_w2vtfidf))\n",
    "print('\\nThe Test F1-Score for optimal c for LR (TFIDF) is  %f' % (f1score_w2vtfidf))"
   ]
  },
  {
   "cell_type": "code",
   "execution_count": 110,
   "metadata": {},
   "outputs": [
    {
     "data": {
      "text/plain": [
       "Text(0.5,1,'Confusion Matrix\\n')"
      ]
     },
     "execution_count": 110,
     "metadata": {},
     "output_type": "execute_result"
    },
    {
     "data": {
      "image/png": "[encoded data removed]",
      "text/plain": [
       "<Figure size 720x504 with 2 Axes>"
      ]
     },
     "metadata": {},
     "output_type": "display_data"
    }
   ],
   "source": [
    "# Code for drawing seaborn heatmaps\n",
    "class_names = [ 0,1]\n",
    "df_heatmap = pd.DataFrame(confusion_matrix(y_test1, ompredictions_w2vtfidf), index=class_names, columns=class_names )\n",
    "fig = plt.figure(figsize=(10,7))\n",
    "heatmap = sns.heatmap(df_heatmap, annot=True, fmt=\"d\")\n",
    "\n",
    "# Setting tick labels for heatmap\n",
    "heatmap.yaxis.set_ticklabels(heatmap.yaxis.get_ticklabels(), rotation=0, ha='right', fontsize=10)#\n",
    "heatmap.xaxis.set_ticklabels(heatmap.xaxis.get_ticklabels(), rotation=0, ha='right', fontsize=10)\n",
    "plt.ylabel('Predicted label',size=18)\n",
    "plt.xlabel('Actual label',size=18)\n",
    "plt.title(\"Confusion Matrix\\n\",size=20)"
   ]
  },
  {
   "cell_type": "code",
   "execution_count": 111,
   "metadata": {},
   "outputs": [
    {
     "name": "stdout",
     "output_type": "stream",
     "text": [
      "TPR of the Multinomial naive Bayes classifier (TFIDF) for alpha  is :  0.902072\n",
      "FPR of the Multinomial naive Bayes classifier (TFIDF) for alpha  is :  0.633824\n",
      "TNR of the Multinomial naive Bayes classifier (TFIDF) for alpha  is :  0.366176\n",
      "FNR of the Multinomial naive Bayes classifier (TFIDF) for alpha  is :  0.097928\n"
     ]
    }
   ],
   "source": [
    "TrueNeg,FalseNeg,FalsePos, TruePos = confusion_matrix(y_test1, ompredictions_w2vtfidf).ravel()\n",
    "TPR = TruePos/(FalseNeg + TruePos)\n",
    "FPR = FalsePos/(TrueNeg + FalsePos)\n",
    "TNR = TrueNeg/(TrueNeg + FalsePos)\n",
    "FNR = FalseNeg/(FalseNeg + TruePos)\n",
    "print(\"TPR of the Multinomial naive Bayes classifier (TFIDF) for alpha  is :  %f\" % (TPR))\n",
    "print(\"FPR of the Multinomial naive Bayes classifier (TFIDF) for alpha  is :  %f\" % (FPR))\n",
    "print(\"TNR of the Multinomial naive Bayes classifier (TFIDF) for alpha  is :  %f\" % (TNR))\n",
    "print(\"FNR of the Multinomial naive Bayes classifier (TFIDF) for alpha  is :  %f\" % (FNR))"
   ]
  },
  {
   "cell_type": "code",
   "execution_count": 112,
   "metadata": {},
   "outputs": [
    {
     "data": {
      "image/png": "[encoded data removed]",
      "text/plain": [
       "<Figure size 432x288 with 1 Axes>"
      ]
     },
     "metadata": {},
     "output_type": "display_data"
    }
   ],
   "source": [
    "import matplotlib.pyplot as plt\n",
    "from sklearn.metrics import roc_curve, auc\n",
    "fpr = dict()\n",
    "tpr = dict()\n",
    "roc_auc = dict()\n",
    "\n",
    "fpr1 = dict()\n",
    "tpr1 = dict()\n",
    "roc_auc1 = dict()\n",
    "\n",
    "for i in range(4):\n",
    "    fpr[i], tpr[i], _ = roc_curve(y_test1,probs7)\n",
    "    roc_auc[i] = auc(fpr[i], tpr[i])\n",
    "\n",
    "\n",
    "from tqdm import tqdm\n",
    "for i in range(4):\n",
    "    fpr1[i], tpr1[i], _ = roc_curve(y_train1,probs6)\n",
    "    roc_auc1[i] = auc(fpr1[i], tpr1[i])    \n",
    "\n",
    "\n",
    "#print(roc_auc_score(y_test1,ompredictions_bow))\n",
    "plt.figure()\n",
    "#plt.plot(fpr[1], tpr[1])\n",
    "lw = 2\n",
    "plt.plot(fpr[0], tpr[0], color='darkorange',lw=lw, label=' Test ROC curve (area = %0.2f)' % roc_auc[0])\n",
    "plt.plot(fpr1[0], tpr1[0], color='blue',lw=lw, label='Train ROC curve (area = %0.2f)' % roc_auc1[0])\n",
    "plt.xlim([0.0, 1.0])\n",
    "plt.ylim([0.0, 1.05])\n",
    "plt.xlabel('False Positive Rate')\n",
    "plt.ylabel('True Positive Rate')\n",
    "plt.legend(loc=\"lower right\")\n",
    "plt.title('Receiver operating characteristic')\n",
    "plt.show()"
   ]
  },
  {
   "cell_type": "markdown",
   "metadata": {},
   "source": [
    "# Observations \n",
    "\n",
    "1) Both Training Accuracy and Test acccuracy has been very low in TFIDF- AVG W2V. \n",
    "  The reason might be the case that I did not take feature engineering for this vectoriser and the model may be over fitted.\n"
   ]
  },
  {
   "cell_type": "markdown",
   "metadata": {},
   "source": [
    "# Conclusions"
   ]
  },
  {
   "cell_type": "code",
   "execution_count": 95,
   "metadata": {},
   "outputs": [],
   "source": [
    "res = pd.DataFrame()"
   ]
  },
  {
   "cell_type": "code",
   "execution_count": 115,
   "metadata": {},
   "outputs": [],
   "source": [
    "model_names = [\"BOW\",\"BOW\",\"TF-IDF\",\"TF-IDF\",\"W2V\",\"W2V\",\"W2V\",\"W2V\", \"TF-IDF AVGW2V\" , \"TF-IDF AVGW2V\"]\n",
    "Hyperparameter = [1,1,1,1,1,10000,1,100,1,1]\n",
    "s3 = \"L1\"\n",
    "s4 = \"L2\"\n",
    "Regularisation = [s3,s4,s3,s4,s3,s3,s4,s4,s3,s4]\n",
    "s1 = \"YES\"\n",
    "s2 = \"NO\"\n",
    "Feature_Engineering = [s1,s1,s1,s1,s2,s1,s2,s1,s2,s2]\n",
    "AUC = [0.9448,0.9439,0.9509,0.9516,0.8323,0.8300,0.8341,0.8306,0.7772,0.7784]"
   ]
  },
  {
   "cell_type": "code",
   "execution_count": 116,
   "metadata": {},
   "outputs": [],
   "source": [
    "res['Vectorizer'] = model_names\n",
    "res['Hyper Parameter'] =  Hyperparameter \n",
    "res['Regularisation'] = Regularisation \n",
    "res['Feature Engineering'] = Feature_Engineering  \n",
    "res['AUC'] = AUC"
   ]
  },
  {
   "cell_type": "code",
   "execution_count": 117,
   "metadata": {},
   "outputs": [
    {
     "data": {
      "text/html": [
       "<div>\n",
       "<style scoped>\n",
       "    .dataframe tbody tr th:only-of-type {\n",
       "        vertical-align: middle;\n",
       "    }\n",
       "\n",
       "    .dataframe tbody tr th {\n",
       "        vertical-align: top;\n",
       "    }\n",
       "\n",
       "    .dataframe thead th {\n",
       "        text-align: right;\n",
       "    }\n",
       "</style>\n",
       "<table border=\"1\" class=\"dataframe\">\n",
       "  <thead>\n",
       "    <tr style=\"text-align: right;\">\n",
       "      <th></th>\n",
       "      <th>Vectorizer</th>\n",
       "      <th>Hyper Parameter</th>\n",
       "      <th>Regularisation</th>\n",
       "      <th>Feature Engineering</th>\n",
       "      <th>AUC</th>\n",
       "    </tr>\n",
       "  </thead>\n",
       "  <tbody>\n",
       "    <tr>\n",
       "      <th>0</th>\n",
       "      <td>BOW</td>\n",
       "      <td>1</td>\n",
       "      <td>L1</td>\n",
       "      <td>YES</td>\n",
       "      <td>0.9448</td>\n",
       "    </tr>\n",
       "    <tr>\n",
       "      <th>1</th>\n",
       "      <td>BOW</td>\n",
       "      <td>1</td>\n",
       "      <td>L2</td>\n",
       "      <td>YES</td>\n",
       "      <td>0.9439</td>\n",
       "    </tr>\n",
       "    <tr>\n",
       "      <th>2</th>\n",
       "      <td>TF-IDF</td>\n",
       "      <td>1</td>\n",
       "      <td>L1</td>\n",
       "      <td>YES</td>\n",
       "      <td>0.9509</td>\n",
       "    </tr>\n",
       "    <tr>\n",
       "      <th>3</th>\n",
       "      <td>TF-IDF</td>\n",
       "      <td>1</td>\n",
       "      <td>L2</td>\n",
       "      <td>YES</td>\n",
       "      <td>0.9516</td>\n",
       "    </tr>\n",
       "    <tr>\n",
       "      <th>4</th>\n",
       "      <td>W2V</td>\n",
       "      <td>1</td>\n",
       "      <td>L1</td>\n",
       "      <td>NO</td>\n",
       "      <td>0.8323</td>\n",
       "    </tr>\n",
       "    <tr>\n",
       "      <th>5</th>\n",
       "      <td>W2V</td>\n",
       "      <td>10000</td>\n",
       "      <td>L1</td>\n",
       "      <td>YES</td>\n",
       "      <td>0.8300</td>\n",
       "    </tr>\n",
       "    <tr>\n",
       "      <th>6</th>\n",
       "      <td>W2V</td>\n",
       "      <td>1</td>\n",
       "      <td>L2</td>\n",
       "      <td>NO</td>\n",
       "      <td>0.8341</td>\n",
       "    </tr>\n",
       "    <tr>\n",
       "      <th>7</th>\n",
       "      <td>W2V</td>\n",
       "      <td>100</td>\n",
       "      <td>L2</td>\n",
       "      <td>YES</td>\n",
       "      <td>0.8306</td>\n",
       "    </tr>\n",
       "    <tr>\n",
       "      <th>8</th>\n",
       "      <td>TF-IDF AVGW2V</td>\n",
       "      <td>1</td>\n",
       "      <td>L1</td>\n",
       "      <td>NO</td>\n",
       "      <td>0.7772</td>\n",
       "    </tr>\n",
       "    <tr>\n",
       "      <th>9</th>\n",
       "      <td>TF-IDF AVGW2V</td>\n",
       "      <td>1</td>\n",
       "      <td>L2</td>\n",
       "      <td>NO</td>\n",
       "      <td>0.7784</td>\n",
       "    </tr>\n",
       "  </tbody>\n",
       "</table>\n",
       "</div>"
      ],
      "text/plain": [
       "      Vectorizer  Hyper Parameter Regularisation Feature Engineering     AUC\n",
       "0            BOW                1             L1                 YES  0.9448\n",
       "1            BOW                1             L2                 YES  0.9439\n",
       "2         TF-IDF                1             L1                 YES  0.9509\n",
       "3         TF-IDF                1             L2                 YES  0.9516\n",
       "4            W2V                1             L1                  NO  0.8323\n",
       "5            W2V            10000             L1                 YES  0.8300\n",
       "6            W2V                1             L2                  NO  0.8341\n",
       "7            W2V              100             L2                 YES  0.8306\n",
       "8  TF-IDF AVGW2V                1             L1                  NO  0.7772\n",
       "9  TF-IDF AVGW2V                1             L2                  NO  0.7784"
      ]
     },
     "execution_count": 117,
     "metadata": {},
     "output_type": "execute_result"
    }
   ],
   "source": [
    "res"
   ]
  },
  {
   "cell_type": "code",
   "execution_count": 119,
   "metadata": {},
   "outputs": [],
   "source": [
    "import tabulatehelper as th"
   ]
  },
  {
   "cell_type": "markdown",
   "metadata": {},
   "source": [
    "# DISPLAYING THE RESULTS IN TABULAR FORMAT "
   ]
  },
  {
   "cell_type": "code",
   "execution_count": 120,
   "metadata": {},
   "outputs": [
    {
     "name": "stdout",
     "output_type": "stream",
     "text": [
      "| Vectorizer    |   Hyper Parameter | Regularisation   | Feature Engineering   |    AUC |\n",
      "|:--------------|------------------:|:-----------------|:----------------------|:------:|\n",
      "| BOW           |                 1 | L1               | YES                   | 0.9448 |\n",
      "| BOW           |                 1 | L2               | YES                   | 0.9439 |\n",
      "| TF-IDF        |                 1 | L1               | YES                   | 0.9509 |\n",
      "| TF-IDF        |                 1 | L2               | YES                   | 0.9516 |\n",
      "| W2V           |                 1 | L1               | NO                    | 0.8323 |\n",
      "| W2V           |             10000 | L1               | YES                   | 0.83   |\n",
      "| W2V           |                 1 | L2               | NO                    | 0.8341 |\n",
      "| W2V           |               100 | L2               | YES                   | 0.8306 |\n",
      "| TF-IDF AVGW2V |                 1 | L1               | NO                    | 0.7772 |\n",
      "| TF-IDF AVGW2V |                 1 | L2               | NO                    | 0.7784 |\n"
     ]
    }
   ],
   "source": [
    "print(th.md_table(res, formats={-1: 'c'}))"
   ]
  },
  {
   "cell_type": "markdown",
   "metadata": {},
   "source": [
    "# Final Observations :\n",
    "\n",
    "\n",
    "1) The best models have come through BOW and TFIDF. In TFIDF the AUC has been slightly higher when compared to BOW. Hence TFIDF WITH FEATURE ENGINEERING AND WITH L2 REGULARISATION IS THE BEST MODEL FOR THIS CASE.\n",
    "\n",
    "2) IN THE CASE OF BAG OF WORDS, L1 REGULARISATION PERFORMED MARGINALLY BETTER WHEN COMPARED TO L2 REGULARISATION.\n",
    "\n",
    "3) IN THE CASE OF TFIDF , L2 REGULARISATION PERFORMED MARGINALLY BETTER WHEN COMPARED TO L1 REGULARISATION.\n",
    "\n",
    "4) IN THE CASE OF W2V, MODEL WITH OUT FEATURE ENGINEERING PERFORMED BETTER THAN THE ONE WITH FEATURE ENGINEERING. BY REGULARISION WISE L2 PERFORMED BETTER THAN L1 IN AVG-W2V. HOWEVER THE AUC VALUE OVERALL IS VERY LESS COMPARED TO THAT OF BOW  OR TFIDF\n",
    "\n",
    "5) IN THE CASE OF TFIDF- AVG W2V, I HAVE NOT USED FEATURE ENGINEERING. HOWEVER IN THIS CASE TOO, THE L2 REGULARISATION PERFORMED \n",
    "  MARGINALLY BETTER WHEN COMPARED TO L1\n",
    "\n",
    "6) As suggested I have added length of preprocessed reviews as one more feature which has been contributed for more accuracy. \n",
    "   However if i would have used more features like length of common words or something else, the results would have been \n",
    "   different( my assumption)\n",
    "\n",
    "7) I have checked the sparsity for tfidf-avgw2v. As the c value increase the count of non zero value too increases for l1 regularisation.\n",
    "\n",
    "\n",
    "8) I have checked the pertubation test to know whether the features are collinear or not. I have discovered that there is no big change in the coefficients ( with noise and with out noise). Through elbow method I have fixed the threshold percentage as 2%. THere are very few features that are collinear.\n",
    "\n"
   ]
  },
  {
   "cell_type": "markdown",
   "metadata": {},
   "source": [
    "# References \n",
    "\n",
    "I have referred many links. However part of my code has been inspired from the following links \n",
    "\n",
    "1) Applied AI Course  - https://www.appliedaicourse.com/course/applied-ai-course-online/lessons/receiver-operating-characteristic-curve-roc-curve-and-auc-1/\n",
    "\n",
    "2) GITHUB - PushpendraSinghChauhan (#https://github.com/PushpendraSinghChauhan/Amazon-Fine-FoodReviews/blob/master/Apply%20Naive%20Bayes%20on%20Amazon%20Fine%20Food%20Reviews.ipynb)\n",
    "\n",
    "3) SKLEARN \n",
    "\n",
    "4) STACK OVERFLOW  - MANY "
   ]
  }
 ],
 "metadata": {
  "colab": {
   "name": "04 Amazon Fine Food Reviews Analysis_NaiveBayes.ipynb",
   "provenance": [],
   "version": "0.3.2"
  },
  "kernelspec": {
   "display_name": "Python 3",
   "language": "python",
   "name": "python3"
  },
  "language_info": {
   "codemirror_mode": {
    "name": "ipython",
    "version": 3
   },
   "file_extension": ".py",
   "mimetype": "text/x-python",
   "name": "python",
   "nbconvert_exporter": "python",
   "pygments_lexer": "ipython3",
   "version": "3.6.5"
  }
 },
 "nbformat": 4,
 "nbformat_minor": 1
}
