{
 "cells": [
  {
   "cell_type": "markdown",
   "metadata": {
    "colab_type": "text",
    "id": "UIn1GsFNJkjH"
   },
   "source": [
    "# Amazon Fine Food Reviews Analysis\n",
    "\n",
    "\n",
    "Data Source: https://www.kaggle.com/snap/amazon-fine-food-reviews <br>\n",
    "\n",
    "EDA: https://nycdatascience.com/blog/student-works/amazon-fine-foods-visualization/\n",
    "\n",
    "\n",
    "The Amazon Fine Food Reviews dataset consists of reviews of fine foods from Amazon.<br>\n",
    "\n",
    "Number of reviews: 568,454<br>\n",
    "Number of users: 256,059<br>\n",
    "Number of products: 74,258<br>\n",
    "Timespan: Oct 1999 - Oct 2012<br>\n",
    "Number of Attributes/Columns in data: 10 \n",
    "\n",
    "Attribute Information:\n",
    "\n",
    "1. Id\n",
    "2. ProductId - unique identifier for the product\n",
    "3. UserId - unqiue identifier for the user\n",
    "4. ProfileName\n",
    "5. HelpfulnessNumerator - number of users who found the review helpful\n",
    "6. HelpfulnessDenominator - number of users who indicated whether they found the review helpful or not\n",
    "7. Score - rating between 1 and 5\n",
    "8. Time - timestamp for the review\n",
    "9. Summary - brief summary of the review\n",
    "10. Text - text of the review\n",
    "\n",
    "\n",
    "#### Objective:\n",
    "Given a review, determine whether the review is positive (rating of 4 or 5) or negative (rating of 1 or 2).\n",
    "\n",
    "<br>\n",
    "[Q] How to determine if a review is positive or negative?<br>\n",
    "<br> \n",
    "[Ans] We could use Score/Rating. A rating of 4 or 5 can be cosnidered as a positive review. A rating of 1 or 2 can be considered as negative one. A review of rating 3 is considered nuetral and such reviews are ignored from our analysis. This is an approximate and proxy way of determining the polarity (positivity/negativity) of a review.\n",
    "\n",
    "\n"
   ]
  },
  {
   "cell_type": "markdown",
   "metadata": {
    "colab_type": "text",
    "id": "5Uf26aoLJkjJ"
   },
   "source": [
    "# [1]. Reading Data"
   ]
  },
  {
   "cell_type": "markdown",
   "metadata": {
    "colab_type": "text",
    "id": "yo-LaJg3JkjK"
   },
   "source": [
    "## [1.1] Loading the data\n",
    "\n",
    "The dataset is available in two forms\n",
    "1. .csv file\n",
    "2. SQLite Database\n",
    "\n",
    "In order to load the data, We have used the SQLITE dataset as it is easier to query the data and visualise the data efficiently.\n",
    "<br> \n",
    "\n",
    "Here as we only want to get the global sentiment of the recommendations (positive or negative), we will purposefully ignore all Scores equal to 3. If the score is above 3, then the recommendation wil be set to \"positive\". Otherwise, it will be set to \"negative\"."
   ]
  },
  {
   "cell_type": "code",
   "execution_count": 1,
   "metadata": {
    "colab": {},
    "colab_type": "code",
    "id": "dLYq3BkfJkjL"
   },
   "outputs": [],
   "source": [
    "%matplotlib inline\n",
    "import warnings\n",
    "warnings.filterwarnings(\"ignore\")\n",
    "\n",
    "#import gensim\n",
    "import sqlite3\n",
    "import pandas as pd\n",
    "import numpy as np\n",
    "import nltk\n",
    "import string\n",
    "import matplotlib.pyplot as plt\n",
    "import seaborn as sns\n",
    "from sklearn.feature_extraction.text import TfidfTransformer\n",
    "from sklearn.feature_extraction.text import TfidfVectorizer\n",
    "\n",
    "from sklearn.feature_extraction.text import CountVectorizer\n",
    "from sklearn.metrics import confusion_matrix\n",
    "from sklearn import metrics\n",
    "from sklearn.metrics import roc_curve, auc\n",
    "from nltk.stem.porter import PorterStemmer\n",
    "\n",
    "import re\n",
    "# Tutorial about Python regular expressions: https://pymotw.com/2/re/\n",
    "import string\n",
    "from nltk.corpus import stopwords\n",
    "from nltk.stem import PorterStemmer\n",
    "from nltk.stem.wordnet import WordNetLemmatizer\n",
    "\n",
    "from gensim.models import Word2Vec\n",
    "from gensim.models import KeyedVectors\n",
    "import pickle\n",
    "\n",
    "from tqdm import tqdm\n",
    "import os"
   ]
  },
  {
   "cell_type": "code",
   "execution_count": 3,
   "metadata": {
    "colab": {
     "base_uri": "https://localhost:8080/",
     "height": 34
    },
    "colab_type": "code",
    "id": "hjFN1htTfTqp",
    "outputId": "ca30d869-1a4c-4e78-deac-661f266e331a"
   },
   "outputs": [],
   "source": [
    "#from google.colab import drive\n",
    "\n",
    "# This will prompt for authorization.\n",
    "#drive.mount('/content/drive')"
   ]
  },
  {
   "cell_type": "code",
   "execution_count": 4,
   "metadata": {
    "colab": {
     "base_uri": "https://localhost:8080/",
     "height": 84
    },
    "colab_type": "code",
    "id": "0YE3oIwGgSdt",
    "outputId": "9721d7b5-2c5c-4e2c-9cf1-c57372387178"
   },
   "outputs": [],
   "source": [
    "# files will be present in \"/content/drive/My Drive\".\n",
    "#!ls \"/content/drive/My Drive/MachineLearning\"\n"
   ]
  },
  {
   "cell_type": "code",
   "execution_count": 5,
   "metadata": {
    "colab": {},
    "colab_type": "code",
    "id": "q-D1B5DsgYj3"
   },
   "outputs": [],
   "source": [
    "# using the SQLite Table to read data.\n",
    "#con = sqlite3.connect('/content/drive/My Drive/MachineLearning/database.sqlite') "
   ]
  },
  {
   "cell_type": "code",
   "execution_count": 2,
   "metadata": {
    "colab": {
     "base_uri": "https://localhost:8080/",
     "height": 203
    },
    "colab_type": "code",
    "id": "rXVxnx_NJkjO",
    "outputId": "83362517-46ff-419b-a779-3e88930a1aff"
   },
   "outputs": [
    {
     "name": "stdout",
     "output_type": "stream",
     "text": [
      "Number of data points in our data (100000, 10)\n"
     ]
    },
    {
     "data": {
      "text/html": [
       "<div>\n",
       "<style scoped>\n",
       "    .dataframe tbody tr th:only-of-type {\n",
       "        vertical-align: middle;\n",
       "    }\n",
       "\n",
       "    .dataframe tbody tr th {\n",
       "        vertical-align: top;\n",
       "    }\n",
       "\n",
       "    .dataframe thead th {\n",
       "        text-align: right;\n",
       "    }\n",
       "</style>\n",
       "<table border=\"1\" class=\"dataframe\">\n",
       "  <thead>\n",
       "    <tr style=\"text-align: right;\">\n",
       "      <th></th>\n",
       "      <th>Id</th>\n",
       "      <th>ProductId</th>\n",
       "      <th>UserId</th>\n",
       "      <th>ProfileName</th>\n",
       "      <th>HelpfulnessNumerator</th>\n",
       "      <th>HelpfulnessDenominator</th>\n",
       "      <th>Score</th>\n",
       "      <th>Time</th>\n",
       "      <th>Summary</th>\n",
       "      <th>Text</th>\n",
       "    </tr>\n",
       "  </thead>\n",
       "  <tbody>\n",
       "    <tr>\n",
       "      <th>0</th>\n",
       "      <td>1</td>\n",
       "      <td>B001E4KFG0</td>\n",
       "      <td>A3SGXH7AUHU8GW</td>\n",
       "      <td>delmartian</td>\n",
       "      <td>1</td>\n",
       "      <td>1</td>\n",
       "      <td>1</td>\n",
       "      <td>1303862400</td>\n",
       "      <td>Good Quality Dog Food</td>\n",
       "      <td>I have bought several of the Vitality canned d...</td>\n",
       "    </tr>\n",
       "    <tr>\n",
       "      <th>1</th>\n",
       "      <td>2</td>\n",
       "      <td>B00813GRG4</td>\n",
       "      <td>A1D87F6ZCVE5NK</td>\n",
       "      <td>dll pa</td>\n",
       "      <td>0</td>\n",
       "      <td>0</td>\n",
       "      <td>0</td>\n",
       "      <td>1346976000</td>\n",
       "      <td>Not as Advertised</td>\n",
       "      <td>Product arrived labeled as Jumbo Salted Peanut...</td>\n",
       "    </tr>\n",
       "    <tr>\n",
       "      <th>2</th>\n",
       "      <td>3</td>\n",
       "      <td>B000LQOCH0</td>\n",
       "      <td>ABXLMWJIXXAIN</td>\n",
       "      <td>Natalia Corres \"Natalia Corres\"</td>\n",
       "      <td>1</td>\n",
       "      <td>1</td>\n",
       "      <td>1</td>\n",
       "      <td>1219017600</td>\n",
       "      <td>\"Delight\" says it all</td>\n",
       "      <td>This is a confection that has been around a fe...</td>\n",
       "    </tr>\n",
       "  </tbody>\n",
       "</table>\n",
       "</div>"
      ],
      "text/plain": [
       "   Id   ProductId          UserId                      ProfileName  \\\n",
       "0   1  B001E4KFG0  A3SGXH7AUHU8GW                       delmartian   \n",
       "1   2  B00813GRG4  A1D87F6ZCVE5NK                           dll pa   \n",
       "2   3  B000LQOCH0   ABXLMWJIXXAIN  Natalia Corres \"Natalia Corres\"   \n",
       "\n",
       "   HelpfulnessNumerator  HelpfulnessDenominator  Score        Time  \\\n",
       "0                     1                       1      1  1303862400   \n",
       "1                     0                       0      0  1346976000   \n",
       "2                     1                       1      1  1219017600   \n",
       "\n",
       "                 Summary                                               Text  \n",
       "0  Good Quality Dog Food  I have bought several of the Vitality canned d...  \n",
       "1      Not as Advertised  Product arrived labeled as Jumbo Salted Peanut...  \n",
       "2  \"Delight\" says it all  This is a confection that has been around a fe...  "
      ]
     },
     "execution_count": 2,
     "metadata": {},
     "output_type": "execute_result"
    }
   ],
   "source": [
    "# using SQLite Table to read data.\n",
    "con = sqlite3.connect('database.sqlite') \n",
    "\n",
    "# filtering only positive and negative reviews i.e. \n",
    "# not taking into consideration those reviews with Score=3\n",
    "# SELECT * FROM Reviews WHERE Score != 3 LIMIT 500000, will give top 500000 data points\n",
    "# you can change the number to any other number based on your computing power\n",
    "\n",
    "# filtered_data = pd.read_sql_query(\"\"\" SELECT * FROM Reviews WHERE Score != 3 LIMIT 500000\"\"\", con) \n",
    "# for tsne assignment you can take 5k data points\n",
    "\n",
    "filtered_data = pd.read_sql_query(\"\"\" SELECT * FROM Reviews WHERE Score != 3 LIMIT 100000\"\"\", con) \n",
    "\n",
    "# Give reviews with Score>3 a positive rating(1), and reviews with a score<3 a negative rating(0).\n",
    "def partition(x):\n",
    "    if x < 3:\n",
    "        return 0\n",
    "    return 1\n",
    "\n",
    "#changing reviews with score less than 3 to be positive and vice-versa\n",
    "actualScore = filtered_data['Score']\n",
    "positiveNegative = actualScore.map(partition) \n",
    "filtered_data['Score'] = positiveNegative\n",
    "print(\"Number of data points in our data\", filtered_data.shape)\n",
    "filtered_data.head(3)"
   ]
  },
  {
   "cell_type": "code",
   "execution_count": 3,
   "metadata": {
    "colab": {},
    "colab_type": "code",
    "id": "ZLasp3QxJkjS"
   },
   "outputs": [],
   "source": [
    "display = pd.read_sql_query(\"\"\"\n",
    "SELECT UserId, ProductId, ProfileName, Time, Score, Text, COUNT(*)\n",
    "FROM Reviews\n",
    "GROUP BY UserId\n",
    "HAVING COUNT(*)>1\n",
    "\"\"\", con)"
   ]
  },
  {
   "cell_type": "code",
   "execution_count": 4,
   "metadata": {
    "colab": {
     "base_uri": "https://localhost:8080/",
     "height": 212
    },
    "colab_type": "code",
    "id": "pHzk_lUkJkjW",
    "outputId": "271219c0-2712-44e8-a92c-ee689abeb9ab",
    "scrolled": true
   },
   "outputs": [
    {
     "name": "stdout",
     "output_type": "stream",
     "text": [
      "(80668, 7)\n"
     ]
    },
    {
     "data": {
      "text/html": [
       "<div>\n",
       "<style scoped>\n",
       "    .dataframe tbody tr th:only-of-type {\n",
       "        vertical-align: middle;\n",
       "    }\n",
       "\n",
       "    .dataframe tbody tr th {\n",
       "        vertical-align: top;\n",
       "    }\n",
       "\n",
       "    .dataframe thead th {\n",
       "        text-align: right;\n",
       "    }\n",
       "</style>\n",
       "<table border=\"1\" class=\"dataframe\">\n",
       "  <thead>\n",
       "    <tr style=\"text-align: right;\">\n",
       "      <th></th>\n",
       "      <th>UserId</th>\n",
       "      <th>ProductId</th>\n",
       "      <th>ProfileName</th>\n",
       "      <th>Time</th>\n",
       "      <th>Score</th>\n",
       "      <th>Text</th>\n",
       "      <th>COUNT(*)</th>\n",
       "    </tr>\n",
       "  </thead>\n",
       "  <tbody>\n",
       "    <tr>\n",
       "      <th>0</th>\n",
       "      <td>#oc-R115TNMSPFT9I7</td>\n",
       "      <td>B005ZBZLT4</td>\n",
       "      <td>Breyton</td>\n",
       "      <td>1331510400</td>\n",
       "      <td>2</td>\n",
       "      <td>Overall its just OK when considering the price...</td>\n",
       "      <td>2</td>\n",
       "    </tr>\n",
       "    <tr>\n",
       "      <th>1</th>\n",
       "      <td>#oc-R11D9D7SHXIJB9</td>\n",
       "      <td>B005HG9ESG</td>\n",
       "      <td>Louis E. Emory \"hoppy\"</td>\n",
       "      <td>1342396800</td>\n",
       "      <td>5</td>\n",
       "      <td>My wife has recurring extreme muscle spasms, u...</td>\n",
       "      <td>3</td>\n",
       "    </tr>\n",
       "    <tr>\n",
       "      <th>2</th>\n",
       "      <td>#oc-R11DNU2NBKQ23Z</td>\n",
       "      <td>B005ZBZLT4</td>\n",
       "      <td>Kim Cieszykowski</td>\n",
       "      <td>1348531200</td>\n",
       "      <td>1</td>\n",
       "      <td>This coffee is horrible and unfortunately not ...</td>\n",
       "      <td>2</td>\n",
       "    </tr>\n",
       "    <tr>\n",
       "      <th>3</th>\n",
       "      <td>#oc-R11O5J5ZVQE25C</td>\n",
       "      <td>B005HG9ESG</td>\n",
       "      <td>Penguin Chick</td>\n",
       "      <td>1346889600</td>\n",
       "      <td>5</td>\n",
       "      <td>This will be the bottle that you grab from the...</td>\n",
       "      <td>3</td>\n",
       "    </tr>\n",
       "    <tr>\n",
       "      <th>4</th>\n",
       "      <td>#oc-R12KPBODL2B5ZD</td>\n",
       "      <td>B007OSBEV0</td>\n",
       "      <td>Christopher P. Presta</td>\n",
       "      <td>1348617600</td>\n",
       "      <td>1</td>\n",
       "      <td>I didnt like this coffee. Instead of telling y...</td>\n",
       "      <td>2</td>\n",
       "    </tr>\n",
       "  </tbody>\n",
       "</table>\n",
       "</div>"
      ],
      "text/plain": [
       "               UserId   ProductId             ProfileName        Time  Score  \\\n",
       "0  #oc-R115TNMSPFT9I7  B005ZBZLT4                 Breyton  1331510400      2   \n",
       "1  #oc-R11D9D7SHXIJB9  B005HG9ESG  Louis E. Emory \"hoppy\"  1342396800      5   \n",
       "2  #oc-R11DNU2NBKQ23Z  B005ZBZLT4        Kim Cieszykowski  1348531200      1   \n",
       "3  #oc-R11O5J5ZVQE25C  B005HG9ESG           Penguin Chick  1346889600      5   \n",
       "4  #oc-R12KPBODL2B5ZD  B007OSBEV0   Christopher P. Presta  1348617600      1   \n",
       "\n",
       "                                                Text  COUNT(*)  \n",
       "0  Overall its just OK when considering the price...         2  \n",
       "1  My wife has recurring extreme muscle spasms, u...         3  \n",
       "2  This coffee is horrible and unfortunately not ...         2  \n",
       "3  This will be the bottle that you grab from the...         3  \n",
       "4  I didnt like this coffee. Instead of telling y...         2  "
      ]
     },
     "execution_count": 4,
     "metadata": {},
     "output_type": "execute_result"
    }
   ],
   "source": [
    "print(display.shape)\n",
    "display.head()"
   ]
  },
  {
   "cell_type": "code",
   "execution_count": 5,
   "metadata": {
    "colab": {
     "base_uri": "https://localhost:8080/",
     "height": 77
    },
    "colab_type": "code",
    "id": "HUsn2lg8Jkjb",
    "outputId": "7c1599a5-7bab-49cc-9d7f-249eac7762f5"
   },
   "outputs": [
    {
     "data": {
      "text/html": [
       "<div>\n",
       "<style scoped>\n",
       "    .dataframe tbody tr th:only-of-type {\n",
       "        vertical-align: middle;\n",
       "    }\n",
       "\n",
       "    .dataframe tbody tr th {\n",
       "        vertical-align: top;\n",
       "    }\n",
       "\n",
       "    .dataframe thead th {\n",
       "        text-align: right;\n",
       "    }\n",
       "</style>\n",
       "<table border=\"1\" class=\"dataframe\">\n",
       "  <thead>\n",
       "    <tr style=\"text-align: right;\">\n",
       "      <th></th>\n",
       "      <th>UserId</th>\n",
       "      <th>ProductId</th>\n",
       "      <th>ProfileName</th>\n",
       "      <th>Time</th>\n",
       "      <th>Score</th>\n",
       "      <th>Text</th>\n",
       "      <th>COUNT(*)</th>\n",
       "    </tr>\n",
       "  </thead>\n",
       "  <tbody>\n",
       "    <tr>\n",
       "      <th>80638</th>\n",
       "      <td>AZY10LLTJ71NX</td>\n",
       "      <td>B001ATMQK2</td>\n",
       "      <td>undertheshrine \"undertheshrine\"</td>\n",
       "      <td>1296691200</td>\n",
       "      <td>5</td>\n",
       "      <td>I bought this 6 pack because for the price tha...</td>\n",
       "      <td>5</td>\n",
       "    </tr>\n",
       "  </tbody>\n",
       "</table>\n",
       "</div>"
      ],
      "text/plain": [
       "              UserId   ProductId                      ProfileName        Time  \\\n",
       "80638  AZY10LLTJ71NX  B001ATMQK2  undertheshrine \"undertheshrine\"  1296691200   \n",
       "\n",
       "       Score                                               Text  COUNT(*)  \n",
       "80638      5  I bought this 6 pack because for the price tha...         5  "
      ]
     },
     "execution_count": 5,
     "metadata": {},
     "output_type": "execute_result"
    }
   ],
   "source": [
    "display[display['UserId']=='AZY10LLTJ71NX']"
   ]
  },
  {
   "cell_type": "code",
   "execution_count": 6,
   "metadata": {
    "colab": {
     "base_uri": "https://localhost:8080/",
     "height": 34
    },
    "colab_type": "code",
    "id": "CyPhzHZKJkjf",
    "outputId": "98e52aec-149d-49e7-ca95-0ba29295e291"
   },
   "outputs": [
    {
     "data": {
      "text/plain": [
       "393063"
      ]
     },
     "execution_count": 6,
     "metadata": {},
     "output_type": "execute_result"
    }
   ],
   "source": [
    "display['COUNT(*)'].sum()"
   ]
  },
  {
   "cell_type": "markdown",
   "metadata": {
    "colab_type": "text",
    "id": "y22fy_WtJkji"
   },
   "source": [
    "#  [2] Exploratory Data Analysis"
   ]
  },
  {
   "cell_type": "markdown",
   "metadata": {
    "colab_type": "text",
    "id": "ZqpW3tWPJkjl"
   },
   "source": [
    "## [2.1] Data Cleaning: Deduplication\n",
    "\n",
    "It is observed (as shown in the table below) that the reviews data had many duplicate entries. Hence it was necessary to remove duplicates in order to get unbiased results for the analysis of the data.  Following is an example:"
   ]
  },
  {
   "cell_type": "code",
   "execution_count": 7,
   "metadata": {
    "colab": {
     "base_uri": "https://localhost:8080/",
     "height": 279
    },
    "colab_type": "code",
    "id": "fmlu_oooJkjl",
    "outputId": "00ebad7b-1510-4137-9046-3508b4321cdb",
    "scrolled": false
   },
   "outputs": [
    {
     "data": {
      "text/html": [
       "<div>\n",
       "<style scoped>\n",
       "    .dataframe tbody tr th:only-of-type {\n",
       "        vertical-align: middle;\n",
       "    }\n",
       "\n",
       "    .dataframe tbody tr th {\n",
       "        vertical-align: top;\n",
       "    }\n",
       "\n",
       "    .dataframe thead th {\n",
       "        text-align: right;\n",
       "    }\n",
       "</style>\n",
       "<table border=\"1\" class=\"dataframe\">\n",
       "  <thead>\n",
       "    <tr style=\"text-align: right;\">\n",
       "      <th></th>\n",
       "      <th>Id</th>\n",
       "      <th>ProductId</th>\n",
       "      <th>UserId</th>\n",
       "      <th>ProfileName</th>\n",
       "      <th>HelpfulnessNumerator</th>\n",
       "      <th>HelpfulnessDenominator</th>\n",
       "      <th>Score</th>\n",
       "      <th>Time</th>\n",
       "      <th>Summary</th>\n",
       "      <th>Text</th>\n",
       "    </tr>\n",
       "  </thead>\n",
       "  <tbody>\n",
       "    <tr>\n",
       "      <th>0</th>\n",
       "      <td>78445</td>\n",
       "      <td>B000HDL1RQ</td>\n",
       "      <td>AR5J8UI46CURR</td>\n",
       "      <td>Geetha Krishnan</td>\n",
       "      <td>2</td>\n",
       "      <td>2</td>\n",
       "      <td>5</td>\n",
       "      <td>1199577600</td>\n",
       "      <td>LOACKER QUADRATINI VANILLA WAFERS</td>\n",
       "      <td>DELICIOUS WAFERS. I FIND THAT EUROPEAN WAFERS ...</td>\n",
       "    </tr>\n",
       "    <tr>\n",
       "      <th>1</th>\n",
       "      <td>138317</td>\n",
       "      <td>B000HDOPYC</td>\n",
       "      <td>AR5J8UI46CURR</td>\n",
       "      <td>Geetha Krishnan</td>\n",
       "      <td>2</td>\n",
       "      <td>2</td>\n",
       "      <td>5</td>\n",
       "      <td>1199577600</td>\n",
       "      <td>LOACKER QUADRATINI VANILLA WAFERS</td>\n",
       "      <td>DELICIOUS WAFERS. I FIND THAT EUROPEAN WAFERS ...</td>\n",
       "    </tr>\n",
       "    <tr>\n",
       "      <th>2</th>\n",
       "      <td>138277</td>\n",
       "      <td>B000HDOPYM</td>\n",
       "      <td>AR5J8UI46CURR</td>\n",
       "      <td>Geetha Krishnan</td>\n",
       "      <td>2</td>\n",
       "      <td>2</td>\n",
       "      <td>5</td>\n",
       "      <td>1199577600</td>\n",
       "      <td>LOACKER QUADRATINI VANILLA WAFERS</td>\n",
       "      <td>DELICIOUS WAFERS. I FIND THAT EUROPEAN WAFERS ...</td>\n",
       "    </tr>\n",
       "    <tr>\n",
       "      <th>3</th>\n",
       "      <td>73791</td>\n",
       "      <td>B000HDOPZG</td>\n",
       "      <td>AR5J8UI46CURR</td>\n",
       "      <td>Geetha Krishnan</td>\n",
       "      <td>2</td>\n",
       "      <td>2</td>\n",
       "      <td>5</td>\n",
       "      <td>1199577600</td>\n",
       "      <td>LOACKER QUADRATINI VANILLA WAFERS</td>\n",
       "      <td>DELICIOUS WAFERS. I FIND THAT EUROPEAN WAFERS ...</td>\n",
       "    </tr>\n",
       "    <tr>\n",
       "      <th>4</th>\n",
       "      <td>155049</td>\n",
       "      <td>B000PAQ75C</td>\n",
       "      <td>AR5J8UI46CURR</td>\n",
       "      <td>Geetha Krishnan</td>\n",
       "      <td>2</td>\n",
       "      <td>2</td>\n",
       "      <td>5</td>\n",
       "      <td>1199577600</td>\n",
       "      <td>LOACKER QUADRATINI VANILLA WAFERS</td>\n",
       "      <td>DELICIOUS WAFERS. I FIND THAT EUROPEAN WAFERS ...</td>\n",
       "    </tr>\n",
       "  </tbody>\n",
       "</table>\n",
       "</div>"
      ],
      "text/plain": [
       "       Id   ProductId         UserId      ProfileName  HelpfulnessNumerator  \\\n",
       "0   78445  B000HDL1RQ  AR5J8UI46CURR  Geetha Krishnan                     2   \n",
       "1  138317  B000HDOPYC  AR5J8UI46CURR  Geetha Krishnan                     2   \n",
       "2  138277  B000HDOPYM  AR5J8UI46CURR  Geetha Krishnan                     2   \n",
       "3   73791  B000HDOPZG  AR5J8UI46CURR  Geetha Krishnan                     2   \n",
       "4  155049  B000PAQ75C  AR5J8UI46CURR  Geetha Krishnan                     2   \n",
       "\n",
       "   HelpfulnessDenominator  Score        Time  \\\n",
       "0                       2      5  1199577600   \n",
       "1                       2      5  1199577600   \n",
       "2                       2      5  1199577600   \n",
       "3                       2      5  1199577600   \n",
       "4                       2      5  1199577600   \n",
       "\n",
       "                             Summary  \\\n",
       "0  LOACKER QUADRATINI VANILLA WAFERS   \n",
       "1  LOACKER QUADRATINI VANILLA WAFERS   \n",
       "2  LOACKER QUADRATINI VANILLA WAFERS   \n",
       "3  LOACKER QUADRATINI VANILLA WAFERS   \n",
       "4  LOACKER QUADRATINI VANILLA WAFERS   \n",
       "\n",
       "                                                Text  \n",
       "0  DELICIOUS WAFERS. I FIND THAT EUROPEAN WAFERS ...  \n",
       "1  DELICIOUS WAFERS. I FIND THAT EUROPEAN WAFERS ...  \n",
       "2  DELICIOUS WAFERS. I FIND THAT EUROPEAN WAFERS ...  \n",
       "3  DELICIOUS WAFERS. I FIND THAT EUROPEAN WAFERS ...  \n",
       "4  DELICIOUS WAFERS. I FIND THAT EUROPEAN WAFERS ...  "
      ]
     },
     "execution_count": 7,
     "metadata": {},
     "output_type": "execute_result"
    }
   ],
   "source": [
    "display= pd.read_sql_query(\"\"\"\n",
    "SELECT *\n",
    "FROM Reviews\n",
    "WHERE Score != 3 AND UserId=\"AR5J8UI46CURR\"\n",
    "ORDER BY ProductID\n",
    "\"\"\", con)\n",
    "display.head()"
   ]
  },
  {
   "cell_type": "markdown",
   "metadata": {
    "colab_type": "text",
    "id": "pvogJHEyJkjq"
   },
   "source": [
    "As it can be seen above that same user has multiple reviews with same values for HelpfulnessNumerator, HelpfulnessDenominator, Score, Time, Summary and Text and on doing analysis it was found that <br>\n",
    "<br> \n",
    "ProductId=B000HDOPZG was Loacker Quadratini Vanilla Wafer Cookies, 8.82-Ounce Packages (Pack of 8)<br>\n",
    "<br> \n",
    "ProductId=B000HDL1RQ was Loacker Quadratini Lemon Wafer Cookies, 8.82-Ounce Packages (Pack of 8) and so on<br>\n",
    "\n",
    "It was inferred after analysis that reviews with same parameters other than ProductId belonged to the same product just having different flavour or quantity. Hence in order to reduce redundancy it was decided to eliminate the rows having same parameters.<br>\n",
    "\n",
    "The method used for the same was that we first sort the data according to ProductId and then just keep the first similar product review and delelte the others. for eg. in the above just the review for ProductId=B000HDL1RQ remains. This method ensures that there is only one representative for each product and deduplication without sorting would lead to possibility of different representatives still existing for the same product."
   ]
  },
  {
   "cell_type": "code",
   "execution_count": 8,
   "metadata": {
    "colab": {},
    "colab_type": "code",
    "id": "LAWOrfBaJkjr"
   },
   "outputs": [],
   "source": [
    "#Sorting data according to ProductId in ascending order\n",
    "sorted_data=filtered_data.sort_values('ProductId', axis=0, ascending=True, inplace=False, kind='quicksort', na_position='last')"
   ]
  },
  {
   "cell_type": "code",
   "execution_count": 9,
   "metadata": {
    "colab": {
     "base_uri": "https://localhost:8080/",
     "height": 34
    },
    "colab_type": "code",
    "id": "dfaQob28Jkju",
    "outputId": "65ba41ac-d7f5-48f4-ee56-a16e1682b54c"
   },
   "outputs": [
    {
     "data": {
      "text/plain": [
       "(87775, 10)"
      ]
     },
     "execution_count": 9,
     "metadata": {},
     "output_type": "execute_result"
    }
   ],
   "source": [
    "#Deduplication of entries\n",
    "final=sorted_data.drop_duplicates(subset={\"UserId\",\"ProfileName\",\"Time\",\"Text\"}, keep='first', inplace=False)\n",
    "final.shape"
   ]
  },
  {
   "cell_type": "code",
   "execution_count": 10,
   "metadata": {
    "colab": {
     "base_uri": "https://localhost:8080/",
     "height": 34
    },
    "colab_type": "code",
    "id": "9QVxT6oxJkjx",
    "outputId": "281d29b6-3464-4e9a-8397-b96abdb0324b"
   },
   "outputs": [
    {
     "data": {
      "text/plain": [
       "87.775"
      ]
     },
     "execution_count": 10,
     "metadata": {},
     "output_type": "execute_result"
    }
   ],
   "source": [
    "#Checking to see how much % of data still remains\n",
    "(final['Id'].size*1.0)/(filtered_data['Id'].size*1.0)*100"
   ]
  },
  {
   "cell_type": "markdown",
   "metadata": {
    "colab_type": "text",
    "id": "qVaxONHLJkj1"
   },
   "source": [
    "<b>Observation:-</b> It was also seen that in two rows given below the value of HelpfulnessNumerator is greater than HelpfulnessDenominator which is not practically possible hence these two rows too are removed from calcualtions"
   ]
  },
  {
   "cell_type": "code",
   "execution_count": 11,
   "metadata": {
    "colab": {
     "base_uri": "https://localhost:8080/",
     "height": 140
    },
    "colab_type": "code",
    "id": "vLoqfOjcJkj1",
    "outputId": "5d39770e-9702-41eb-988e-2c0e52173de4"
   },
   "outputs": [
    {
     "data": {
      "text/html": [
       "<div>\n",
       "<style scoped>\n",
       "    .dataframe tbody tr th:only-of-type {\n",
       "        vertical-align: middle;\n",
       "    }\n",
       "\n",
       "    .dataframe tbody tr th {\n",
       "        vertical-align: top;\n",
       "    }\n",
       "\n",
       "    .dataframe thead th {\n",
       "        text-align: right;\n",
       "    }\n",
       "</style>\n",
       "<table border=\"1\" class=\"dataframe\">\n",
       "  <thead>\n",
       "    <tr style=\"text-align: right;\">\n",
       "      <th></th>\n",
       "      <th>Id</th>\n",
       "      <th>ProductId</th>\n",
       "      <th>UserId</th>\n",
       "      <th>ProfileName</th>\n",
       "      <th>HelpfulnessNumerator</th>\n",
       "      <th>HelpfulnessDenominator</th>\n",
       "      <th>Score</th>\n",
       "      <th>Time</th>\n",
       "      <th>Summary</th>\n",
       "      <th>Text</th>\n",
       "    </tr>\n",
       "  </thead>\n",
       "  <tbody>\n",
       "    <tr>\n",
       "      <th>0</th>\n",
       "      <td>64422</td>\n",
       "      <td>B000MIDROQ</td>\n",
       "      <td>A161DK06JJMCYF</td>\n",
       "      <td>J. E. Stephens \"Jeanne\"</td>\n",
       "      <td>3</td>\n",
       "      <td>1</td>\n",
       "      <td>5</td>\n",
       "      <td>1224892800</td>\n",
       "      <td>Bought This for My Son at College</td>\n",
       "      <td>My son loves spaghetti so I didn't hesitate or...</td>\n",
       "    </tr>\n",
       "    <tr>\n",
       "      <th>1</th>\n",
       "      <td>44737</td>\n",
       "      <td>B001EQ55RW</td>\n",
       "      <td>A2V0I904FH7ABY</td>\n",
       "      <td>Ram</td>\n",
       "      <td>3</td>\n",
       "      <td>2</td>\n",
       "      <td>4</td>\n",
       "      <td>1212883200</td>\n",
       "      <td>Pure cocoa taste with crunchy almonds inside</td>\n",
       "      <td>It was almost a 'love at first bite' - the per...</td>\n",
       "    </tr>\n",
       "  </tbody>\n",
       "</table>\n",
       "</div>"
      ],
      "text/plain": [
       "      Id   ProductId          UserId              ProfileName  \\\n",
       "0  64422  B000MIDROQ  A161DK06JJMCYF  J. E. Stephens \"Jeanne\"   \n",
       "1  44737  B001EQ55RW  A2V0I904FH7ABY                      Ram   \n",
       "\n",
       "   HelpfulnessNumerator  HelpfulnessDenominator  Score        Time  \\\n",
       "0                     3                       1      5  1224892800   \n",
       "1                     3                       2      4  1212883200   \n",
       "\n",
       "                                        Summary  \\\n",
       "0             Bought This for My Son at College   \n",
       "1  Pure cocoa taste with crunchy almonds inside   \n",
       "\n",
       "                                                Text  \n",
       "0  My son loves spaghetti so I didn't hesitate or...  \n",
       "1  It was almost a 'love at first bite' - the per...  "
      ]
     },
     "execution_count": 11,
     "metadata": {},
     "output_type": "execute_result"
    }
   ],
   "source": [
    "display= pd.read_sql_query(\"\"\"\n",
    "SELECT *\n",
    "FROM Reviews\n",
    "WHERE Score != 3 AND Id=44737 OR Id=64422\n",
    "ORDER BY ProductID\n",
    "\"\"\", con)\n",
    "\n",
    "display.head()"
   ]
  },
  {
   "cell_type": "code",
   "execution_count": 12,
   "metadata": {
    "colab": {},
    "colab_type": "code",
    "id": "f_185ozFJkj9"
   },
   "outputs": [],
   "source": [
    "final=final[final.HelpfulnessNumerator<=final.HelpfulnessDenominator]"
   ]
  },
  {
   "cell_type": "code",
   "execution_count": 13,
   "metadata": {
    "colab": {
     "base_uri": "https://localhost:8080/",
     "height": 84
    },
    "colab_type": "code",
    "id": "CofRySJyJkkC",
    "outputId": "50405600-e760-47c5-8964-8bdbf1e452ef"
   },
   "outputs": [
    {
     "name": "stdout",
     "output_type": "stream",
     "text": [
      "(87773, 10)\n"
     ]
    },
    {
     "data": {
      "text/plain": [
       "1    73592\n",
       "0    14181\n",
       "Name: Score, dtype: int64"
      ]
     },
     "execution_count": 13,
     "metadata": {},
     "output_type": "execute_result"
    }
   ],
   "source": [
    "#Before starting the next phase of preprocessing lets see the number of entries left\n",
    "print(final.shape)\n",
    "\n",
    "#How many positive and negative reviews are present in our dataset?\n",
    "final['Score'].value_counts()"
   ]
  },
  {
   "cell_type": "markdown",
   "metadata": {
    "colab_type": "text",
    "id": "-fEWeywxJkkI"
   },
   "source": [
    "#  [3] Preprocessing"
   ]
  },
  {
   "cell_type": "markdown",
   "metadata": {
    "colab_type": "text",
    "id": "tzpbt9aOJkkJ"
   },
   "source": [
    "## [3.1].  Preprocessing Review Text\n",
    "\n",
    "Now that we have finished deduplication our data requires some preprocessing before we go on further with analysis and making the prediction model.\n",
    "\n",
    "Hence in the Preprocessing phase we do the following in the order below:-\n",
    "\n",
    "1. Begin by removing the html tags\n",
    "2. Remove any punctuations or limited set of special characters like , or . or # etc.\n",
    "3. Check if the word is made up of english letters and is not alpha-numeric\n",
    "4. Check to see if the length of the word is greater than 2 (as it was researched that there is no adjective in 2-letters)\n",
    "5. Convert the word to lowercase\n",
    "6. Remove Stopwords\n",
    "7. Finally Snowball Stemming the word (it was obsereved to be better than Porter Stemming)<br>\n",
    "\n",
    "After which we collect the words used to describe positive and negative reviews"
   ]
  },
  {
   "cell_type": "code",
   "execution_count": 14,
   "metadata": {
    "colab": {
     "base_uri": "https://localhost:8080/",
     "height": 171
    },
    "colab_type": "code",
    "id": "YqxBeLk8JkkL",
    "outputId": "5634e98f-d863-46a2-da78-26d87254619a"
   },
   "outputs": [
    {
     "name": "stdout",
     "output_type": "stream",
     "text": [
      "My dogs loves this chicken but its a product from China, so we wont be buying it anymore.  Its very hard to find any chicken products made in the USA but they are out there, but this one isnt.  Its too bad too because its a good product but I wont take any chances till they know what is going on with the china imports.\n",
      "==================================================\n",
      "The Candy Blocks were a nice visual for the Lego Birthday party but the candy has little taste to it.  Very little of the 2 lbs that I bought were eaten and I threw the rest away.  I would not buy the candy again.\n",
      "==================================================\n",
      "was way to hot for my blood, took a bite and did a jig  lol\n",
      "==================================================\n",
      "My dog LOVES these treats. They tend to have a very strong fish oil smell. So if you are afraid of the fishy smell, don't get it. But I think my dog likes it because of the smell. These treats are really small in size. They are great for training. You can give your dog several of these without worrying about him over eating. Amazon's price was much more reasonable than any other retailer. You can buy a 1 pound bag on Amazon for almost the same price as a 6 ounce bag at other retailers. It's definitely worth it to buy a big bag if your dog eats them a lot.\n",
      "==================================================\n"
     ]
    }
   ],
   "source": [
    "# printing some random reviews\n",
    "sent_0 = final['Text'].values[0]\n",
    "print(sent_0)\n",
    "print(\"=\"*50)\n",
    "\n",
    "sent_1000 = final['Text'].values[1000]\n",
    "print(sent_1000)\n",
    "print(\"=\"*50)\n",
    "\n",
    "sent_1500 = final['Text'].values[1500]\n",
    "print(sent_1500)\n",
    "print(\"=\"*50)\n",
    "\n",
    "sent_4900 = final['Text'].values[4900]\n",
    "print(sent_4900)\n",
    "print(\"=\"*50)"
   ]
  },
  {
   "cell_type": "code",
   "execution_count": 15,
   "metadata": {
    "colab": {
     "base_uri": "https://localhost:8080/",
     "height": 54
    },
    "colab_type": "code",
    "id": "lWiJ2_9gJkkP",
    "outputId": "faf63037-6e69-457a-b8ac-ab95acec1f6e"
   },
   "outputs": [
    {
     "name": "stdout",
     "output_type": "stream",
     "text": [
      "My dogs loves this chicken but its a product from China, so we wont be buying it anymore.  Its very hard to find any chicken products made in the USA but they are out there, but this one isnt.  Its too bad too because its a good product but I wont take any chances till they know what is going on with the china imports.\n"
     ]
    }
   ],
   "source": [
    "# remove urls from text python: https://stackoverflow.com/a/40823105/4084039\n",
    "sent_0 = re.sub(r\"http\\S+\", \"\", sent_0)\n",
    "sent_1000 = re.sub(r\"http\\S+\", \"\", sent_1000)\n",
    "sent_150 = re.sub(r\"http\\S+\", \"\", sent_1500)\n",
    "sent_4900 = re.sub(r\"http\\S+\", \"\", sent_4900)\n",
    "\n",
    "print(sent_0)"
   ]
  },
  {
   "cell_type": "code",
   "execution_count": 16,
   "metadata": {
    "colab": {
     "base_uri": "https://localhost:8080/",
     "height": 154
    },
    "colab_type": "code",
    "id": "cpLtZ-lAJkkR",
    "outputId": "90127585-39f9-4f6b-87d9-bdc206e02e31"
   },
   "outputs": [
    {
     "name": "stdout",
     "output_type": "stream",
     "text": [
      "My dogs loves this chicken but its a product from China, so we wont be buying it anymore.  Its very hard to find any chicken products made in the USA but they are out there, but this one isnt.  Its too bad too because its a good product but I wont take any chances till they know what is going on with the china imports.\n",
      "==================================================\n",
      "The Candy Blocks were a nice visual for the Lego Birthday party but the candy has little taste to it.  Very little of the 2 lbs that I bought were eaten and I threw the rest away.  I would not buy the candy again.\n",
      "==================================================\n",
      "was way to hot for my blood, took a bite and did a jig  lol\n",
      "==================================================\n",
      "My dog LOVES these treats. They tend to have a very strong fish oil smell. So if you are afraid of the fishy smell, don't get it. But I think my dog likes it because of the smell. These treats are really small in size. They are great for training. You can give your dog several of these without worrying about him over eating. Amazon's price was much more reasonable than any other retailer. You can buy a 1 pound bag on Amazon for almost the same price as a 6 ounce bag at other retailers. It's definitely worth it to buy a big bag if your dog eats them a lot.\n"
     ]
    }
   ],
   "source": [
    "# https://stackoverflow.com/questions/16206380/python-beautifulsoup-how-to-remove-all-tags-from-an-element\n",
    "from bs4 import BeautifulSoup\n",
    "\n",
    "soup = BeautifulSoup(sent_0, 'lxml')\n",
    "text = soup.get_text()\n",
    "print(text)\n",
    "print(\"=\"*50)\n",
    "\n",
    "soup = BeautifulSoup(sent_1000, 'lxml')\n",
    "text = soup.get_text()\n",
    "print(text)\n",
    "print(\"=\"*50)\n",
    "\n",
    "soup = BeautifulSoup(sent_1500, 'lxml')\n",
    "text = soup.get_text()\n",
    "print(text)\n",
    "print(\"=\"*50)\n",
    "\n",
    "soup = BeautifulSoup(sent_4900, 'lxml')\n",
    "text = soup.get_text()\n",
    "print(text)"
   ]
  },
  {
   "cell_type": "code",
   "execution_count": 17,
   "metadata": {
    "colab": {},
    "colab_type": "code",
    "id": "HYBbtiCMJkkW"
   },
   "outputs": [],
   "source": [
    "# https://stackoverflow.com/a/47091490/4084039\n",
    "import re\n",
    "\n",
    "def decontracted(phrase):\n",
    "    # specific\n",
    "    phrase = re.sub(r\"won't\", \"will not\", phrase)\n",
    "    phrase = re.sub(r\"can\\'t\", \"can not\", phrase)\n",
    "\n",
    "    # general\n",
    "    phrase = re.sub(r\"n\\'t\", \" not\", phrase)\n",
    "    phrase = re.sub(r\"\\'re\", \" are\", phrase)\n",
    "    phrase = re.sub(r\"\\'s\", \" is\", phrase)\n",
    "    phrase = re.sub(r\"\\'d\", \" would\", phrase)\n",
    "    phrase = re.sub(r\"\\'ll\", \" will\", phrase)\n",
    "    phrase = re.sub(r\"\\'t\", \" not\", phrase)\n",
    "    phrase = re.sub(r\"\\'ve\", \" have\", phrase)\n",
    "    phrase = re.sub(r\"\\'m\", \" am\", phrase)\n",
    "    return phrase"
   ]
  },
  {
   "cell_type": "code",
   "execution_count": 18,
   "metadata": {
    "colab": {
     "base_uri": "https://localhost:8080/",
     "height": 50
    },
    "colab_type": "code",
    "id": "WPQSZurTJkkY",
    "outputId": "3686f821-6368-46e0-a899-5d2df76e0ea1"
   },
   "outputs": [
    {
     "name": "stdout",
     "output_type": "stream",
     "text": [
      "was way to hot for my blood, took a bite and did a jig  lol\n",
      "==================================================\n"
     ]
    }
   ],
   "source": [
    "sent_1500 = decontracted(sent_1500)\n",
    "print(sent_1500)\n",
    "print(\"=\"*50)"
   ]
  },
  {
   "cell_type": "code",
   "execution_count": 19,
   "metadata": {
    "colab": {
     "base_uri": "https://localhost:8080/",
     "height": 54
    },
    "colab_type": "code",
    "id": "6bakeyaQJkkb",
    "outputId": "5ad9ff5e-cdad-4ac7-94a6-8df68ff09fd0"
   },
   "outputs": [
    {
     "name": "stdout",
     "output_type": "stream",
     "text": [
      "My dogs loves this chicken but its a product from China, so we wont be buying it anymore.  Its very hard to find any chicken products made in the USA but they are out there, but this one isnt.  Its too bad too because its a good product but I wont take any chances till they know what is going on with the china imports.\n"
     ]
    }
   ],
   "source": [
    "#remove words with numbers python: https://stackoverflow.com/a/18082370/4084039\n",
    "sent_0 = re.sub(\"\\S*\\d\\S*\", \"\", sent_0).strip()\n",
    "print(sent_0)"
   ]
  },
  {
   "cell_type": "code",
   "execution_count": 20,
   "metadata": {
    "colab": {
     "base_uri": "https://localhost:8080/",
     "height": 34
    },
    "colab_type": "code",
    "id": "dMqqVqadJkkg",
    "outputId": "f09e9a22-bea4-4289-d6b2-d703d5fe634c"
   },
   "outputs": [
    {
     "name": "stdout",
     "output_type": "stream",
     "text": [
      "was way to hot for my blood took a bite and did a jig lol\n"
     ]
    }
   ],
   "source": [
    "#remove spacial character: https://stackoverflow.com/a/5843547/4084039\n",
    "sent_1500 = re.sub('[^A-Za-z0-9]+', ' ', sent_1500)\n",
    "print(sent_1500)"
   ]
  },
  {
   "cell_type": "code",
   "execution_count": 21,
   "metadata": {
    "colab": {},
    "colab_type": "code",
    "id": "bvEoXB5NJkkk"
   },
   "outputs": [],
   "source": [
    "# https://gist.github.com/sebleier/554280\n",
    "# we are removing the words from the stop words list: 'no', 'nor', 'not'\n",
    "# <br /><br /> ==> after the above steps, we are getting \"br br\"\n",
    "# we are including them into stop words list\n",
    "# instead of <br /> if we have <br/> these tags would have revmoved in the 1st step\n",
    "\n",
    "stopwords= set(['br', 'the', 'i', 'me', 'my', 'myself', 'we', 'our', 'ours', 'ourselves', 'you', \"you're\", \"you've\",\\\n",
    "            \"you'll\", \"you'd\", 'your', 'yours', 'yourself', 'yourselves', 'he', 'him', 'his', 'himself', \\\n",
    "            'she', \"she's\", 'her', 'hers', 'herself', 'it', \"it's\", 'its', 'itself', 'they', 'them', 'their',\\\n",
    "            'theirs', 'themselves', 'what', 'which', 'who', 'whom', 'this', 'that', \"that'll\", 'these', 'those', \\\n",
    "            'am', 'is', 'are', 'was', 'were', 'be', 'been', 'being', 'have', 'has', 'had', 'having', 'do', 'does', \\\n",
    "            'did', 'doing', 'a', 'an', 'the', 'and', 'but', 'if', 'or', 'because', 'as', 'until', 'while', 'of', \\\n",
    "            'at', 'by', 'for', 'with', 'about', 'against', 'between', 'into', 'through', 'during', 'before', 'after',\\\n",
    "            'above', 'below', 'to', 'from', 'up', 'down', 'in', 'out', 'on', 'off', 'over', 'under', 'again', 'further',\\\n",
    "            'then', 'once', 'here', 'there', 'when', 'where', 'why', 'how', 'all', 'any', 'both', 'each', 'few', 'more',\\\n",
    "            'most', 'other', 'some', 'such', 'only', 'own', 'same', 'so', 'than', 'too', 'very', \\\n",
    "            's', 't', 'can', 'will', 'just', 'don', \"don't\", 'should', \"should've\", 'now', 'd', 'll', 'm', 'o', 're', \\\n",
    "            've', 'y', 'ain', 'aren', \"aren't\", 'couldn', \"couldn't\", 'didn', \"didn't\", 'doesn', \"doesn't\", 'hadn',\\\n",
    "            \"hadn't\", 'hasn', \"hasn't\", 'haven', \"haven't\", 'isn', \"isn't\", 'ma', 'mightn', \"mightn't\", 'mustn',\\\n",
    "            \"mustn't\", 'needn', \"needn't\", 'shan', \"shan't\", 'shouldn', \"shouldn't\", 'wasn', \"wasn't\", 'weren', \"weren't\", \\\n",
    "            'won', \"won't\", 'wouldn', \"wouldn't\"])"
   ]
  },
  {
   "cell_type": "code",
   "execution_count": 22,
   "metadata": {
    "colab": {
     "base_uri": "https://localhost:8080/",
     "height": 34
    },
    "colab_type": "code",
    "id": "0j3jfqWCJkko",
    "outputId": "f1914fd1-9db8-496b-df2e-bbfdfe27fe70"
   },
   "outputs": [
    {
     "name": "stderr",
     "output_type": "stream",
     "text": [
      "100%|██████████████████████████████████████████████████████████████████████████| 87773/87773 [00:27<00:00, 3205.75it/s]\n"
     ]
    }
   ],
   "source": [
    "# Combining all the above stundents \n",
    "from tqdm import tqdm\n",
    "preprocessed_reviews = []\n",
    "# tqdm is for printing the status bar\n",
    "for sentance in tqdm(final['Text'].values):\n",
    "    sentance = re.sub(r\"http\\S+\", \"\", sentance)\n",
    "    sentance = BeautifulSoup(sentance, 'lxml').get_text()\n",
    "    sentance = decontracted(sentance)\n",
    "    sentance = re.sub(\"\\S*\\d\\S*\", \"\", sentance).strip()\n",
    "    sentance = re.sub('[^A-Za-z]+', ' ', sentance)\n",
    "    # https://gist.github.com/sebleier/554280\n",
    "    sentance = ' '.join(e.lower() for e in sentance.split() if e.lower() not in stopwords)\n",
    "    preprocessed_reviews.append(sentance.strip())"
   ]
  },
  {
   "cell_type": "code",
   "execution_count": 23,
   "metadata": {
    "colab": {},
    "colab_type": "code",
    "id": "xivFE_5vb-8M"
   },
   "outputs": [],
   "source": [
    "final['Cleaned Text'] = preprocessed_reviews"
   ]
  },
  {
   "cell_type": "code",
   "execution_count": 24,
   "metadata": {
    "colab": {},
    "colab_type": "code",
    "id": "ZNcCCEWZb-8O"
   },
   "outputs": [],
   "source": [
    "sample1 = pd.DataFrame()"
   ]
  },
  {
   "cell_type": "code",
   "execution_count": 25,
   "metadata": {
    "colab": {},
    "colab_type": "code",
    "id": "2S_4CnIQb-8Q"
   },
   "outputs": [],
   "source": [
    "sample1['Cleaned Text'] =preprocessed_reviews"
   ]
  },
  {
   "cell_type": "code",
   "execution_count": 26,
   "metadata": {
    "colab": {
     "base_uri": "https://localhost:8080/",
     "height": 136
    },
    "colab_type": "code",
    "id": "zsCXnPHob-8S",
    "outputId": "d00a557b-a49f-4b85-ed2f-cd1db0ac1a78"
   },
   "outputs": [
    {
     "data": {
      "text/html": [
       "<div>\n",
       "<style scoped>\n",
       "    .dataframe tbody tr th:only-of-type {\n",
       "        vertical-align: middle;\n",
       "    }\n",
       "\n",
       "    .dataframe tbody tr th {\n",
       "        vertical-align: top;\n",
       "    }\n",
       "\n",
       "    .dataframe thead th {\n",
       "        text-align: right;\n",
       "    }\n",
       "</style>\n",
       "<table border=\"1\" class=\"dataframe\">\n",
       "  <thead>\n",
       "    <tr style=\"text-align: right;\">\n",
       "      <th></th>\n",
       "      <th>Cleaned Text</th>\n",
       "    </tr>\n",
       "  </thead>\n",
       "  <tbody>\n",
       "    <tr>\n",
       "      <th>87770</th>\n",
       "      <td>trader joe product good quality buy straight t...</td>\n",
       "    </tr>\n",
       "    <tr>\n",
       "      <th>87771</th>\n",
       "      <td>coffee supposedly premium tastes watery thin n...</td>\n",
       "    </tr>\n",
       "    <tr>\n",
       "      <th>87772</th>\n",
       "      <td>purchased product local store ny kids love qui...</td>\n",
       "    </tr>\n",
       "  </tbody>\n",
       "</table>\n",
       "</div>"
      ],
      "text/plain": [
       "                                            Cleaned Text\n",
       "87770  trader joe product good quality buy straight t...\n",
       "87771  coffee supposedly premium tastes watery thin n...\n",
       "87772  purchased product local store ny kids love qui..."
      ]
     },
     "execution_count": 26,
     "metadata": {},
     "output_type": "execute_result"
    }
   ],
   "source": [
    "sample1.tail(3)"
   ]
  },
  {
   "cell_type": "code",
   "execution_count": 27,
   "metadata": {
    "colab": {},
    "colab_type": "code",
    "id": "2LswsGu5b-8U"
   },
   "outputs": [],
   "source": [
    "k1 = []"
   ]
  },
  {
   "cell_type": "code",
   "execution_count": 28,
   "metadata": {
    "colab": {
     "base_uri": "https://localhost:8080/",
     "height": 34
    },
    "colab_type": "code",
    "id": "_x2dv2Kxb-8W",
    "outputId": "846db39d-75bb-4888-fd91-af3e897b16d7"
   },
   "outputs": [
    {
     "data": {
      "text/plain": [
       "(87773, 1)"
      ]
     },
     "execution_count": 28,
     "metadata": {},
     "output_type": "execute_result"
    }
   ],
   "source": [
    "sample1.shape"
   ]
  },
  {
   "cell_type": "code",
   "execution_count": 29,
   "metadata": {
    "colab": {},
    "colab_type": "code",
    "id": "ZM61tjEkb-8Y"
   },
   "outputs": [],
   "source": [
    "for i in range(0,87773):\n",
    "    k1.append(len(preprocessed_reviews[i]))"
   ]
  },
  {
   "cell_type": "code",
   "execution_count": 30,
   "metadata": {
    "colab": {},
    "colab_type": "code",
    "id": "zQfsR7SXb-8b"
   },
   "outputs": [],
   "source": [
    "sample1['Length'] = k1"
   ]
  },
  {
   "cell_type": "code",
   "execution_count": 31,
   "metadata": {
    "colab": {
     "base_uri": "https://localhost:8080/",
     "height": 136
    },
    "colab_type": "code",
    "id": "NsuLwRmhb-8d",
    "outputId": "ce30d6d9-78c8-4b23-867b-e4fbf8e875e3"
   },
   "outputs": [
    {
     "data": {
      "text/html": [
       "<div>\n",
       "<style scoped>\n",
       "    .dataframe tbody tr th:only-of-type {\n",
       "        vertical-align: middle;\n",
       "    }\n",
       "\n",
       "    .dataframe tbody tr th {\n",
       "        vertical-align: top;\n",
       "    }\n",
       "\n",
       "    .dataframe thead th {\n",
       "        text-align: right;\n",
       "    }\n",
       "</style>\n",
       "<table border=\"1\" class=\"dataframe\">\n",
       "  <thead>\n",
       "    <tr style=\"text-align: right;\">\n",
       "      <th></th>\n",
       "      <th>Cleaned Text</th>\n",
       "      <th>Length</th>\n",
       "    </tr>\n",
       "  </thead>\n",
       "  <tbody>\n",
       "    <tr>\n",
       "      <th>0</th>\n",
       "      <td>dogs loves chicken product china wont buying a...</td>\n",
       "      <td>162</td>\n",
       "    </tr>\n",
       "    <tr>\n",
       "      <th>1</th>\n",
       "      <td>dogs love saw pet store tag attached regarding...</td>\n",
       "      <td>72</td>\n",
       "    </tr>\n",
       "    <tr>\n",
       "      <th>2</th>\n",
       "      <td>infestation fruitflies literally everywhere fl...</td>\n",
       "      <td>406</td>\n",
       "    </tr>\n",
       "  </tbody>\n",
       "</table>\n",
       "</div>"
      ],
      "text/plain": [
       "                                        Cleaned Text  Length\n",
       "0  dogs loves chicken product china wont buying a...     162\n",
       "1  dogs love saw pet store tag attached regarding...      72\n",
       "2  infestation fruitflies literally everywhere fl...     406"
      ]
     },
     "execution_count": 31,
     "metadata": {},
     "output_type": "execute_result"
    }
   ],
   "source": [
    "sample1.head(3)"
   ]
  },
  {
   "cell_type": "markdown",
   "metadata": {
    "colab_type": "text",
    "id": "zak5yP5zJkkt"
   },
   "source": [
    "<h2><font color='red'>[3.2] Preprocessing Review Summary</font></h2>"
   ]
  },
  {
   "cell_type": "code",
   "execution_count": 32,
   "metadata": {
    "colab": {},
    "colab_type": "code",
    "id": "ktAquvYSb-8g"
   },
   "outputs": [],
   "source": [
    "from sklearn.feature_extraction.text import CountVectorizer\n",
    "from sklearn.model_selection import train_test_split\n",
    "from sklearn import preprocessing"
   ]
  },
  {
   "cell_type": "markdown",
   "metadata": {
    "colab_type": "text",
    "id": "PdNCeqFMb-8i"
   },
   "source": [
    "# Splitting the Data with feature engineering"
   ]
  },
  {
   "cell_type": "code",
   "execution_count": 33,
   "metadata": {
    "colab": {},
    "colab_type": "code",
    "id": "ENMMmXgFb-8j"
   },
   "outputs": [],
   "source": [
    "X_train1, X_test1, y_train1, y_test1 = train_test_split(sample1,final['Score'].values,test_size=0.3,shuffle=False)"
   ]
  },
  {
   "cell_type": "code",
   "execution_count": 34,
   "metadata": {
    "colab": {
     "base_uri": "https://localhost:8080/",
     "height": 34
    },
    "colab_type": "code",
    "id": "pBkbXaAwb-8l",
    "outputId": "f2e49518-7386-4d31-9f9e-6948a400c958"
   },
   "outputs": [
    {
     "data": {
      "text/plain": [
       "(61441,)"
      ]
     },
     "execution_count": 34,
     "metadata": {},
     "output_type": "execute_result"
    }
   ],
   "source": [
    "y_train1.shape"
   ]
  },
  {
   "cell_type": "code",
   "execution_count": 38,
   "metadata": {
    "colab": {
     "base_uri": "https://localhost:8080/",
     "height": 34
    },
    "colab_type": "code",
    "id": "mPQqn21Vb-8n",
    "outputId": "e7726731-2184-48b6-e204-daa391124026"
   },
   "outputs": [
    {
     "data": {
      "text/plain": [
       "(61441, 2)"
      ]
     },
     "execution_count": 38,
     "metadata": {},
     "output_type": "execute_result"
    }
   ],
   "source": [
    "X_train1.shape"
   ]
  },
  {
   "cell_type": "code",
   "execution_count": 39,
   "metadata": {
    "colab": {
     "base_uri": "https://localhost:8080/",
     "height": 34
    },
    "colab_type": "code",
    "id": "wmfq_Hafb-8q",
    "outputId": "83571edb-8c92-40c1-ea10-55bf53c52dc7"
   },
   "outputs": [
    {
     "data": {
      "text/plain": [
       "(26332, 2)"
      ]
     },
     "execution_count": 39,
     "metadata": {},
     "output_type": "execute_result"
    }
   ],
   "source": [
    "X_test1.shape"
   ]
  },
  {
   "cell_type": "code",
   "execution_count": 40,
   "metadata": {
    "colab": {
     "base_uri": "https://localhost:8080/",
     "height": 34
    },
    "colab_type": "code",
    "id": "cYvo99N6b-8s",
    "outputId": "24ba948b-ac9f-43a9-954f-dadb6c138868"
   },
   "outputs": [
    {
     "data": {
      "text/plain": [
       "numpy.ndarray"
      ]
     },
     "execution_count": 40,
     "metadata": {},
     "output_type": "execute_result"
    }
   ],
   "source": [
    "type(y_test1)"
   ]
  },
  {
   "cell_type": "code",
   "execution_count": 41,
   "metadata": {
    "colab": {
     "base_uri": "https://localhost:8080/",
     "height": 34
    },
    "colab_type": "code",
    "id": "lvzRbAzXb-8u",
    "outputId": "6449ff98-3e46-4324-cd02-cd2ba85985ca"
   },
   "outputs": [
    {
     "data": {
      "text/plain": [
       "pandas.core.frame.DataFrame"
      ]
     },
     "execution_count": 41,
     "metadata": {},
     "output_type": "execute_result"
    }
   ],
   "source": [
    "type(X_test1)"
   ]
  },
  {
   "cell_type": "code",
   "execution_count": 35,
   "metadata": {
    "colab": {
     "base_uri": "https://localhost:8080/",
     "height": 136
    },
    "colab_type": "code",
    "id": "KOyUM8U-b-8z",
    "outputId": "58f126c6-8f6a-4d07-939d-73352d2f3cb5"
   },
   "outputs": [
    {
     "data": {
      "text/html": [
       "<div>\n",
       "<style scoped>\n",
       "    .dataframe tbody tr th:only-of-type {\n",
       "        vertical-align: middle;\n",
       "    }\n",
       "\n",
       "    .dataframe tbody tr th {\n",
       "        vertical-align: top;\n",
       "    }\n",
       "\n",
       "    .dataframe thead th {\n",
       "        text-align: right;\n",
       "    }\n",
       "</style>\n",
       "<table border=\"1\" class=\"dataframe\">\n",
       "  <thead>\n",
       "    <tr style=\"text-align: right;\">\n",
       "      <th></th>\n",
       "      <th>Cleaned Text</th>\n",
       "      <th>Length</th>\n",
       "    </tr>\n",
       "  </thead>\n",
       "  <tbody>\n",
       "    <tr>\n",
       "      <th>0</th>\n",
       "      <td>dogs loves chicken product china wont buying a...</td>\n",
       "      <td>162</td>\n",
       "    </tr>\n",
       "    <tr>\n",
       "      <th>1</th>\n",
       "      <td>dogs love saw pet store tag attached regarding...</td>\n",
       "      <td>72</td>\n",
       "    </tr>\n",
       "    <tr>\n",
       "      <th>2</th>\n",
       "      <td>infestation fruitflies literally everywhere fl...</td>\n",
       "      <td>406</td>\n",
       "    </tr>\n",
       "  </tbody>\n",
       "</table>\n",
       "</div>"
      ],
      "text/plain": [
       "                                        Cleaned Text  Length\n",
       "0  dogs loves chicken product china wont buying a...     162\n",
       "1  dogs love saw pet store tag attached regarding...      72\n",
       "2  infestation fruitflies literally everywhere fl...     406"
      ]
     },
     "execution_count": 35,
     "metadata": {},
     "output_type": "execute_result"
    }
   ],
   "source": [
    "X_train1.head(3)"
   ]
  },
  {
   "cell_type": "code",
   "execution_count": 36,
   "metadata": {
    "colab": {
     "base_uri": "https://localhost:8080/",
     "height": 136
    },
    "colab_type": "code",
    "id": "y0HKnzjab-81",
    "outputId": "526d1615-15be-4951-e57e-64c7b7481a4e"
   },
   "outputs": [
    {
     "data": {
      "text/html": [
       "<div>\n",
       "<style scoped>\n",
       "    .dataframe tbody tr th:only-of-type {\n",
       "        vertical-align: middle;\n",
       "    }\n",
       "\n",
       "    .dataframe tbody tr th {\n",
       "        vertical-align: top;\n",
       "    }\n",
       "\n",
       "    .dataframe thead th {\n",
       "        text-align: right;\n",
       "    }\n",
       "</style>\n",
       "<table border=\"1\" class=\"dataframe\">\n",
       "  <thead>\n",
       "    <tr style=\"text-align: right;\">\n",
       "      <th></th>\n",
       "      <th>Cleaned Text</th>\n",
       "      <th>Length</th>\n",
       "    </tr>\n",
       "  </thead>\n",
       "  <tbody>\n",
       "    <tr>\n",
       "      <th>61441</th>\n",
       "      <td>used treat training reward dog loves easy brea...</td>\n",
       "      <td>66</td>\n",
       "    </tr>\n",
       "    <tr>\n",
       "      <th>61442</th>\n",
       "      <td>much fun watching puppies asking chicken treat...</td>\n",
       "      <td>134</td>\n",
       "    </tr>\n",
       "    <tr>\n",
       "      <th>61443</th>\n",
       "      <td>little shih tzu absolutely loves cesar softies...</td>\n",
       "      <td>181</td>\n",
       "    </tr>\n",
       "  </tbody>\n",
       "</table>\n",
       "</div>"
      ],
      "text/plain": [
       "                                            Cleaned Text  Length\n",
       "61441  used treat training reward dog loves easy brea...      66\n",
       "61442  much fun watching puppies asking chicken treat...     134\n",
       "61443  little shih tzu absolutely loves cesar softies...     181"
      ]
     },
     "execution_count": 36,
     "metadata": {},
     "output_type": "execute_result"
    }
   ],
   "source": [
    "X_test1.head(3)"
   ]
  },
  {
   "cell_type": "code",
   "execution_count": 37,
   "metadata": {
    "colab": {},
    "colab_type": "code",
    "id": "Gg_ykx5yb-84"
   },
   "outputs": [],
   "source": [
    "X_trainbow = pd.DataFrame()"
   ]
  },
  {
   "cell_type": "code",
   "execution_count": 38,
   "metadata": {
    "colab": {},
    "colab_type": "code",
    "id": "2uireBvGb-86"
   },
   "outputs": [],
   "source": [
    "X_trainbow['Cleaned Text'] = X_train1['Cleaned Text'] "
   ]
  },
  {
   "cell_type": "code",
   "execution_count": 39,
   "metadata": {
    "colab": {
     "base_uri": "https://localhost:8080/",
     "height": 136
    },
    "colab_type": "code",
    "id": "LUU4VTd2b-89",
    "outputId": "942636f4-306c-4445-d3b5-bca1b0f6abd0"
   },
   "outputs": [
    {
     "data": {
      "text/html": [
       "<div>\n",
       "<style scoped>\n",
       "    .dataframe tbody tr th:only-of-type {\n",
       "        vertical-align: middle;\n",
       "    }\n",
       "\n",
       "    .dataframe tbody tr th {\n",
       "        vertical-align: top;\n",
       "    }\n",
       "\n",
       "    .dataframe thead th {\n",
       "        text-align: right;\n",
       "    }\n",
       "</style>\n",
       "<table border=\"1\" class=\"dataframe\">\n",
       "  <thead>\n",
       "    <tr style=\"text-align: right;\">\n",
       "      <th></th>\n",
       "      <th>Cleaned Text</th>\n",
       "    </tr>\n",
       "  </thead>\n",
       "  <tbody>\n",
       "    <tr>\n",
       "      <th>0</th>\n",
       "      <td>dogs loves chicken product china wont buying a...</td>\n",
       "    </tr>\n",
       "    <tr>\n",
       "      <th>1</th>\n",
       "      <td>dogs love saw pet store tag attached regarding...</td>\n",
       "    </tr>\n",
       "    <tr>\n",
       "      <th>2</th>\n",
       "      <td>infestation fruitflies literally everywhere fl...</td>\n",
       "    </tr>\n",
       "  </tbody>\n",
       "</table>\n",
       "</div>"
      ],
      "text/plain": [
       "                                        Cleaned Text\n",
       "0  dogs loves chicken product china wont buying a...\n",
       "1  dogs love saw pet store tag attached regarding...\n",
       "2  infestation fruitflies literally everywhere fl..."
      ]
     },
     "execution_count": 39,
     "metadata": {},
     "output_type": "execute_result"
    }
   ],
   "source": [
    "X_trainbow.head(3)"
   ]
  },
  {
   "cell_type": "code",
   "execution_count": 40,
   "metadata": {
    "colab": {},
    "colab_type": "code",
    "id": "qTXe7oBBb-8_"
   },
   "outputs": [],
   "source": [
    "X_testbow = pd.DataFrame()"
   ]
  },
  {
   "cell_type": "code",
   "execution_count": 41,
   "metadata": {
    "colab": {},
    "colab_type": "code",
    "id": "PpkvxdUib-9C"
   },
   "outputs": [],
   "source": [
    "X_testbow['Cleaned Text'] = X_test1['Cleaned Text']"
   ]
  },
  {
   "cell_type": "code",
   "execution_count": 42,
   "metadata": {
    "colab": {
     "base_uri": "https://localhost:8080/",
     "height": 136
    },
    "colab_type": "code",
    "id": "LFwwZaGpb-9G",
    "outputId": "575cc317-a4c5-4650-f4d1-f5093798a4e5"
   },
   "outputs": [
    {
     "data": {
      "text/html": [
       "<div>\n",
       "<style scoped>\n",
       "    .dataframe tbody tr th:only-of-type {\n",
       "        vertical-align: middle;\n",
       "    }\n",
       "\n",
       "    .dataframe tbody tr th {\n",
       "        vertical-align: top;\n",
       "    }\n",
       "\n",
       "    .dataframe thead th {\n",
       "        text-align: right;\n",
       "    }\n",
       "</style>\n",
       "<table border=\"1\" class=\"dataframe\">\n",
       "  <thead>\n",
       "    <tr style=\"text-align: right;\">\n",
       "      <th></th>\n",
       "      <th>Cleaned Text</th>\n",
       "    </tr>\n",
       "  </thead>\n",
       "  <tbody>\n",
       "    <tr>\n",
       "      <th>61441</th>\n",
       "      <td>used treat training reward dog loves easy brea...</td>\n",
       "    </tr>\n",
       "    <tr>\n",
       "      <th>61442</th>\n",
       "      <td>much fun watching puppies asking chicken treat...</td>\n",
       "    </tr>\n",
       "    <tr>\n",
       "      <th>61443</th>\n",
       "      <td>little shih tzu absolutely loves cesar softies...</td>\n",
       "    </tr>\n",
       "  </tbody>\n",
       "</table>\n",
       "</div>"
      ],
      "text/plain": [
       "                                            Cleaned Text\n",
       "61441  used treat training reward dog loves easy brea...\n",
       "61442  much fun watching puppies asking chicken treat...\n",
       "61443  little shih tzu absolutely loves cesar softies..."
      ]
     },
     "execution_count": 42,
     "metadata": {},
     "output_type": "execute_result"
    }
   ],
   "source": [
    "X_testbow.head(3)"
   ]
  },
  {
   "cell_type": "markdown",
   "metadata": {
    "colab_type": "text",
    "id": "c09UFbREb-9I"
   },
   "source": [
    "# BAG OF WORDS WITH FEATURE ENGINEERING "
   ]
  },
  {
   "cell_type": "code",
   "execution_count": 43,
   "metadata": {
    "colab": {
     "base_uri": "https://localhost:8080/",
     "height": 34
    },
    "colab_type": "code",
    "id": "zbvF8wRGb-9I",
    "outputId": "02b7999d-3b7f-48e0-d228-c77e676dd31c"
   },
   "outputs": [
    {
     "data": {
      "text/plain": [
       "(61441, 1)"
      ]
     },
     "execution_count": 43,
     "metadata": {},
     "output_type": "execute_result"
    }
   ],
   "source": [
    "X_trainbow.shape"
   ]
  },
  {
   "cell_type": "code",
   "execution_count": 44,
   "metadata": {
    "colab": {
     "base_uri": "https://localhost:8080/",
     "height": 34
    },
    "colab_type": "code",
    "id": "RwCTnorJb-9M",
    "outputId": "82ac13fb-f5d1-4c09-dd80-fb21dc992a3f"
   },
   "outputs": [
    {
     "data": {
      "text/plain": [
       "(26332, 1)"
      ]
     },
     "execution_count": 44,
     "metadata": {},
     "output_type": "execute_result"
    }
   ],
   "source": [
    "X_testbow.shape"
   ]
  },
  {
   "cell_type": "code",
   "execution_count": 45,
   "metadata": {
    "colab": {},
    "colab_type": "code",
    "id": "iaDghWp2b-9O"
   },
   "outputs": [],
   "source": [
    "count_vect = CountVectorizer() \n",
    "a1 = count_vect.fit_transform(X_trainbow['Cleaned Text'].values)\n",
    "b1 = count_vect.transform(X_testbow['Cleaned Text'])"
   ]
  },
  {
   "cell_type": "code",
   "execution_count": 46,
   "metadata": {
    "colab": {
     "base_uri": "https://localhost:8080/",
     "height": 67
    },
    "colab_type": "code",
    "id": "iof2_asqb-9Q",
    "outputId": "8658d34a-fb7b-4bb8-e19e-55f2d2ce7da3"
   },
   "outputs": [
    {
     "name": "stdout",
     "output_type": "stream",
     "text": [
      "the type of count vectorizer : <class 'scipy.sparse.csr.csr_matrix'>\n",
      "the shape of out text BOW vectorizer :  (61441, 46008)\n",
      "the number of unique words : 46008\n"
     ]
    }
   ],
   "source": [
    "print(\"the type of count vectorizer :\",type(a1))\n",
    "print(\"the shape of out text BOW vectorizer : \",a1.get_shape())\n",
    "print(\"the number of unique words :\", a1.get_shape()[1])"
   ]
  },
  {
   "cell_type": "markdown",
   "metadata": {
    "colab_type": "text",
    "id": "M1IbsIK8b-9R"
   },
   "source": [
    "# ADDING LENGTH OF REVIEWS AS ONE FEATURE "
   ]
  },
  {
   "cell_type": "code",
   "execution_count": 47,
   "metadata": {
    "colab": {},
    "colab_type": "code",
    "id": "pguDV2xXb-9T"
   },
   "outputs": [],
   "source": [
    "from scipy import sparse\n",
    "from scipy.sparse import csr_matrix"
   ]
  },
  {
   "cell_type": "code",
   "execution_count": 48,
   "metadata": {
    "colab": {},
    "colab_type": "code",
    "id": "YTCpKET0b-9V"
   },
   "outputs": [],
   "source": [
    "a1 = preprocessing.normalize(a1)\n",
    "a2 = sparse.csr_matrix(X_train1['Length'].values)\n",
    "a2 = preprocessing.normalize(a2)\n",
    "a3 = sparse.hstack([a1, a2.T])"
   ]
  },
  {
   "cell_type": "code",
   "execution_count": 49,
   "metadata": {
    "colab": {},
    "colab_type": "code",
    "id": "xbnTubjmb-9j"
   },
   "outputs": [],
   "source": [
    "b1 = preprocessing.normalize(b1)\n",
    "b2 = sparse.csr_matrix(X_test1['Length'].values)\n",
    "b2 = preprocessing.normalize(b2)\n",
    "b3 = sparse.hstack([b1, b2.T])"
   ]
  },
  {
   "cell_type": "code",
   "execution_count": 57,
   "metadata": {
    "colab": {
     "base_uri": "https://localhost:8080/",
     "height": 34
    },
    "colab_type": "code",
    "id": "xzdGtJ66b-9x",
    "outputId": "7881e9c9-5e81-40ff-80d3-4eb66d92aaaf"
   },
   "outputs": [
    {
     "data": {
      "text/plain": [
       "(26332,)"
      ]
     },
     "execution_count": 57,
     "metadata": {},
     "output_type": "execute_result"
    }
   ],
   "source": [
    "y_test1.shape"
   ]
  },
  {
   "cell_type": "code",
   "execution_count": 58,
   "metadata": {
    "colab": {
     "base_uri": "https://localhost:8080/",
     "height": 34
    },
    "colab_type": "code",
    "id": "XEX26hb6b-9y",
    "outputId": "b8efe611-5d1c-4e8e-b657-0470a2b022ce"
   },
   "outputs": [
    {
     "data": {
      "text/plain": [
       "(61441,)"
      ]
     },
     "execution_count": 58,
     "metadata": {},
     "output_type": "execute_result"
    }
   ],
   "source": [
    "y_train1.shape"
   ]
  },
  {
   "cell_type": "markdown",
   "metadata": {
    "colab_type": "text",
    "id": "PRO-Dlzqb-90"
   },
   "source": [
    "# SVM FOR BOW with Feature Engineering"
   ]
  },
  {
   "cell_type": "code",
   "execution_count": 55,
   "metadata": {
    "colab": {},
    "colab_type": "code",
    "id": "eHHdnoS4b-90"
   },
   "outputs": [],
   "source": [
    "from sklearn.model_selection import train_test_split\n",
    "#from sklearn.grid_search import GridSearchCV\n",
    "from sklearn.model_selection import GridSearchCV\n",
    "from sklearn.datasets import *\n",
    "from sklearn.linear_model import LogisticRegression"
   ]
  },
  {
   "cell_type": "code",
   "execution_count": 54,
   "metadata": {
    "colab": {},
    "colab_type": "code",
    "id": "0pGnX9jlb-92"
   },
   "outputs": [],
   "source": [
    "from sklearn.model_selection  import train_test_split\n",
    "from sklearn.metrics import accuracy_score\n",
    "from sklearn.model_selection  import cross_val_score\n",
    "from collections import Counter\n",
    "from sklearn.metrics import accuracy_score\n",
    "from sklearn import model_selection\n",
    "from sklearn.metrics import roc_auc_score\n",
    "from sklearn.linear_model import LogisticRegression\n",
    "from sklearn.preprocessing import StandardScaler\n",
    "from sklearn.calibration import CalibratedClassifierCV\n",
    "from sklearn.svm import SVC\n",
    "from sklearn.tree import DecisionTreeClassifier\n",
    "from sklearn.calibration import CalibratedClassifierCV\n",
    "from sklearn.linear_model import SGDClassifier"
   ]
  },
  {
   "cell_type": "markdown",
   "metadata": {
    "colab_type": "text",
    "id": "Ao9_pelob-93"
   },
   "source": [
    "# Applying Linear SVM FOR bow "
   ]
  },
  {
   "cell_type": "code",
   "execution_count": 56,
   "metadata": {
    "colab": {
     "base_uri": "https://localhost:8080/",
     "height": 134
    },
    "colab_type": "code",
    "id": "LKxA2WFeb-93",
    "outputId": "f84cd25e-917e-497a-bfee-81f6b981dcbb"
   },
   "outputs": [
    {
     "name": "stdout",
     "output_type": "stream",
     "text": [
      "SGDClassifier(alpha=0.0001, average=False, class_weight='balanced',\n",
      "       early_stopping=False, epsilon=0.1, eta0=0.0, fit_intercept=True,\n",
      "       l1_ratio=0.15, learning_rate='optimal', loss='hinge', max_iter=None,\n",
      "       n_iter=None, n_iter_no_change=5, n_jobs=None, penalty='l2',\n",
      "       power_t=0.5, random_state=None, shuffle=True, tol=None,\n",
      "       validation_fraction=0.1, verbose=0, warm_start=False)\n",
      "0.9454290671371609\n"
     ]
    }
   ],
   "source": [
    "alpha = [0.00001,0.0001,0.001,0.01,0.1,1,10,100,1000,10000,100000]\n",
    "clf = SGDClassifier(loss='hinge',class_weight = 'balanced')\n",
    "param_grid = {'alpha':alpha}\n",
    "model_bow = GridSearchCV(estimator = clf,param_grid=param_grid ,scoring = 'roc_auc',cv = 10, return_train_score = True)\n",
    "model_bow.fit(a3, y_train1)\n",
    "print(model_bow.best_estimator_)\n",
    "print(model_bow.score(b3, y_test1))"
   ]
  },
  {
   "cell_type": "markdown",
   "metadata": {
    "colab_type": "text",
    "id": "L2UtPOWVb-95"
   },
   "source": [
    "# Observations:\n",
    "1) We found that the optimal alpha = 0.0001 in Linear SVM and the AUC value is quite good."
   ]
  },
  {
   "cell_type": "code",
   "execution_count": 50,
   "metadata": {
    "colab": {},
    "colab_type": "code",
    "id": "-q9j3UyQb-96"
   },
   "outputs": [],
   "source": [
    "from sklearn.model_selection import cross_val_score\n",
    "from sklearn.metrics import accuracy_score,confusion_matrix,f1_score,precision_score,recall_score"
   ]
  },
  {
   "cell_type": "markdown",
   "metadata": {
    "colab_type": "text",
    "id": "BJAA86eCb-97"
   },
   "source": [
    "# Running the Model with Optimal HYPER PARAMETERS"
   ]
  },
  {
   "cell_type": "code",
   "execution_count": 51,
   "metadata": {
    "colab": {},
    "colab_type": "code",
    "id": "M9scWwAyb-97"
   },
   "outputs": [],
   "source": [
    "from sklearn.metrics import roc_auc_score"
   ]
  },
  {
   "cell_type": "code",
   "execution_count": 57,
   "metadata": {
    "colab": {},
    "colab_type": "code",
    "id": "de11ui9jb-9-"
   },
   "outputs": [],
   "source": [
    "train_auc1= model_bow.cv_results_['mean_train_score']\n",
    "cv_auc1= model_bow.cv_results_['mean_test_score']"
   ]
  },
  {
   "cell_type": "code",
   "execution_count": 58,
   "metadata": {
    "colab": {
     "base_uri": "https://localhost:8080/",
     "height": 67
    },
    "colab_type": "code",
    "id": "OjqQpoKmb-9_",
    "outputId": "22b5e446-0ea8-4d1e-9c05-4329b150a884"
   },
   "outputs": [
    {
     "data": {
      "text/plain": [
       "array([0.97320285, 0.95855441, 0.91970162, 0.81935988, 0.78292612,\n",
       "       0.78292612, 0.78292612, 0.78292612, 0.78292612, 0.78292612,\n",
       "       0.78292612])"
      ]
     },
     "execution_count": 58,
     "metadata": {},
     "output_type": "execute_result"
    }
   ],
   "source": [
    "train_auc1"
   ]
  },
  {
   "cell_type": "code",
   "execution_count": 59,
   "metadata": {
    "colab": {
     "base_uri": "https://localhost:8080/",
     "height": 67
    },
    "colab_type": "code",
    "id": "cCIn7VzAb--A",
    "outputId": "5294d5ab-9bd2-457a-c9a4-07b89bea6dc9"
   },
   "outputs": [
    {
     "data": {
      "text/plain": [
       "array([0.93924168, 0.94059129, 0.91008351, 0.81475138, 0.77966889,\n",
       "       0.77966889, 0.77966889, 0.77966889, 0.77966889, 0.77966889,\n",
       "       0.77966889])"
      ]
     },
     "execution_count": 59,
     "metadata": {},
     "output_type": "execute_result"
    }
   ],
   "source": [
    "cv_auc1"
   ]
  },
  {
   "cell_type": "code",
   "execution_count": 60,
   "metadata": {
    "colab": {},
    "colab_type": "code",
    "id": "SVDI0Kzsb--D"
   },
   "outputs": [],
   "source": [
    "import math\n",
    "from math import log"
   ]
  },
  {
   "cell_type": "code",
   "execution_count": 61,
   "metadata": {
    "colab": {
     "base_uri": "https://localhost:8080/",
     "height": 502
    },
    "colab_type": "code",
    "id": "BmgS5dcEb--E",
    "outputId": "1a16591d-9918-4ad4-bcf2-d691b4a93bd4"
   },
   "outputs": [
    {
     "data": {
      "image/png": "[encoded data removed]",
      "text/plain": [
       "<Figure size 432x288 with 1 Axes>"
      ]
     },
     "metadata": {
      "needs_background": "light"
     },
     "output_type": "display_data"
    },
    {
     "name": "stdout",
     "output_type": "stream",
     "text": [
      "\n",
      "\n",
      " Alpha Values :\n",
      " [1e-05, 0.0001, 0.001, 0.01, 0.1, 1, 10, 100, 1000, 10000, 100000]\n",
      "\n",
      " Train AUC for each alpha value is :\n",
      "  [0.9732  0.95855 0.9197  0.81936 0.78293 0.78293 0.78293 0.78293 0.78293\n",
      " 0.78293 0.78293]\n",
      "\n",
      " CV AUC for each alpha value is :\n",
      "  [0.93924 0.94059 0.91008 0.81475 0.77967 0.77967 0.77967 0.77967 0.77967\n",
      " 0.77967 0.77967]\n"
     ]
    }
   ],
   "source": [
    "# Firstly I am plotting depth vs AUC and then split vs AUC\n",
    "plt.plot(alpha,train_auc1)\n",
    "plt.plot(alpha,cv_auc1)\n",
    "plt.xlabel('ALPHA',size=10)\n",
    "plt.ylabel('AUC',size=10)\n",
    "plt.title('AUC VS HYPERPARAMETER DEPTH  ALPHA',size=16)\n",
    "plt.xscale('log')\n",
    "plt.grid()\n",
    "plt.show()\n",
    "print(\"\\n\\n Alpha Values :\\n\", alpha)\n",
    "print(\"\\n Train AUC for each alpha value is :\\n \", np.round(train_auc1,5))\n",
    "print(\"\\n CV AUC for each alpha value is :\\n \", np.round(cv_auc1,5))"
   ]
  },
  {
   "cell_type": "code",
   "execution_count": 62,
   "metadata": {
    "colab": {
     "base_uri": "https://localhost:8080/",
     "height": 34
    },
    "colab_type": "code",
    "id": "g8jFvfv2b--F",
    "outputId": "b362f606-7869-4500-9026-bc11e9c0e699"
   },
   "outputs": [
    {
     "data": {
      "text/plain": [
       "0.9405912899256196"
      ]
     },
     "execution_count": 62,
     "metadata": {},
     "output_type": "execute_result"
    }
   ],
   "source": [
    "max(cv_auc1)"
   ]
  },
  {
   "cell_type": "markdown",
   "metadata": {
    "colab_type": "text",
    "id": "g5T9vwqOb--H"
   },
   "source": [
    "# Observations\n",
    "\n",
    "1) We have found that the hyperparmeter ALPHA should be 0.0001 for having maximum AUC for CV \n"
   ]
  },
  {
   "cell_type": "code",
   "execution_count": 0,
   "metadata": {
    "colab": {},
    "colab_type": "code",
    "id": "X84RzguAb--K"
   },
   "outputs": [],
   "source": [
    "# after you found the best hyper parameter, you need to train your model with it, \n",
    "#and find the AUC on test data and plot the ROC curve on both train and test. \n",
    "# Along with plotting ROC curve, you need to print the confusion matrix with predicted \n",
    "#and original labels of test data points. Please visualize your confusion matrices using seaborn heatmaps. "
   ]
  },
  {
   "cell_type": "markdown",
   "metadata": {
    "colab_type": "text",
    "id": "l0IgH0nxb--M"
   },
   "source": [
    "# Training the model with the best hyper parameter "
   ]
  },
  {
   "cell_type": "code",
   "execution_count": 63,
   "metadata": {
    "colab": {},
    "colab_type": "code",
    "id": "Fl1lUUPLb--M"
   },
   "outputs": [],
   "source": [
    "om_bow = SGDClassifier(alpha=0.0001,class_weight = 'balanced') # Hinge loss is not used as probabilities I cannot get\n",
    "om_bow = CalibratedClassifierCV(om_bow, cv= 5)"
   ]
  },
  {
   "cell_type": "code",
   "execution_count": 64,
   "metadata": {
    "colab": {},
    "colab_type": "code",
    "id": "rtVyDjUa7zSm"
   },
   "outputs": [],
   "source": [
    "om_bow.fit(a3, y_train1)\n",
    "ompredictions_bow  = om_bow.predict(b3)"
   ]
  },
  {
   "cell_type": "code",
   "execution_count": 0,
   "metadata": {
    "colab": {},
    "colab_type": "code",
    "id": "2U4x0uNdb--N"
   },
   "outputs": [],
   "source": [
    "# Probability Estimates are not there WHILE using hinge loss."
   ]
  },
  {
   "cell_type": "code",
   "execution_count": 65,
   "metadata": {
    "colab": {
     "base_uri": "https://localhost:8080/",
     "height": 34
    },
    "colab_type": "code",
    "id": "Zs4CKk88b--Q",
    "outputId": "f3eca29b-03fb-467a-acb9-088123e86649"
   },
   "outputs": [
    {
     "data": {
      "text/plain": [
       "26332"
      ]
     },
     "execution_count": 65,
     "metadata": {},
     "output_type": "execute_result"
    }
   ],
   "source": [
    "len(ompredictions_bow)"
   ]
  },
  {
   "cell_type": "code",
   "execution_count": 66,
   "metadata": {
    "colab": {},
    "colab_type": "code",
    "id": "4uLwNqEVb--T"
   },
   "outputs": [],
   "source": [
    "probs = om_bow.predict_proba(b3)\n",
    "probs1 = om_bow.predict_proba(a3)\n",
    "probs = probs[:, 1]\n",
    "probs1 = probs1[:, -1]"
   ]
  },
  {
   "cell_type": "markdown",
   "metadata": {
    "colab_type": "text",
    "id": "YLEtDWqab--Z"
   },
   "source": [
    "# FEATURE IMPORTANCE  FOR BOW "
   ]
  },
  {
   "cell_type": "code",
   "execution_count": 0,
   "metadata": {
    "colab": {},
    "colab_type": "code",
    "id": "tiVvvXIrb--a"
   },
   "outputs": [],
   "source": [
    "# Again rerunning the model as I have to get feature importance"
   ]
  },
  {
   "cell_type": "code",
   "execution_count": 69,
   "metadata": {
    "colab": {},
    "colab_type": "code",
    "id": "xDQYF0tMb--b"
   },
   "outputs": [],
   "source": [
    "om_bowp = SGDClassifier(alpha=0.0001,class_weight = 'balanced')"
   ]
  },
  {
   "cell_type": "code",
   "execution_count": 70,
   "metadata": {
    "colab": {
     "base_uri": "https://localhost:8080/",
     "height": 118
    },
    "colab_type": "code",
    "id": "xji2wnuGb--c",
    "outputId": "6449ebcd-72dc-4ad6-e9fc-66bb30cbcbc0"
   },
   "outputs": [
    {
     "data": {
      "text/plain": [
       "SGDClassifier(alpha=0.0001, average=False, class_weight='balanced',\n",
       "       early_stopping=False, epsilon=0.1, eta0=0.0, fit_intercept=True,\n",
       "       l1_ratio=0.15, learning_rate='optimal', loss='hinge', max_iter=None,\n",
       "       n_iter=None, n_iter_no_change=5, n_jobs=None, penalty='l2',\n",
       "       power_t=0.5, random_state=None, shuffle=True, tol=None,\n",
       "       validation_fraction=0.1, verbose=0, warm_start=False)"
      ]
     },
     "execution_count": 70,
     "metadata": {},
     "output_type": "execute_result"
    }
   ],
   "source": [
    "om_bowp.fit(a3,y_train1)"
   ]
  },
  {
   "cell_type": "code",
   "execution_count": 71,
   "metadata": {
    "colab": {
     "base_uri": "https://localhost:8080/",
     "height": 118
    },
    "colab_type": "code",
    "id": "3zeHa9dUb--d",
    "outputId": "718478fb-7996-4ab8-c69e-32de1b608115"
   },
   "outputs": [
    {
     "data": {
      "text/plain": [
       "<bound method BaseEstimator.get_params of SGDClassifier(alpha=0.0001, average=False, class_weight='balanced',\n",
       "       early_stopping=False, epsilon=0.1, eta0=0.0, fit_intercept=True,\n",
       "       l1_ratio=0.15, learning_rate='optimal', loss='hinge', max_iter=None,\n",
       "       n_iter=None, n_iter_no_change=5, n_jobs=None, penalty='l2',\n",
       "       power_t=0.5, random_state=None, shuffle=True, tol=None,\n",
       "       validation_fraction=0.1, verbose=0, warm_start=False)>"
      ]
     },
     "execution_count": 71,
     "metadata": {},
     "output_type": "execute_result"
    }
   ],
   "source": [
    "om_bowp.get_params"
   ]
  },
  {
   "cell_type": "code",
   "execution_count": 72,
   "metadata": {
    "colab": {
     "base_uri": "https://localhost:8080/",
     "height": 118
    },
    "colab_type": "code",
    "id": "2JHBsgJhb--e",
    "outputId": "f5e33f4f-ad31-4ae8-932a-bf1c194065f8"
   },
   "outputs": [
    {
     "data": {
      "text/plain": [
       "<bound method BaseEstimator.get_params of CountVectorizer(analyzer='word', binary=False, decode_error='strict',\n",
       "        dtype=<class 'numpy.int64'>, encoding='utf-8', input='content',\n",
       "        lowercase=True, max_df=1.0, max_features=None, min_df=1,\n",
       "        ngram_range=(1, 1), preprocessor=None, stop_words=None,\n",
       "        strip_accents=None, token_pattern='(?u)\\\\b\\\\w\\\\w+\\\\b',\n",
       "        tokenizer=None, vocabulary=None)>"
      ]
     },
     "execution_count": 72,
     "metadata": {},
     "output_type": "execute_result"
    }
   ],
   "source": [
    "count_vect.get_params"
   ]
  },
  {
   "cell_type": "code",
   "execution_count": 73,
   "metadata": {
    "colab": {},
    "colab_type": "code",
    "id": "_l3PZzmWb--f"
   },
   "outputs": [],
   "source": [
    "features = count_vect.get_feature_names()"
   ]
  },
  {
   "cell_type": "code",
   "execution_count": 74,
   "metadata": {
    "colab": {},
    "colab_type": "code",
    "id": "PuV7I-Mu8d9g"
   },
   "outputs": [],
   "source": [
    "Coefficients = om_bowp.coef_"
   ]
  },
  {
   "cell_type": "code",
   "execution_count": 75,
   "metadata": {
    "colab": {},
    "colab_type": "code",
    "id": "t4Qn05odb--g"
   },
   "outputs": [],
   "source": [
    "coef = Coefficients.reshape(46009,1)"
   ]
  },
  {
   "cell_type": "code",
   "execution_count": 76,
   "metadata": {
    "colab": {
     "base_uri": "https://localhost:8080/",
     "height": 34
    },
    "colab_type": "code",
    "id": "DjDiZTGMb--h",
    "outputId": "1e3a3f84-30ec-4763-fa39-cbcef13904a0"
   },
   "outputs": [
    {
     "data": {
      "text/plain": [
       "(46009, 1)"
      ]
     },
     "execution_count": 76,
     "metadata": {},
     "output_type": "execute_result"
    }
   ],
   "source": [
    "coef.shape"
   ]
  },
  {
   "cell_type": "code",
   "execution_count": 77,
   "metadata": {
    "colab": {},
    "colab_type": "code",
    "id": "1ceihbvdb--j"
   },
   "outputs": [],
   "source": [
    "coef = coef.tolist()"
   ]
  },
  {
   "cell_type": "code",
   "execution_count": 78,
   "metadata": {
    "colab": {},
    "colab_type": "code",
    "id": "-n4EEjXUb--k",
    "outputId": "939214eb-2622-4d82-e89a-20a663f0b7a6"
   },
   "outputs": [
    {
     "data": {
      "text/plain": [
       "list"
      ]
     },
     "execution_count": 78,
     "metadata": {},
     "output_type": "execute_result"
    }
   ],
   "source": [
    "type(coef)"
   ]
  },
  {
   "cell_type": "code",
   "execution_count": 79,
   "metadata": {
    "colab": {},
    "colab_type": "code",
    "id": "wkEDjTmSb--m"
   },
   "outputs": [],
   "source": [
    "len(features)\n",
    "features.append('zzzzzzzzzza')"
   ]
  },
  {
   "cell_type": "code",
   "execution_count": 80,
   "metadata": {
    "colab": {
     "base_uri": "https://localhost:8080/",
     "height": 34
    },
    "colab_type": "code",
    "id": "WpitQEyXb--n",
    "outputId": "93cac343-d69a-45e5-a6fa-4033cf49d73f"
   },
   "outputs": [
    {
     "data": {
      "text/plain": [
       "46009"
      ]
     },
     "execution_count": 80,
     "metadata": {},
     "output_type": "execute_result"
    }
   ],
   "source": [
    "len(features)"
   ]
  },
  {
   "cell_type": "code",
   "execution_count": 0,
   "metadata": {
    "colab": {},
    "colab_type": "code",
    "id": "SAMeMlu7b--o"
   },
   "outputs": [],
   "source": [
    "#features=np.argsort(features)[::-1]"
   ]
  },
  {
   "cell_type": "code",
   "execution_count": 81,
   "metadata": {
    "colab": {
     "base_uri": "https://localhost:8080/",
     "height": 521
    },
    "colab_type": "code",
    "id": "Gl24PRf_b--p",
    "outputId": "cdc4c8b9-2cfb-4d58-85e7-96ee3939620c"
   },
   "outputs": [
    {
     "name": "stdout",
     "output_type": "stream",
     "text": [
      "***** Top 10 IMPORTANT FEATURES FOR POSITIVE CLASS *****\n",
      "\n",
      "\n",
      "            Word           Coefficient\n",
      "10560  delicious   [4.455001909719882]\n",
      "29622    perfect  [3.8362270713735867]\n",
      "17569      great  [3.6708005160405612]\n",
      "45177  wonderful   [3.561329279820464]\n",
      "3744        best   [3.510946432908001]\n",
      "13900  excellent  [3.4869254640950733]\n",
      "23609      loves  [3.4791122711873963]\n",
      "18895     highly   [3.174874780925968]\n",
      "2762     awesome   [3.015127073025514]\n",
      "1285     amazing  [3.0004170470635234]\n",
      "\n",
      "\n",
      "***** Top 10 IMPORTANT FEATURES FOR NEGATIVE CLASS *****\n",
      "\n",
      "\n",
      "                Word            Coefficient\n",
      "38261          stale   [-2.662562682757956]\n",
      "44424           weak  [-2.6853881669492004]\n",
      "4105           bland  [-2.7377598318256386]\n",
      "2768           awful  [-2.7519643992238314]\n",
      "19249       horrible   [-2.757109149631728]\n",
      "42813  unfortunately  [-3.1966425693619382]\n",
      "40533       terrible   [-3.219130869703495]\n",
      "11442  disappointing  [-3.7843594999913077]\n",
      "45296          worst  [-3.9309858991070734]\n",
      "11440   disappointed    [-4.00674289521191]\n"
     ]
    }
   ],
   "source": [
    "cf = pd.DataFrame({'Word' : features, 'Coefficient' : coef})\n",
    "cf_new = cf.sort_values(\"Coefficient\", ascending = False)\n",
    "print('***** Top 10 IMPORTANT FEATURES FOR POSITIVE CLASS *****')\n",
    "print('\\n')\n",
    "print(cf_new.head(10))\n",
    "print('\\n')\n",
    "print('***** Top 10 IMPORTANT FEATURES FOR NEGATIVE CLASS *****')\n",
    "print('\\n')\n",
    "print(cf_new.tail(10))"
   ]
  },
  {
   "cell_type": "markdown",
   "metadata": {
    "colab_type": "text",
    "id": "sq86YwdAb--q"
   },
   "source": [
    "# Observations :\n",
    "1) We have found that not  and great are the top 2 words are delicious and amazing that is impacting positive class.\n",
    "\n",
    "2) Disappointing and the wrost are the top two words that are impacting the negative class the most."
   ]
  },
  {
   "cell_type": "markdown",
   "metadata": {
    "colab_type": "text",
    "id": "k6VdJ5Fgb--r"
   },
   "source": [
    "# PERFORMANCE MEASURMENTS  FOR BOW (LINEAR SVM)"
   ]
  },
  {
   "cell_type": "code",
   "execution_count": 82,
   "metadata": {
    "colab": {},
    "colab_type": "code",
    "id": "8O8fTwZMb--r"
   },
   "outputs": [],
   "source": [
    "precision_bow = precision_score(y_test1, ompredictions_bow, pos_label = 1) \n",
    "recall_bow = recall_score(y_test1, ompredictions_bow, pos_label = 1) \n",
    "f1score_bow = f1_score(y_test1, ompredictions_bow, pos_label = 1) "
   ]
  },
  {
   "cell_type": "code",
   "execution_count": 83,
   "metadata": {
    "colab": {
     "base_uri": "https://localhost:8080/",
     "height": 118
    },
    "colab_type": "code",
    "id": "5z6yepkyb--t",
    "outputId": "af9aa50f-27be-4bdf-d9f9-f2d9905b925e"
   },
   "outputs": [
    {
     "name": "stdout",
     "output_type": "stream",
     "text": [
      "\n",
      "The Test Precision for optimal alpha for Linear SVM (BOW)   is 0.933265\n",
      "\n",
      "The Test Recall for optimal alpha for Linear SVM (BOW)  is 0.959503\n",
      "\n",
      "The Test F1-Score for optimal alpha for Linear SVM (BOW)  is 0.946202\n"
     ]
    }
   ],
   "source": [
    "print('\\nThe Test Precision for optimal alpha for Linear SVM (BOW)   is %f' % (precision_bow))\n",
    "print('\\nThe Test Recall for optimal alpha for Linear SVM (BOW)  is %f' % (recall_bow))\n",
    "print('\\nThe Test F1-Score for optimal alpha for Linear SVM (BOW)  is %f' %  (f1score_bow))"
   ]
  },
  {
   "cell_type": "markdown",
   "metadata": {
    "colab_type": "text",
    "id": "qCUwj84yb--u"
   },
   "source": [
    "# CONFUSION MATRIX "
   ]
  },
  {
   "cell_type": "code",
   "execution_count": 0,
   "metadata": {
    "colab": {},
    "colab_type": "code",
    "id": "55BZ-3xqb--v"
   },
   "outputs": [],
   "source": [
    "# Reference Links \n",
    "# https://datatofish.com/confusion-matrix-python/"
   ]
  },
  {
   "cell_type": "code",
   "execution_count": 84,
   "metadata": {
    "colab": {
     "base_uri": "https://localhost:8080/",
     "height": 493
    },
    "colab_type": "code",
    "id": "fZ0gjg6xb--w",
    "outputId": "ace304ff-6d47-4ae3-945f-d4f55cb1fbd7"
   },
   "outputs": [
    {
     "data": {
      "image/png": "[encoded data removed]",
      "text/plain": [
       "<Figure size 720x504 with 2 Axes>"
      ]
     },
     "metadata": {
      "needs_background": "light"
     },
     "output_type": "display_data"
    }
   ],
   "source": [
    "# Code for drawing seaborn heatmaps\n",
    "class_names = [ 0,1]\n",
    "df_heatmap = pd.DataFrame(confusion_matrix(y_test1, ompredictions_bow), index=class_names, columns=class_names )\n",
    "fig = plt.figure(figsize=(10,7))\n",
    "heatmap = sns.heatmap(df_heatmap, annot=True, fmt=\"d\")\n",
    "\n",
    "# Setting tick labels for heatmap\n",
    "heatmap.yaxis.set_ticklabels(heatmap.yaxis.get_ticklabels(), rotation=0, ha='right', fontsize=10)#\n",
    "heatmap.xaxis.set_ticklabels(heatmap.xaxis.get_ticklabels(), rotation=0, ha='right', fontsize=10)\n",
    "plt.ylabel('Predicted label',size=18)\n",
    "plt.xlabel('Actual label',size=18)\n",
    "plt.title(\"Confusion Matrix for Linear SVM - BOW \\n\",size=20)\n",
    "plt.show()"
   ]
  },
  {
   "cell_type": "code",
   "execution_count": 85,
   "metadata": {
    "colab": {},
    "colab_type": "code",
    "id": "DYejL0yBb--y"
   },
   "outputs": [],
   "source": [
    "TrueNeg,FalseNeg,FalsePos, TruePos = confusion_matrix(y_test1, ompredictions_bow).ravel()\n",
    "TPR = TruePos/(FalseNeg + TruePos)\n",
    "FPR = FalsePos/(TrueNeg + FalsePos)\n",
    "TNR = TrueNeg/(TrueNeg + FalsePos)\n",
    "FNR = FalseNeg/(FalseNeg + TruePos)"
   ]
  },
  {
   "cell_type": "code",
   "execution_count": 86,
   "metadata": {
    "colab": {
     "base_uri": "https://localhost:8080/",
     "height": 84
    },
    "colab_type": "code",
    "id": "n2oeBhTFb--z",
    "outputId": "6dcbab59-6b8d-4030-971b-f3a873542573"
   },
   "outputs": [
    {
     "name": "stdout",
     "output_type": "stream",
     "text": [
      "TPR of the Linear SVM  (BOW)   is :  0.933265\n",
      "FPR of the Linear SVM  (BOW)   is :  0.225543\n",
      "TNR of the Linear SVM (BOW)   is :  0.774457\n",
      "FNR of the Linear SVM  (BOW)  is :  0.066735\n"
     ]
    }
   ],
   "source": [
    "print(\"TPR of the Linear SVM  (BOW)   is :  %f\" % (TPR))\n",
    "print(\"FPR of the Linear SVM  (BOW)   is :  %f\" % (FPR))\n",
    "print(\"TNR of the Linear SVM (BOW)   is :  %f\" % (TNR))\n",
    "print(\"FNR of the Linear SVM  (BOW)  is :  %f\" % (FNR))"
   ]
  },
  {
   "cell_type": "markdown",
   "metadata": {
    "colab_type": "text",
    "id": "HFNueouKb--1"
   },
   "source": [
    "# PLOTTING THE ROC CURVE  (BOW) ---- > FOR BOTH TRAIN AND TEST DATA "
   ]
  },
  {
   "cell_type": "code",
   "execution_count": 91,
   "metadata": {
    "colab": {
     "base_uri": "https://localhost:8080/",
     "height": 34
    },
    "colab_type": "code",
    "id": "5m0jOwQAb--1",
    "outputId": "99b58deb-7edf-49ba-c520-a39cf0e12554"
   },
   "outputs": [
    {
     "data": {
      "text/plain": [
       "61441"
      ]
     },
     "execution_count": 91,
     "metadata": {
      "tags": []
     },
     "output_type": "execute_result"
    }
   ],
   "source": [
    "len(y_train1)"
   ]
  },
  {
   "cell_type": "code",
   "execution_count": 0,
   "metadata": {
    "colab": {},
    "colab_type": "code",
    "id": "G-IDvEFub--2",
    "outputId": "5f916333-77c8-47c9-cf18-9c2cd3bf7065"
   },
   "outputs": [
    {
     "data": {
      "text/plain": [
       "61441"
      ]
     },
     "execution_count": 174,
     "metadata": {
      "tags": []
     },
     "output_type": "execute_result"
    }
   ],
   "source": [
    "len(probs1)"
   ]
  },
  {
   "cell_type": "code",
   "execution_count": 87,
   "metadata": {
    "colab": {},
    "colab_type": "code",
    "id": "-LmR6b3Fb--3"
   },
   "outputs": [],
   "source": [
    "import matplotlib.pyplot as plt\n",
    "from sklearn.metrics import roc_curve, auc\n",
    "fpr = dict()\n",
    "tpr = dict()\n",
    "roc_auc = dict()\n",
    "\n",
    "fpr1 = dict()\n",
    "tpr1 = dict()\n",
    "roc_auc1 = dict()\n",
    "\n",
    "#for i in range(26331):\n",
    "for i in range(4):\n",
    "    fpr[i], tpr[i], _ = roc_curve(y_test1,probs)\n",
    "    roc_auc[i] = auc(fpr[i], tpr[i])\n",
    "    \n",
    "#for i in range(61441):\n",
    "for i in range(4):    \n",
    "    fpr1[i], tpr1[i], _ = roc_curve(y_train1,probs1)\n",
    "    roc_auc1[i] = auc(fpr1[i], tpr1[i])    "
   ]
  },
  {
   "cell_type": "code",
   "execution_count": 88,
   "metadata": {
    "colab": {
     "base_uri": "https://localhost:8080/",
     "height": 295
    },
    "colab_type": "code",
    "id": "2hUeGQoLb--4",
    "outputId": "1cc88e06-0ddc-403d-94ce-a2a980c980ed"
   },
   "outputs": [
    {
     "data": {
      "image/png": "[encoded data removed]",
      "text/plain": [
       "<Figure size 432x288 with 1 Axes>"
      ]
     },
     "metadata": {
      "needs_background": "light"
     },
     "output_type": "display_data"
    }
   ],
   "source": [
    "#print(roc_auc_score(y_test1,ompredictions_bow))\n",
    "plt.figure()\n",
    "#plt.plot(fpr[1], tpr[1])\n",
    "lw = 2\n",
    "plt.plot(fpr[0], tpr[0], color='darkorange',lw=lw, label=' Test ROC curve (area = %0.3f)' % roc_auc[0])\n",
    "plt.plot(fpr1[0], tpr1[0], color='blue',lw=lw, label='Train ROC curve (area = %0.3f)' % roc_auc1[0])\n",
    "plt.xlim([0.0, 1.0])\n",
    "plt.ylim([0.0, 1.05])\n",
    "plt.xlabel('False Positive Rate')\n",
    "plt.ylabel('True Positive Rate')\n",
    "plt.legend(loc=\"lower right\")\n",
    "plt.title('Receiver operating characteristic')\n",
    "plt.show()"
   ]
  },
  {
   "cell_type": "markdown",
   "metadata": {
    "colab_type": "text",
    "id": "sLo1TYNVb--5"
   },
   "source": [
    "# Observations \n",
    "1) We observe that AUC for train data is 0.98 and the test data is 0.95 which implies that the model is reasonably good. "
   ]
  },
  {
   "cell_type": "markdown",
   "metadata": {
    "colab_type": "text",
    "id": "rxJy8LTbb--6"
   },
   "source": [
    "# TFIDF WITH FEATURE ENGINEERING "
   ]
  },
  {
   "cell_type": "code",
   "execution_count": 89,
   "metadata": {
    "colab": {
     "base_uri": "https://localhost:8080/",
     "height": 67
    },
    "colab_type": "code",
    "id": "YbRLvM9Rb--6",
    "outputId": "ce53ad19-81e8-4240-bbaf-e3d889e7d38f"
   },
   "outputs": [
    {
     "name": "stdout",
     "output_type": "stream",
     "text": [
      "the type of count vectorizer : <class 'scipy.sparse.csr.csr_matrix'>\n",
      "the shape of out text TFIDF vectorizer :  (61441, 9723)\n",
      "the number of unique words : 9723\n"
     ]
    }
   ],
   "source": [
    "tf_idf_vect = TfidfVectorizer(min_df=10)\n",
    "c1 = tf_idf_vect.fit_transform(X_trainbow['Cleaned Text'].values)\n",
    "d1 = tf_idf_vect.transform(X_testbow['Cleaned Text'])\n",
    "print(\"the type of count vectorizer :\",type(c1))\n",
    "print(\"the shape of out text TFIDF vectorizer : \",c1.get_shape())\n",
    "print(\"the number of unique words :\", c1.get_shape()[1])"
   ]
  },
  {
   "cell_type": "code",
   "execution_count": 90,
   "metadata": {
    "colab": {},
    "colab_type": "code",
    "id": "vBmVzWgQb--8"
   },
   "outputs": [],
   "source": [
    "c1 = preprocessing.normalize(c1)\n",
    "c2 = sparse.csr_matrix(X_train1['Length'].values)\n",
    "c2 = preprocessing.normalize(c2)\n",
    "c3 = sparse.hstack([c1, c2.T])"
   ]
  },
  {
   "cell_type": "code",
   "execution_count": 91,
   "metadata": {
    "colab": {},
    "colab_type": "code",
    "id": "x4Pmi6EEb-_C"
   },
   "outputs": [],
   "source": [
    "d1 = preprocessing.normalize(d1)\n",
    "d2 = sparse.csr_matrix(X_test1['Length'].values)\n",
    "d2 = preprocessing.normalize(d2)\n",
    "d3 = sparse.hstack([d1, d2.T])"
   ]
  },
  {
   "cell_type": "markdown",
   "metadata": {
    "colab_type": "text",
    "id": "_2a3t-Ycb-_D"
   },
   "source": [
    "# Linear SVM - TFIDF "
   ]
  },
  {
   "cell_type": "code",
   "execution_count": 92,
   "metadata": {
    "colab": {
     "base_uri": "https://localhost:8080/",
     "height": 134
    },
    "colab_type": "code",
    "id": "xQSPwGeab-_D",
    "outputId": "8ea15787-fc40-4d5d-eb6e-ac4510959416"
   },
   "outputs": [
    {
     "name": "stdout",
     "output_type": "stream",
     "text": [
      "Fitting 10 folds for each of 11 candidates, totalling 110 fits\n"
     ]
    },
    {
     "name": "stderr",
     "output_type": "stream",
     "text": [
      "[Parallel(n_jobs=1)]: Using backend SequentialBackend with 1 concurrent workers.\n"
     ]
    },
    {
     "name": "stdout",
     "output_type": "stream",
     "text": [
      "[CV] alpha=1e-05 .....................................................\n",
      "[CV] ............ alpha=1e-05, score=0.9259875344649139, total=   0.1s\n"
     ]
    },
    {
     "name": "stderr",
     "output_type": "stream",
     "text": [
      "[Parallel(n_jobs=1)]: Done   1 out of   1 | elapsed:    0.1s remaining:    0.0s\n"
     ]
    },
    {
     "name": "stdout",
     "output_type": "stream",
     "text": [
      "[CV] alpha=1e-05 .....................................................\n",
      "[CV] ............. alpha=1e-05, score=0.946969905938819, total=   0.1s\n"
     ]
    },
    {
     "name": "stderr",
     "output_type": "stream",
     "text": [
      "[Parallel(n_jobs=1)]: Done   2 out of   2 | elapsed:    0.3s remaining:    0.0s\n"
     ]
    },
    {
     "name": "stdout",
     "output_type": "stream",
     "text": [
      "[CV] alpha=1e-05 .....................................................\n",
      "[CV] ............. alpha=1e-05, score=0.949816646858211, total=   0.1s\n",
      "[CV] alpha=1e-05 .....................................................\n",
      "[CV] ............ alpha=1e-05, score=0.9367014257458628, total=   0.1s\n",
      "[CV] alpha=1e-05 .....................................................\n",
      "[CV] ............ alpha=1e-05, score=0.9460335531995994, total=   0.1s\n",
      "[CV] alpha=1e-05 .....................................................\n",
      "[CV] .............. alpha=1e-05, score=0.94110311971323, total=   0.1s\n",
      "[CV] alpha=1e-05 .....................................................\n",
      "[CV] ............ alpha=1e-05, score=0.9409478493757673, total=   0.1s\n",
      "[CV] alpha=1e-05 .....................................................\n",
      "[CV] ............ alpha=1e-05, score=0.9314015248907755, total=   0.1s\n",
      "[CV] alpha=1e-05 .....................................................\n",
      "[CV] ............ alpha=1e-05, score=0.9382002773791871, total=   0.1s\n",
      "[CV] alpha=1e-05 .....................................................\n",
      "[CV] ............ alpha=1e-05, score=0.9434428640902024, total=   0.1s\n",
      "[CV] alpha=0.0001 ....................................................\n",
      "[CV] ........... alpha=0.0001, score=0.9382723748599318, total=   0.1s\n",
      "[CV] alpha=0.0001 ....................................................\n",
      "[CV] ........... alpha=0.0001, score=0.9531219205447066, total=   0.1s\n",
      "[CV] alpha=0.0001 ....................................................\n",
      "[CV] ........... alpha=0.0001, score=0.9513445563925346, total=   0.1s\n",
      "[CV] alpha=0.0001 ....................................................\n",
      "[CV] ........... alpha=0.0001, score=0.9447902900013707, total=   0.1s\n",
      "[CV] alpha=0.0001 ....................................................\n",
      "[CV] ........... alpha=0.0001, score=0.9502588672668719, total=   0.1s\n",
      "[CV] alpha=0.0001 ....................................................\n",
      "[CV] ........... alpha=0.0001, score=0.9449486617437699, total=   0.1s\n",
      "[CV] alpha=0.0001 ....................................................\n",
      "[CV] ........... alpha=0.0001, score=0.9452397936265129, total=   0.1s\n",
      "[CV] alpha=0.0001 ....................................................\n",
      "[CV] ........... alpha=0.0001, score=0.9401432849080633, total=   0.1s\n",
      "[CV] alpha=0.0001 ....................................................\n",
      "[CV] ........... alpha=0.0001, score=0.9456468878895767, total=   0.1s\n",
      "[CV] alpha=0.0001 ....................................................\n",
      "[CV] ........... alpha=0.0001, score=0.9458458163973927, total=   0.1s\n",
      "[CV] alpha=0.001 .....................................................\n",
      "[CV] ............ alpha=0.001, score=0.9249119613089491, total=   0.1s\n",
      "[CV] alpha=0.001 .....................................................\n",
      "[CV] ............ alpha=0.001, score=0.9374922295286306, total=   0.1s\n",
      "[CV] alpha=0.001 .....................................................\n",
      "[CV] ............ alpha=0.001, score=0.9307781424985518, total=   0.1s\n",
      "[CV] alpha=0.001 .....................................................\n",
      "[CV] ............ alpha=0.001, score=0.9280761184816722, total=   0.1s\n",
      "[CV] alpha=0.001 .....................................................\n",
      "[CV] ............ alpha=0.001, score=0.9334092343831755, total=   0.2s\n",
      "[CV] alpha=0.001 .....................................................\n",
      "[CV] ............ alpha=0.001, score=0.9270767657748961, total=   0.1s\n",
      "[CV] alpha=0.001 .....................................................\n",
      "[CV] ............ alpha=0.001, score=0.9293571988110614, total=   0.1s\n",
      "[CV] alpha=0.001 .....................................................\n",
      "[CV] ............ alpha=0.001, score=0.9249684106900427, total=   0.1s\n",
      "[CV] alpha=0.001 .....................................................\n",
      "[CV] ............ alpha=0.001, score=0.9335764904128067, total=   0.1s\n",
      "[CV] alpha=0.001 .....................................................\n",
      "[CV] ............ alpha=0.001, score=0.9249533198446197, total=   0.1s\n",
      "[CV] alpha=0.01 ......................................................\n",
      "[CV] ............. alpha=0.01, score=0.8929465907269244, total=   0.1s\n",
      "[CV] alpha=0.01 ......................................................\n",
      "[CV] ............. alpha=0.01, score=0.9001505922348454, total=   0.1s\n",
      "[CV] alpha=0.01 ......................................................\n",
      "[CV] ............. alpha=0.01, score=0.8958045251227585, total=   0.1s\n",
      "[CV] alpha=0.01 ......................................................\n",
      "[CV] ............. alpha=0.01, score=0.8922841046994288, total=   0.2s\n",
      "[CV] alpha=0.01 ......................................................\n",
      "[CV] ............. alpha=0.01, score=0.8972120370527848, total=   0.1s\n",
      "[CV] alpha=0.01 ......................................................\n",
      "[CV] ............. alpha=0.01, score=0.8887612088275989, total=   0.2s\n",
      "[CV] alpha=0.01 ......................................................\n",
      "[CV] .............. alpha=0.01, score=0.897994391459331, total=   0.1s\n",
      "[CV] alpha=0.01 ......................................................\n",
      "[CV] ............. alpha=0.01, score=0.8896556139931389, total=   0.1s\n",
      "[CV] alpha=0.01 ......................................................\n",
      "[CV] ............. alpha=0.01, score=0.9017223126139486, total=   0.1s\n",
      "[CV] alpha=0.01 ......................................................\n",
      "[CV] ............. alpha=0.01, score=0.8839290181457222, total=   0.1s\n",
      "[CV] alpha=0.1 .......................................................\n",
      "[CV] .............. alpha=0.1, score=0.8929465907269245, total=   0.1s\n",
      "[CV] alpha=0.1 .......................................................\n",
      "[CV] ............... alpha=0.1, score=0.900120209941646, total=   0.1s\n",
      "[CV] alpha=0.1 .......................................................\n",
      "[CV] .............. alpha=0.1, score=0.8956644067837265, total=   0.1s\n",
      "[CV] alpha=0.1 .......................................................\n",
      "[CV] .............. alpha=0.1, score=0.8922831042462236, total=   0.1s\n",
      "[CV] alpha=0.1 .......................................................\n",
      "[CV] .............. alpha=0.1, score=0.8974631508073158, total=   0.2s\n",
      "[CV] alpha=0.1 .......................................................\n",
      "[CV] .............. alpha=0.1, score=0.8886361521769361, total=   0.1s\n",
      "[CV] alpha=0.1 .......................................................\n",
      "[CV] .............. alpha=0.1, score=0.8977638870408293, total=   0.1s\n",
      "[CV] alpha=0.1 .......................................................\n",
      "[CV] .............. alpha=0.1, score=0.8892770425002526, total=   0.1s\n",
      "[CV] alpha=0.1 .......................................................\n",
      "[CV] .............. alpha=0.1, score=0.9017069026591178, total=   0.1s\n",
      "[CV] alpha=0.1 .......................................................\n",
      "[CV] ............... alpha=0.1, score=0.883764511874671, total=   0.2s\n",
      "[CV] alpha=1 .........................................................\n",
      "[CV] ................ alpha=1, score=0.8929465907269245, total=   0.1s\n",
      "[CV] alpha=1 .........................................................\n",
      "[CV] ................. alpha=1, score=0.900120209941646, total=   0.1s\n",
      "[CV] alpha=1 .........................................................\n",
      "[CV] ................ alpha=1, score=0.8956644067837265, total=   0.1s\n",
      "[CV] alpha=1 .........................................................\n",
      "[CV] ................ alpha=1, score=0.8922831042462236, total=   0.1s\n",
      "[CV] alpha=1 .........................................................\n",
      "[CV] ................ alpha=1, score=0.8974631508073158, total=   0.1s\n",
      "[CV] alpha=1 .........................................................\n",
      "[CV] ................ alpha=1, score=0.8886361521769361, total=   0.1s\n",
      "[CV] alpha=1 .........................................................\n",
      "[CV] ................ alpha=1, score=0.8977638870408293, total=   0.1s\n",
      "[CV] alpha=1 .........................................................\n",
      "[CV] ................ alpha=1, score=0.8892770425002526, total=   0.1s\n",
      "[CV] alpha=1 .........................................................\n",
      "[CV] ................ alpha=1, score=0.9017069026591178, total=   0.2s\n",
      "[CV] alpha=1 .........................................................\n"
     ]
    },
    {
     "name": "stdout",
     "output_type": "stream",
     "text": [
      "[CV] ................. alpha=1, score=0.883764511874671, total=   0.1s\n",
      "[CV] alpha=10 ........................................................\n",
      "[CV] ............... alpha=10, score=0.8929465907269245, total=   0.1s\n",
      "[CV] alpha=10 ........................................................\n",
      "[CV] ................ alpha=10, score=0.900120209941646, total=   0.2s\n",
      "[CV] alpha=10 ........................................................\n",
      "[CV] ............... alpha=10, score=0.8956644067837265, total=   0.1s\n",
      "[CV] alpha=10 ........................................................\n",
      "[CV] ............... alpha=10, score=0.8922831042462236, total=   0.1s\n",
      "[CV] alpha=10 ........................................................\n",
      "[CV] ............... alpha=10, score=0.8974631508073158, total=   0.1s\n",
      "[CV] alpha=10 ........................................................\n",
      "[CV] ............... alpha=10, score=0.8886361521769361, total=   0.1s\n",
      "[CV] alpha=10 ........................................................\n",
      "[CV] ............... alpha=10, score=0.8977638870408293, total=   0.1s\n",
      "[CV] alpha=10 ........................................................\n",
      "[CV] ............... alpha=10, score=0.8892770425002526, total=   0.1s\n",
      "[CV] alpha=10 ........................................................\n",
      "[CV] ............... alpha=10, score=0.9017069026591178, total=   0.1s\n",
      "[CV] alpha=10 ........................................................\n",
      "[CV] ................ alpha=10, score=0.883764511874671, total=   0.1s\n",
      "[CV] alpha=100 .......................................................\n",
      "[CV] .............. alpha=100, score=0.8929465907269245, total=   0.1s\n",
      "[CV] alpha=100 .......................................................\n",
      "[CV] ............... alpha=100, score=0.900120209941646, total=   0.1s\n",
      "[CV] alpha=100 .......................................................\n",
      "[CV] .............. alpha=100, score=0.8956644067837265, total=   0.1s\n",
      "[CV] alpha=100 .......................................................\n",
      "[CV] .............. alpha=100, score=0.8922831042462236, total=   0.1s\n",
      "[CV] alpha=100 .......................................................\n",
      "[CV] .............. alpha=100, score=0.8974631508073158, total=   0.0s\n",
      "[CV] alpha=100 .......................................................\n",
      "[CV] .............. alpha=100, score=0.8886361521769361, total=   0.1s\n",
      "[CV] alpha=100 .......................................................\n",
      "[CV] .............. alpha=100, score=0.8977638870408293, total=   0.1s\n",
      "[CV] alpha=100 .......................................................\n",
      "[CV] .............. alpha=100, score=0.8892770425002526, total=   0.1s\n",
      "[CV] alpha=100 .......................................................\n",
      "[CV] .............. alpha=100, score=0.9017069026591178, total=   0.1s\n",
      "[CV] alpha=100 .......................................................\n",
      "[CV] ............... alpha=100, score=0.883764511874671, total=   0.1s\n",
      "[CV] alpha=1000 ......................................................\n",
      "[CV] ............. alpha=1000, score=0.8929465907269245, total=   0.1s\n",
      "[CV] alpha=1000 ......................................................\n",
      "[CV] .............. alpha=1000, score=0.900120209941646, total=   0.1s\n",
      "[CV] alpha=1000 ......................................................\n",
      "[CV] ............. alpha=1000, score=0.8956644067837265, total=   0.1s\n",
      "[CV] alpha=1000 ......................................................\n",
      "[CV] ............. alpha=1000, score=0.8922831042462236, total=   0.0s\n",
      "[CV] alpha=1000 ......................................................\n",
      "[CV] ............. alpha=1000, score=0.8974631508073158, total=   0.1s\n",
      "[CV] alpha=1000 ......................................................\n",
      "[CV] ............. alpha=1000, score=0.8886361521769361, total=   0.1s\n",
      "[CV] alpha=1000 ......................................................\n",
      "[CV] ............. alpha=1000, score=0.8977638870408293, total=   0.0s\n",
      "[CV] alpha=1000 ......................................................\n",
      "[CV] ............. alpha=1000, score=0.8892770425002526, total=   0.1s\n",
      "[CV] alpha=1000 ......................................................\n",
      "[CV] ............. alpha=1000, score=0.9017069026591178, total=   0.1s\n",
      "[CV] alpha=1000 ......................................................\n",
      "[CV] .............. alpha=1000, score=0.883764511874671, total=   0.1s\n",
      "[CV] alpha=10000 .....................................................\n",
      "[CV] ............ alpha=10000, score=0.8929465907269245, total=   0.1s\n",
      "[CV] alpha=10000 .....................................................\n",
      "[CV] ............. alpha=10000, score=0.900120209941646, total=   0.0s\n",
      "[CV] alpha=10000 .....................................................\n",
      "[CV] ............ alpha=10000, score=0.8956644067837265, total=   0.1s\n",
      "[CV] alpha=10000 .....................................................\n",
      "[CV] ............ alpha=10000, score=0.8922831042462236, total=   0.1s\n",
      "[CV] alpha=10000 .....................................................\n",
      "[CV] ............ alpha=10000, score=0.8974631508073158, total=   0.1s\n",
      "[CV] alpha=10000 .....................................................\n",
      "[CV] ............ alpha=10000, score=0.8886361521769361, total=   0.1s\n",
      "[CV] alpha=10000 .....................................................\n",
      "[CV] ............ alpha=10000, score=0.8977638870408293, total=   0.1s\n",
      "[CV] alpha=10000 .....................................................\n",
      "[CV] ............ alpha=10000, score=0.8892770425002526, total=   0.1s\n",
      "[CV] alpha=10000 .....................................................\n",
      "[CV] ............ alpha=10000, score=0.9017069026591178, total=   0.1s\n",
      "[CV] alpha=10000 .....................................................\n",
      "[CV] ............. alpha=10000, score=0.883764511874671, total=   0.1s\n",
      "[CV] alpha=100000 ....................................................\n",
      "[CV] ........... alpha=100000, score=0.8929465907269245, total=   0.1s\n",
      "[CV] alpha=100000 ....................................................\n",
      "[CV] ............ alpha=100000, score=0.900120209941646, total=   0.1s\n",
      "[CV] alpha=100000 ....................................................\n",
      "[CV] ........... alpha=100000, score=0.8956644067837265, total=   0.1s\n",
      "[CV] alpha=100000 ....................................................\n",
      "[CV] ........... alpha=100000, score=0.8922831042462236, total=   0.1s\n",
      "[CV] alpha=100000 ....................................................\n",
      "[CV] ........... alpha=100000, score=0.8974631508073158, total=   0.1s\n",
      "[CV] alpha=100000 ....................................................\n",
      "[CV] ........... alpha=100000, score=0.8886361521769361, total=   0.1s\n",
      "[CV] alpha=100000 ....................................................\n",
      "[CV] ........... alpha=100000, score=0.8977638870408293, total=   0.1s\n",
      "[CV] alpha=100000 ....................................................\n",
      "[CV] ........... alpha=100000, score=0.8892770425002526, total=   0.1s\n",
      "[CV] alpha=100000 ....................................................\n",
      "[CV] ........... alpha=100000, score=0.9017069026591178, total=   0.1s\n",
      "[CV] alpha=100000 ....................................................\n",
      "[CV] ............ alpha=100000, score=0.883764511874671, total=   0.1s\n"
     ]
    },
    {
     "name": "stderr",
     "output_type": "stream",
     "text": [
      "[Parallel(n_jobs=1)]: Done 110 out of 110 | elapsed:   25.3s finished\n"
     ]
    },
    {
     "name": "stdout",
     "output_type": "stream",
     "text": [
      "SGDClassifier(alpha=0.0001, average=False, class_weight='balanced',\n",
      "       early_stopping=False, epsilon=0.1, eta0=0.0, fit_intercept=True,\n",
      "       l1_ratio=0.15, learning_rate='optimal', loss='hinge', max_iter=None,\n",
      "       n_iter=None, n_iter_no_change=5, n_jobs=None, penalty='l2',\n",
      "       power_t=0.5, random_state=None, shuffle=True, tol=None,\n",
      "       validation_fraction=0.1, verbose=0, warm_start=False)\n",
      "0.949641092534647\n"
     ]
    }
   ],
   "source": [
    "alpha = [0.00001,0.0001,0.001,0.01,0.1,1,10,100,1000,10000,100000]\n",
    "clf = SGDClassifier(loss='hinge',class_weight = 'balanced')\n",
    "param_grid = {'alpha':alpha}\n",
    "model_tfidf = GridSearchCV(estimator = clf,param_grid=param_grid ,scoring = 'roc_auc',cv = 10, return_train_score = True, verbose = 3)\n",
    "model_tfidf.fit(c3, y_train1)\n",
    "print(model_tfidf.best_estimator_)\n",
    "print(model_tfidf.score(d3, y_test1))"
   ]
  },
  {
   "cell_type": "markdown",
   "metadata": {
    "colab_type": "text",
    "id": "WBE8uB0Pb-_E"
   },
   "source": [
    "# Observations :\n",
    "\n",
    "1) We found that the accuracy has enhanced when we used  all features . However computation time is more in this case."
   ]
  },
  {
   "cell_type": "markdown",
   "metadata": {
    "colab_type": "text",
    "id": "mxSp0n98b-_F"
   },
   "source": [
    "# OPTIMAL ALPHA FOR TFIDF - THROUGH PLOTTING APPROACH "
   ]
  },
  {
   "cell_type": "code",
   "execution_count": 93,
   "metadata": {
    "colab": {},
    "colab_type": "code",
    "id": "tyBJUrO7b-_G"
   },
   "outputs": [],
   "source": [
    "train_auc_tfidf = model_tfidf.cv_results_['mean_train_score']\n",
    "cv_auc_tfidf = model_tfidf.cv_results_['mean_test_score']"
   ]
  },
  {
   "cell_type": "code",
   "execution_count": 94,
   "metadata": {
    "colab": {
     "base_uri": "https://localhost:8080/",
     "height": 502
    },
    "colab_type": "code",
    "id": "zMTqyw23b-_H",
    "outputId": "4ae733dc-68a2-40ba-c8b4-dafd16342e30"
   },
   "outputs": [
    {
     "data": {
      "image/png": "[encoded data removed]",
      "text/plain": [
       "<Figure size 432x288 with 1 Axes>"
      ]
     },
     "metadata": {
      "needs_background": "light"
     },
     "output_type": "display_data"
    },
    {
     "name": "stdout",
     "output_type": "stream",
     "text": [
      "\n",
      "\n",
      " Alpha Values :\n",
      " [1e-05, 0.0001, 0.001, 0.01, 0.1, 1, 10, 100, 1000, 10000, 100000]\n",
      "\n",
      " Train AUC for each  value is :\n",
      "  [0.97879 0.96759 0.94096 0.90236 0.90228 0.90228 0.90228 0.90228 0.90228\n",
      " 0.90228 0.90228]\n",
      "\n",
      " CV AUC for each value is :\n",
      "  [0.94006 0.94596 0.92946 0.89405 0.89396 0.89396 0.89396 0.89396 0.89396\n",
      " 0.89396 0.89396]\n"
     ]
    }
   ],
   "source": [
    "plt.plot(alpha,train_auc_tfidf)\n",
    "plt.plot(alpha,cv_auc_tfidf)\n",
    "plt.xlabel('ALPHA',size=10)\n",
    "plt.ylabel('AUC',size=10)\n",
    "plt.title('AUC VS HYPERPARAMETER ALPHA TFIDF',size=16)\n",
    "plt.xscale('log')\n",
    "plt.grid()\n",
    "plt.show()\n",
    "print(\"\\n\\n Alpha Values :\\n\", alpha)\n",
    "print(\"\\n Train AUC for each  value is :\\n \", np.round(train_auc_tfidf,5))\n",
    "print(\"\\n CV AUC for each value is :\\n \", np.round(cv_auc_tfidf,5))"
   ]
  },
  {
   "cell_type": "markdown",
   "metadata": {
    "colab_type": "text",
    "id": "Bc4uFO7sb-_I"
   },
   "source": [
    "# Observations :\n",
    "\n",
    "1) We found that optimal value is 0.0001"
   ]
  },
  {
   "cell_type": "markdown",
   "metadata": {
    "colab_type": "text",
    "id": "9lYo1j3lb-_I"
   },
   "source": [
    "# Training the model with the best hyper parameter for TFIDF "
   ]
  },
  {
   "cell_type": "code",
   "execution_count": 95,
   "metadata": {
    "colab": {},
    "colab_type": "code",
    "id": "mA7HiK-kb-_I"
   },
   "outputs": [],
   "source": [
    "om_tfidf = SGDClassifier(alpha=0.0001,class_weight = 'balanced') # Hinge loss is not used as probabilities I cannot get\n",
    "om_tfidf = CalibratedClassifierCV(om_tfidf, cv= 5)"
   ]
  },
  {
   "cell_type": "code",
   "execution_count": 96,
   "metadata": {
    "colab": {},
    "colab_type": "code",
    "id": "oaOTeJSTb-_L"
   },
   "outputs": [],
   "source": [
    "om_tfidf.fit(c3, y_train1)\n",
    "ompredictions_tfidf  = om_tfidf.predict(d3)"
   ]
  },
  {
   "cell_type": "code",
   "execution_count": 97,
   "metadata": {
    "colab": {},
    "colab_type": "code",
    "id": "l2Hf07lpb-_N"
   },
   "outputs": [],
   "source": [
    "probs2 = om_tfidf.predict_proba(c3)\n",
    "probs3 = om_tfidf.predict_proba(d3)\n",
    "probs2= probs2[:, 1]\n",
    "probs3 = probs3[:, 1]"
   ]
  },
  {
   "cell_type": "markdown",
   "metadata": {
    "colab_type": "text",
    "id": "KeaC9-0Nb-_O"
   },
   "source": [
    "# Feature  Importance for TFIDF  (Linear SVM)"
   ]
  },
  {
   "cell_type": "code",
   "execution_count": 98,
   "metadata": {
    "colab": {},
    "colab_type": "code",
    "id": "yoDTNn8Nb-_O"
   },
   "outputs": [],
   "source": [
    "features_tfidf = tf_idf_vect.get_feature_names()"
   ]
  },
  {
   "cell_type": "code",
   "execution_count": 99,
   "metadata": {
    "colab": {
     "base_uri": "https://localhost:8080/",
     "height": 118
    },
    "colab_type": "code",
    "id": "Ole2BdQdb-_R",
    "outputId": "06d38e92-32b5-4cdd-c4da-006a7e1a7622"
   },
   "outputs": [
    {
     "data": {
      "text/plain": [
       "SGDClassifier(alpha=0.0001, average=False, class_weight='balanced',\n",
       "       early_stopping=False, epsilon=0.1, eta0=0.0, fit_intercept=True,\n",
       "       l1_ratio=0.15, learning_rate='optimal', loss='hinge', max_iter=None,\n",
       "       n_iter=None, n_iter_no_change=5, n_jobs=None, penalty='l2',\n",
       "       power_t=0.5, random_state=None, shuffle=True, tol=None,\n",
       "       validation_fraction=0.1, verbose=0, warm_start=False)"
      ]
     },
     "execution_count": 99,
     "metadata": {},
     "output_type": "execute_result"
    }
   ],
   "source": [
    "om_tfidfp = SGDClassifier(alpha=0.0001,class_weight = 'balanced') \n",
    "om_tfidfp.fit(c3,y_train1)"
   ]
  },
  {
   "cell_type": "code",
   "execution_count": 100,
   "metadata": {
    "colab": {
     "base_uri": "https://localhost:8080/",
     "height": 34
    },
    "colab_type": "code",
    "id": "rpJ7VAJqb-_S",
    "outputId": "785e7fcc-81a8-4efa-e218-24b17b7b37dd"
   },
   "outputs": [
    {
     "data": {
      "text/plain": [
       "9723"
      ]
     },
     "execution_count": 100,
     "metadata": {},
     "output_type": "execute_result"
    }
   ],
   "source": [
    "len(features_tfidf)"
   ]
  },
  {
   "cell_type": "code",
   "execution_count": 101,
   "metadata": {
    "colab": {},
    "colab_type": "code",
    "id": "zo7G2rhwb-_T"
   },
   "outputs": [],
   "source": [
    "features_tfidf.append('zzzzzzzzzzzzzzaaaaa')"
   ]
  },
  {
   "cell_type": "code",
   "execution_count": 102,
   "metadata": {
    "colab": {
     "base_uri": "https://localhost:8080/",
     "height": 34
    },
    "colab_type": "code",
    "id": "6k9XJ3Job-_T",
    "outputId": "d8c5ed37-1d61-4545-c1ae-9ff6b40d5d8e"
   },
   "outputs": [
    {
     "data": {
      "text/plain": [
       "(1, 46009)"
      ]
     },
     "execution_count": 102,
     "metadata": {},
     "output_type": "execute_result"
    }
   ],
   "source": [
    "Coefficients.shape"
   ]
  },
  {
   "cell_type": "code",
   "execution_count": 103,
   "metadata": {
    "colab": {},
    "colab_type": "code",
    "id": "l9CPKw8Ab-_W"
   },
   "outputs": [],
   "source": [
    "Coefficients = om_tfidfp.coef_\n",
    "coef = Coefficients.reshape(9724,1)\n",
    "coef = coef.tolist()"
   ]
  },
  {
   "cell_type": "code",
   "execution_count": 104,
   "metadata": {
    "colab": {
     "base_uri": "https://localhost:8080/",
     "height": 34
    },
    "colab_type": "code",
    "id": "pkSO7fKXb-_X",
    "outputId": "647c2233-58bd-4569-a973-672a285e2c43"
   },
   "outputs": [
    {
     "data": {
      "text/plain": [
       "9724"
      ]
     },
     "execution_count": 104,
     "metadata": {},
     "output_type": "execute_result"
    }
   ],
   "source": [
    "len(coef)"
   ]
  },
  {
   "cell_type": "code",
   "execution_count": 105,
   "metadata": {
    "colab": {},
    "colab_type": "code",
    "id": "E3hU5rLZb-_Y",
    "outputId": "c63d947b-5a7e-4159-84c6-b85c35dd125b"
   },
   "outputs": [
    {
     "data": {
      "text/plain": [
       "list"
      ]
     },
     "execution_count": 105,
     "metadata": {},
     "output_type": "execute_result"
    }
   ],
   "source": [
    "type(coef)"
   ]
  },
  {
   "cell_type": "code",
   "execution_count": 106,
   "metadata": {
    "colab": {},
    "colab_type": "code",
    "id": "nIN8ZCg0b-_a",
    "outputId": "c71db031-609d-4cdf-f482-681c45c0f711"
   },
   "outputs": [
    {
     "data": {
      "text/plain": [
       "(9724, 9724)"
      ]
     },
     "execution_count": 106,
     "metadata": {},
     "output_type": "execute_result"
    }
   ],
   "source": [
    "len(features_tfidf), len(coef)"
   ]
  },
  {
   "cell_type": "code",
   "execution_count": 107,
   "metadata": {
    "colab": {
     "base_uri": "https://localhost:8080/",
     "height": 521
    },
    "colab_type": "code",
    "id": "j6llmt27b-_b",
    "outputId": "39d3db69-cbac-4bbd-9c17-f31ae5c688c2"
   },
   "outputs": [
    {
     "name": "stdout",
     "output_type": "stream",
     "text": [
      "***** Top 10 IMPORTANT FEATURES FOR POSITIVE CLASS *****\n",
      "\n",
      "\n",
      "           Word           Coefficient\n",
      "3778      great  [5.8071582586193236]\n",
      "2241  delicious   [4.836676910317802]\n",
      "718        best   [4.539143206102038]\n",
      "6176    perfect  [3.9417924070464587]\n",
      "5008      loves  [3.8759689183827053]\n",
      "2965  excellent   [3.566372697565489]\n",
      "5003       love   [3.559462216077335]\n",
      "9582  wonderful  [3.5026127258542696]\n",
      "3698       good  [3.4185499916891304]\n",
      "4045     highly   [3.197489635663025]\n",
      "\n",
      "\n",
      "***** Top 10 IMPORTANT FEATURES FOR NEGATIVE CLASS *****\n",
      "\n",
      "\n",
      "                Word            Coefficient\n",
      "2445  disappointment    [-2.58302096914942]\n",
      "4116        horrible  [-2.6292981922236174]\n",
      "8750         thought  [-2.6786562790627775]\n",
      "788            bland    [-2.74841129339232]\n",
      "9129   unfortunately   [-2.895517148378411]\n",
      "8676        terrible  [-3.1642052667590126]\n",
      "2444   disappointing   [-3.635976736334212]\n",
      "9616           worst  [-3.7296610933116394]\n",
      "2443    disappointed   [-3.869217530365912]\n",
      "5710             not   [-4.804360175235075]\n"
     ]
    }
   ],
   "source": [
    "cf = pd.DataFrame({'Word' : features_tfidf, 'Coefficient' : coef})\n",
    "cf_new = cf.sort_values(\"Coefficient\", ascending = False)\n",
    "print('***** Top 10 IMPORTANT FEATURES FOR POSITIVE CLASS *****')\n",
    "print('\\n')\n",
    "print(cf_new.head(10))\n",
    "print('\\n')\n",
    "print('***** Top 10 IMPORTANT FEATURES FOR NEGATIVE CLASS *****')\n",
    "print('\\n')\n",
    "print(cf_new.tail(10))"
   ]
  },
  {
   "cell_type": "markdown",
   "metadata": {
    "colab_type": "text",
    "id": "w0kiJj9xb-_c"
   },
   "source": [
    "# Observations :\n",
    "1) We found that the top 2 most important features affecting positive class are great and delicious.\n",
    "\n",
    "2) Top 2 most important features affecting negative class are not and disappointed"
   ]
  },
  {
   "cell_type": "markdown",
   "metadata": {
    "colab_type": "text",
    "id": "9PzDPT3_b-_c"
   },
   "source": [
    "# PERFORMANCE MEASURMENTS FOR TFIDF "
   ]
  },
  {
   "cell_type": "code",
   "execution_count": 108,
   "metadata": {
    "colab": {},
    "colab_type": "code",
    "id": "ZVNgVtH6b-_d"
   },
   "outputs": [],
   "source": [
    "precision_tfidf = precision_score(y_test1, ompredictions_tfidf, pos_label = 1) \n",
    "recall_tfidf = recall_score(y_test1, ompredictions_tfidf, pos_label = 1) \n",
    "f1score_tfidf = f1_score(y_test1, ompredictions_tfidf, pos_label = 1) "
   ]
  },
  {
   "cell_type": "code",
   "execution_count": 109,
   "metadata": {
    "colab": {},
    "colab_type": "code",
    "id": "FKy0Xi7Pb-_e",
    "outputId": "2cee0ad5-c40f-4571-be03-b0fa8eff26ae"
   },
   "outputs": [
    {
     "name": "stdout",
     "output_type": "stream",
     "text": [
      "\n",
      "The Test Precision for optimal alpha for linear SVM  (TFIDF) is 0.936856\n",
      "\n",
      "The Test Recall for optimal alpha for linear SVM (TFIDF) is  0.959457\n",
      "\n",
      "The Test F1-Score for optimal alpha for linear SVM(TFIDF) is  0.948022\n"
     ]
    }
   ],
   "source": [
    "print('\\nThe Test Precision for optimal alpha for linear SVM  (TFIDF) is %f' % (precision_tfidf))\n",
    "print('\\nThe Test Recall for optimal alpha for linear SVM (TFIDF) is  %f' % (recall_tfidf))\n",
    "print('\\nThe Test F1-Score for optimal alpha for linear SVM(TFIDF) is  %f' % (f1score_tfidf))"
   ]
  },
  {
   "cell_type": "markdown",
   "metadata": {
    "colab_type": "text",
    "id": "EHCJ-bRGb-_f"
   },
   "source": [
    "# CONFUSION MATRIX (TFIDF)"
   ]
  },
  {
   "cell_type": "code",
   "execution_count": 110,
   "metadata": {
    "colab": {},
    "colab_type": "code",
    "id": "L91izArob-_g",
    "outputId": "94eb37a2-cfff-483c-cb90-2914047de764"
   },
   "outputs": [
    {
     "data": {
      "image/png": "[encoded data removed]",
      "text/plain": [
       "<Figure size 720x504 with 2 Axes>"
      ]
     },
     "metadata": {
      "needs_background": "light"
     },
     "output_type": "display_data"
    }
   ],
   "source": [
    "# Code for drawing seaborn heatmaps\n",
    "class_names = [ 0,1]\n",
    "df_heatmap = pd.DataFrame(confusion_matrix(y_test1, ompredictions_tfidf), index=class_names, columns=class_names )\n",
    "fig = plt.figure(figsize=(10,7))\n",
    "heatmap = sns.heatmap(df_heatmap, annot=True, fmt=\"d\")\n",
    "\n",
    "# Setting tick labels for heatmap\n",
    "heatmap.yaxis.set_ticklabels(heatmap.yaxis.get_ticklabels(), rotation=0, ha='right', fontsize=10)#\n",
    "heatmap.xaxis.set_ticklabels(heatmap.xaxis.get_ticklabels(), rotation=0, ha='right', fontsize=10)\n",
    "plt.ylabel('Predicted label',size=18)\n",
    "plt.xlabel('Actual label',size=18)\n",
    "plt.title(\"Confusion Matrix\\n\",size=20)\n",
    "plt.show()"
   ]
  },
  {
   "cell_type": "code",
   "execution_count": 111,
   "metadata": {
    "colab": {},
    "colab_type": "code",
    "id": "kufwVvMHb-_h",
    "outputId": "84df361b-cd65-40e1-aa18-c43186806b68"
   },
   "outputs": [
    {
     "name": "stdout",
     "output_type": "stream",
     "text": [
      "TPR of the Linear SVM  (TFIDF) for alpha  is :  0.936856\n",
      "FPR of the  Linear SVM  (TFIDF) for alpha  is :  0.220890\n",
      "TNR of the  Linear SVM  (TFIDF) for alpha  is :  0.779110\n",
      "FNR of the  Linear SVM  (TFIDF) for alpha  is :  0.063144\n"
     ]
    }
   ],
   "source": [
    "TrueNeg,FalseNeg,FalsePos, TruePos = confusion_matrix(y_test1, ompredictions_tfidf).ravel()\n",
    "TPR = TruePos/(FalseNeg + TruePos)\n",
    "FPR = FalsePos/(TrueNeg + FalsePos)\n",
    "TNR = TrueNeg/(TrueNeg + FalsePos)\n",
    "FNR = FalseNeg/(FalseNeg + TruePos)\n",
    "print(\"TPR of the Linear SVM  (TFIDF) for alpha  is :  %f\" % (TPR))\n",
    "print(\"FPR of the  Linear SVM  (TFIDF) for alpha  is :  %f\" % (FPR))\n",
    "print(\"TNR of the  Linear SVM  (TFIDF) for alpha  is :  %f\" % (TNR))\n",
    "print(\"FNR of the  Linear SVM  (TFIDF) for alpha  is :  %f\" % (FNR))"
   ]
  },
  {
   "cell_type": "markdown",
   "metadata": {
    "colab_type": "text",
    "id": "daOwJMu7b-_j"
   },
   "source": [
    "# ROC CURVE FOR TFIDF "
   ]
  },
  {
   "cell_type": "code",
   "execution_count": 112,
   "metadata": {
    "colab": {},
    "colab_type": "code",
    "id": "IRFHTR5rb-_j"
   },
   "outputs": [],
   "source": [
    "import matplotlib.pyplot as plt\n",
    "from sklearn.metrics import roc_curve, auc\n",
    "fpr = dict()\n",
    "tpr = dict()\n",
    "roc_auc = dict()\n",
    "\n",
    "fpr1 = dict()\n",
    "tpr1 = dict()\n",
    "roc_auc1 = dict()\n",
    "\n",
    "for i in range(4):\n",
    "    fpr[i], tpr[i], _ = roc_curve(y_test1,probs3)\n",
    "    roc_auc[i] = auc(fpr[i], tpr[i])"
   ]
  },
  {
   "cell_type": "code",
   "execution_count": 113,
   "metadata": {
    "colab": {},
    "colab_type": "code",
    "id": "g23RRvBVb-_k"
   },
   "outputs": [],
   "source": [
    "from tqdm import tqdm\n",
    "for i in range(4):\n",
    "    fpr1[i], tpr1[i], _ = roc_curve(y_train1,probs2)\n",
    "    roc_auc1[i] = auc(fpr1[i], tpr1[i])    "
   ]
  },
  {
   "cell_type": "code",
   "execution_count": 114,
   "metadata": {
    "colab": {},
    "colab_type": "code",
    "id": "1pa4Ib_kb-_l",
    "outputId": "f642a9f9-5657-47e3-8876-4b1b42deef08"
   },
   "outputs": [
    {
     "data": {
      "image/png": "[encoded data removed]",
      "text/plain": [
       "<Figure size 432x288 with 1 Axes>"
      ]
     },
     "metadata": {
      "needs_background": "light"
     },
     "output_type": "display_data"
    }
   ],
   "source": [
    "#print(roc_auc_score(y_test1,ompredictions_bow))\n",
    "plt.figure()\n",
    "#plt.plot(fpr[1], tpr[1])\n",
    "lw = 2\n",
    "plt.plot(fpr[2], tpr[2], color='darkorange',lw=lw, label=' Test ROC curve (area = %0.5f)' % roc_auc[0])\n",
    "plt.plot(fpr1[2], tpr1[2], color='blue',lw=lw, label='Train ROC curve (area = %0.5f)' % roc_auc1[0])\n",
    "plt.xlim([0.0, 1.0])\n",
    "plt.ylim([0.0, 1.05])\n",
    "plt.xlabel('False Positive Rate')\n",
    "plt.ylabel('True Positive Rate')\n",
    "plt.legend(loc=\"lower right\")\n",
    "plt.title('Receiver operating characteristic')\n",
    "plt.show()"
   ]
  },
  {
   "cell_type": "markdown",
   "metadata": {
    "colab_type": "text",
    "id": "n-cmuelLb-_n"
   },
   "source": [
    "# Observations: \n",
    "1) We found that the training score and the test score has been good. Hence the model is reasonably good"
   ]
  },
  {
   "cell_type": "markdown",
   "metadata": {
    "colab_type": "text",
    "id": "yWfR-JQRb-_n"
   },
   "source": [
    "# Word 2 Vector Data"
   ]
  },
  {
   "cell_type": "markdown",
   "metadata": {
    "colab_type": "text",
    "id": "ir-cfy2Yb-_n"
   },
   "source": [
    "# Preparaing Training Data for Word to Vector "
   ]
  },
  {
   "cell_type": "code",
   "execution_count": 115,
   "metadata": {
    "colab": {},
    "colab_type": "code",
    "id": "7ZTW0nHub-_n"
   },
   "outputs": [],
   "source": [
    "i=0\n",
    "list_of_sentance=[]\n",
    "for sentance in (X_trainbow['Cleaned Text'].values):\n",
    "    list_of_sentance.append(sentance.split())"
   ]
  },
  {
   "cell_type": "code",
   "execution_count": 116,
   "metadata": {
    "colab": {},
    "colab_type": "code",
    "id": "ywDxiLjUb-_o",
    "outputId": "6091f0dd-ce54-477d-98ca-a4639a52d913"
   },
   "outputs": [
    {
     "name": "stdout",
     "output_type": "stream",
     "text": [
      "[('awesome', 0.8387141227722168), ('fantastic', 0.825539231300354), ('terrific', 0.80866539478302), ('good', 0.806596040725708), ('wonderful', 0.7872923612594604), ('amazing', 0.7825056314468384), ('excellent', 0.7768963575363159), ('perfect', 0.7595521211624146), ('fabulous', 0.6763899922370911), ('decent', 0.6671922206878662)]\n",
      "==================================================\n",
      "[('best', 0.723889172077179), ('tastiest', 0.7033755779266357), ('greatest', 0.6945815086364746), ('disgusting', 0.6411334872245789), ('awful', 0.6349409818649292), ('coolest', 0.6270347237586975), ('closest', 0.6220861673355103), ('sweetest', 0.6094496846199036), ('smoothest', 0.6014837026596069), ('experienced', 0.6008162498474121)]\n",
      "number of words that occured minimum 5 times  14706\n",
      "sample words  ['dogs', 'loves', 'chicken', 'product', 'china', 'wont', 'buying', 'anymore', 'hard', 'find', 'products', 'made', 'usa', 'one', 'isnt', 'bad', 'good', 'take', 'chances', 'till', 'know', 'going', 'imports', 'love', 'saw', 'pet', 'store', 'tag', 'attached', 'regarding', 'satisfied', 'safe', 'infestation', 'literally', 'everywhere', 'flying', 'around', 'kitchen', 'bought', 'hoping', 'least', 'get', 'rid', 'weeks', 'fly', 'stuck', 'buggers', 'success', 'rate', 'day']\n"
     ]
    }
   ],
   "source": [
    "#WORD TO VECTOR\n",
    "\n",
    "is_your_ram_gt_16g=False\n",
    "want_to_use_google_w2v = False\n",
    "want_to_train_w2v = True\n",
    "\n",
    "if want_to_train_w2v:\n",
    "    # min_count = 5 considers only words that occured atleast 5 times\n",
    "    w2v_model=Word2Vec(list_of_sentance,min_count=5,size=50, workers=4)\n",
    "    print(w2v_model.wv.most_similar('great'))\n",
    "    print('='*50)\n",
    "    print(w2v_model.wv.most_similar('worst'))\n",
    "    \n",
    "elif want_to_use_google_w2v and is_your_ram_gt_16g:\n",
    "    if os.path.isfile('GoogleNews-vectors-negative300.bin'):\n",
    "        w2v_model=KeyedVectors.load_word2vec_format('GoogleNews-vectors-negative300.bin', binary=True)\n",
    "        print(w2v_model.wv.most_similar('great'))\n",
    "        print(w2v_model.wv.most_similar('worst'))\n",
    "    else:\n",
    "        print(\"you don't have gogole's word2vec file, keep want_to_train_w2v = True, to train your own w2v \")\n",
    "\n",
    "\n",
    "w2v_words = list(w2v_model.wv.vocab)\n",
    "print(\"number of words that occured minimum 5 times \",len(w2v_words))\n",
    "print(\"sample words \", w2v_words[0:50])"
   ]
  },
  {
   "cell_type": "code",
   "execution_count": 117,
   "metadata": {
    "colab": {},
    "colab_type": "code",
    "id": "6Wm99UOXb-_p",
    "outputId": "38b885d8-9061-468d-dc4d-8ad66d5e8562"
   },
   "outputs": [
    {
     "name": "stderr",
     "output_type": "stream",
     "text": [
      "100%|███████████████████████████████████████████████████████████████████████████| 61441/61441 [01:46<00:00, 576.72it/s]\n"
     ]
    },
    {
     "name": "stdout",
     "output_type": "stream",
     "text": [
      "61441\n",
      "50\n"
     ]
    }
   ],
   "source": [
    "sent_vectors = []; # the avg-w2v for each sentence/review is stored in this list\n",
    "for sent in tqdm(list_of_sentance): # for each review/sentence\n",
    "    sent_vec = np.zeros(50) # as word vectors are of zero length 50, you might need to change this to 300 if you use google's w2v\n",
    "    cnt_words =0; # num of words with a valid vector in the sentence/review\n",
    "    for word in sent: # for each word in a review/sentence\n",
    "        if word in w2v_words:\n",
    "            vec = w2v_model.wv[word]\n",
    "            sent_vec += vec\n",
    "            cnt_words += 1\n",
    "    if cnt_words != 0:\n",
    "        sent_vec /= cnt_words\n",
    "    sent_vectors.append(sent_vec)\n",
    "print(len(sent_vectors))\n",
    "print(len(sent_vectors[0]))"
   ]
  },
  {
   "cell_type": "code",
   "execution_count": 118,
   "metadata": {
    "colab": {},
    "colab_type": "code",
    "id": "mzzaypDDb-_q",
    "outputId": "cf690816-9dfa-4de6-a59a-f173b82e24d1"
   },
   "outputs": [
    {
     "data": {
      "text/plain": [
       "array([-0.12912887, -0.76420906, -0.15761923,  0.40769311, -0.72918309,\n",
       "        0.07135952, -0.16411569, -0.16107504, -0.59605415, -0.79738394,\n",
       "       -0.26945326, -0.83281161,  0.17938109, -0.30916784, -0.33834869,\n",
       "       -0.45378742,  0.5442509 ,  0.33933452,  0.48258768, -0.43977127,\n",
       "       -0.25969976,  0.2234058 ,  0.84654541,  0.90660261,  0.47916459,\n",
       "        0.74423378,  0.47660786, -0.3766901 ,  0.79599934, -0.10644283,\n",
       "       -0.23197277, -0.16741426, -0.06251451, -0.635977  ,  0.52959876,\n",
       "       -1.38729947, -0.60243387,  0.50411926,  0.39830671,  0.61259393,\n",
       "        0.60565934,  0.22240643,  0.80609812,  0.08869576,  0.73663351,\n",
       "       -0.26700896, -1.11758449,  0.61151643,  0.25568527, -0.36326609])"
      ]
     },
     "execution_count": 118,
     "metadata": {},
     "output_type": "execute_result"
    }
   ],
   "source": [
    "sent_vectors[1]"
   ]
  },
  {
   "cell_type": "markdown",
   "metadata": {
    "colab_type": "text",
    "id": "6SI5PPiVb-_r"
   },
   "source": [
    "# Preparing Test Data for Word to Vector "
   ]
  },
  {
   "cell_type": "code",
   "execution_count": 0,
   "metadata": {
    "colab": {},
    "colab_type": "code",
    "id": "HAsyzRhBb-_r",
    "outputId": "539ad470-8390-4ae9-b29f-a8dfbe446e42"
   },
   "outputs": [
    {
     "data": {
      "text/html": [
       "<div>\n",
       "<style scoped>\n",
       "    .dataframe tbody tr th:only-of-type {\n",
       "        vertical-align: middle;\n",
       "    }\n",
       "\n",
       "    .dataframe tbody tr th {\n",
       "        vertical-align: top;\n",
       "    }\n",
       "\n",
       "    .dataframe thead th {\n",
       "        text-align: right;\n",
       "    }\n",
       "</style>\n",
       "<table border=\"1\" class=\"dataframe\">\n",
       "  <thead>\n",
       "    <tr style=\"text-align: right;\">\n",
       "      <th></th>\n",
       "      <th>Cleaned Text</th>\n",
       "      <th>Length</th>\n",
       "    </tr>\n",
       "  </thead>\n",
       "  <tbody>\n",
       "    <tr>\n",
       "      <th>61441</th>\n",
       "      <td>used treat training reward dog loves easy brea...</td>\n",
       "      <td>66</td>\n",
       "    </tr>\n",
       "    <tr>\n",
       "      <th>61442</th>\n",
       "      <td>much fun watching puppies asking chicken treat...</td>\n",
       "      <td>134</td>\n",
       "    </tr>\n",
       "    <tr>\n",
       "      <th>61443</th>\n",
       "      <td>little shih tzu absolutely loves cesar softies...</td>\n",
       "      <td>181</td>\n",
       "    </tr>\n",
       "    <tr>\n",
       "      <th>61444</th>\n",
       "      <td>westie like picture package loves treats perfe...</td>\n",
       "      <td>162</td>\n",
       "    </tr>\n",
       "  </tbody>\n",
       "</table>\n",
       "</div>"
      ],
      "text/plain": [
       "                                            Cleaned Text  Length\n",
       "61441  used treat training reward dog loves easy brea...      66\n",
       "61442  much fun watching puppies asking chicken treat...     134\n",
       "61443  little shih tzu absolutely loves cesar softies...     181\n",
       "61444  westie like picture package loves treats perfe...     162"
      ]
     },
     "execution_count": 79,
     "metadata": {
      "tags": []
     },
     "output_type": "execute_result"
    }
   ],
   "source": [
    "X_test1.head(4)"
   ]
  },
  {
   "cell_type": "code",
   "execution_count": 119,
   "metadata": {
    "colab": {},
    "colab_type": "code",
    "id": "wGh-gY4_b-_s"
   },
   "outputs": [],
   "source": [
    "i=0\n",
    "list_of_sentance1=[]\n",
    "for sentance in (X_test1['Cleaned Text'].values):\n",
    "    list_of_sentance1.append(sentance.split())"
   ]
  },
  {
   "cell_type": "code",
   "execution_count": 120,
   "metadata": {
    "colab": {},
    "colab_type": "code",
    "id": "Gb6Baoxqb-_t",
    "outputId": "c6bc6c2c-4dba-448b-b67b-f1d5489385c7"
   },
   "outputs": [
    {
     "name": "stdout",
     "output_type": "stream",
     "text": [
      "[('awesome', 0.848763108253479), ('excellent', 0.7997280955314636), ('fantastic', 0.7893553972244263), ('good', 0.783993124961853), ('wonderful', 0.7780619263648987), ('amazing', 0.7077950239181519), ('perfect', 0.6931569576263428), ('nice', 0.6887220740318298), ('decent', 0.684121310710907), ('delicious', 0.6560591459274292)]\n",
      "==================================================\n",
      "[('best', 0.757299542427063), ('greatest', 0.7377722263336182), ('ever', 0.7260575294494629), ('closest', 0.7169400453567505), ('nastiest', 0.7163026332855225), ('hottest', 0.7093741297721863), ('horrible', 0.6963449716567993), ('superior', 0.6925037503242493), ('disgusting', 0.6703665256500244), ('carob', 0.6548367738723755)]\n",
      "number of words that occured minimum 5 times  9573\n",
      "sample words  ['used', 'treat', 'training', 'reward', 'dog', 'loves', 'easy', 'break', 'smaller', 'pieces', 'buy', 'much', 'fun', 'watching', 'puppies', 'asking', 'chicken', 'treats', 'go', 'crazy', 'show', 'blue', 'package', 'small', 'eat', 'not', 'bad', 'smell', 'recommend', 'happy', 'little', 'shih', 'tzu', 'absolutely', 'tried', 'different', 'flavors', 'seems', 'enjoy', 'grilled', 'flavor', 'soft', 'enough', 'half', 'satisfy', 'westie', 'like', 'picture', 'perfect', 'size']\n"
     ]
    }
   ],
   "source": [
    "is_your_ram_gt_16g=False\n",
    "want_to_use_google_w2v = False\n",
    "want_to_train_w2v = True\n",
    "\n",
    "if want_to_train_w2v:\n",
    "    # min_count = 5 considers only words that occured atleast 5 times\n",
    "    w2v_model1=Word2Vec(list_of_sentance1,min_count=5,size=50, workers=4)\n",
    "    print(w2v_model1.wv.most_similar('great'))\n",
    "    print('='*50)\n",
    "    print(w2v_model1.wv.most_similar('worst'))\n",
    "    \n",
    "elif want_to_use_google_w2v and is_your_ram_gt_16g:\n",
    "    if os.path.isfile('GoogleNews-vectors-negative300.bin'):\n",
    "        w2v_model1=KeyedVectors.load_word2vec_format('GoogleNews-vectors-negative300.bin', binary=True)\n",
    "        print(w2v_model1.wv.most_similar('great'))\n",
    "        print(w2v_model1.wv.most_similar('worst'))\n",
    "    else:\n",
    "        print(\"you don't have gogole's word2vec file, keep want_to_train_w2v = True, to train your own w2v \")\n",
    "\n",
    "\n",
    "w2v_words1 = list(w2v_model1.wv.vocab)\n",
    "print(\"number of words that occured minimum 5 times \",len(w2v_words1))\n",
    "print(\"sample words \", w2v_words1[0:50])"
   ]
  },
  {
   "cell_type": "code",
   "execution_count": 121,
   "metadata": {
    "colab": {},
    "colab_type": "code",
    "id": "vCerA_xPb-_u",
    "outputId": "2a7ee22b-e459-4abe-be0d-fdc7752dd543"
   },
   "outputs": [
    {
     "name": "stderr",
     "output_type": "stream",
     "text": [
      "100%|███████████████████████████████████████████████████████████████████████████| 26332/26332 [00:30<00:00, 861.58it/s]\n"
     ]
    },
    {
     "name": "stdout",
     "output_type": "stream",
     "text": [
      "26332\n",
      "50\n"
     ]
    }
   ],
   "source": [
    "sent_vectors1 = []; # the avg-w2v for each sentence/review is stored in this list\n",
    "for sent in tqdm(list_of_sentance1): # for each review/sentence\n",
    "    sent_vec = np.zeros(50) # as word vectors are of zero length 50, you might need to change this to 300 if you use google's w2v\n",
    "    cnt_words =0; # num of words with a valid vector in the sentence/review\n",
    "    for word in sent: # for each word in a review/sentence\n",
    "        if word in w2v_words1:\n",
    "            vec = w2v_model1.wv[word]\n",
    "            sent_vec += vec\n",
    "            cnt_words += 1\n",
    "    if cnt_words != 0:\n",
    "        sent_vec /= cnt_words\n",
    "    sent_vectors1.append(sent_vec)\n",
    "print(len(sent_vectors1))\n",
    "print(len(sent_vectors1[0]))"
   ]
  },
  {
   "cell_type": "code",
   "execution_count": 122,
   "metadata": {
    "colab": {},
    "colab_type": "code",
    "id": "XPSOvqqFb-_u"
   },
   "outputs": [],
   "source": [
    "e3 = sent_vectors\n",
    "f3 = sent_vectors1"
   ]
  },
  {
   "cell_type": "code",
   "execution_count": 123,
   "metadata": {
    "colab": {},
    "colab_type": "code",
    "id": "dnc7vnOub-_v",
    "outputId": "5ac5525a-02ac-45b5-e474-9b906789199c"
   },
   "outputs": [
    {
     "data": {
      "text/plain": [
       "26332"
      ]
     },
     "execution_count": 123,
     "metadata": {},
     "output_type": "execute_result"
    }
   ],
   "source": [
    "len(y_test1)"
   ]
  },
  {
   "cell_type": "code",
   "execution_count": 124,
   "metadata": {
    "colab": {},
    "colab_type": "code",
    "id": "4mskgk4vb-_w"
   },
   "outputs": [],
   "source": [
    "e3 = preprocessing.normalize(e3)\n",
    "e4 = sparse.csr_matrix(X_train1['Length'].values)\n",
    "e4 = preprocessing.normalize(e4)\n",
    "e5 = sparse.hstack([e3, e4.T])"
   ]
  },
  {
   "cell_type": "code",
   "execution_count": 125,
   "metadata": {
    "colab": {},
    "colab_type": "code",
    "id": "1hjmZJbgb-_w"
   },
   "outputs": [],
   "source": [
    "f3 = preprocessing.normalize(f3)\n",
    "f4 = sparse.csr_matrix(X_test1['Length'].values)\n",
    "f4 = preprocessing.normalize(f4)\n",
    "f5 = sparse.hstack([f3, f4.T])"
   ]
  },
  {
   "cell_type": "markdown",
   "metadata": {
    "colab_type": "text",
    "id": "Y5N85hX-b-_x"
   },
   "source": [
    "# Applying SVM on Word to VECTOR "
   ]
  },
  {
   "cell_type": "code",
   "execution_count": 126,
   "metadata": {
    "colab": {},
    "colab_type": "code",
    "id": "tXsv10Uwb-_y",
    "outputId": "7a754f5c-0092-4cc5-c59c-1e651a76c5df"
   },
   "outputs": [
    {
     "name": "stdout",
     "output_type": "stream",
     "text": [
      "Fitting 10 folds for each of 11 candidates, totalling 110 fits\n"
     ]
    },
    {
     "name": "stderr",
     "output_type": "stream",
     "text": [
      "[Parallel(n_jobs=1)]: Using backend SequentialBackend with 1 concurrent workers.\n"
     ]
    },
    {
     "name": "stdout",
     "output_type": "stream",
     "text": [
      "[CV] alpha=1e-05 .....................................................\n",
      "[CV] ............ alpha=1e-05, score=0.8922675864506165, total=   0.0s\n"
     ]
    },
    {
     "name": "stderr",
     "output_type": "stream",
     "text": [
      "[Parallel(n_jobs=1)]: Done   1 out of   1 | elapsed:    0.1s remaining:    0.0s\n"
     ]
    },
    {
     "name": "stdout",
     "output_type": "stream",
     "text": [
      "[CV] alpha=1e-05 .....................................................\n",
      "[CV] ............ alpha=1e-05, score=0.9019527419419963, total=   0.0s\n"
     ]
    },
    {
     "name": "stderr",
     "output_type": "stream",
     "text": [
      "[Parallel(n_jobs=1)]: Done   2 out of   2 | elapsed:    0.2s remaining:    0.0s\n"
     ]
    },
    {
     "name": "stdout",
     "output_type": "stream",
     "text": [
      "[CV] alpha=1e-05 .....................................................\n",
      "[CV] ............ alpha=1e-05, score=0.8879640945257105, total=   0.0s\n",
      "[CV] alpha=1e-05 .....................................................\n",
      "[CV] ............ alpha=1e-05, score=0.9029029150205043, total=   0.0s\n",
      "[CV] alpha=1e-05 .....................................................\n",
      "[CV] ............ alpha=1e-05, score=0.8926499704366078, total=   0.0s\n",
      "[CV] alpha=1e-05 .....................................................\n",
      "[CV] .............. alpha=1e-05, score=0.87767378622516, total=   0.0s\n",
      "[CV] alpha=1e-05 .....................................................\n",
      "[CV] ............ alpha=1e-05, score=0.8953531949973337, total=   0.0s\n",
      "[CV] alpha=1e-05 .....................................................\n",
      "[CV] ............ alpha=1e-05, score=0.8785395784290284, total=   0.0s\n",
      "[CV] alpha=1e-05 .....................................................\n",
      "[CV] ............ alpha=1e-05, score=0.8976620897099528, total=   0.0s\n",
      "[CV] alpha=1e-05 .....................................................\n",
      "[CV] ............ alpha=1e-05, score=0.8745615667721349, total=   0.0s\n",
      "[CV] alpha=0.0001 ....................................................\n",
      "[CV] ........... alpha=0.0001, score=0.9033691164789162, total=   0.0s\n",
      "[CV] alpha=0.0001 ....................................................\n",
      "[CV] ........... alpha=0.0001, score=0.9107975871661995, total=   0.0s\n",
      "[CV] alpha=0.0001 ....................................................\n",
      "[CV] ........... alpha=0.0001, score=0.9067735323853259, total=   0.0s\n",
      "[CV] alpha=0.0001 ....................................................\n",
      "[CV] ............ alpha=0.0001, score=0.903461768180986, total=   0.0s\n",
      "[CV] alpha=0.0001 ....................................................\n",
      "[CV] ........... alpha=0.0001, score=0.9081247805255781, total=   0.0s\n",
      "[CV] alpha=0.0001 ....................................................\n",
      "[CV] ........... alpha=0.0001, score=0.8925209119731239, total=   0.0s\n",
      "[CV] alpha=0.0001 ....................................................\n",
      "[CV] ............ alpha=0.0001, score=0.900508530364255, total=   0.0s\n",
      "[CV] alpha=0.0001 ....................................................\n",
      "[CV] ........... alpha=0.0001, score=0.8915132555047437, total=   0.0s\n",
      "[CV] alpha=0.0001 ....................................................\n",
      "[CV] ........... alpha=0.0001, score=0.9074452096054051, total=   0.0s\n",
      "[CV] alpha=0.0001 ....................................................\n",
      "[CV] ........... alpha=0.0001, score=0.8849336671489783, total=   0.0s\n",
      "[CV] alpha=0.001 .....................................................\n",
      "[CV] ............ alpha=0.001, score=0.9068978599272344, total=   0.0s\n",
      "[CV] alpha=0.001 .....................................................\n",
      "[CV] ............ alpha=0.001, score=0.9092700773988919, total=   0.0s\n",
      "[CV] alpha=0.001 .....................................................\n",
      "[CV] ............ alpha=0.001, score=0.9055664358811685, total=   0.0s\n",
      "[CV] alpha=0.001 .....................................................\n",
      "[CV] ............ alpha=0.001, score=0.8997955073648363, total=   0.0s\n",
      "[CV] alpha=0.001 .....................................................\n",
      "[CV] ............ alpha=0.001, score=0.9079535029368304, total=   0.0s\n",
      "[CV] alpha=0.001 .....................................................\n",
      "[CV] ............ alpha=0.001, score=0.8935463765085583, total=   0.0s\n",
      "[CV] alpha=0.001 .....................................................\n",
      "[CV] ............ alpha=0.001, score=0.9015558047795653, total=   0.0s\n",
      "[CV] alpha=0.001 .....................................................\n",
      "[CV] ............ alpha=0.001, score=0.8952467467762897, total=   0.0s\n",
      "[CV] alpha=0.001 .....................................................\n",
      "[CV] ............ alpha=0.001, score=0.9080065722456706, total=   0.0s\n",
      "[CV] alpha=0.001 .....................................................\n",
      "[CV] ............ alpha=0.001, score=0.8846136604246343, total=   0.0s\n",
      "[CV] alpha=0.01 ......................................................\n",
      "[CV] ............. alpha=0.01, score=0.9016117406775332, total=   0.0s\n",
      "[CV] alpha=0.01 ......................................................\n",
      "[CV] ............. alpha=0.01, score=0.9044596808979726, total=   0.1s\n",
      "[CV] alpha=0.01 ......................................................\n",
      "[CV] ............. alpha=0.01, score=0.9021660176449167, total=   0.0s\n",
      "[CV] alpha=0.01 ......................................................\n",
      "[CV] ............. alpha=0.01, score=0.8985085243615357, total=   0.0s\n",
      "[CV] alpha=0.01 ......................................................\n",
      "[CV] ............. alpha=0.01, score=0.9035929275962011, total=   0.0s\n",
      "[CV] alpha=0.01 ......................................................\n",
      "[CV] ............. alpha=0.01, score=0.8855549563952472, total=   0.0s\n",
      "[CV] alpha=0.01 ......................................................\n",
      "[CV] ............. alpha=0.01, score=0.8974271344919249, total=   0.0s\n",
      "[CV] alpha=0.01 ......................................................\n",
      "[CV] ............. alpha=0.01, score=0.8891041641863764, total=   0.0s\n",
      "[CV] alpha=0.01 ......................................................\n",
      "[CV] ............. alpha=0.01, score=0.9010134546917309, total=   0.0s\n",
      "[CV] alpha=0.01 ......................................................\n",
      "[CV] ............. alpha=0.01, score=0.8767719947085818, total=   0.0s\n",
      "[CV] alpha=0.1 .......................................................\n",
      "[CV] .............. alpha=0.1, score=0.8819563958125204, total=   0.0s\n",
      "[CV] alpha=0.1 .......................................................\n",
      "[CV] ............... alpha=0.1, score=0.883673994795833, total=   0.0s\n",
      "[CV] alpha=0.1 .......................................................\n",
      "[CV] .............. alpha=0.1, score=0.8820783247523344, total=   0.0s\n",
      "[CV] alpha=0.1 .......................................................\n",
      "[CV] .............. alpha=0.1, score=0.8873660768328052, total=   0.0s\n",
      "[CV] alpha=0.1 .......................................................\n",
      "[CV] .............. alpha=0.1, score=0.8877265401226755, total=   0.0s\n",
      "[CV] alpha=0.1 .......................................................\n",
      "[CV] .............. alpha=0.1, score=0.8603715483113851, total=   0.0s\n",
      "[CV] alpha=0.1 .......................................................\n",
      "[CV] .............. alpha=0.1, score=0.8765526783632986, total=   0.0s\n",
      "[CV] alpha=0.1 .......................................................\n",
      "[CV] .............. alpha=0.1, score=0.8561056158439773, total=   0.0s\n",
      "[CV] alpha=0.1 .......................................................\n",
      "[CV] .............. alpha=0.1, score=0.8651644962645869, total=   0.0s\n",
      "[CV] alpha=0.1 .......................................................\n",
      "[CV] .............. alpha=0.1, score=0.8553789748177322, total=   0.0s\n",
      "[CV] alpha=1 .........................................................\n",
      "[CV] .................. alpha=1, score=0.88194979965676, total=   0.1s\n",
      "[CV] alpha=1 .........................................................\n",
      "[CV] ................ alpha=1, score=0.8836775926989751, total=   0.0s\n",
      "[CV] alpha=1 .........................................................\n",
      "[CV] ................ alpha=1, score=0.8820719284800818, total=   0.0s\n",
      "[CV] alpha=1 .........................................................\n",
      "[CV] ................ alpha=1, score=0.8873670772860105, total=   0.0s\n",
      "[CV] alpha=1 .........................................................\n",
      "[CV] ................. alpha=1, score=0.887721537856649, total=   0.1s\n",
      "[CV] alpha=1 .........................................................\n",
      "[CV] ................ alpha=1, score=0.8603791517557453, total=   0.1s\n",
      "[CV] alpha=1 .........................................................\n",
      "[CV] ................ alpha=1, score=0.8765552795416325, total=   0.0s\n",
      "[CV] alpha=1 .........................................................\n",
      "[CV] ................. alpha=1, score=0.856124624454878, total=   0.1s\n",
      "[CV] alpha=1 .........................................................\n",
      "[CV] ................. alpha=1, score=0.865183108287954, total=   0.0s\n",
      "[CV] alpha=1 .........................................................\n"
     ]
    },
    {
     "name": "stdout",
     "output_type": "stream",
     "text": [
      "[CV] ................ alpha=1, score=0.8553735713270773, total=   0.1s\n",
      "[CV] alpha=10 ........................................................\n",
      "[CV] ................. alpha=10, score=0.88194979965676, total=   0.1s\n",
      "[CV] alpha=10 ........................................................\n",
      "[CV] ............... alpha=10, score=0.8836775926989751, total=   0.1s\n",
      "[CV] alpha=10 ........................................................\n",
      "[CV] ............... alpha=10, score=0.8820719284800818, total=   0.1s\n",
      "[CV] alpha=10 ........................................................\n",
      "[CV] ............... alpha=10, score=0.8873670772860105, total=   0.1s\n",
      "[CV] alpha=10 ........................................................\n",
      "[CV] ................ alpha=10, score=0.887721537856649, total=   0.1s\n",
      "[CV] alpha=10 ........................................................\n",
      "[CV] ............... alpha=10, score=0.8603791517557453, total=   0.0s\n",
      "[CV] alpha=10 ........................................................\n",
      "[CV] ............... alpha=10, score=0.8765552795416325, total=   0.0s\n",
      "[CV] alpha=10 ........................................................\n",
      "[CV] ................ alpha=10, score=0.856124624454878, total=   0.0s\n",
      "[CV] alpha=10 ........................................................\n",
      "[CV] ................ alpha=10, score=0.865183108287954, total=   0.0s\n",
      "[CV] alpha=10 ........................................................\n",
      "[CV] ............... alpha=10, score=0.8553735713270773, total=   0.0s\n",
      "[CV] alpha=100 .......................................................\n",
      "[CV] ................ alpha=100, score=0.88194979965676, total=   0.0s\n",
      "[CV] alpha=100 .......................................................\n",
      "[CV] .............. alpha=100, score=0.8836775926989751, total=   0.0s\n",
      "[CV] alpha=100 .......................................................\n",
      "[CV] .............. alpha=100, score=0.8820719284800818, total=   0.0s\n",
      "[CV] alpha=100 .......................................................\n",
      "[CV] .............. alpha=100, score=0.8873670772860105, total=   0.0s\n",
      "[CV] alpha=100 .......................................................\n",
      "[CV] ............... alpha=100, score=0.887721537856649, total=   0.1s\n",
      "[CV] alpha=100 .......................................................\n",
      "[CV] .............. alpha=100, score=0.8603791517557453, total=   0.1s\n",
      "[CV] alpha=100 .......................................................\n",
      "[CV] .............. alpha=100, score=0.8765552795416325, total=   0.1s\n",
      "[CV] alpha=100 .......................................................\n",
      "[CV] ............... alpha=100, score=0.856124624454878, total=   0.1s\n",
      "[CV] alpha=100 .......................................................\n",
      "[CV] ............... alpha=100, score=0.865183108287954, total=   0.0s\n",
      "[CV] alpha=100 .......................................................\n",
      "[CV] .............. alpha=100, score=0.8553735713270773, total=   0.0s\n",
      "[CV] alpha=1000 ......................................................\n",
      "[CV] ............... alpha=1000, score=0.88194979965676, total=   0.0s\n",
      "[CV] alpha=1000 ......................................................\n",
      "[CV] ............. alpha=1000, score=0.8836775926989751, total=   0.0s\n",
      "[CV] alpha=1000 ......................................................\n",
      "[CV] ............. alpha=1000, score=0.8820719284800818, total=   0.0s\n",
      "[CV] alpha=1000 ......................................................\n",
      "[CV] ............. alpha=1000, score=0.8873670772860105, total=   0.1s\n",
      "[CV] alpha=1000 ......................................................\n",
      "[CV] .............. alpha=1000, score=0.887721537856649, total=   0.0s\n",
      "[CV] alpha=1000 ......................................................\n",
      "[CV] ............. alpha=1000, score=0.8603791517557453, total=   0.0s\n",
      "[CV] alpha=1000 ......................................................\n",
      "[CV] ............. alpha=1000, score=0.8765552795416325, total=   0.0s\n",
      "[CV] alpha=1000 ......................................................\n",
      "[CV] .............. alpha=1000, score=0.856124624454878, total=   0.0s\n",
      "[CV] alpha=1000 ......................................................\n",
      "[CV] .............. alpha=1000, score=0.865183108287954, total=   0.0s\n",
      "[CV] alpha=1000 ......................................................\n",
      "[CV] ............. alpha=1000, score=0.8553735713270773, total=   0.0s\n",
      "[CV] alpha=10000 .....................................................\n",
      "[CV] .............. alpha=10000, score=0.88194979965676, total=   0.0s\n",
      "[CV] alpha=10000 .....................................................\n",
      "[CV] ............ alpha=10000, score=0.8836775926989751, total=   0.1s\n",
      "[CV] alpha=10000 .....................................................\n",
      "[CV] ............ alpha=10000, score=0.8820719284800818, total=   0.0s\n",
      "[CV] alpha=10000 .....................................................\n",
      "[CV] ............ alpha=10000, score=0.8873670772860105, total=   0.0s\n",
      "[CV] alpha=10000 .....................................................\n",
      "[CV] ............. alpha=10000, score=0.887721537856649, total=   0.0s\n",
      "[CV] alpha=10000 .....................................................\n",
      "[CV] ............ alpha=10000, score=0.8603791517557453, total=   0.0s\n",
      "[CV] alpha=10000 .....................................................\n",
      "[CV] ............ alpha=10000, score=0.8765552795416325, total=   0.0s\n",
      "[CV] alpha=10000 .....................................................\n",
      "[CV] ............. alpha=10000, score=0.856124624454878, total=   0.0s\n",
      "[CV] alpha=10000 .....................................................\n",
      "[CV] ............. alpha=10000, score=0.865183108287954, total=   0.0s\n",
      "[CV] alpha=10000 .....................................................\n",
      "[CV] ............ alpha=10000, score=0.8553735713270773, total=   0.0s\n",
      "[CV] alpha=100000 ....................................................\n",
      "[CV] ............. alpha=100000, score=0.88194979965676, total=   0.0s\n",
      "[CV] alpha=100000 ....................................................\n",
      "[CV] ........... alpha=100000, score=0.8836775926989751, total=   0.0s\n",
      "[CV] alpha=100000 ....................................................\n",
      "[CV] ........... alpha=100000, score=0.8820719284800818, total=   0.0s\n",
      "[CV] alpha=100000 ....................................................\n",
      "[CV] ........... alpha=100000, score=0.8873670772860105, total=   0.0s\n",
      "[CV] alpha=100000 ....................................................\n",
      "[CV] ............ alpha=100000, score=0.887721537856649, total=   0.0s\n",
      "[CV] alpha=100000 ....................................................\n",
      "[CV] ........... alpha=100000, score=0.8603791517557453, total=   0.0s\n",
      "[CV] alpha=100000 ....................................................\n",
      "[CV] ........... alpha=100000, score=0.8765552795416325, total=   0.0s\n",
      "[CV] alpha=100000 ....................................................\n",
      "[CV] ............ alpha=100000, score=0.856124624454878, total=   0.1s\n",
      "[CV] alpha=100000 ....................................................\n",
      "[CV] ............ alpha=100000, score=0.865183108287954, total=   0.0s\n",
      "[CV] alpha=100000 ....................................................\n",
      "[CV] ........... alpha=100000, score=0.8553735713270773, total=   0.0s\n"
     ]
    },
    {
     "name": "stderr",
     "output_type": "stream",
     "text": [
      "[Parallel(n_jobs=1)]: Done 110 out of 110 | elapsed:   18.8s finished\n"
     ]
    },
    {
     "name": "stdout",
     "output_type": "stream",
     "text": [
      "SGDClassifier(alpha=0.001, average=False, class_weight='balanced',\n",
      "       early_stopping=False, epsilon=0.1, eta0=0.0, fit_intercept=True,\n",
      "       l1_ratio=0.15, learning_rate='optimal', loss='hinge', max_iter=None,\n",
      "       n_iter=None, n_iter_no_change=5, n_jobs=None, penalty='l2',\n",
      "       power_t=0.5, random_state=None, shuffle=True, tol=None,\n",
      "       validation_fraction=0.1, verbose=0, warm_start=False)\n",
      "0.7358664637830256\n"
     ]
    }
   ],
   "source": [
    "alpha = [0.00001,0.0001,0.001,0.01,0.1,1,10,100,1000,10000,100000]\n",
    "clf = SGDClassifier(loss='hinge',class_weight = 'balanced')\n",
    "param_grid = {'alpha':alpha}\n",
    "model_w2v = GridSearchCV(estimator = clf,param_grid=param_grid ,scoring = 'roc_auc',cv = 10, return_train_score = True, verbose = 3)\n",
    "model_w2v.fit(e5, y_train1)\n",
    "print(model_w2v.best_estimator_)\n",
    "print(model_w2v.score(f5, y_test1))"
   ]
  },
  {
   "cell_type": "markdown",
   "metadata": {
    "colab_type": "text",
    "id": "8LeWlH6nb-_y"
   },
   "source": [
    "# Observations :\n",
    "We observed that alpha = 0.001 . The AUC has been 0.735"
   ]
  },
  {
   "cell_type": "code",
   "execution_count": 127,
   "metadata": {
    "colab": {},
    "colab_type": "code",
    "id": "hpjNu3Mhb-_z"
   },
   "outputs": [],
   "source": [
    "train_auc_w2v = model_w2v.cv_results_['mean_train_score']\n",
    "cv_auc_w2v = model_w2v.cv_results_['mean_test_score']"
   ]
  },
  {
   "cell_type": "code",
   "execution_count": 128,
   "metadata": {
    "colab": {},
    "colab_type": "code",
    "id": "lX1kPT0Wb-_1",
    "outputId": "30ec1329-4537-48ae-fd82-17e91fb49278"
   },
   "outputs": [
    {
     "data": {
      "text/plain": [
       "array([0.88883565, 0.9020286 , 0.9024773 , 0.89671323, 0.87425536,\n",
       "       0.87425647, 0.87425647, 0.87425647, 0.87425647, 0.87425647,\n",
       "       0.87425647])"
      ]
     },
     "execution_count": 128,
     "metadata": {},
     "output_type": "execute_result"
    }
   ],
   "source": [
    "train_auc_w2v"
   ]
  },
  {
   "cell_type": "code",
   "execution_count": 129,
   "metadata": {
    "colab": {},
    "colab_type": "code",
    "id": "UVaiJXxxb-_2",
    "outputId": "c5bccd7a-5c7b-44af-855f-d5c84f64727c"
   },
   "outputs": [
    {
     "data": {
      "text/plain": [
       "array([0.89015307, 0.90094529, 0.90124571, 0.89602162, 0.87363834,\n",
       "       0.87364124, 0.87364124, 0.87364124, 0.87364124, 0.87364124,\n",
       "       0.87364124])"
      ]
     },
     "execution_count": 129,
     "metadata": {},
     "output_type": "execute_result"
    }
   ],
   "source": [
    "cv_auc_w2v"
   ]
  },
  {
   "cell_type": "code",
   "execution_count": 130,
   "metadata": {
    "colab": {},
    "colab_type": "code",
    "id": "PdgzyVtTb-_2",
    "outputId": "b6c80255-0b6a-409c-ccc6-673269dcb09a"
   },
   "outputs": [
    {
     "data": {
      "image/png": "[encoded data removed]",
      "text/plain": [
       "<Figure size 432x288 with 1 Axes>"
      ]
     },
     "metadata": {
      "needs_background": "light"
     },
     "output_type": "display_data"
    },
    {
     "name": "stdout",
     "output_type": "stream",
     "text": [
      "\n",
      "\n",
      " Alpha Values :\n",
      " [1e-05, 0.0001, 0.001, 0.01, 0.1, 1, 10, 100, 1000, 10000, 100000]\n",
      "\n",
      " Train AUC for each  value is :\n",
      "  [0.88884 0.90203 0.90248 0.89671 0.87426 0.87426 0.87426 0.87426 0.87426\n",
      " 0.87426 0.87426]\n",
      "\n",
      " CV AUC for each value is :\n",
      "  [0.89015 0.90095 0.90125 0.89602 0.87364 0.87364 0.87364 0.87364 0.87364\n",
      " 0.87364 0.87364]\n"
     ]
    }
   ],
   "source": [
    "plt.plot(alpha,train_auc_w2v)\n",
    "plt.plot(alpha,cv_auc_w2v)\n",
    "plt.xlabel('ALPHA',size=10)\n",
    "plt.ylabel('AUC',size=10)\n",
    "plt.title('AUC VS HYPERPARAMETER ALPHA',size=16)\n",
    "plt.xscale('log')\n",
    "plt.grid()\n",
    "plt.show()\n",
    "print(\"\\n\\n Alpha Values :\\n\", alpha)\n",
    "print(\"\\n Train AUC for each  value is :\\n \", np.round(train_auc_w2v,5))\n",
    "print(\"\\n CV AUC for each value is :\\n \", np.round(cv_auc_w2v,5))"
   ]
  },
  {
   "cell_type": "code",
   "execution_count": 131,
   "metadata": {
    "colab": {},
    "colab_type": "code",
    "id": "T87nn4RFb-_3",
    "outputId": "4a523299-b10c-4140-a41c-4580a5dd9801"
   },
   "outputs": [
    {
     "data": {
      "text/plain": [
       "0.901245708012137"
      ]
     },
     "execution_count": 131,
     "metadata": {},
     "output_type": "execute_result"
    }
   ],
   "source": [
    "max(cv_auc_w2v)"
   ]
  },
  {
   "cell_type": "markdown",
   "metadata": {
    "colab_type": "text",
    "id": "g8CfGatXb-_4"
   },
   "source": [
    "# Observations:\n",
    "\n",
    "1) Optimal number of alpha= 0.001 as the cv_auc is high at that point"
   ]
  },
  {
   "cell_type": "markdown",
   "metadata": {
    "colab_type": "text",
    "id": "DqttF_S4b-_4"
   },
   "source": [
    "# Running the model with the optimal hyperparameter "
   ]
  },
  {
   "cell_type": "code",
   "execution_count": 132,
   "metadata": {
    "colab": {},
    "colab_type": "code",
    "id": "BlahZ5__b-_4"
   },
   "outputs": [],
   "source": [
    "om_w2v = SGDClassifier(alpha=0.001,class_weight = 'balanced') # Hinge loss is not used as probabilities I cannot get\n",
    "om_w2v = CalibratedClassifierCV(om_w2v, cv= 5)"
   ]
  },
  {
   "cell_type": "code",
   "execution_count": 133,
   "metadata": {
    "colab": {},
    "colab_type": "code",
    "id": "5IMH8z0Yb-_5"
   },
   "outputs": [],
   "source": [
    "om_w2v.fit(e5, y_train1)\n",
    "ompredictions_w2v  = om_w2v.predict(f5)\n",
    "probs4 = om_w2v.predict_proba(e5)\n",
    "probs5 = om_w2v.predict_proba(f5)\n",
    "probs4= probs4[:, 1]\n",
    "probs5 = probs5[:, 1]"
   ]
  },
  {
   "cell_type": "markdown",
   "metadata": {
    "colab_type": "text",
    "id": "UXQbtVFXb-_6"
   },
   "source": [
    "# PERFORMANCE MEASURMENTS FOR w2v Decision Tree"
   ]
  },
  {
   "cell_type": "code",
   "execution_count": 134,
   "metadata": {
    "colab": {},
    "colab_type": "code",
    "id": "DwrnSS3Gb-_6",
    "outputId": "0d706bfe-e8b6-4e17-d884-9f13a0ed2551"
   },
   "outputs": [
    {
     "name": "stdout",
     "output_type": "stream",
     "text": [
      "\n",
      "The Test Precision for optimal alpha for Linear SVM (W2V) is 0.828214\n",
      "\n",
      "The Test Recall for optimal alpha for Linear SVM (W2V) is  0.999220\n",
      "\n",
      "The Test F1-Score for optimal alpha for Linear SVM (W2V) is  0.905716\n"
     ]
    }
   ],
   "source": [
    "precision_w2v = precision_score(y_test1, ompredictions_w2v, pos_label = 1) \n",
    "recall_w2v = recall_score(y_test1, ompredictions_w2v, pos_label = 1) \n",
    "f1score_w2v = f1_score(y_test1, ompredictions_w2v, pos_label = 1) \n",
    "\n",
    "print('\\nThe Test Precision for optimal alpha for Linear SVM (W2V) is %f' % (precision_w2v))\n",
    "print('\\nThe Test Recall for optimal alpha for Linear SVM (W2V) is  %f' % (recall_w2v))\n",
    "print('\\nThe Test F1-Score for optimal alpha for Linear SVM (W2V) is  %f' % (f1score_w2v))"
   ]
  },
  {
   "cell_type": "code",
   "execution_count": 135,
   "metadata": {
    "colab": {},
    "colab_type": "code",
    "id": "wf0v6Vk0b-_7",
    "outputId": "c6752364-a317-4559-cae0-b618fce9544f"
   },
   "outputs": [
    {
     "data": {
      "text/plain": [
       "Text(0.5, 1.0, 'Confusion Matrix\\n')"
      ]
     },
     "execution_count": 135,
     "metadata": {},
     "output_type": "execute_result"
    },
    {
     "data": {
      "image/png": "[encoded data removed]",
      "text/plain": [
       "<Figure size 720x504 with 2 Axes>"
      ]
     },
     "metadata": {
      "needs_background": "light"
     },
     "output_type": "display_data"
    }
   ],
   "source": [
    "class_names = [ 0,1]\n",
    "df_heatmap = pd.DataFrame(confusion_matrix(y_test1, ompredictions_w2v), index=class_names, columns=class_names )\n",
    "fig = plt.figure(figsize=(10,7))\n",
    "heatmap = sns.heatmap(df_heatmap, annot=True, fmt=\"d\")\n",
    "\n",
    "# Setting tick labels for heatmap\n",
    "heatmap.yaxis.set_ticklabels(heatmap.yaxis.get_ticklabels(), rotation=0, ha='right', fontsize=10)#\n",
    "heatmap.xaxis.set_ticklabels(heatmap.xaxis.get_ticklabels(), rotation=0, ha='right', fontsize=10)\n",
    "plt.ylabel('Predicted label',size=18)\n",
    "plt.xlabel('Actual label',size=18)\n",
    "plt.title(\"Confusion Matrix\\n\",size=20)"
   ]
  },
  {
   "cell_type": "code",
   "execution_count": 136,
   "metadata": {
    "colab": {},
    "colab_type": "code",
    "id": "bJ0QXfJ1b-_8",
    "outputId": "9fa37037-4996-4625-b4c6-e4e2aec283d2"
   },
   "outputs": [
    {
     "name": "stdout",
     "output_type": "stream",
     "text": [
      "TPR of Linear SVM (W2V) for optimal alpha   is :  0.828214\n",
      "FPR of Linear SVM (W2V) for optimal  alpha  is :  0.653846\n",
      "TNR of Linear SVM (W2V) for optimal alpha  is :  0.346154\n",
      "FNR of Linear SVM (W2V)for optimal alpha  is :  0.171786\n"
     ]
    }
   ],
   "source": [
    "TrueNeg,FalseNeg,FalsePos, TruePos = confusion_matrix(y_test1, ompredictions_w2v).ravel()\n",
    "TPR = TruePos/(FalseNeg + TruePos)\n",
    "FPR = FalsePos/(TrueNeg + FalsePos)\n",
    "TNR = TrueNeg/(TrueNeg + FalsePos)\n",
    "FNR = FalseNeg/(FalseNeg + TruePos)\n",
    "print(\"TPR of Linear SVM (W2V) for optimal alpha   is :  %f\" % (TPR))\n",
    "print(\"FPR of Linear SVM (W2V) for optimal  alpha  is :  %f\" % (FPR))\n",
    "print(\"TNR of Linear SVM (W2V) for optimal alpha  is :  %f\" % (TNR))\n",
    "print(\"FNR of Linear SVM (W2V)for optimal alpha  is :  %f\" % (FNR))"
   ]
  },
  {
   "cell_type": "code",
   "execution_count": 138,
   "metadata": {
    "colab": {},
    "colab_type": "code",
    "id": "FS_51whYb-_9",
    "outputId": "fe891a5a-7dab-4636-f5fc-0784bf40cc02"
   },
   "outputs": [
    {
     "data": {
      "image/png": "[encoded data removed]",
      "text/plain": [
       "<Figure size 432x288 with 1 Axes>"
      ]
     },
     "metadata": {
      "needs_background": "light"
     },
     "output_type": "display_data"
    }
   ],
   "source": [
    "import matplotlib.pyplot as plt\n",
    "from sklearn.metrics import roc_curve, auc\n",
    "fpr = dict()\n",
    "tpr = dict()\n",
    "roc_auc = dict()\n",
    "\n",
    "fpr1 = dict()\n",
    "tpr1 = dict()\n",
    "roc_auc1 = dict()\n",
    "\n",
    "for i in range(4):\n",
    "    fpr[i], tpr[i], _ = roc_curve(y_test1,probs5)\n",
    "    roc_auc[i] = auc(fpr[i], tpr[i])\n",
    "\n",
    "\n",
    "from tqdm import tqdm\n",
    "for i in range(4):\n",
    "    fpr1[i], tpr1[i], _ = roc_curve(y_train1,probs4)\n",
    "    roc_auc1[i] = auc(fpr1[i], tpr1[i])    \n",
    "\n",
    "\n",
    "#print(roc_auc_score(y_test1,ompredictions_bow))\n",
    "plt.figure()\n",
    "#plt.plot(fpr[1], tpr[1])\n",
    "lw = 2\n",
    "plt.plot(fpr[0], tpr[0], color='darkorange',lw=lw, label=' Test ROC curve (area = %0.4f)' % roc_auc[0])\n",
    "plt.plot(fpr1[0], tpr1[0], color='blue',lw=lw, label='Train ROC curve (area = %0.4f)' % roc_auc1[0])\n",
    "plt.xlim([0.0, 1.0])\n",
    "plt.ylim([0.0, 1.05])\n",
    "plt.xlabel('False Positive Rate')\n",
    "plt.ylabel('True Positive Rate')\n",
    "plt.legend(loc=\"lower right\")\n",
    "plt.title('Receiver operating characteristic for W2V ')\n",
    "plt.show()"
   ]
  },
  {
   "cell_type": "markdown",
   "metadata": {
    "colab_type": "text",
    "id": "_ZdmviF1b-_9"
   },
   "source": [
    "# Observations :\n",
    "\n",
    "1) Word 2 Vector Vectorizer has not performed that efficiently when compared to BOW or TFIDF vectorizer.\n",
    "\n",
    "2) Test Acuuracy is less when compared to train accuracy. Hence Overfitting would have been the issue here."
   ]
  },
  {
   "cell_type": "markdown",
   "metadata": {
    "colab_type": "text",
    "id": "rwDuJCAHb-_9"
   },
   "source": [
    "# TFIDF AVERGE WORD TO VECTOR "
   ]
  },
  {
   "cell_type": "markdown",
   "metadata": {
    "colab_type": "text",
    "id": "YUQswzGZb-_-"
   },
   "source": [
    "# Preparing Training Data for TFIDF-AVG W2V"
   ]
  },
  {
   "cell_type": "code",
   "execution_count": 139,
   "metadata": {
    "colab": {},
    "colab_type": "code",
    "id": "pYollWMfb-_-"
   },
   "outputs": [],
   "source": [
    "model = TfidfVectorizer()\n",
    "model.fit_transform(X_trainbow['Cleaned Text'].values)\n",
    "# we are converting a dictionary with word as a key, and the idf as a value\n",
    "dictionary = dict(zip(model.get_feature_names(), list(model.idf_)))"
   ]
  },
  {
   "cell_type": "code",
   "execution_count": 141,
   "metadata": {
    "colab": {},
    "colab_type": "code",
    "id": "9aHQUf0wb-__",
    "outputId": "efc653c8-8026-457c-fcb4-ebb7d08fc842"
   },
   "outputs": [
    {
     "name": "stderr",
     "output_type": "stream",
     "text": [
      "100%|████████████████████████████████████████████████████████████████████████████| 61441/61441 [22:53<00:00, 44.73it/s]\n"
     ]
    }
   ],
   "source": [
    "# TF-IDF weighted Word2Vec\n",
    "tfidf_feat = model.get_feature_names() # tfidf words/col-names\n",
    "# final_tf_idf is the sparse matrix with row= sentence, col=word and cell_val = tfidf\n",
    "\n",
    "tfidf_sent_vectors = []; # the tfidf-w2v for each sentence/review is stored in this list\n",
    "row=0;\n",
    "for sent in tqdm(list_of_sentance): # for each review/sentence \n",
    "    sent_vec = np.zeros(50) # as word vectors are of zero length\n",
    "    weight_sum =0; # num of words with a valid vector in the sentence/review\n",
    "    for word in sent: # for each word in a review/sentence\n",
    "        if word in w2v_words and word in tfidf_feat:\n",
    "            vec = w2v_model.wv[word]\n",
    "            #tf_idf = tf_idf_matrix[row, tfidf_feat.index(word)]\n",
    "            # to reduce the computation we are \n",
    "            # dictionary[word] = idf value of word in whole courpus\n",
    "            # sent.count(word) = tf valeus of word in this review\n",
    "            tf_idf = dictionary[word]*(sent.count(word)/len(sent))\n",
    "            sent_vec += (vec * tf_idf)\n",
    "            weight_sum += tf_idf\n",
    "    if weight_sum != 0:\n",
    "        sent_vec /= weight_sum\n",
    "    tfidf_sent_vectors.append(sent_vec)\n",
    "    row += 1"
   ]
  },
  {
   "cell_type": "markdown",
   "metadata": {
    "colab_type": "text",
    "id": "Nf1FmMvwb_AA"
   },
   "source": [
    "# Preparing Test Data for TFIDF- AVG W2V"
   ]
  },
  {
   "cell_type": "code",
   "execution_count": 140,
   "metadata": {
    "colab": {},
    "colab_type": "code",
    "id": "pC8TZVpfb_AA",
    "outputId": "d48ca506-94ae-4509-fa43-50ca4ede717d"
   },
   "outputs": [
    {
     "name": "stderr",
     "output_type": "stream",
     "text": [
      "100%|████████████████████████████████████████████████████████████████████████████| 26332/26332 [09:12<00:00, 47.63it/s]\n"
     ]
    }
   ],
   "source": [
    "# TF-IDF weighted Word2Vec\n",
    "tfidf_feat = model.get_feature_names() # tfidf words/col-names\n",
    "# final_tf_idf is the sparse matrix with row= sentence, col=word and cell_val = tfidf\n",
    "\n",
    "tfidf_sent_vectors1 = []; # the tfidf-w2v for each sentence/review is stored in this list\n",
    "row=0;\n",
    "for sent in tqdm(list_of_sentance1): # for each review/sentence \n",
    "    sent_vec = np.zeros(50) # as word vectors are of zero length\n",
    "    weight_sum =0; # num of words with a valid vector in the sentence/review\n",
    "    for word in sent: # for each word in a review/sentence\n",
    "        if word in w2v_words1 and word in tfidf_feat:\n",
    "            vec = w2v_model1.wv[word]\n",
    "            #tf_idf = tf_idf_matrix[row, tfidf_feat.index(word)]\n",
    "            # to reduce the computation we are \n",
    "            # dictionary[word] = idf value of word in whole courpus\n",
    "            # sent.count(word) = tf valeus of word in this review\n",
    "            tf_idf = dictionary[word]*(sent.count(word)/len(sent))\n",
    "            sent_vec += (vec * tf_idf)\n",
    "            weight_sum += tf_idf\n",
    "    if weight_sum != 0:\n",
    "        sent_vec /= weight_sum\n",
    "    tfidf_sent_vectors1.append(sent_vec)\n",
    "    row += 1"
   ]
  },
  {
   "cell_type": "code",
   "execution_count": 142,
   "metadata": {
    "colab": {},
    "colab_type": "code",
    "id": "lgnWNbCrb_AB"
   },
   "outputs": [],
   "source": [
    "g3 = tfidf_sent_vectors\n",
    "h3 = tfidf_sent_vectors1"
   ]
  },
  {
   "cell_type": "code",
   "execution_count": 143,
   "metadata": {
    "colab": {},
    "colab_type": "code",
    "id": "QQNJAZ3Vb_AD"
   },
   "outputs": [],
   "source": [
    "g3 = preprocessing.normalize(g3)\n",
    "h3 = preprocessing.normalize(h3)"
   ]
  },
  {
   "cell_type": "code",
   "execution_count": null,
   "metadata": {},
   "outputs": [],
   "source": []
  },
  {
   "cell_type": "markdown",
   "metadata": {
    "colab_type": "text",
    "id": "dKWc9WJnb_AE"
   },
   "source": [
    "# LINEAR SVM  ON TFIDF - AVG W2V "
   ]
  },
  {
   "cell_type": "code",
   "execution_count": 144,
   "metadata": {
    "colab": {},
    "colab_type": "code",
    "id": "zzIYWJcvb_AE",
    "outputId": "6e4ffd3c-2932-452f-c623-cf2ed7c43780"
   },
   "outputs": [
    {
     "name": "stdout",
     "output_type": "stream",
     "text": [
      "Fitting 10 folds for each of 11 candidates, totalling 110 fits\n"
     ]
    },
    {
     "name": "stderr",
     "output_type": "stream",
     "text": [
      "[Parallel(n_jobs=1)]: Using backend SequentialBackend with 1 concurrent workers.\n"
     ]
    },
    {
     "name": "stdout",
     "output_type": "stream",
     "text": [
      "[CV] alpha=1e-05 .....................................................\n",
      "[CV] ............ alpha=1e-05, score=0.8817886935493994, total=   0.1s\n"
     ]
    },
    {
     "name": "stderr",
     "output_type": "stream",
     "text": [
      "[Parallel(n_jobs=1)]: Done   1 out of   1 | elapsed:    0.1s remaining:    0.0s\n"
     ]
    },
    {
     "name": "stdout",
     "output_type": "stream",
     "text": [
      "[CV] alpha=1e-05 .....................................................\n",
      "[CV] ............ alpha=1e-05, score=0.8592748146380289, total=   0.1s\n"
     ]
    },
    {
     "name": "stderr",
     "output_type": "stream",
     "text": [
      "[Parallel(n_jobs=1)]: Done   2 out of   2 | elapsed:    0.3s remaining:    0.0s\n"
     ]
    },
    {
     "name": "stdout",
     "output_type": "stream",
     "text": [
      "[CV] alpha=1e-05 .....................................................\n",
      "[CV] ............. alpha=1e-05, score=0.858845065096062, total=   0.1s\n",
      "[CV] alpha=1e-05 .....................................................\n",
      "[CV] ............ alpha=1e-05, score=0.8694773732500823, total=   0.1s\n",
      "[CV] alpha=1e-05 .....................................................\n",
      "[CV] ............ alpha=1e-05, score=0.8681442693540173, total=   0.0s\n",
      "[CV] alpha=1e-05 .....................................................\n",
      "[CV] ............ alpha=1e-05, score=0.8561050155720541, total=   0.0s\n",
      "[CV] alpha=1e-05 .....................................................\n",
      "[CV] ............. alpha=1e-05, score=0.863829514770191, total=   0.1s\n",
      "[CV] alpha=1e-05 .....................................................\n",
      "[CV] ............ alpha=1e-05, score=0.8544730763035655, total=   0.1s\n",
      "[CV] alpha=1e-05 .....................................................\n",
      "[CV] ............ alpha=1e-05, score=0.8629394588904432, total=   0.1s\n",
      "[CV] alpha=1e-05 .....................................................\n",
      "[CV] ............ alpha=1e-05, score=0.8525633559279294, total=   0.1s\n",
      "[CV] alpha=0.0001 ....................................................\n",
      "[CV] ........... alpha=0.0001, score=0.8792283856968158, total=   0.1s\n",
      "[CV] alpha=0.0001 ....................................................\n",
      "[CV] ........... alpha=0.0001, score=0.8853334276783491, total=   0.1s\n",
      "[CV] alpha=0.0001 ....................................................\n",
      "[CV] ........... alpha=0.0001, score=0.8838468940301591, total=   0.1s\n",
      "[CV] alpha=0.0001 ....................................................\n",
      "[CV] ........... alpha=0.0001, score=0.8811466594367248, total=   0.1s\n",
      "[CV] alpha=0.0001 ....................................................\n",
      "[CV] ........... alpha=0.0001, score=0.8843217977743918, total=   0.1s\n",
      "[CV] alpha=0.0001 ....................................................\n",
      "[CV] ........... alpha=0.0001, score=0.8653808175103324, total=   0.1s\n",
      "[CV] alpha=0.0001 ....................................................\n",
      "[CV] ........... alpha=0.0001, score=0.8683115451299439, total=   0.0s\n",
      "[CV] alpha=0.0001 ....................................................\n",
      "[CV] ........... alpha=0.0001, score=0.8723291651117957, total=   0.1s\n",
      "[CV] alpha=0.0001 ....................................................\n",
      "[CV] ........... alpha=0.0001, score=0.8829774034025981, total=   0.1s\n",
      "[CV] alpha=0.0001 ....................................................\n",
      "[CV] ........... alpha=0.0001, score=0.8561654829019547, total=   0.1s\n",
      "[CV] alpha=0.001 .....................................................\n",
      "[CV] ............ alpha=0.001, score=0.8827189513951269, total=   0.1s\n",
      "[CV] alpha=0.001 .....................................................\n",
      "[CV] ............ alpha=0.001, score=0.8826517905364754, total=   0.1s\n",
      "[CV] alpha=0.001 .....................................................\n",
      "[CV] ............ alpha=0.001, score=0.8869262993527371, total=   0.1s\n",
      "[CV] alpha=0.001 .....................................................\n",
      "[CV] ............ alpha=0.001, score=0.8784196240897126, total=   0.0s\n",
      "[CV] alpha=0.001 .....................................................\n",
      "[CV] ............ alpha=0.001, score=0.8821021922931088, total=   0.1s\n",
      "[CV] alpha=0.001 .....................................................\n",
      "[CV] ............ alpha=0.001, score=0.8660579242396805, total=   0.1s\n",
      "[CV] alpha=0.001 .....................................................\n",
      "[CV] ............. alpha=0.001, score=0.870415498220694, total=   0.1s\n",
      "[CV] alpha=0.001 .....................................................\n",
      "[CV] ............ alpha=0.001, score=0.8719341861863424, total=   0.0s\n",
      "[CV] alpha=0.001 .....................................................\n",
      "[CV] ............ alpha=0.001, score=0.8810045289256859, total=   0.0s\n",
      "[CV] alpha=0.001 .....................................................\n",
      "[CV] ............ alpha=0.001, score=0.8591462084506591, total=   0.1s\n",
      "[CV] alpha=0.01 ......................................................\n",
      "[CV] ............. alpha=0.01, score=0.8756294831372275, total=   0.0s\n",
      "[CV] alpha=0.01 ......................................................\n",
      "[CV] ............. alpha=0.01, score=0.8750076455441769, total=   0.1s\n",
      "[CV] alpha=0.01 ......................................................\n",
      "[CV] ............. alpha=0.01, score=0.8817447191776633, total=   0.0s\n",
      "[CV] alpha=0.01 ......................................................\n",
      "[CV] ............. alpha=0.01, score=0.8709286306696934, total=   0.1s\n",
      "[CV] alpha=0.01 ......................................................\n",
      "[CV] ............. alpha=0.01, score=0.8730975131734676, total=   0.1s\n",
      "[CV] alpha=0.01 ......................................................\n",
      "[CV] ............. alpha=0.01, score=0.8524467583815468, total=   0.1s\n",
      "[CV] alpha=0.01 ......................................................\n",
      "[CV] ............. alpha=0.01, score=0.8634527440930742, total=   0.1s\n",
      "[CV] alpha=0.01 ......................................................\n",
      "[CV] .............. alpha=0.01, score=0.862372054540707, total=   0.1s\n",
      "[CV] alpha=0.01 ......................................................\n",
      "[CV] .............. alpha=0.01, score=0.870585398167216, total=   0.1s\n",
      "[CV] alpha=0.01 ......................................................\n",
      "[CV] ............. alpha=0.01, score=0.8495808292156732, total=   0.1s\n",
      "[CV] alpha=0.1 .......................................................\n",
      "[CV] .............. alpha=0.1, score=0.8566657352095199, total=   0.1s\n",
      "[CV] alpha=0.1 .......................................................\n",
      "[CV] .............. alpha=0.1, score=0.8518873200698632, total=   0.0s\n",
      "[CV] alpha=0.1 .......................................................\n",
      "[CV] .............. alpha=0.1, score=0.8582652030396685, total=   0.0s\n",
      "[CV] alpha=0.1 .......................................................\n",
      "[CV] .............. alpha=0.1, score=0.8606063546786694, total=   0.1s\n",
      "[CV] alpha=0.1 .......................................................\n",
      "[CV] ............... alpha=0.1, score=0.855137377231886, total=   0.1s\n",
      "[CV] alpha=0.1 .......................................................\n",
      "[CV] .............. alpha=0.1, score=0.8268603677465892, total=   0.1s\n",
      "[CV] alpha=0.1 .......................................................\n",
      "[CV] .............. alpha=0.1, score=0.8416892852462166, total=   0.1s\n",
      "[CV] alpha=0.1 .......................................................\n",
      "[CV] .............. alpha=0.1, score=0.8259187411897589, total=   0.1s\n",
      "[CV] alpha=0.1 .......................................................\n",
      "[CV] .............. alpha=0.1, score=0.8328236040482151, total=   0.1s\n",
      "[CV] alpha=0.1 .......................................................\n",
      "[CV] .............. alpha=0.1, score=0.8255815256655801, total=   0.1s\n",
      "[CV] alpha=1 .........................................................\n",
      "[CV] ................ alpha=1, score=0.8569503693247575, total=   0.1s\n",
      "[CV] alpha=1 .........................................................\n",
      "[CV] ................. alpha=1, score=0.851530128241261, total=   0.1s\n",
      "[CV] alpha=1 .........................................................\n",
      "[CV] ................ alpha=1, score=0.8581966429964616, total=   0.0s\n",
      "[CV] alpha=1 .........................................................\n",
      "[CV] ................ alpha=1, score=0.8606529757980366, total=   0.1s\n",
      "[CV] alpha=1 .........................................................\n",
      "[CV] ................ alpha=1, score=0.8548712566792758, total=   0.1s\n",
      "[CV] alpha=1 .........................................................\n",
      "[CV] ................ alpha=1, score=0.8269029870531351, total=   0.1s\n",
      "[CV] alpha=1 .........................................................\n",
      "[CV] ................ alpha=1, score=0.8416124504400494, total=   0.1s\n",
      "[CV] alpha=1 .........................................................\n",
      "[CV] ................ alpha=1, score=0.8258655170792369, total=   0.0s\n",
      "[CV] alpha=1 .........................................................\n",
      "[CV] ................ alpha=1, score=0.8322164118020241, total=   0.1s\n",
      "[CV] alpha=1 .........................................................\n"
     ]
    },
    {
     "name": "stdout",
     "output_type": "stream",
     "text": [
      "[CV] ................ alpha=1, score=0.8251524484817191, total=   0.1s\n",
      "[CV] alpha=10 ........................................................\n",
      "[CV] ............... alpha=10, score=0.8563573149568431, total=   0.0s\n",
      "[CV] alpha=10 ........................................................\n",
      "[CV] ............... alpha=10, score=0.8515235320855006, total=   0.1s\n",
      "[CV] alpha=10 ........................................................\n",
      "[CV] ............... alpha=10, score=0.8581986418315406, total=   0.1s\n",
      "[CV] alpha=10 ........................................................\n",
      "[CV] ............... alpha=10, score=0.8606165593013635, total=   0.1s\n",
      "[CV] alpha=10 ........................................................\n",
      "[CV] ............... alpha=10, score=0.8548734576763274, total=   0.1s\n",
      "[CV] alpha=10 ........................................................\n",
      "[CV] ............... alpha=10, score=0.8268897810708251, total=   0.1s\n",
      "[CV] alpha=10 ........................................................\n",
      "[CV] ............... alpha=10, score=0.8415922412853022, total=   0.1s\n",
      "[CV] alpha=10 ........................................................\n",
      "[CV] ............... alpha=10, score=0.8258703192546224, total=   0.0s\n",
      "[CV] alpha=10 ........................................................\n",
      "[CV] ............... alpha=10, score=0.8322018023643273, total=   0.0s\n",
      "[CV] alpha=10 ........................................................\n",
      "[CV] ............... alpha=10, score=0.8251302341312488, total=   0.0s\n",
      "[CV] alpha=100 .......................................................\n",
      "[CV] .............. alpha=100, score=0.8563573149568431, total=   0.1s\n",
      "[CV] alpha=100 .......................................................\n",
      "[CV] .............. alpha=100, score=0.8515235320855006, total=   0.0s\n",
      "[CV] alpha=100 .......................................................\n",
      "[CV] .............. alpha=100, score=0.8581986418315406, total=   0.1s\n",
      "[CV] alpha=100 .......................................................\n",
      "[CV] .............. alpha=100, score=0.8606165593013635, total=   0.1s\n",
      "[CV] alpha=100 .......................................................\n",
      "[CV] .............. alpha=100, score=0.8548734576763274, total=   0.1s\n",
      "[CV] alpha=100 .......................................................\n",
      "[CV] .............. alpha=100, score=0.8268897810708251, total=   0.0s\n",
      "[CV] alpha=100 .......................................................\n",
      "[CV] .............. alpha=100, score=0.8415922412853022, total=   0.0s\n",
      "[CV] alpha=100 .......................................................\n",
      "[CV] .............. alpha=100, score=0.8258703192546224, total=   0.1s\n",
      "[CV] alpha=100 .......................................................\n",
      "[CV] .............. alpha=100, score=0.8322018023643273, total=   0.0s\n",
      "[CV] alpha=100 .......................................................\n",
      "[CV] .............. alpha=100, score=0.8251238299941763, total=   0.1s\n",
      "[CV] alpha=1000 ......................................................\n",
      "[CV] ............. alpha=1000, score=0.8563573149568431, total=   0.0s\n",
      "[CV] alpha=1000 ......................................................\n",
      "[CV] ............. alpha=1000, score=0.8515235320855006, total=   0.1s\n",
      "[CV] alpha=1000 ......................................................\n",
      "[CV] ............. alpha=1000, score=0.8581986418315406, total=   0.0s\n",
      "[CV] alpha=1000 ......................................................\n",
      "[CV] ............. alpha=1000, score=0.8606165593013635, total=   0.1s\n",
      "[CV] alpha=1000 ......................................................\n",
      "[CV] ............. alpha=1000, score=0.8548734576763274, total=   0.1s\n",
      "[CV] alpha=1000 ......................................................\n",
      "[CV] ............. alpha=1000, score=0.8268897810708251, total=   0.0s\n",
      "[CV] alpha=1000 ......................................................\n",
      "[CV] ............. alpha=1000, score=0.8415922412853022, total=   0.0s\n",
      "[CV] alpha=1000 ......................................................\n",
      "[CV] ............. alpha=1000, score=0.8258703192546224, total=   0.1s\n",
      "[CV] alpha=1000 ......................................................\n",
      "[CV] ............. alpha=1000, score=0.8322018023643273, total=   0.1s\n",
      "[CV] alpha=1000 ......................................................\n",
      "[CV] ............. alpha=1000, score=0.8251302341312488, total=   0.1s\n",
      "[CV] alpha=10000 .....................................................\n",
      "[CV] ............ alpha=10000, score=0.8563573149568431, total=   0.1s\n",
      "[CV] alpha=10000 .....................................................\n",
      "[CV] ............ alpha=10000, score=0.8515235320855006, total=   0.1s\n",
      "[CV] alpha=10000 .....................................................\n",
      "[CV] ............ alpha=10000, score=0.8581986418315406, total=   0.1s\n",
      "[CV] alpha=10000 .....................................................\n",
      "[CV] ............ alpha=10000, score=0.8606165593013635, total=   0.1s\n",
      "[CV] alpha=10000 .....................................................\n",
      "[CV] ............ alpha=10000, score=0.8548734576763274, total=   0.1s\n",
      "[CV] alpha=10000 .....................................................\n",
      "[CV] ............ alpha=10000, score=0.8268897810708251, total=   0.1s\n",
      "[CV] alpha=10000 .....................................................\n",
      "[CV] ............ alpha=10000, score=0.8415922412853022, total=   0.1s\n",
      "[CV] alpha=10000 .....................................................\n",
      "[CV] ............ alpha=10000, score=0.8258703192546224, total=   0.1s\n",
      "[CV] alpha=10000 .....................................................\n",
      "[CV] ............ alpha=10000, score=0.8322018023643273, total=   0.0s\n",
      "[CV] alpha=10000 .....................................................\n",
      "[CV] ............ alpha=10000, score=0.8251302341312488, total=   0.1s\n",
      "[CV] alpha=100000 ....................................................\n",
      "[CV] ........... alpha=100000, score=0.8563573149568431, total=   0.1s\n",
      "[CV] alpha=100000 ....................................................\n",
      "[CV] ........... alpha=100000, score=0.8515235320855006, total=   0.1s\n",
      "[CV] alpha=100000 ....................................................\n",
      "[CV] ........... alpha=100000, score=0.8581986418315406, total=   0.1s\n",
      "[CV] alpha=100000 ....................................................\n",
      "[CV] ........... alpha=100000, score=0.8606165593013635, total=   0.1s\n",
      "[CV] alpha=100000 ....................................................\n",
      "[CV] ........... alpha=100000, score=0.8548734576763274, total=   0.0s\n",
      "[CV] alpha=100000 ....................................................\n",
      "[CV] ........... alpha=100000, score=0.8268897810708251, total=   0.1s\n",
      "[CV] alpha=100000 ....................................................\n",
      "[CV] ........... alpha=100000, score=0.8415922412853022, total=   0.1s\n",
      "[CV] alpha=100000 ....................................................\n",
      "[CV] ........... alpha=100000, score=0.8258703192546224, total=   0.1s\n",
      "[CV] alpha=100000 ....................................................\n",
      "[CV] ........... alpha=100000, score=0.8322018023643273, total=   0.0s\n",
      "[CV] alpha=100000 ....................................................\n",
      "[CV] ........... alpha=100000, score=0.8251302341312488, total=   0.1s\n"
     ]
    },
    {
     "name": "stderr",
     "output_type": "stream",
     "text": [
      "[Parallel(n_jobs=1)]: Done 110 out of 110 | elapsed:   22.1s finished\n"
     ]
    },
    {
     "name": "stdout",
     "output_type": "stream",
     "text": [
      "SGDClassifier(alpha=0.001, average=False, class_weight='balanced',\n",
      "       early_stopping=False, epsilon=0.1, eta0=0.0, fit_intercept=True,\n",
      "       l1_ratio=0.15, learning_rate='optimal', loss='hinge', max_iter=None,\n",
      "       n_iter=None, n_iter_no_change=5, n_jobs=None, penalty='l2',\n",
      "       power_t=0.5, random_state=None, shuffle=True, tol=None,\n",
      "       validation_fraction=0.1, verbose=0, warm_start=False)\n",
      "0.7001261499818816\n"
     ]
    }
   ],
   "source": [
    "alpha = [0.00001,0.0001,0.001,0.01,0.1,1,10,100,1000,10000,100000]\n",
    "clf = SGDClassifier(loss='hinge',class_weight = 'balanced')\n",
    "param_grid = {'alpha':alpha}\n",
    "model_w2vtfidf = GridSearchCV(estimator = clf,param_grid=param_grid ,scoring = 'roc_auc',cv = 10, return_train_score = True,verbose = 3)\n",
    "model_w2vtfidf.fit(g3, y_train1)\n",
    "print(model_w2vtfidf.best_estimator_)\n",
    "print(model_w2vtfidf.score(h3, y_test1))"
   ]
  },
  {
   "cell_type": "code",
   "execution_count": 153,
   "metadata": {},
   "outputs": [],
   "source": [
    "train_auc1 = model_w2vtfidf.cv_results_['mean_train_score']\n",
    "cv_auc1 = model_w2vtfidf.cv_results_['mean_test_score']"
   ]
  },
  {
   "cell_type": "code",
   "execution_count": 154,
   "metadata": {},
   "outputs": [
    {
     "data": {
      "image/png": "[encoded data removed]",
      "text/plain": [
       "<Figure size 432x288 with 1 Axes>"
      ]
     },
     "metadata": {
      "needs_background": "light"
     },
     "output_type": "display_data"
    },
    {
     "name": "stdout",
     "output_type": "stream",
     "text": [
      "\n",
      "\n",
      " C Values :\n",
      " [1e-05, 0.0001, 0.001, 0.01, 0.1, 1, 10, 100, 1000, 10000, 100000]\n",
      "\n",
      " Train AUC for each c value is :\n",
      "  [0.86592 0.8774  0.87773 0.86855 0.84434 0.84423 0.84414 0.84414 0.84414\n",
      " 0.84414 0.84414]\n",
      "\n",
      " CV AUC for each c value is :\n",
      "  [0.86274 0.8759  0.87614 0.86749 0.84354 0.8434  0.84333 0.84333 0.84333\n",
      " 0.84333 0.84333]\n"
     ]
    }
   ],
   "source": [
    "plt.plot(alpha,train_auc1)\n",
    "plt.plot(alpha,cv_auc1)\n",
    "plt.xlabel('C',size=10)\n",
    "plt.ylabel('AUC',size=10)\n",
    "plt.title('AUC VS HYPERPARAMETER C RBF KERNEL - BOW ',size=16)\n",
    "plt.xscale('log')\n",
    "plt.grid()\n",
    "plt.show()\n",
    "print(\"\\n\\n C Values :\\n\", alpha)\n",
    "print(\"\\n Train AUC for each c value is :\\n \", np.round(train_auc1,5))\n",
    "print(\"\\n CV AUC for each c value is :\\n \", np.round(cv_auc1,5))"
   ]
  },
  {
   "cell_type": "code",
   "execution_count": 155,
   "metadata": {},
   "outputs": [
    {
     "data": {
      "text/plain": [
       "0.8761383064366894"
      ]
     },
     "execution_count": 155,
     "metadata": {},
     "output_type": "execute_result"
    }
   ],
   "source": [
    "max(cv_auc1)"
   ]
  },
  {
   "cell_type": "markdown",
   "metadata": {
    "colab_type": "text",
    "id": "5P5d5c4Cb_AF"
   },
   "source": [
    "# Running the model with the optimal Alpha for TFIDF AVGW2V - Li SVM"
   ]
  },
  {
   "cell_type": "code",
   "execution_count": 156,
   "metadata": {
    "colab": {},
    "colab_type": "code",
    "id": "XKE7wLoib_AF"
   },
   "outputs": [],
   "source": [
    "om_w2vtfidf = SGDClassifier(alpha=0.001,class_weight = 'balanced') # Hinge loss is not used as probabilities I cannot get\n",
    "om_w2vtfidf = CalibratedClassifierCV(om_w2vtfidf, cv= 5)"
   ]
  },
  {
   "cell_type": "code",
   "execution_count": 157,
   "metadata": {
    "colab": {},
    "colab_type": "code",
    "id": "0jMsvUzbb_AF"
   },
   "outputs": [],
   "source": [
    "om_w2vtfidf.fit(g3, y_train1)\n",
    "ompredictions_w2vtfidf  = om_w2vtfidf.predict(h3)"
   ]
  },
  {
   "cell_type": "code",
   "execution_count": null,
   "metadata": {},
   "outputs": [],
   "source": []
  },
  {
   "cell_type": "code",
   "execution_count": 158,
   "metadata": {
    "colab": {},
    "colab_type": "code",
    "id": "kPfwiysHb_AG"
   },
   "outputs": [],
   "source": [
    "probs6 = om_w2vtfidf.predict_proba(g3)\n",
    "probs7 = om_w2vtfidf.predict_proba(h3)\n",
    "probs6= probs6[:, 1]\n",
    "probs7 = probs7[:, 1]"
   ]
  },
  {
   "cell_type": "code",
   "execution_count": 159,
   "metadata": {
    "colab": {},
    "colab_type": "code",
    "id": "dbL71-Nkb_AH"
   },
   "outputs": [],
   "source": [
    "precision_w2vtfidf = precision_score(y_test1, ompredictions_w2vtfidf, pos_label = 1) \n",
    "recall_w2vtfidf = recall_score(y_test1, ompredictions_w2vtfidf, pos_label = 1) \n",
    "f1score_w2vtfidf = f1_score(y_test1, ompredictions_w2vtfidf, pos_label = 1) "
   ]
  },
  {
   "cell_type": "code",
   "execution_count": 160,
   "metadata": {
    "colab": {},
    "colab_type": "code",
    "id": "dvSfoA3_b_AI",
    "outputId": "a37d4fd1-6442-45ef-8ba4-89257d91fbc5"
   },
   "outputs": [
    {
     "name": "stdout",
     "output_type": "stream",
     "text": [
      "\n",
      "The Test Precision FOR LINEAR SVM  (TFIDF AVGW2V) is 0.828270\n",
      "\n",
      "The Test Recall FOR LINEAR SVM  (TFIDF AVGW2V) is  0.997844\n",
      "\n",
      "The Test F1-Score FOR LINEAR SVM  (TFIDF AVGW2V) is  0.905184\n"
     ]
    }
   ],
   "source": [
    "print('\\nThe Test Precision FOR LINEAR SVM  (TFIDF AVGW2V) is %f' % (precision_w2vtfidf))\n",
    "print('\\nThe Test Recall FOR LINEAR SVM  (TFIDF AVGW2V) is  %f' % (recall_w2vtfidf))\n",
    "print('\\nThe Test F1-Score FOR LINEAR SVM  (TFIDF AVGW2V) is  %f' % (f1score_w2vtfidf))"
   ]
  },
  {
   "cell_type": "code",
   "execution_count": 161,
   "metadata": {
    "colab": {},
    "colab_type": "code",
    "id": "HHEwB_f6b_AJ",
    "outputId": "fb918b50-0aa1-4646-94da-faf1ea9a40fb"
   },
   "outputs": [
    {
     "data": {
      "text/plain": [
       "Text(0.5, 1.0, 'Confusion Matrix\\n')"
      ]
     },
     "execution_count": 161,
     "metadata": {},
     "output_type": "execute_result"
    },
    {
     "data": {
      "image/png": "[encoded data removed]",
      "text/plain": [
       "<Figure size 720x504 with 2 Axes>"
      ]
     },
     "metadata": {
      "needs_background": "light"
     },
     "output_type": "display_data"
    }
   ],
   "source": [
    "# Code for drawing seaborn heatmaps\n",
    "class_names = [ 0,1]\n",
    "df_heatmap = pd.DataFrame(confusion_matrix(y_test1, ompredictions_w2vtfidf), index=class_names, columns=class_names )\n",
    "fig = plt.figure(figsize=(10,7))\n",
    "heatmap = sns.heatmap(df_heatmap, annot=True, fmt=\"d\")\n",
    "\n",
    "# Setting tick labels for heatmap\n",
    "heatmap.yaxis.set_ticklabels(heatmap.yaxis.get_ticklabels(), rotation=0, ha='right', fontsize=10)#\n",
    "heatmap.xaxis.set_ticklabels(heatmap.xaxis.get_ticklabels(), rotation=0, ha='right', fontsize=10)\n",
    "plt.ylabel('Predicted label',size=18)\n",
    "plt.xlabel('Actual label',size=18)\n",
    "plt.title(\"Confusion Matrix\\n\",size=20)"
   ]
  },
  {
   "cell_type": "code",
   "execution_count": 162,
   "metadata": {
    "colab": {},
    "colab_type": "code",
    "id": "tHeoji3Db_AK",
    "outputId": "bfc32e24-9566-4bd7-a8b0-10b5185da38f"
   },
   "outputs": [
    {
     "name": "stdout",
     "output_type": "stream",
     "text": [
      "TPR of the Linear SVM  (TFIDF AVG W2V) for alpha  is :  0.828270\n",
      "FPR of the Linear SVM (TFIDF AVGW2V) for alpha  is :  0.734375\n",
      "TNR of the Linear SVM (TFIDF AVGW2V) for alpha  is :  0.265625\n",
      "FNR of the Linear SVM (TFIDF AVGW2V) for alpha  is :  0.171730\n"
     ]
    }
   ],
   "source": [
    "TrueNeg,FalseNeg,FalsePos, TruePos = confusion_matrix(y_test1, ompredictions_w2vtfidf).ravel()\n",
    "TPR = TruePos/(FalseNeg + TruePos)\n",
    "FPR = FalsePos/(TrueNeg + FalsePos)\n",
    "TNR = TrueNeg/(TrueNeg + FalsePos)\n",
    "FNR = FalseNeg/(FalseNeg + TruePos)\n",
    "print(\"TPR of the Linear SVM  (TFIDF AVG W2V) for alpha  is :  %f\" % (TPR))\n",
    "print(\"FPR of the Linear SVM (TFIDF AVGW2V) for alpha  is :  %f\" % (FPR))\n",
    "print(\"TNR of the Linear SVM (TFIDF AVGW2V) for alpha  is :  %f\" % (TNR))\n",
    "print(\"FNR of the Linear SVM (TFIDF AVGW2V) for alpha  is :  %f\" % (FNR))"
   ]
  },
  {
   "cell_type": "code",
   "execution_count": 163,
   "metadata": {
    "colab": {},
    "colab_type": "code",
    "id": "LMYx4cQ1b_AK",
    "outputId": "014dbcad-35c3-44ce-f842-51969ed04862"
   },
   "outputs": [
    {
     "data": {
      "image/png": "[encoded data removed]",
      "text/plain": [
       "<Figure size 432x288 with 1 Axes>"
      ]
     },
     "metadata": {
      "needs_background": "light"
     },
     "output_type": "display_data"
    }
   ],
   "source": [
    "import matplotlib.pyplot as plt\n",
    "from sklearn.metrics import roc_curve, auc\n",
    "fpr = dict()\n",
    "tpr = dict()\n",
    "roc_auc = dict()\n",
    "\n",
    "fpr1 = dict()\n",
    "tpr1 = dict()\n",
    "roc_auc1 = dict()\n",
    "\n",
    "for i in range(4):\n",
    "    fpr[i], tpr[i], _ = roc_curve(y_test1,probs7)\n",
    "    roc_auc[i] = auc(fpr[i], tpr[i])\n",
    "\n",
    "\n",
    "from tqdm import tqdm\n",
    "for i in range(4):\n",
    "    fpr1[i], tpr1[i], _ = roc_curve(y_train1,probs6)\n",
    "    roc_auc1[i] = auc(fpr1[i], tpr1[i])    \n",
    "\n",
    "\n",
    "#print(roc_auc_score(y_test1,ompredictions_bow))\n",
    "plt.figure()\n",
    "#plt.plot(fpr[1], tpr[1])\n",
    "lw = 2\n",
    "plt.plot(fpr[0], tpr[0], color='darkorange',lw=lw, label=' Test ROC curve (area = %0.2f)' % roc_auc[0])\n",
    "plt.plot(fpr1[0], tpr1[0], color='blue',lw=lw, label='Train ROC curve (area = %0.2f)' % roc_auc1[0])\n",
    "plt.xlim([0.0, 1.0])\n",
    "plt.ylim([0.0, 1.05])\n",
    "plt.xlabel('False Positive Rate')\n",
    "plt.ylabel('True Positive Rate')\n",
    "plt.legend(loc=\"lower right\")\n",
    "plt.title('Receiver operating characteristic')\n",
    "plt.show()"
   ]
  },
  {
   "cell_type": "markdown",
   "metadata": {
    "colab_type": "text",
    "id": "SfRz0QHAb_AL"
   },
   "source": [
    "# Observations \n",
    "\n",
    "1) Both Training Accuracy and Test acccuracy has been not that high in TFIDF- AVG W2V. \n",
    "  The reason might be the case that I did not take feature engineering for this vectoriser and the model may be over fitted.\n"
   ]
  },
  {
   "cell_type": "markdown",
   "metadata": {
    "colab": {},
    "colab_type": "code",
    "id": "djPMK9Y1AK71"
   },
   "source": [
    "# Preparing the Data for RBF Kernel "
   ]
  },
  {
   "cell_type": "code",
   "execution_count": 164,
   "metadata": {},
   "outputs": [
    {
     "data": {
      "text/html": [
       "<div>\n",
       "<style scoped>\n",
       "    .dataframe tbody tr th:only-of-type {\n",
       "        vertical-align: middle;\n",
       "    }\n",
       "\n",
       "    .dataframe tbody tr th {\n",
       "        vertical-align: top;\n",
       "    }\n",
       "\n",
       "    .dataframe thead th {\n",
       "        text-align: right;\n",
       "    }\n",
       "</style>\n",
       "<table border=\"1\" class=\"dataframe\">\n",
       "  <thead>\n",
       "    <tr style=\"text-align: right;\">\n",
       "      <th></th>\n",
       "      <th>Cleaned Text</th>\n",
       "      <th>Length</th>\n",
       "    </tr>\n",
       "  </thead>\n",
       "  <tbody>\n",
       "    <tr>\n",
       "      <th>0</th>\n",
       "      <td>dogs loves chicken product china wont buying a...</td>\n",
       "      <td>162</td>\n",
       "    </tr>\n",
       "    <tr>\n",
       "      <th>1</th>\n",
       "      <td>dogs love saw pet store tag attached regarding...</td>\n",
       "      <td>72</td>\n",
       "    </tr>\n",
       "    <tr>\n",
       "      <th>2</th>\n",
       "      <td>infestation fruitflies literally everywhere fl...</td>\n",
       "      <td>406</td>\n",
       "    </tr>\n",
       "    <tr>\n",
       "      <th>3</th>\n",
       "      <td>worst product gotten long time would rate no s...</td>\n",
       "      <td>209</td>\n",
       "    </tr>\n",
       "    <tr>\n",
       "      <th>4</th>\n",
       "      <td>wish would read reviews making purchase basica...</td>\n",
       "      <td>277</td>\n",
       "    </tr>\n",
       "  </tbody>\n",
       "</table>\n",
       "</div>"
      ],
      "text/plain": [
       "                                        Cleaned Text  Length\n",
       "0  dogs loves chicken product china wont buying a...     162\n",
       "1  dogs love saw pet store tag attached regarding...      72\n",
       "2  infestation fruitflies literally everywhere fl...     406\n",
       "3  worst product gotten long time would rate no s...     209\n",
       "4  wish would read reviews making purchase basica...     277"
      ]
     },
     "execution_count": 164,
     "metadata": {},
     "output_type": "execute_result"
    }
   ],
   "source": [
    "sample1.head(5)"
   ]
  },
  {
   "cell_type": "code",
   "execution_count": 165,
   "metadata": {},
   "outputs": [],
   "source": [
    "X= sample1\n",
    "y= np.array(final['Score'])\n",
    "X= X[:20000]\n",
    "y= y[:20000]"
   ]
  },
  {
   "cell_type": "code",
   "execution_count": 166,
   "metadata": {
    "colab": {},
    "colab_type": "code",
    "id": "H6zh1QUWALJc"
   },
   "outputs": [],
   "source": [
    "X_train2, X_test2, y_train2, y_test2 = train_test_split(X,y,test_size=0.3,shuffle=False)"
   ]
  },
  {
   "cell_type": "markdown",
   "metadata": {},
   "source": [
    "# BOW DATA FOR RBF KERNEL "
   ]
  },
  {
   "cell_type": "code",
   "execution_count": 167,
   "metadata": {},
   "outputs": [],
   "source": [
    "count_vect = CountVectorizer(min_df=10,max_features=500) \n",
    "a1_rbf = count_vect.fit_transform(X_train2['Cleaned Text'].values)\n",
    "b1_rbf = count_vect.transform(X_test2['Cleaned Text'])"
   ]
  },
  {
   "cell_type": "code",
   "execution_count": 168,
   "metadata": {},
   "outputs": [],
   "source": [
    "a1_rbf = preprocessing.normalize(a1_rbf)\n",
    "a2_rbf = sparse.csr_matrix(X_train2['Length'].values)\n",
    "a2_rbf = preprocessing.normalize(a2_rbf)\n",
    "a3_rbf = sparse.hstack([a1_rbf, a2_rbf.T])"
   ]
  },
  {
   "cell_type": "code",
   "execution_count": 169,
   "metadata": {},
   "outputs": [],
   "source": [
    "b1_rbf = preprocessing.normalize(b1_rbf)\n",
    "b2_rbf = sparse.csr_matrix(X_test2['Length'].values)\n",
    "b2_rbf = preprocessing.normalize(b2_rbf)\n",
    "b3_rbf = sparse.hstack([b1_rbf, b2_rbf.T])"
   ]
  },
  {
   "cell_type": "markdown",
   "metadata": {},
   "source": [
    "# Preparing TFIDF DATA  FOR RBF KERNEL"
   ]
  },
  {
   "cell_type": "code",
   "execution_count": 170,
   "metadata": {},
   "outputs": [
    {
     "name": "stdout",
     "output_type": "stream",
     "text": [
      "the type of count vectorizer : <class 'scipy.sparse.csr.csr_matrix'>\n",
      "the shape of out text TFIDF vectorizer :  (14000, 500)\n",
      "the number of unique words : 500\n"
     ]
    }
   ],
   "source": [
    "tf_idf_vect = TfidfVectorizer(min_df=10,max_features=500)\n",
    "c1_rbf = tf_idf_vect.fit_transform(X_train2['Cleaned Text'].values)\n",
    "d1_rbf = tf_idf_vect.transform(X_test2['Cleaned Text'])\n",
    "print(\"the type of count vectorizer :\",type(c1_rbf))\n",
    "print(\"the shape of out text TFIDF vectorizer : \",c1_rbf.get_shape())\n",
    "print(\"the number of unique words :\", c1_rbf.get_shape()[1])"
   ]
  },
  {
   "cell_type": "code",
   "execution_count": 171,
   "metadata": {},
   "outputs": [],
   "source": [
    "c1_rbf = preprocessing.normalize(c1_rbf)\n",
    "c2_rbf = sparse.csr_matrix(X_train2['Length'].values)\n",
    "c2_rbf = preprocessing.normalize(c2_rbf)\n",
    "c3_rbf = sparse.hstack([c1_rbf, c2_rbf.T])"
   ]
  },
  {
   "cell_type": "code",
   "execution_count": 172,
   "metadata": {},
   "outputs": [],
   "source": [
    "d1_rbf = preprocessing.normalize(d1_rbf)\n",
    "d2_rbf = sparse.csr_matrix(X_test2['Length'].values)\n",
    "d2_rbf = preprocessing.normalize(d2_rbf)\n",
    "d3_rbf = sparse.hstack([d1_rbf, d2_rbf.T])"
   ]
  },
  {
   "cell_type": "markdown",
   "metadata": {},
   "source": [
    "# PREPARING W2V DATA FOR RBF KERNEL "
   ]
  },
  {
   "cell_type": "markdown",
   "metadata": {},
   "source": [
    "# Training Data "
   ]
  },
  {
   "cell_type": "code",
   "execution_count": 173,
   "metadata": {},
   "outputs": [],
   "source": [
    "i=0\n",
    "list_of_sentance=[]\n",
    "for sentance in (X_train2['Cleaned Text'].values):\n",
    "    list_of_sentance.append(sentance.split())"
   ]
  },
  {
   "cell_type": "code",
   "execution_count": 174,
   "metadata": {},
   "outputs": [
    {
     "name": "stdout",
     "output_type": "stream",
     "text": [
      "[('good', 0.8201214671134949), ('excellent', 0.7648059725761414), ('perfect', 0.7574174404144287), ('amazing', 0.7486943006515503), ('fantastic', 0.7406551241874695), ('wonderful', 0.7186780571937561), ('well', 0.7147866487503052), ('love', 0.7107311487197876), ('delicious', 0.7041605114936829), ('tasty', 0.6969573497772217)]\n",
      "==================================================\n",
      "[('leonidas', 0.9819067120552063), ('experienced', 0.9817522168159485), ('married', 0.9791007041931152), ('tipped', 0.9762768745422363), ('shared', 0.9755205512046814), ('necco', 0.9727638959884644), ('belgium', 0.9725375771522522), ('disgusting', 0.9715484380722046), ('addict', 0.9713589549064636), ('introduce', 0.9708647131919861)]\n",
      "number of words that occured minimum 5 times  7154\n",
      "sample words  ['dogs', 'loves', 'chicken', 'product', 'china', 'wont', 'buying', 'anymore', 'hard', 'find', 'products', 'made', 'usa', 'one', 'isnt', 'bad', 'good', 'take', 'chances', 'till', 'know', 'going', 'imports', 'love', 'saw', 'pet', 'store', 'tag', 'attached', 'regarding', 'satisfied', 'safe', 'infestation', 'literally', 'everywhere', 'flying', 'around', 'kitchen', 'bought', 'hoping', 'least', 'get', 'rid', 'weeks', 'fly', 'stuck', 'success', 'rate', 'day', 'clearly']\n"
     ]
    }
   ],
   "source": [
    "is_your_ram_gt_16g=False\n",
    "want_to_use_google_w2v = False\n",
    "want_to_train_w2v = True\n",
    "\n",
    "if want_to_train_w2v:\n",
    "    # min_count = 5 considers only words that occured atleast 5 times\n",
    "    w2v_model=Word2Vec(list_of_sentance,min_count=5,size=50, workers=4)\n",
    "    print(w2v_model.wv.most_similar('great'))\n",
    "    print('='*50)\n",
    "    print(w2v_model.wv.most_similar('worst'))\n",
    "    \n",
    "elif want_to_use_google_w2v and is_your_ram_gt_16g:\n",
    "    if os.path.isfile('GoogleNews-vectors-negative300.bin'):\n",
    "        w2v_model=KeyedVectors.load_word2vec_format('GoogleNews-vectors-negative300.bin', binary=True)\n",
    "        print(w2v_model.wv.most_similar('great'))\n",
    "        print(w2v_model.wv.most_similar('worst'))\n",
    "    else:\n",
    "        print(\"you don't have gogole's word2vec file, keep want_to_train_w2v = True, to train your own w2v \")\n",
    "\n",
    "\n",
    "w2v_words = list(w2v_model.wv.vocab)\n",
    "print(\"number of words that occured minimum 5 times \",len(w2v_words))\n",
    "print(\"sample words \", w2v_words[0:50])"
   ]
  },
  {
   "cell_type": "code",
   "execution_count": 175,
   "metadata": {},
   "outputs": [
    {
     "name": "stderr",
     "output_type": "stream",
     "text": [
      "100%|███████████████████████████████████████████████████████████████████████████| 14000/14000 [00:15<00:00, 896.49it/s]\n"
     ]
    },
    {
     "name": "stdout",
     "output_type": "stream",
     "text": [
      "14000\n",
      "50\n"
     ]
    }
   ],
   "source": [
    "sent_vectors = []; # the avg-w2v for each sentence/review is stored in this list\n",
    "for sent in tqdm(list_of_sentance): # for each review/sentence\n",
    "    sent_vec = np.zeros(50) # as word vectors are of zero length 50, you might need to change this to 300 if you use google's w2v\n",
    "    cnt_words =0; # num of words with a valid vector in the sentence/review\n",
    "    for word in sent: # for each word in a review/sentence\n",
    "        if word in w2v_words:\n",
    "            vec = w2v_model.wv[word]\n",
    "            sent_vec += vec\n",
    "            cnt_words += 1\n",
    "    if cnt_words != 0:\n",
    "        sent_vec /= cnt_words\n",
    "    sent_vectors.append(sent_vec)\n",
    "print(len(sent_vectors))\n",
    "print(len(sent_vectors[0]))"
   ]
  },
  {
   "cell_type": "markdown",
   "metadata": {},
   "source": [
    "# Test Data for RBF KERNEL "
   ]
  },
  {
   "cell_type": "code",
   "execution_count": 176,
   "metadata": {},
   "outputs": [
    {
     "name": "stdout",
     "output_type": "stream",
     "text": [
      "[('good', 0.9847504496574402), ('pretty', 0.9795107245445251), ('stuff', 0.9754118323326111), ('greasy', 0.9752474427223206), ('salty', 0.9749279022216797), ('crunchy', 0.9733189344406128), ('tasty', 0.9725238084793091), ('chemical', 0.9713350534439087), ('chewy', 0.9702329635620117), ('right', 0.9699370861053467)]\n",
      "==================================================\n",
      "[('bonus', 0.9979056119918823), ('kosher', 0.9974634647369385), ('certified', 0.9974031448364258), ('kinds', 0.997395396232605), ('absolute', 0.9973660111427307), ('amy', 0.9973113536834717), ('hardly', 0.9971849918365479), ('comment', 0.9970866441726685), ('tastiest', 0.9970847368240356), ('non', 0.9970841407775879)]\n",
      "number of words that occured minimum 5 times  3979\n",
      "sample words  ['could', 'not', 'find', 'product', 'grocery', 'store', 'stores', 'shop', 'decided', 'check', 'amazon', 'husband', 'love', 'seasoning', 'popcorn', 'really', 'good', 'speedy', 'delivery', 'thanks', 'cheaper', 'order', 'buy', 'thru', 'local', 'charges', 'bottle', 'usually', 'weeks', 'time', 'one', 'bottles', 'broken', 'arrived', 'items', 'ordered', 'well', 'prevent', 'breakage', 'none', 'little', 'give', 'extra', 'still', 'would', 'bought', 'recently', 'advertised', 'no', 'cheesy']\n"
     ]
    }
   ],
   "source": [
    "i=0\n",
    "list_of_sentance1=[]\n",
    "for sentance in (X_test2['Cleaned Text'].values):\n",
    "    list_of_sentance1.append(sentance.split())\n",
    "\n",
    "is_your_ram_gt_16g=False\n",
    "want_to_use_google_w2v = False\n",
    "want_to_train_w2v = True\n",
    "\n",
    "if want_to_train_w2v:\n",
    "    # min_count = 5 considers only words that occured atleast 5 times\n",
    "    w2v_model1=Word2Vec(list_of_sentance1,min_count=5,size=50, workers=4)\n",
    "    print(w2v_model1.wv.most_similar('great'))\n",
    "    print('='*50)\n",
    "    print(w2v_model1.wv.most_similar('worst'))\n",
    "    \n",
    "elif want_to_use_google_w2v and is_your_ram_gt_16g:\n",
    "    if os.path.isfile('GoogleNews-vectors-negative300.bin'):\n",
    "        w2v_model1=KeyedVectors.load_word2vec_format('GoogleNews-vectors-negative300.bin', binary=True)\n",
    "        print(w2v_model1.wv.most_similar('great'))\n",
    "        print(w2v_model1.wv.most_similar('worst'))\n",
    "    else:\n",
    "        print(\"you don't have gogole's word2vec file, keep want_to_train_w2v = True, to train your own w2v \")\n",
    "\n",
    "\n",
    "w2v_words1 = list(w2v_model1.wv.vocab)\n",
    "print(\"number of words that occured minimum 5 times \",len(w2v_words1))\n",
    "print(\"sample words \", w2v_words1[0:50])"
   ]
  },
  {
   "cell_type": "code",
   "execution_count": 177,
   "metadata": {},
   "outputs": [
    {
     "name": "stderr",
     "output_type": "stream",
     "text": [
      "100%|████████████████████████████████████████████████████████████████████████████| 6000/6000 [00:04<00:00, 1465.97it/s]\n"
     ]
    },
    {
     "name": "stdout",
     "output_type": "stream",
     "text": [
      "6000\n",
      "50\n"
     ]
    }
   ],
   "source": [
    "sent_vectors1 = []; # the avg-w2v for each sentence/review is stored in this list\n",
    "for sent in tqdm(list_of_sentance1): # for each review/sentence\n",
    "    sent_vec = np.zeros(50) # as word vectors are of zero length 50, you might need to change this to 300 if you use google's w2v\n",
    "    cnt_words =0; # num of words with a valid vector in the sentence/review\n",
    "    for word in sent: # for each word in a review/sentence\n",
    "        if word in w2v_words1:\n",
    "            vec = w2v_model1.wv[word]\n",
    "            sent_vec += vec\n",
    "            cnt_words += 1\n",
    "    if cnt_words != 0:\n",
    "        sent_vec /= cnt_words\n",
    "    sent_vectors1.append(sent_vec)\n",
    "print(len(sent_vectors1))\n",
    "print(len(sent_vectors1[0]))"
   ]
  },
  {
   "cell_type": "code",
   "execution_count": 178,
   "metadata": {},
   "outputs": [],
   "source": [
    "e3 = sent_vectors\n",
    "f3 = sent_vectors1\n",
    "e3 = preprocessing.normalize(e3)\n",
    "e4 = sparse.csr_matrix(X_train2['Length'].values)\n",
    "e4 = preprocessing.normalize(e4)\n",
    "e5_rbf = sparse.hstack([e3, e4.T])\n",
    "f3 = preprocessing.normalize(f3)\n",
    "f4 = sparse.csr_matrix(X_test2['Length'].values)\n",
    "f4 = preprocessing.normalize(f4)\n",
    "f5_rbf = sparse.hstack([f3, f4.T])"
   ]
  },
  {
   "cell_type": "markdown",
   "metadata": {},
   "source": [
    "# PREPARING TFIDF AVG W2V DATA FOR RBF KERNEL "
   ]
  },
  {
   "cell_type": "code",
   "execution_count": 179,
   "metadata": {},
   "outputs": [],
   "source": [
    "model = TfidfVectorizer(min_df=10,max_features=500)\n",
    "model.fit_transform(X_train2['Cleaned Text'].values)\n",
    "# we are converting a dictionary with word as a key, and the idf as a value\n",
    "dictionary = dict(zip(model.get_feature_names(), list(model.idf_)))"
   ]
  },
  {
   "cell_type": "code",
   "execution_count": 180,
   "metadata": {},
   "outputs": [
    {
     "name": "stderr",
     "output_type": "stream",
     "text": [
      "100%|███████████████████████████████████████████████████████████████████████████| 14000/14000 [00:20<00:00, 679.28it/s]\n"
     ]
    }
   ],
   "source": [
    "tfidf_feat = model.get_feature_names() # tfidf words/col-names\n",
    "# final_tf_idf is the sparse matrix with row= sentence, col=word and cell_val = tfidf\n",
    "\n",
    "tfidf_sent_vectors = []; # the tfidf-w2v for each sentence/review is stored in this list\n",
    "row=0;\n",
    "for sent in tqdm(list_of_sentance): # for each review/sentence \n",
    "    sent_vec = np.zeros(50) # as word vectors are of zero length\n",
    "    weight_sum =0; # num of words with a valid vector in the sentence/review\n",
    "    for word in sent: # for each word in a review/sentence\n",
    "        if word in w2v_words and word in tfidf_feat:\n",
    "            vec = w2v_model.wv[word]\n",
    "            #tf_idf = tf_idf_matrix[row, tfidf_feat.index(word)]\n",
    "            # to reduce the computation we are \n",
    "            # dictionary[word] = idf value of word in whole courpus\n",
    "            # sent.count(word) = tf valeus of word in this review\n",
    "            tf_idf = dictionary[word]*(sent.count(word)/len(sent))\n",
    "            sent_vec += (vec * tf_idf)\n",
    "            weight_sum += tf_idf\n",
    "    if weight_sum != 0:\n",
    "        sent_vec /= weight_sum\n",
    "    tfidf_sent_vectors.append(sent_vec)\n",
    "    row += 1"
   ]
  },
  {
   "cell_type": "code",
   "execution_count": 181,
   "metadata": {},
   "outputs": [
    {
     "name": "stderr",
     "output_type": "stream",
     "text": [
      "100%|████████████████████████████████████████████████████████████████████████████| 6000/6000 [00:05<00:00, 1125.55it/s]\n"
     ]
    }
   ],
   "source": [
    "tfidf_feat = model.get_feature_names() # tfidf words/col-names\n",
    "# final_tf_idf is the sparse matrix with row= sentence, col=word and cell_val = tfidf\n",
    "\n",
    "tfidf_sent_vectors1 = []; # the tfidf-w2v for each sentence/review is stored in this list\n",
    "row=0;\n",
    "for sent in tqdm(list_of_sentance1): # for each review/sentence \n",
    "    sent_vec = np.zeros(50) # as word vectors are of zero length\n",
    "    weight_sum =0; # num of words with a valid vector in the sentence/review\n",
    "    for word in sent: # for each word in a review/sentence\n",
    "        if word in w2v_words1 and word in tfidf_feat:\n",
    "            vec = w2v_model1.wv[word]\n",
    "            #tf_idf = tf_idf_matrix[row, tfidf_feat.index(word)]\n",
    "            # to reduce the computation we are \n",
    "            # dictionary[word] = idf value of word in whole courpus\n",
    "            # sent.count(word) = tf valeus of word in this review\n",
    "            tf_idf = dictionary[word]*(sent.count(word)/len(sent))\n",
    "            sent_vec += (vec * tf_idf)\n",
    "            weight_sum += tf_idf\n",
    "    if weight_sum != 0:\n",
    "        sent_vec /= weight_sum\n",
    "    tfidf_sent_vectors1.append(sent_vec)\n",
    "    row += 1\n"
   ]
  },
  {
   "cell_type": "code",
   "execution_count": 182,
   "metadata": {},
   "outputs": [],
   "source": [
    "g3 = tfidf_sent_vectors\n",
    "h3 = tfidf_sent_vectors1\n",
    "g3_rbf = preprocessing.normalize(g3)\n",
    "h3_rbf = preprocessing.normalize(h3)"
   ]
  },
  {
   "cell_type": "markdown",
   "metadata": {},
   "source": [
    "# Grid Seach RBF KERNEL FOR ALL VECTORIZERS (BOW, TFIDF, AVGW2V, TFIDF-AVGW2V)"
   ]
  },
  {
   "cell_type": "markdown",
   "metadata": {},
   "source": [
    "# BOW"
   ]
  },
  {
   "cell_type": "code",
   "execution_count": 185,
   "metadata": {},
   "outputs": [
    {
     "name": "stdout",
     "output_type": "stream",
     "text": [
      "Fitting 3 folds for each of 11 candidates, totalling 33 fits\n"
     ]
    },
    {
     "name": "stderr",
     "output_type": "stream",
     "text": [
      "[Parallel(n_jobs=1)]: Using backend SequentialBackend with 1 concurrent workers.\n"
     ]
    },
    {
     "name": "stdout",
     "output_type": "stream",
     "text": [
      "[CV] C=1e-05 .........................................................\n",
      "[CV] ................ C=1e-05, score=0.8032958073586891, total=   7.1s\n"
     ]
    },
    {
     "name": "stderr",
     "output_type": "stream",
     "text": [
      "[Parallel(n_jobs=1)]: Done   1 out of   1 | elapsed:   11.5s remaining:    0.0s\n"
     ]
    },
    {
     "name": "stdout",
     "output_type": "stream",
     "text": [
      "[CV] C=1e-05 .........................................................\n",
      "[CV] ................ C=1e-05, score=0.8021214759291662, total=   6.9s\n"
     ]
    },
    {
     "name": "stderr",
     "output_type": "stream",
     "text": [
      "[Parallel(n_jobs=1)]: Done   2 out of   2 | elapsed:   22.9s remaining:    0.0s\n"
     ]
    },
    {
     "name": "stdout",
     "output_type": "stream",
     "text": [
      "[CV] C=1e-05 .........................................................\n",
      "[CV] ................. C=1e-05, score=0.825800617236036, total=   7.2s\n",
      "[CV] C=0.0001 ........................................................\n",
      "[CV] ............... C=0.0001, score=0.8032958073586891, total=   8.3s\n",
      "[CV] C=0.0001 ........................................................\n",
      "[CV] ............... C=0.0001, score=0.8021214759291662, total=   7.6s\n",
      "[CV] C=0.0001 ........................................................\n",
      "[CV] ................ C=0.0001, score=0.825800617236036, total=   7.5s\n",
      "[CV] C=0.001 .........................................................\n",
      "[CV] ................ C=0.001, score=0.8032304969476353, total=   7.4s\n",
      "[CV] C=0.001 .........................................................\n",
      "[CV] ................. C=0.001, score=0.802892641167377, total=   7.6s\n",
      "[CV] C=0.001 .........................................................\n",
      "[CV] ................ C=0.001, score=0.8257916332462245, total=   7.7s\n",
      "[CV] C=0.01 ..........................................................\n",
      "[CV] ................. C=0.01, score=0.8264465538351564, total=   7.8s\n",
      "[CV] C=0.01 ..........................................................\n",
      "[CV] ................. C=0.01, score=0.8228729619204419, total=   7.2s\n",
      "[CV] C=0.01 ..........................................................\n",
      "[CV] ................. C=0.01, score=0.8389061022133676, total=   7.1s\n",
      "[CV] C=0.1 ...........................................................\n",
      "[CV] .................. C=0.1, score=0.8796271708534706, total=   7.9s\n",
      "[CV] C=0.1 ...........................................................\n",
      "[CV] ................... C=0.1, score=0.878449250939824, total=   8.1s\n",
      "[CV] C=0.1 ...........................................................\n",
      "[CV] .................. C=0.1, score=0.8895700549963921, total=   8.7s\n",
      "[CV] C=1 .............................................................\n",
      "[CV] .................... C=1, score=0.8810055076054332, total=   9.2s\n",
      "[CV] C=1 .............................................................\n",
      "[CV] .................... C=1, score=0.8838750389350527, total=   9.5s\n",
      "[CV] C=1 .............................................................\n",
      "[CV] .................... C=1, score=0.8872866841459173, total=  10.3s\n",
      "[CV] C=10 ............................................................\n",
      "[CV] ................... C=10, score=0.8809262021062966, total=   9.2s\n",
      "[CV] C=10 ............................................................\n",
      "[CV] ................... C=10, score=0.8837910684065551, total=   9.9s\n",
      "[CV] C=10 ............................................................\n",
      "[CV] ................... C=10, score=0.8874854100005463, total=   9.8s\n",
      "[CV] C=100 ...........................................................\n",
      "[CV] .................. C=100, score=0.8802382896997586, total=   8.4s\n",
      "[CV] C=100 ...........................................................\n",
      "[CV] .................. C=100, score=0.8838244413089067, total=   8.9s\n",
      "[CV] C=100 ...........................................................\n",
      "[CV] .................. C=100, score=0.8884768831161365, total=   8.6s\n",
      "[CV] C=1000 ..........................................................\n",
      "[CV] ................. C=1000, score=0.8744102326342488, total=   9.0s\n",
      "[CV] C=1000 ..........................................................\n",
      "[CV] .................. C=1000, score=0.885865212230128, total=   8.5s\n",
      "[CV] C=1000 ..........................................................\n",
      "[CV] ................. C=1000, score=0.8867307548563856, total=   8.1s\n",
      "[CV] C=10000 .........................................................\n",
      "[CV] ................ C=10000, score=0.8729339302657056, total=  12.7s\n",
      "[CV] C=10000 .........................................................\n",
      "[CV] ................ C=10000, score=0.8822440729007726, total=  13.3s\n",
      "[CV] C=10000 .........................................................\n",
      "[CV] ................ C=10000, score=0.8626392877780366, total=  13.4s\n",
      "[CV] C=100000 ........................................................\n",
      "[CV] ................ C=100000, score=0.873130938044104, total=  40.6s\n",
      "[CV] C=100000 ........................................................\n",
      "[CV] ............... C=100000, score=0.8833561441307471, total=  38.6s\n",
      "[CV] C=100000 ........................................................\n",
      "[CV] ............... C=100000, score=0.8599803861534437, total=  39.0s\n"
     ]
    },
    {
     "name": "stderr",
     "output_type": "stream",
     "text": [
      "[Parallel(n_jobs=1)]: Done  33 out of  33 | elapsed:  8.9min finished\n"
     ]
    },
    {
     "name": "stdout",
     "output_type": "stream",
     "text": [
      "SVC(C=100, cache_size=200, class_weight=None, coef0=0.0,\n",
      "  decision_function_shape='ovr', degree=3, gamma='auto_deprecated',\n",
      "  kernel='rbf', max_iter=-1, probability=False, random_state=None,\n",
      "  shrinking=True, tol=0.001, verbose=False)\n",
      "0.8921129986638672\n"
     ]
    }
   ],
   "source": [
    "C = [0.00001,0.0001,0.001,0.01,0.1,1,10,100,1000,10000,100000]\n",
    "clf = SVC()\n",
    "param_grid = {'C': C}\n",
    "model_bow = GridSearchCV(estimator = clf,param_grid=param_grid ,scoring = 'roc_auc',cv = 3, return_train_score = True, verbose = 3)\n",
    "model_bow.fit(a3_rbf, y_train2)\n",
    "print(model_bow.best_estimator_)\n",
    "print(model_bow.score(b3_rbf, y_test2))"
   ]
  },
  {
   "cell_type": "markdown",
   "metadata": {},
   "source": [
    "# TFIDF "
   ]
  },
  {
   "cell_type": "code",
   "execution_count": 186,
   "metadata": {},
   "outputs": [
    {
     "name": "stdout",
     "output_type": "stream",
     "text": [
      "Fitting 3 folds for each of 11 candidates, totalling 33 fits\n"
     ]
    },
    {
     "name": "stderr",
     "output_type": "stream",
     "text": [
      "[Parallel(n_jobs=1)]: Using backend SequentialBackend with 1 concurrent workers.\n"
     ]
    },
    {
     "name": "stdout",
     "output_type": "stream",
     "text": [
      "[CV] C=1e-05 .........................................................\n",
      "[CV] ................ C=1e-05, score=0.8388842398083463, total=   6.9s\n"
     ]
    },
    {
     "name": "stderr",
     "output_type": "stream",
     "text": [
      "[Parallel(n_jobs=1)]: Done   1 out of   1 | elapsed:   11.9s remaining:    0.0s\n"
     ]
    },
    {
     "name": "stdout",
     "output_type": "stream",
     "text": [
      "[CV] C=1e-05 .........................................................\n",
      "[CV] ................ C=1e-05, score=0.8374353893433505, total=   6.8s\n"
     ]
    },
    {
     "name": "stderr",
     "output_type": "stream",
     "text": [
      "[Parallel(n_jobs=1)]: Done   2 out of   2 | elapsed:   23.1s remaining:    0.0s\n"
     ]
    },
    {
     "name": "stdout",
     "output_type": "stream",
     "text": [
      "[CV] C=1e-05 .........................................................\n",
      "[CV] ................ C=1e-05, score=0.8301618052500999, total=   7.5s\n",
      "[CV] C=0.0001 ........................................................\n",
      "[CV] ............... C=0.0001, score=0.8388842398083463, total=   6.5s\n",
      "[CV] C=0.0001 ........................................................\n",
      "[CV] ............... C=0.0001, score=0.8374353893433505, total=   6.6s\n",
      "[CV] C=0.0001 ........................................................\n",
      "[CV] ............... C=0.0001, score=0.8301618052500999, total=   7.1s\n",
      "[CV] C=0.001 .........................................................\n",
      "[CV] ................ C=0.001, score=0.8388842398083463, total=   7.5s\n",
      "[CV] C=0.001 .........................................................\n",
      "[CV] ................ C=0.001, score=0.8374353893433505, total=   6.5s\n",
      "[CV] C=0.001 .........................................................\n",
      "[CV] ................ C=0.001, score=0.8301618052500999, total=   6.7s\n",
      "[CV] C=0.01 ..........................................................\n",
      "[CV] ................. C=0.01, score=0.8545684273683636, total=   7.0s\n",
      "[CV] C=0.01 ..........................................................\n",
      "[CV] ................. C=0.01, score=0.8512973446652877, total=   6.8s\n",
      "[CV] C=0.01 ..........................................................\n",
      "[CV] ................. C=0.01, score=0.8500480463775116, total=   6.7s\n",
      "[CV] C=0.1 ...........................................................\n",
      "[CV] .................. C=0.1, score=0.8746298478626271, total=   8.0s\n",
      "[CV] C=0.1 ...........................................................\n",
      "[CV] .................. C=0.1, score=0.8764989098185232, total=   7.8s\n",
      "[CV] C=0.1 ...........................................................\n",
      "[CV] .................. C=0.1, score=0.8826678353040613, total=   7.9s\n",
      "[CV] C=1 .............................................................\n",
      "[CV] .................... C=1, score=0.8766088968569185, total=   8.4s\n",
      "[CV] C=1 .............................................................\n",
      "[CV] .................... C=1, score=0.8815593901299461, total=   8.4s\n",
      "[CV] C=1 .............................................................\n",
      "[CV] .................... C=1, score=0.8853378770760204, total=   8.3s\n",
      "[CV] C=10 ............................................................\n",
      "[CV] ................... C=10, score=0.8770029124137149, total=   8.0s\n",
      "[CV] C=10 ............................................................\n",
      "[CV] ................... C=10, score=0.8823007709499291, total=   8.0s\n",
      "[CV] C=10 ............................................................\n",
      "[CV] ................... C=10, score=0.8853960933299985, total=   8.2s\n",
      "[CV] C=100 ...........................................................\n",
      "[CV] .................. C=100, score=0.8762844978921245, total=   7.5s\n",
      "[CV] C=100 ...........................................................\n",
      "[CV] .................. C=100, score=0.8831871265285147, total=   7.4s\n",
      "[CV] C=100 ...........................................................\n",
      "[CV] .................. C=100, score=0.8872428422756374, total=   7.5s\n",
      "[CV] C=1000 ..........................................................\n",
      "[CV] ................. C=1000, score=0.8721563057560721, total=   7.1s\n",
      "[CV] C=1000 ..........................................................\n",
      "[CV] ................. C=1000, score=0.8821672793405227, total=   7.1s\n",
      "[CV] C=1000 ..........................................................\n",
      "[CV] ................. C=1000, score=0.8855649923384536, total=   7.3s\n",
      "[CV] C=10000 .........................................................\n",
      "[CV] ................ C=10000, score=0.8711953097077108, total=  11.7s\n",
      "[CV] C=10000 .........................................................\n",
      "[CV] ................ C=10000, score=0.8795501978690147, total=  11.7s\n",
      "[CV] C=10000 .........................................................\n",
      "[CV] ................. C=10000, score=0.860272904861704, total=  12.4s\n",
      "[CV] C=100000 ........................................................\n",
      "[CV] ............... C=100000, score=0.8738098792403323, total=  44.8s\n",
      "[CV] C=100000 ........................................................\n",
      "[CV] ............... C=100000, score=0.8842091268069812, total=  45.4s\n",
      "[CV] C=100000 ........................................................\n",
      "[CV] ................ C=100000, score=0.861565161956181, total=  48.5s\n"
     ]
    },
    {
     "name": "stderr",
     "output_type": "stream",
     "text": [
      "[Parallel(n_jobs=1)]: Done  33 out of  33 | elapsed:  8.6min finished\n"
     ]
    },
    {
     "data": {
      "text/plain": [
       "GridSearchCV(cv=3, error_score='raise-deprecating',\n",
       "       estimator=SVC(C=1.0, cache_size=200, class_weight=None, coef0=0.0,\n",
       "  decision_function_shape='ovr', degree=3, gamma='auto_deprecated',\n",
       "  kernel='rbf', max_iter=-1, probability=False, random_state=None,\n",
       "  shrinking=True, tol=0.001, verbose=False),\n",
       "       fit_params=None, iid='warn', n_jobs=None,\n",
       "       param_grid={'C': [1e-05, 0.0001, 0.001, 0.01, 0.1, 1, 10, 100, 1000, 10000, 100000]},\n",
       "       pre_dispatch='2*n_jobs', refit=True, return_train_score=True,\n",
       "       scoring='roc_auc', verbose=3)"
      ]
     },
     "execution_count": 186,
     "metadata": {},
     "output_type": "execute_result"
    }
   ],
   "source": [
    "C = [0.00001,0.0001,0.001,0.01,0.1,1,10,100,1000,10000,100000]\n",
    "clf = SVC()\n",
    "param_grid = {'C': C}\n",
    "model_tfidf = GridSearchCV(estimator = clf,param_grid=param_grid ,scoring = 'roc_auc',cv = 3, return_train_score = True, verbose = 3)\n",
    "model_tfidf.fit(c3_rbf, y_train2)"
   ]
  },
  {
   "cell_type": "code",
   "execution_count": 187,
   "metadata": {},
   "outputs": [
    {
     "name": "stdout",
     "output_type": "stream",
     "text": [
      "SVC(C=100, cache_size=200, class_weight=None, coef0=0.0,\n",
      "  decision_function_shape='ovr', degree=3, gamma='auto_deprecated',\n",
      "  kernel='rbf', max_iter=-1, probability=False, random_state=None,\n",
      "  shrinking=True, tol=0.001, verbose=False)\n",
      "0.8935110602108121\n"
     ]
    }
   ],
   "source": [
    "print(model_tfidf.best_estimator_)\n",
    "print(model_tfidf.score(d3_rbf, y_test2))"
   ]
  },
  {
   "cell_type": "markdown",
   "metadata": {},
   "source": [
    "# AVG W2V "
   ]
  },
  {
   "cell_type": "code",
   "execution_count": 189,
   "metadata": {},
   "outputs": [
    {
     "name": "stdout",
     "output_type": "stream",
     "text": [
      "Fitting 10 folds for each of 11 candidates, totalling 110 fits\n"
     ]
    },
    {
     "name": "stderr",
     "output_type": "stream",
     "text": [
      "[Parallel(n_jobs=1)]: Using backend SequentialBackend with 1 concurrent workers.\n"
     ]
    },
    {
     "name": "stdout",
     "output_type": "stream",
     "text": [
      "[CV] C=1e-05 .........................................................\n",
      "[CV] ................ C=1e-05, score=0.8280576685650564, total=   6.3s\n"
     ]
    },
    {
     "name": "stderr",
     "output_type": "stream",
     "text": [
      "[Parallel(n_jobs=1)]: Done   1 out of   1 | elapsed:   10.4s remaining:    0.0s\n"
     ]
    },
    {
     "name": "stdout",
     "output_type": "stream",
     "text": [
      "[CV] C=1e-05 .........................................................\n",
      "[CV] ................ C=1e-05, score=0.8183400374367757, total=   6.7s\n"
     ]
    },
    {
     "name": "stderr",
     "output_type": "stream",
     "text": [
      "[Parallel(n_jobs=1)]: Done   2 out of   2 | elapsed:   21.0s remaining:    0.0s\n"
     ]
    },
    {
     "name": "stdout",
     "output_type": "stream",
     "text": [
      "[CV] C=1e-05 .........................................................\n",
      "[CV] ................. C=1e-05, score=0.796766568744295, total=   6.6s\n",
      "[CV] C=1e-05 .........................................................\n",
      "[CV] ................. C=1e-05, score=0.819941087137624, total=   6.3s\n",
      "[CV] C=1e-05 .........................................................\n",
      "[CV] ................. C=1e-05, score=0.818274945292352, total=   6.1s\n",
      "[CV] C=1e-05 .........................................................\n",
      "[CV] ................ C=1e-05, score=0.8406642245863545, total=   6.3s\n",
      "[CV] C=1e-05 .........................................................\n",
      "[CV] ................ C=1e-05, score=0.8499994021022086, total=   6.7s\n",
      "[CV] C=1e-05 .........................................................\n",
      "[CV] ................ C=1e-05, score=0.8414873305458008, total=   6.3s\n",
      "[CV] C=1e-05 .........................................................\n",
      "[CV] ................. C=1e-05, score=0.783964115503224, total=   6.2s\n",
      "[CV] C=1e-05 .........................................................\n",
      "[CV] ................ C=1e-05, score=0.8081941607593415, total=   6.2s\n",
      "[CV] C=0.0001 ........................................................\n",
      "[CV] ............... C=0.0001, score=0.8280576685650564, total=   6.3s\n",
      "[CV] C=0.0001 ........................................................\n",
      "[CV] ............... C=0.0001, score=0.8183400374367757, total=   6.8s\n",
      "[CV] C=0.0001 ........................................................\n",
      "[CV] ................ C=0.0001, score=0.796766568744295, total=   6.6s\n",
      "[CV] C=0.0001 ........................................................\n",
      "[CV] ............... C=0.0001, score=0.8194029791253952, total=   6.5s\n",
      "[CV] C=0.0001 ........................................................\n",
      "[CV] ................ C=0.0001, score=0.818274945292352, total=   6.6s\n",
      "[CV] C=0.0001 ........................................................\n",
      "[CV] ............... C=0.0001, score=0.8406642245863545, total=  21.2s\n",
      "[CV] C=0.0001 ........................................................\n",
      "[CV] ............... C=0.0001, score=0.8499994021022086, total=  23.9s\n",
      "[CV] C=0.0001 ........................................................\n",
      "[CV] ............... C=0.0001, score=0.8414873305458008, total=   7.5s\n",
      "[CV] C=0.0001 ........................................................\n",
      "[CV] ................ C=0.0001, score=0.783964115503224, total=   7.1s\n",
      "[CV] C=0.0001 ........................................................\n",
      "[CV] ............... C=0.0001, score=0.8081941607593415, total=   6.5s\n",
      "[CV] C=0.001 .........................................................\n",
      "[CV] ................ C=0.001, score=0.8296347923055478, total=   6.8s\n",
      "[CV] C=0.001 .........................................................\n",
      "[CV] ................ C=0.001, score=0.8197220120275599, total=   6.8s\n",
      "[CV] C=0.001 .........................................................\n",
      "[CV] ................ C=0.001, score=0.8002702498016973, total=   6.4s\n",
      "[CV] C=0.001 .........................................................\n",
      "[CV] ................ C=0.001, score=0.8199689890345546, total=   6.3s\n",
      "[CV] C=0.001 .........................................................\n",
      "[CV] ................ C=0.001, score=0.8196182223302868, total=   6.3s\n",
      "[CV] C=0.001 .........................................................\n",
      "[CV] ................ C=0.001, score=0.8430358858254376, total=   6.6s\n",
      "[CV] C=0.001 .........................................................\n",
      "[CV] ................ C=0.001, score=0.8517213477413415, total=   6.4s\n",
      "[CV] C=0.001 .........................................................\n",
      "[CV] ................ C=0.001, score=0.8468285508153333, total=   6.7s\n",
      "[CV] C=0.001 .........................................................\n",
      "[CV] ................. C=0.001, score=0.787760823421042, total=   6.3s\n",
      "[CV] C=0.001 .........................................................\n",
      "[CV] ................. C=0.001, score=0.809463735031439, total=   6.3s\n",
      "[CV] C=0.01 ..........................................................\n",
      "[CV] ................. C=0.01, score=0.8514118443585965, total=   7.5s\n",
      "[CV] C=0.01 ..........................................................\n",
      "[CV] ................. C=0.01, score=0.8634115257477398, total=   8.1s\n",
      "[CV] C=0.01 ..........................................................\n",
      "[CV] ................. C=0.01, score=0.8397474479729272, total=   8.2s\n",
      "[CV] C=0.01 ..........................................................\n",
      "[CV] ................. C=0.01, score=0.8360125797695304, total=   8.4s\n",
      "[CV] C=0.01 ..........................................................\n",
      "[CV] ................. C=0.01, score=0.8488235364458565, total=   7.6s\n",
      "[CV] C=0.01 ..........................................................\n",
      "[CV] ................. C=0.01, score=0.8644924445649098, total=   7.7s\n",
      "[CV] C=0.01 ..........................................................\n",
      "[CV] ................. C=0.01, score=0.8900984139764587, total=   7.7s\n",
      "[CV] C=0.01 ..........................................................\n",
      "[CV] ................. C=0.01, score=0.8786167833896021, total=   8.3s\n",
      "[CV] C=0.01 ..........................................................\n",
      "[CV] ................. C=0.01, score=0.8386238936280989, total=  19.2s\n",
      "[CV] C=0.01 ..........................................................\n",
      "[CV] ................. C=0.01, score=0.8086627417998318, total=  30.9s\n",
      "[CV] C=0.1 ...........................................................\n",
      "[CV] .................. C=0.1, score=0.8635110916404476, total=  10.8s\n",
      "[CV] C=0.1 ...........................................................\n",
      "[CV] ................... C=0.1, score=0.864383288860568, total=   8.7s\n",
      "[CV] C=0.1 ...........................................................\n",
      "[CV] .................. C=0.1, score=0.8501707994690668, total=   8.9s\n",
      "[CV] C=0.1 ...........................................................\n",
      "[CV] .................. C=0.1, score=0.8526421103400444, total=   8.6s\n",
      "[CV] C=0.1 ...........................................................\n",
      "[CV] .................. C=0.1, score=0.8633763686876941, total=   9.1s\n",
      "[CV] C=0.1 ...........................................................\n",
      "[CV] .................. C=0.1, score=0.8647555195931107, total=   8.2s\n",
      "[CV] C=0.1 ...........................................................\n",
      "[CV] .................. C=0.1, score=0.8901861056525256, total=   8.6s\n",
      "[CV] C=0.1 ...........................................................\n",
      "[CV] ................... C=0.1, score=0.880458308587008, total=  11.3s\n",
      "[CV] C=0.1 ...........................................................\n",
      "[CV] .................. C=0.1, score=0.8370779766910971, total=   9.2s\n",
      "[CV] C=0.1 ...........................................................\n",
      "[CV] .................. C=0.1, score=0.8188073210781368, total=   9.2s\n",
      "[CV] C=1 .............................................................\n",
      "[CV] ...................... C=1, score=0.85109721613764, total=   8.5s\n",
      "[CV] C=1 .............................................................\n",
      "[CV] .................... C=1, score=0.8713250229001552, total=   8.5s\n",
      "[CV] C=1 .............................................................\n",
      "[CV] .................... C=1, score=0.8633803546729698, total=   8.5s\n",
      "[CV] C=1 .............................................................\n",
      "[CV] .................... C=1, score=0.8531403584995157, total=   8.5s\n",
      "[CV] C=1 .............................................................\n",
      "[CV] ..................... C=1, score=0.857285783186317, total=  10.0s\n",
      "[CV] C=1 .............................................................\n",
      "[CV] .................... C=1, score=0.8780607384436322, total=   9.0s\n",
      "[CV] C=1 .............................................................\n",
      "[CV] .................... C=1, score=0.8993777876984523, total=   9.3s\n",
      "[CV] C=1 .............................................................\n",
      "[CV] .................... C=1, score=0.8970160914225584, total=  10.3s\n",
      "[CV] C=1 .............................................................\n",
      "[CV] .................... C=1, score=0.8399655572910408, total=   8.9s\n",
      "[CV] C=1 .............................................................\n"
     ]
    },
    {
     "name": "stdout",
     "output_type": "stream",
     "text": [
      "[CV] ..................... C=1, score=0.830421722936441, total=   9.0s\n",
      "[CV] C=10 ............................................................\n",
      "[CV] ................... C=10, score=0.8547054840893704, total=   8.6s\n",
      "[CV] C=10 ............................................................\n",
      "[CV] ................... C=10, score=0.8703174160659524, total=   8.7s\n",
      "[CV] C=10 ............................................................\n",
      "[CV] ................... C=10, score=0.8642014676397786, total=   8.7s\n",
      "[CV] C=10 ............................................................\n",
      "[CV] ................... C=10, score=0.8520681284603335, total=   8.6s\n",
      "[CV] C=10 ............................................................\n",
      "[CV] ................... C=10, score=0.8578119332427185, total=   8.5s\n",
      "[CV] C=10 ............................................................\n",
      "[CV] ................... C=10, score=0.8778773831209468, total=   8.5s\n",
      "[CV] C=10 ............................................................\n",
      "[CV] ................... C=10, score=0.9010279856026212, total=   8.8s\n",
      "[CV] C=10 ............................................................\n",
      "[CV] ................... C=10, score=0.8988177567672064, total=   9.6s\n",
      "[CV] C=10 ............................................................\n",
      "[CV] ................... C=10, score=0.8406263767071167, total=   8.3s\n",
      "[CV] C=10 ............................................................\n",
      "[CV] ................... C=10, score=0.8316552525131162, total=   8.4s\n",
      "[CV] C=100 ...........................................................\n",
      "[CV] .................. C=100, score=0.8542315504400813, total=   8.0s\n",
      "[CV] C=100 ...........................................................\n",
      "[CV] .................. C=100, score=0.8703532597873274, total=   8.0s\n",
      "[CV] C=100 ...........................................................\n",
      "[CV] .................. C=100, score=0.8642174115808816, total=   8.5s\n",
      "[CV] C=100 ...........................................................\n",
      "[CV] .................. C=100, score=0.8520960303572639, total=   7.9s\n",
      "[CV] C=100 ...........................................................\n",
      "[CV] .................. C=100, score=0.8576126339789301, total=   8.0s\n",
      "[CV] C=100 ...........................................................\n",
      "[CV] .................. C=100, score=0.8780368225319776, total=   7.9s\n",
      "[CV] C=100 ...........................................................\n",
      "[CV] .................. C=100, score=0.9009004340737966, total=   8.4s\n",
      "[CV] C=100 ...........................................................\n",
      "[CV] ................... C=100, score=0.898738037061691, total=   8.8s\n",
      "[CV] C=100 ...........................................................\n",
      "[CV] .................. C=100, score=0.8405743121470624, total=   8.0s\n",
      "[CV] C=100 ...........................................................\n",
      "[CV] .................. C=100, score=0.8315951780207458, total=   7.9s\n",
      "[CV] C=1000 ..........................................................\n",
      "[CV] ................. C=1000, score=0.8504838902385599, total=   8.7s\n",
      "[CV] C=1000 ..........................................................\n",
      "[CV] ................. C=1000, score=0.8735911426181848, total=   9.2s\n",
      "[CV] C=1000 ..........................................................\n",
      "[CV] ................. C=1000, score=0.8664017315120037, total=   9.2s\n",
      "[CV] C=1000 ..........................................................\n",
      "[CV] ................. C=1000, score=0.8532878399547191, total=   8.5s\n",
      "[CV] C=1000 ..........................................................\n",
      "[CV] ................. C=1000, score=0.8560979595741374, total=   9.0s\n",
      "[CV] C=1000 ..........................................................\n",
      "[CV] ................. C=1000, score=0.8801932405661694, total=   8.3s\n",
      "[CV] C=1000 ..........................................................\n",
      "[CV] ................. C=1000, score=0.8996129608297229, total=   9.7s\n",
      "[CV] C=1000 ..........................................................\n",
      "[CV] ................. C=1000, score=0.8996229257929121, total=   8.7s\n",
      "[CV] C=1000 ..........................................................\n",
      "[CV] ................. C=1000, score=0.8355120349233048, total=   7.9s\n",
      "[CV] C=1000 ..........................................................\n",
      "[CV] ................. C=1000, score=0.8333333333333333, total=   8.1s\n",
      "[CV] C=10000 .........................................................\n",
      "[CV] ................. C=10000, score=0.848237683699072, total=  18.5s\n",
      "[CV] C=10000 .........................................................\n",
      "[CV] ................ C=10000, score=0.8778684933689116, total=  17.9s\n",
      "[CV] C=10000 .........................................................\n",
      "[CV] ................ C=10000, score=0.8602154823640081, total=  17.6s\n",
      "[CV] C=10000 .........................................................\n",
      "[CV] ................ C=10000, score=0.8496167475157346, total=  16.8s\n",
      "[CV] C=10000 .........................................................\n",
      "[CV] ................ C=10000, score=0.8561816652649284, total=  18.2s\n",
      "[CV] C=10000 .........................................................\n",
      "[CV] ................ C=10000, score=0.8724923170133809, total=  17.3s\n",
      "[CV] C=10000 .........................................................\n",
      "[CV] ................ C=10000, score=0.8931995105210082, total=  18.3s\n",
      "[CV] C=10000 .........................................................\n",
      "[CV] ................ C=10000, score=0.9005755762738212, total=  18.0s\n",
      "[CV] C=10000 .........................................................\n",
      "[CV] ................ C=10000, score=0.8238896231326844, total=  17.2s\n",
      "[CV] C=10000 .........................................................\n",
      "[CV] ................ C=10000, score=0.8354840001601986, total=  16.9s\n",
      "[CV] C=100000 ........................................................\n",
      "[CV] ............... C=100000, score=0.8524194511927994, total= 1.5min\n",
      "[CV] C=100000 ........................................................\n",
      "[CV] ............... C=100000, score=0.8837269504958383, total= 1.7min\n",
      "[CV] C=100000 ........................................................\n",
      "[CV] ............... C=100000, score=0.8594262572794057, total= 1.5min\n",
      "[CV] C=100000 ........................................................\n",
      "[CV] ............... C=100000, score=0.8541807006564919, total= 1.4min\n",
      "[CV] C=100000 ........................................................\n",
      "[CV] ............... C=100000, score=0.8640420282287478, total= 4.4min\n",
      "[CV] C=100000 ........................................................\n",
      "[CV] ............... C=100000, score=0.8728032238648911, total= 1.7min\n",
      "[CV] C=100000 ........................................................\n",
      "[CV] ............... C=100000, score=0.8929643373897376, total= 1.7min\n",
      "[CV] C=100000 ........................................................\n",
      "[CV] ............... C=100000, score=0.8967171425268755, total= 2.3min\n",
      "[CV] C=100000 ........................................................\n",
      "[CV] ............... C=100000, score=0.8244743481917578, total= 1.4min\n",
      "[CV] C=100000 ........................................................\n",
      "[CV] ............... C=100000, score=0.8552765429132124, total= 1.4min\n"
     ]
    },
    {
     "name": "stderr",
     "output_type": "stream",
     "text": [
      "[Parallel(n_jobs=1)]: Done 110 out of 110 | elapsed: 43.5min finished\n"
     ]
    },
    {
     "name": "stdout",
     "output_type": "stream",
     "text": [
      "SVC(C=100000, cache_size=200, class_weight=None, coef0=0.0,\n",
      "  decision_function_shape='ovr', degree=3, gamma='auto_deprecated',\n",
      "  kernel='rbf', max_iter=-1, probability=False, random_state=None,\n",
      "  shrinking=True, tol=0.001, verbose=False)\n",
      "0.5392036224046151\n"
     ]
    }
   ],
   "source": [
    "C = [0.00001,0.0001,0.001,0.01,0.1,1,10,100,1000,10000,100000]\n",
    "clf = SVC()\n",
    "param_grid = {'C': C}\n",
    "model_w2v = GridSearchCV(estimator = clf,param_grid=param_grid ,scoring = 'roc_auc',cv = 10, return_train_score = True, verbose = 3)\n",
    "model_w2v.fit(e5_rbf, y_train2)\n",
    "print(model_w2v.best_estimator_)\n",
    "print(model_w2v.score(f5_rbf, y_test2))"
   ]
  },
  {
   "cell_type": "markdown",
   "metadata": {},
   "source": [
    "# TFIDF - AVGW2V"
   ]
  },
  {
   "cell_type": "code",
   "execution_count": 190,
   "metadata": {},
   "outputs": [
    {
     "name": "stdout",
     "output_type": "stream",
     "text": [
      "Fitting 3 folds for each of 11 candidates, totalling 33 fits\n"
     ]
    },
    {
     "name": "stderr",
     "output_type": "stream",
     "text": [
      "[Parallel(n_jobs=1)]: Using backend SequentialBackend with 1 concurrent workers.\n"
     ]
    },
    {
     "name": "stdout",
     "output_type": "stream",
     "text": [
      "[CV] C=1e-05 .........................................................\n",
      "[CV] ................ C=1e-05, score=0.7526617580988499, total=   2.4s\n"
     ]
    },
    {
     "name": "stderr",
     "output_type": "stream",
     "text": [
      "[Parallel(n_jobs=1)]: Done   1 out of   1 | elapsed:    3.8s remaining:    0.0s\n"
     ]
    },
    {
     "name": "stdout",
     "output_type": "stream",
     "text": [
      "[CV] C=1e-05 .........................................................\n",
      "[CV] ................ C=1e-05, score=0.7900130333743378, total=   2.3s\n"
     ]
    },
    {
     "name": "stderr",
     "output_type": "stream",
     "text": [
      "[Parallel(n_jobs=1)]: Done   2 out of   2 | elapsed:    7.5s remaining:    0.0s\n"
     ]
    },
    {
     "name": "stdout",
     "output_type": "stream",
     "text": [
      "[CV] C=1e-05 .........................................................\n",
      "[CV] ................ C=1e-05, score=0.7627116268639982, total=   2.3s\n",
      "[CV] C=0.0001 ........................................................\n",
      "[CV] ............... C=0.0001, score=0.7526617580988499, total=   2.3s\n",
      "[CV] C=0.0001 ........................................................\n",
      "[CV] ............... C=0.0001, score=0.7900130333743378, total=   2.3s\n",
      "[CV] C=0.0001 ........................................................\n",
      "[CV] ............... C=0.0001, score=0.7627116268639982, total=   2.3s\n",
      "[CV] C=0.001 .........................................................\n",
      "[CV] ................ C=0.001, score=0.7565183019867284, total=   2.3s\n",
      "[CV] C=0.001 .........................................................\n",
      "[CV] ................ C=0.001, score=0.7927453051862208, total=   2.3s\n",
      "[CV] C=0.001 .........................................................\n",
      "[CV] ................ C=0.001, score=0.7657428250263769, total=   2.3s\n",
      "[CV] C=0.01 ..........................................................\n",
      "[CV] ................. C=0.01, score=0.7956266785134489, total=   2.4s\n",
      "[CV] C=0.01 ..........................................................\n",
      "[CV] ................. C=0.01, score=0.8118159452138951, total=   2.4s\n",
      "[CV] C=0.01 ..........................................................\n",
      "[CV] ................. C=0.01, score=0.7973301738437965, total=   2.4s\n",
      "[CV] C=0.1 ...........................................................\n",
      "[CV] .................. C=0.1, score=0.7984587101839745, total=   2.5s\n",
      "[CV] C=0.1 ...........................................................\n",
      "[CV] .................. C=0.1, score=0.7998939244092996, total=   2.5s\n",
      "[CV] C=0.1 ...........................................................\n",
      "[CV] .................. C=0.1, score=0.7809203774138185, total=   2.5s\n",
      "[CV] C=1 .............................................................\n",
      "[CV] .................... C=1, score=0.7661261093798668, total=   2.8s\n",
      "[CV] C=1 .............................................................\n",
      "[CV] .................... C=1, score=0.7697126198374273, total=   2.8s\n",
      "[CV] C=1 .............................................................\n",
      "[CV] .................... C=1, score=0.7872242633847074, total=   2.9s\n",
      "[CV] C=10 ............................................................\n",
      "[CV] ................... C=10, score=0.8142907432898936, total=   3.6s\n",
      "[CV] C=10 ............................................................\n",
      "[CV] ................... C=10, score=0.8124442887839776, total=   3.6s\n",
      "[CV] C=10 ............................................................\n",
      "[CV] ................... C=10, score=0.8160337625524305, total=   3.6s\n",
      "[CV] C=100 ...........................................................\n",
      "[CV] .................. C=100, score=0.8215265626771815, total=   4.0s\n",
      "[CV] C=100 ...........................................................\n",
      "[CV] .................. C=100, score=0.8211879892000982, total=   4.2s\n",
      "[CV] C=100 ...........................................................\n",
      "[CV] .................. C=100, score=0.8157901167487444, total=   4.0s\n",
      "[CV] C=1000 ..........................................................\n",
      "[CV] ................. C=1000, score=0.8211730969909843, total=   4.4s\n",
      "[CV] C=1000 ..........................................................\n",
      "[CV] ................. C=1000, score=0.8222989838848356, total=   4.6s\n",
      "[CV] C=1000 ..........................................................\n",
      "[CV] ................. C=1000, score=0.8160466994977591, total=   4.3s\n",
      "[CV] C=10000 .........................................................\n",
      "[CV] ................ C=10000, score=0.8213058709035659, total=   8.7s\n",
      "[CV] C=10000 .........................................................\n",
      "[CV] ................ C=10000, score=0.8237803101311519, total=   9.3s\n",
      "[CV] C=10000 .........................................................\n",
      "[CV] ................ C=10000, score=0.8201035099370115, total=   9.6s\n",
      "[CV] C=100000 ........................................................\n",
      "[CV] ............... C=100000, score=0.8226289450000216, total=  43.5s\n",
      "[CV] C=100000 ........................................................\n",
      "[CV] ............... C=100000, score=0.8317341851916179, total=  41.4s\n",
      "[CV] C=100000 ........................................................\n",
      "[CV] ............... C=100000, score=0.8308724388441846, total=  47.1s\n"
     ]
    },
    {
     "name": "stderr",
     "output_type": "stream",
     "text": [
      "[Parallel(n_jobs=1)]: Done  33 out of  33 | elapsed:  4.8min finished\n"
     ]
    },
    {
     "name": "stdout",
     "output_type": "stream",
     "text": [
      "SVC(C=100000, cache_size=200, class_weight=None, coef0=0.0,\n",
      "  decision_function_shape='ovr', degree=3, gamma='auto_deprecated',\n",
      "  kernel='rbf', max_iter=-1, probability=False, random_state=None,\n",
      "  shrinking=True, tol=0.001, verbose=False)\n",
      "0.5555977603868423\n"
     ]
    }
   ],
   "source": [
    "C = [0.00001,0.0001,0.001,0.01,0.1,1,10,100,1000,10000,100000]\n",
    "clf = SVC()\n",
    "param_grid = {'C': C}\n",
    "model_w2vtfidf = GridSearchCV(estimator = clf,param_grid=param_grid ,scoring = 'roc_auc',cv = 3, return_train_score = True, verbose = 3)\n",
    "model_w2vtfidf.fit(g3_rbf, y_train2)\n",
    "print(model_w2vtfidf.best_estimator_)\n",
    "print(model_w2vtfidf.score(h3_rbf, y_test2))"
   ]
  },
  {
   "cell_type": "markdown",
   "metadata": {},
   "source": [
    "# Observations:\n",
    "\n",
    "1) We observe that the optimal c is 100 for both BOW and  TFIDF vectorizers.  \n",
    "\n",
    "2) However Optimal C is 100000 for W2V and 100000 for tfidf- avgw2v.\n",
    "\n",
    "3) TFIDF performed slightly better when compared to BOW. However TFIDF AVGW2V efficiency was the least. \n",
    "\n",
    "3) Now let us check whether these corresponding optimal hyperparameters are the actual ones by plotting grahs."
   ]
  },
  {
   "cell_type": "markdown",
   "metadata": {},
   "source": [
    "# BOW "
   ]
  },
  {
   "cell_type": "code",
   "execution_count": 191,
   "metadata": {},
   "outputs": [],
   "source": [
    "alpha = [0.00001,0.0001,0.001,0.01,0.1,1,10,100,1000,10000,100000]"
   ]
  },
  {
   "cell_type": "code",
   "execution_count": 192,
   "metadata": {},
   "outputs": [
    {
     "data": {
      "image/png": "[encoded data removed]",
      "text/plain": [
       "<Figure size 432x288 with 1 Axes>"
      ]
     },
     "metadata": {
      "needs_background": "light"
     },
     "output_type": "display_data"
    },
    {
     "name": "stdout",
     "output_type": "stream",
     "text": [
      "\n",
      "\n",
      " C Values :\n",
      " [1e-05, 0.0001, 0.001, 0.01, 0.1, 1, 10, 100, 1000, 10000, 100000]\n",
      "\n",
      " Train AUC for each c value is :\n",
      "  [0.83006 0.83006 0.83048 0.85409 0.91481 0.91677 0.91677 0.91903 0.92857\n",
      " 0.93465 0.97605]\n",
      "\n",
      " CV AUC for each c value is :\n",
      "  [0.8104  0.8104  0.81064 0.82941 0.88255 0.88406 0.88407 0.88418 0.88234\n",
      " 0.87261 0.87216]\n"
     ]
    }
   ],
   "source": [
    "train_auc1= model_bow.cv_results_['mean_train_score']\n",
    "cv_auc1= model_bow.cv_results_['mean_test_score']\n",
    "plt.plot(alpha,train_auc1)\n",
    "plt.plot(alpha,cv_auc1)\n",
    "plt.xlabel('C',size=10)\n",
    "plt.ylabel('AUC',size=10)\n",
    "plt.title('AUC VS HYPERPARAMETER C RBF KERNEL - BOW ',size=16)\n",
    "plt.xscale('log')\n",
    "plt.grid()\n",
    "plt.show()\n",
    "print(\"\\n\\n C Values :\\n\", alpha)\n",
    "print(\"\\n Train AUC for each c value is :\\n \", np.round(train_auc1,5))\n",
    "print(\"\\n CV AUC for each c value is :\\n \", np.round(cv_auc1,5))"
   ]
  },
  {
   "cell_type": "code",
   "execution_count": 193,
   "metadata": {},
   "outputs": [
    {
     "data": {
      "text/plain": [
       "0.8841795644455238"
      ]
     },
     "execution_count": 193,
     "metadata": {},
     "output_type": "execute_result"
    }
   ],
   "source": [
    "max(cv_auc1)"
   ]
  },
  {
   "cell_type": "code",
   "execution_count": null,
   "metadata": {},
   "outputs": [],
   "source": [
    "# We found that the optimal C is 100 "
   ]
  },
  {
   "cell_type": "code",
   "execution_count": null,
   "metadata": {},
   "outputs": [],
   "source": [
    "# Running the model with optimal C"
   ]
  },
  {
   "cell_type": "code",
   "execution_count": 194,
   "metadata": {},
   "outputs": [],
   "source": [
    "om_bow = SVC(C=100, probability = True)\n",
    "om_bow.fit(a3_rbf, y_train2)\n",
    "ompredictions_bow  = om_bow.predict(b3_rbf)\n",
    "probs = om_bow.predict_proba(b3_rbf)\n",
    "probs1 = om_bow.predict_proba(a3_rbf)\n",
    "probs = probs[:, 1]\n",
    "probs1 = probs1[:, -1]"
   ]
  },
  {
   "cell_type": "markdown",
   "metadata": {},
   "source": [
    "# PERFORMANCE METRICS  - RBF KERNEL - BOW "
   ]
  },
  {
   "cell_type": "code",
   "execution_count": 196,
   "metadata": {},
   "outputs": [
    {
     "name": "stdout",
     "output_type": "stream",
     "text": [
      "\n",
      "The Test Precision for OPTIMAL C for RBF KERNEL (BOW)   is 0.883881\n",
      "\n",
      "The Test Recall for  OPTIMAL C for RBF KERNEL (BOW)  is 0.986391\n",
      "\n",
      "The Test F1-Score for  OPTIMAL C for RBF KERNEL (BOW)  is 0.932327\n"
     ]
    }
   ],
   "source": [
    "precision_bow = precision_score(y_test2, ompredictions_bow, pos_label = 1) \n",
    "recall_bow = recall_score(y_test2, ompredictions_bow, pos_label = 1) \n",
    "f1score_bow = f1_score(y_test2, ompredictions_bow, pos_label = 1) \n",
    "print('\\nThe Test Precision for OPTIMAL C for RBF KERNEL (BOW)   is %f' % (precision_bow))\n",
    "print('\\nThe Test Recall for  OPTIMAL C for RBF KERNEL (BOW)  is %f' % (recall_bow))\n",
    "print('\\nThe Test F1-Score for  OPTIMAL C for RBF KERNEL (BOW)  is %f' %  (f1score_bow))"
   ]
  },
  {
   "cell_type": "code",
   "execution_count": 197,
   "metadata": {},
   "outputs": [
    {
     "data": {
      "image/png": "[encoded data removed]",
      "text/plain": [
       "<Figure size 720x504 with 2 Axes>"
      ]
     },
     "metadata": {
      "needs_background": "light"
     },
     "output_type": "display_data"
    }
   ],
   "source": [
    "class_names = [ 0,1]\n",
    "df_heatmap = pd.DataFrame(confusion_matrix(y_test2, ompredictions_bow), index=class_names, columns=class_names )\n",
    "fig = plt.figure(figsize=(10,7))\n",
    "heatmap = sns.heatmap(df_heatmap, annot=True, fmt=\"d\")\n",
    "\n",
    "# Setting tick labels for heatmap\n",
    "heatmap.yaxis.set_ticklabels(heatmap.yaxis.get_ticklabels(), rotation=0, ha='right', fontsize=10)#\n",
    "heatmap.xaxis.set_ticklabels(heatmap.xaxis.get_ticklabels(), rotation=0, ha='right', fontsize=10)\n",
    "plt.ylabel('Predicted label',size=18)\n",
    "plt.xlabel('Actual label',size=18)\n",
    "plt.title(\"Confusion Matrix (RBF KERNEL - BOW ) \\n\",size=20)\n",
    "plt.show()"
   ]
  },
  {
   "cell_type": "code",
   "execution_count": 198,
   "metadata": {},
   "outputs": [
    {
     "name": "stdout",
     "output_type": "stream",
     "text": [
      "TPR of the RBF KERNEL  (BOW)   is :  0.883881\n",
      "FPR of the RBF KERNEL (BOW)   is :  0.201754\n",
      "TNR of the RBF KERNEL (BOW)   is :  0.798246\n",
      "FNR of the RBF KERNEL (BOW)  is :  0.116119\n"
     ]
    }
   ],
   "source": [
    "TrueNeg,FalseNeg,FalsePos, TruePos = confusion_matrix(y_test2, ompredictions_bow).ravel()\n",
    "TPR = TruePos/(FalseNeg + TruePos)\n",
    "FPR = FalsePos/(TrueNeg + FalsePos)\n",
    "TNR = TrueNeg/(TrueNeg + FalsePos)\n",
    "FNR = FalseNeg/(FalseNeg + TruePos)\n",
    "print(\"TPR of the RBF KERNEL  (BOW)   is :  %f\" % (TPR))\n",
    "print(\"FPR of the RBF KERNEL (BOW)   is :  %f\" % (FPR))\n",
    "print(\"TNR of the RBF KERNEL (BOW)   is :  %f\" % (TNR))\n",
    "print(\"FNR of the RBF KERNEL (BOW)  is :  %f\" % (FNR))"
   ]
  },
  {
   "cell_type": "code",
   "execution_count": 199,
   "metadata": {
    "colab": {},
    "colab_type": "code",
    "id": "OWcnRjAg-jL2"
   },
   "outputs": [
    {
     "data": {
      "image/png": "[encoded data removed]",
      "text/plain": [
       "<Figure size 432x288 with 1 Axes>"
      ]
     },
     "metadata": {
      "needs_background": "light"
     },
     "output_type": "display_data"
    }
   ],
   "source": [
    "import matplotlib.pyplot as plt\n",
    "from sklearn.metrics import roc_curve, auc\n",
    "fpr = dict()\n",
    "tpr = dict()\n",
    "roc_auc = dict()\n",
    "\n",
    "fpr1 = dict()\n",
    "tpr1 = dict()\n",
    "roc_auc1 = dict()\n",
    "\n",
    "#for i in range(26331):\n",
    "for i in range(4):\n",
    "    fpr[i], tpr[i], _ = roc_curve(y_test2,probs)\n",
    "    roc_auc[i] = auc(fpr[i], tpr[i])\n",
    "    \n",
    "#for i in range(61441):\n",
    "for i in range(4):    \n",
    "    fpr1[i], tpr1[i], _ = roc_curve(y_train2,probs1)\n",
    "    roc_auc1[i] = auc(fpr1[i], tpr1[i])   \n",
    "\n",
    "#print(roc_auc_score(y_test1,ompredictions_bow))\n",
    "plt.figure()\n",
    "#plt.plot(fpr[1], tpr[1])\n",
    "lw = 2\n",
    "plt.plot(fpr[0], tpr[0], color='darkorange',lw=lw, label=' Test ROC curve (area = %0.3f)' % roc_auc[0])\n",
    "plt.plot(fpr1[0], tpr1[0], color='blue',lw=lw, label='Train ROC curve (area = %0.3f)' % roc_auc1[0])\n",
    "plt.xlim([0.0, 1.0])\n",
    "plt.ylim([0.0, 1.05])\n",
    "plt.xlabel('False Positive Rate')\n",
    "plt.ylabel('True Positive Rate')\n",
    "plt.legend(loc=\"lower right\")\n",
    "plt.title('Receiver operating characteristic')\n",
    "plt.show()    "
   ]
  },
  {
   "cell_type": "markdown",
   "metadata": {
    "colab": {},
    "colab_type": "code",
    "id": "Eqx6cPQe-AJ1"
   },
   "source": [
    "# Observations :\n",
    "1) We found that the train score is 0.92 and the test score is 0.89 . \n",
    "\n",
    "2) This implies that the model is reasonably good."
   ]
  },
  {
   "cell_type": "markdown",
   "metadata": {},
   "source": [
    "# TFIDF "
   ]
  },
  {
   "cell_type": "code",
   "execution_count": 200,
   "metadata": {},
   "outputs": [
    {
     "data": {
      "image/png": "[encoded data removed]",
      "text/plain": [
       "<Figure size 432x288 with 1 Axes>"
      ]
     },
     "metadata": {
      "needs_background": "light"
     },
     "output_type": "display_data"
    },
    {
     "name": "stdout",
     "output_type": "stream",
     "text": [
      "\n",
      "\n",
      " C Values :\n",
      " [1e-05, 0.0001, 0.001, 0.01, 0.1, 1, 10, 100, 1000, 10000, 100000]\n",
      "\n",
      " Train AUC for each c value is :\n",
      "  [0.85324 0.85324 0.85324 0.87326 0.91452 0.91721 0.91729 0.92072 0.92789\n",
      " 0.93426 0.98129]\n",
      "\n",
      " CV AUC for each c value is :\n",
      "  [0.83549 0.83549 0.83549 0.85197 0.87793 0.88117 0.88157 0.88224 0.87996\n",
      " 0.87034 0.8732 ]\n"
     ]
    }
   ],
   "source": [
    "train_auc1= model_tfidf.cv_results_['mean_train_score']\n",
    "cv_auc1= model_tfidf.cv_results_['mean_test_score']\n",
    "plt.plot(alpha,train_auc1)\n",
    "plt.plot(alpha,cv_auc1)\n",
    "plt.xlabel('C',size=10)\n",
    "plt.ylabel('AUC',size=10)\n",
    "plt.title('AUC VS HYPERPARAMETER C RBF KERNEL - TFIDF ',size=16)\n",
    "plt.xscale('log')\n",
    "plt.grid()\n",
    "plt.show()\n",
    "print(\"\\n\\n C Values :\\n\", alpha)\n",
    "print(\"\\n Train AUC for each c value is :\\n \", np.round(train_auc1,5))\n",
    "print(\"\\n CV AUC for each c value is :\\n \", np.round(cv_auc1,5))"
   ]
  },
  {
   "cell_type": "code",
   "execution_count": 201,
   "metadata": {},
   "outputs": [
    {
     "data": {
      "text/plain": [
       "0.8822377980878033"
      ]
     },
     "execution_count": 201,
     "metadata": {},
     "output_type": "execute_result"
    }
   ],
   "source": [
    "max(cv_auc1)"
   ]
  },
  {
   "cell_type": "code",
   "execution_count": 202,
   "metadata": {},
   "outputs": [],
   "source": [
    "om_tfidf = SVC(C=100, probability = True)\n",
    "om_tfidf.fit(c3_rbf, y_train2)\n",
    "ompredictions_tfidf  = om_tfidf.predict(d3_rbf)\n",
    "probs2 = om_tfidf.predict_proba(c3_rbf)\n",
    "probs3 = om_tfidf.predict_proba(d3_rbf)\n",
    "probs2= probs2[:, 1]\n",
    "probs3 = probs3[:, 1]"
   ]
  },
  {
   "cell_type": "code",
   "execution_count": 203,
   "metadata": {},
   "outputs": [
    {
     "name": "stdout",
     "output_type": "stream",
     "text": [
      "\n",
      "The Test Precision for optimal C for RBF KERNEL (TFIDF)   is 0.883881\n",
      "\n",
      "The Test Recall for optimal C for RBF KERNEL (TFIDF)  is 0.986391\n",
      "\n",
      "The Test F1-Score for optimal C for RBF KERNEL (TFIDF)  is 0.932327\n"
     ]
    }
   ],
   "source": [
    "precision_tfidf = precision_score(y_test2, ompredictions_tfidf, pos_label = 1) \n",
    "recall_tfidf = recall_score(y_test2, ompredictions_tfidf, pos_label = 1) \n",
    "f1score_tfidf = f1_score(y_test2, ompredictions_tfidf, pos_label = 1) \n",
    "print('\\nThe Test Precision for optimal C for RBF KERNEL (TFIDF)   is %f' % (precision_bow))\n",
    "print('\\nThe Test Recall for optimal C for RBF KERNEL (TFIDF)  is %f' % (recall_bow))\n",
    "print('\\nThe Test F1-Score for optimal C for RBF KERNEL (TFIDF)  is %f' %  (f1score_bow))"
   ]
  },
  {
   "cell_type": "code",
   "execution_count": 204,
   "metadata": {},
   "outputs": [
    {
     "data": {
      "image/png": "[encoded data removed]",
      "text/plain": [
       "<Figure size 720x504 with 2 Axes>"
      ]
     },
     "metadata": {
      "needs_background": "light"
     },
     "output_type": "display_data"
    }
   ],
   "source": [
    "# Code for drawing seaborn heatmaps\n",
    "class_names = [ 0,1]\n",
    "df_heatmap = pd.DataFrame(confusion_matrix(y_test2, ompredictions_tfidf), index=class_names, columns=class_names )\n",
    "fig = plt.figure(figsize=(10,7))\n",
    "heatmap = sns.heatmap(df_heatmap, annot=True, fmt=\"d\")\n",
    "\n",
    "# Setting tick labels for heatmap\n",
    "heatmap.yaxis.set_ticklabels(heatmap.yaxis.get_ticklabels(), rotation=0, ha='right', fontsize=10)#\n",
    "heatmap.xaxis.set_ticklabels(heatmap.xaxis.get_ticklabels(), rotation=0, ha='right', fontsize=10)\n",
    "plt.ylabel('Predicted label',size=18)\n",
    "plt.xlabel('Actual label',size=18)\n",
    "plt.title(\"Confusion Matrix\\n\",size=20)\n",
    "plt.show()\n"
   ]
  },
  {
   "cell_type": "code",
   "execution_count": 205,
   "metadata": {},
   "outputs": [
    {
     "name": "stdout",
     "output_type": "stream",
     "text": [
      "TPR of the SVM - RBF KERNEL (TFIDF) for OPTIMAL C   is :  0.886404\n",
      "FPR of the SVM - RBF KERNEL (TFIDF) for OPTIMAL C:  0.207650\n",
      "TNR of the SVM - RBF KERNEL (TFIDF) for OPTIMAL C :  0.792350\n",
      "FNR of the SVM - RBF KERNEL (TFIDF) for OPTIMAL C :  0.113596\n"
     ]
    }
   ],
   "source": [
    "TrueNeg,FalseNeg,FalsePos, TruePos = confusion_matrix(y_test2, ompredictions_tfidf).ravel()\n",
    "TPR = TruePos/(FalseNeg + TruePos)\n",
    "FPR = FalsePos/(TrueNeg + FalsePos)\n",
    "TNR = TrueNeg/(TrueNeg + FalsePos)\n",
    "FNR = FalseNeg/(FalseNeg + TruePos)\n",
    "print(\"TPR of the SVM - RBF KERNEL (TFIDF) for OPTIMAL C   is :  %f\" % (TPR))\n",
    "print(\"FPR of the SVM - RBF KERNEL (TFIDF) for OPTIMAL C:  %f\" % (FPR))\n",
    "print(\"TNR of the SVM - RBF KERNEL (TFIDF) for OPTIMAL C :  %f\" % (TNR))\n",
    "print(\"FNR of the SVM - RBF KERNEL (TFIDF) for OPTIMAL C :  %f\" % (FNR))"
   ]
  },
  {
   "cell_type": "code",
   "execution_count": 206,
   "metadata": {},
   "outputs": [
    {
     "data": {
      "image/png": "[encoded data removed]",
      "text/plain": [
       "<Figure size 432x288 with 1 Axes>"
      ]
     },
     "metadata": {
      "needs_background": "light"
     },
     "output_type": "display_data"
    }
   ],
   "source": [
    "import matplotlib.pyplot as plt\n",
    "from sklearn.metrics import roc_curve, auc\n",
    "fpr = dict()\n",
    "tpr = dict()\n",
    "roc_auc = dict()\n",
    "\n",
    "fpr1 = dict()\n",
    "tpr1 = dict()\n",
    "roc_auc1 = dict()\n",
    "\n",
    "#for i in range(26331):\n",
    "for i in range(4):\n",
    "    fpr[i], tpr[i], _ = roc_curve(y_test2,probs3)\n",
    "    roc_auc[i] = auc(fpr[i], tpr[i])\n",
    "    \n",
    "#for i in range(61441):\n",
    "for i in range(4):    \n",
    "    fpr1[i], tpr1[i], _ = roc_curve(y_train2,probs2)\n",
    "    roc_auc1[i] = auc(fpr1[i], tpr1[i])   \n",
    "\n",
    "#print(roc_auc_score(y_test1,ompredictions_bow))\n",
    "plt.figure()\n",
    "#plt.plot(fpr[1], tpr[1])\n",
    "lw = 2\n",
    "plt.plot(fpr[0], tpr[0], color='darkorange',lw=lw, label=' Test ROC curve (area = %0.5f)' % roc_auc[0])\n",
    "plt.plot(fpr1[0], tpr1[0], color='blue',lw=lw, label='Train ROC curve (area = %0.5f)' % roc_auc1[0])\n",
    "plt.xlim([0.0, 1.0])\n",
    "plt.ylim([0.0, 1.05])\n",
    "plt.xlabel('False Positive Rate')\n",
    "plt.ylabel('True Positive Rate')\n",
    "plt.legend(loc=\"lower right\")\n",
    "plt.title('Receiver operating characteristic')\n",
    "plt.show()   "
   ]
  },
  {
   "cell_type": "markdown",
   "metadata": {},
   "source": [
    "# Observations :\n",
    "1) We found that train auc is 0.91713 and test auc is 0.89350. This also imples that model is reasonably good.  "
   ]
  },
  {
   "cell_type": "markdown",
   "metadata": {},
   "source": [
    "# W2V AVG"
   ]
  },
  {
   "cell_type": "code",
   "execution_count": 207,
   "metadata": {},
   "outputs": [
    {
     "data": {
      "image/png": "[encoded data removed]",
      "text/plain": [
       "<Figure size 432x288 with 1 Axes>"
      ]
     },
     "metadata": {
      "needs_background": "light"
     },
     "output_type": "display_data"
    },
    {
     "name": "stdout",
     "output_type": "stream",
     "text": [
      "\n",
      "\n",
      " C Values :\n",
      " [1e-05, 0.0001, 0.001, 0.01, 0.1, 1, 10, 100, 1000, 10000, 100000]\n",
      "\n",
      " Train AUC for each c value is :\n",
      "  [0.82358 0.82356 0.82569 0.85645 0.86324 0.87227 0.8735  0.87353 0.87655\n",
      " 0.8821  0.89583]\n",
      "\n",
      " CV AUC for each c value is :\n",
      "  [0.82057 0.82052 0.82281 0.85199 0.85854 0.86411 0.86491 0.86484 0.86482\n",
      " 0.86178 0.86561]\n"
     ]
    }
   ],
   "source": [
    "train_auc_w2v1= model_w2v.cv_results_['mean_train_score']\n",
    "cv_auc_w2v1= model_w2v.cv_results_['mean_test_score']\n",
    "plt.plot(alpha,train_auc_w2v1)\n",
    "plt.plot(alpha,cv_auc_w2v1)\n",
    "plt.xlabel('C',size=10)\n",
    "plt.ylabel('AUC',size=10)\n",
    "plt.title('AUC VS HYPERPARAMETER C RBF KERNEL - W2V ',size=16)\n",
    "plt.xscale('log')\n",
    "plt.grid()\n",
    "plt.show()\n",
    "print(\"\\n\\n C Values :\\n\", alpha)\n",
    "print(\"\\n Train AUC for each c value is :\\n \", np.round(train_auc_w2v1,5))\n",
    "print(\"\\n CV AUC for each c value is :\\n \", np.round(cv_auc_w2v1,5))"
   ]
  },
  {
   "cell_type": "code",
   "execution_count": 208,
   "metadata": {},
   "outputs": [
    {
     "data": {
      "text/plain": [
       "0.8656071265247317"
      ]
     },
     "execution_count": 208,
     "metadata": {},
     "output_type": "execute_result"
    }
   ],
   "source": [
    "max(cv_auc_w2v1)"
   ]
  },
  {
   "cell_type": "code",
   "execution_count": 209,
   "metadata": {},
   "outputs": [],
   "source": [
    "om_w2v = SVC(C=100000, probability = True)\n",
    "om_w2v.fit(e5_rbf, y_train2)\n",
    "ompredictions_w2v  = om_w2v.predict(f5_rbf)\n",
    "probs4 = om_w2v.predict_proba(e5_rbf)\n",
    "probs5 = om_w2v.predict_proba(f5_rbf)\n",
    "probs4= probs4[:, 1]\n",
    "probs5 = probs5[:, 1]"
   ]
  },
  {
   "cell_type": "code",
   "execution_count": 210,
   "metadata": {},
   "outputs": [
    {
     "name": "stdout",
     "output_type": "stream",
     "text": [
      "\n",
      "The Test Precision for optimal c for RBF - KERNEL - SVM (W2V) is 0.893891\n",
      "\n",
      "The Test Recall for optimal c for RBF - KERNEL - SVM (W2V) is  0.054832\n",
      "\n",
      "The Test F1-Score for optimal c for RBF - KERNEL - SVM (W2V) is  0.103327\n"
     ]
    },
    {
     "data": {
      "text/plain": [
       "Text(0.5, 1.0, 'Confusion Matrix\\n')"
      ]
     },
     "execution_count": 210,
     "metadata": {},
     "output_type": "execute_result"
    },
    {
     "data": {
      "image/png": "[encoded data removed]",
      "text/plain": [
       "<Figure size 720x504 with 2 Axes>"
      ]
     },
     "metadata": {
      "needs_background": "light"
     },
     "output_type": "display_data"
    }
   ],
   "source": [
    "precision_w2v = precision_score(y_test2, ompredictions_w2v, pos_label = 1) \n",
    "recall_w2v = recall_score(y_test2, ompredictions_w2v, pos_label = 1) \n",
    "f1score_w2v = f1_score(y_test2, ompredictions_w2v, pos_label = 1) \n",
    "\n",
    "print('\\nThe Test Precision for optimal c for RBF - KERNEL - SVM (W2V) is %f' % (precision_w2v))\n",
    "print('\\nThe Test Recall for optimal c for RBF - KERNEL - SVM (W2V) is  %f' % (recall_w2v))\n",
    "print('\\nThe Test F1-Score for optimal c for RBF - KERNEL - SVM (W2V) is  %f' % (f1score_w2v))\n",
    "\n",
    "class_names = [ 0,1]\n",
    "df_heatmap = pd.DataFrame(confusion_matrix(y_test2, ompredictions_w2v), index=class_names, columns=class_names )\n",
    "fig = plt.figure(figsize=(10,7))\n",
    "heatmap = sns.heatmap(df_heatmap, annot=True, fmt=\"d\")\n",
    "\n",
    "# Setting tick labels for heatmap\n",
    "heatmap.yaxis.set_ticklabels(heatmap.yaxis.get_ticklabels(), rotation=0, ha='right', fontsize=10)#\n",
    "heatmap.xaxis.set_ticklabels(heatmap.xaxis.get_ticklabels(), rotation=0, ha='right', fontsize=10)\n",
    "plt.ylabel('Predicted label',size=18)\n",
    "plt.xlabel('Actual label',size=18)\n",
    "plt.title(\"Confusion Matrix\\n\",size=20)"
   ]
  },
  {
   "cell_type": "code",
   "execution_count": 211,
   "metadata": {},
   "outputs": [
    {
     "name": "stdout",
     "output_type": "stream",
     "text": [
      "TPR of the SVM - RBF KERNEL (W2V) for OPTIMAL C   is :  0.893891\n",
      "FPR of the SVM - RBF KERNEL (W2V) for OPTIMAL C:  0.842327\n",
      "TNR of the SVM - RBF KERNEL (W2V) for OPTIMAL C :  0.157673\n",
      "FNR of the SVM - RBF KERNEL (W2V) for OPTIMAL C :  0.106109\n"
     ]
    }
   ],
   "source": [
    "TrueNeg,FalseNeg,FalsePos, TruePos = confusion_matrix(y_test2, ompredictions_w2v).ravel()\n",
    "TPR = TruePos/(FalseNeg + TruePos)\n",
    "FPR = FalsePos/(TrueNeg + FalsePos)\n",
    "TNR = TrueNeg/(TrueNeg + FalsePos)\n",
    "FNR = FalseNeg/(FalseNeg + TruePos)\n",
    "print(\"TPR of the SVM - RBF KERNEL (W2V) for OPTIMAL C   is :  %f\" % (TPR))\n",
    "print(\"FPR of the SVM - RBF KERNEL (W2V) for OPTIMAL C:  %f\" % (FPR))\n",
    "print(\"TNR of the SVM - RBF KERNEL (W2V) for OPTIMAL C :  %f\" % (TNR))\n",
    "print(\"FNR of the SVM - RBF KERNEL (W2V) for OPTIMAL C :  %f\" % (FNR))"
   ]
  },
  {
   "cell_type": "code",
   "execution_count": 212,
   "metadata": {},
   "outputs": [
    {
     "data": {
      "image/png": "[encoded data removed]",
      "text/plain": [
       "<Figure size 432x288 with 1 Axes>"
      ]
     },
     "metadata": {
      "needs_background": "light"
     },
     "output_type": "display_data"
    }
   ],
   "source": [
    "import matplotlib.pyplot as plt\n",
    "from sklearn.metrics import roc_curve, auc\n",
    "fpr = dict()\n",
    "tpr = dict()\n",
    "roc_auc = dict()\n",
    "\n",
    "fpr1 = dict()\n",
    "tpr1 = dict()\n",
    "roc_auc1 = dict()\n",
    "\n",
    "#for i in range(26331):\n",
    "for i in range(4):\n",
    "    fpr[i], tpr[i], _ = roc_curve(y_test2,probs5)\n",
    "    roc_auc[i] = auc(fpr[i], tpr[i])\n",
    "    \n",
    "#for i in range(61441):\n",
    "for i in range(4):    \n",
    "    fpr1[i], tpr1[i], _ = roc_curve(y_train2,probs4)\n",
    "    roc_auc1[i] = auc(fpr1[i], tpr1[i])   \n",
    "\n",
    "#print(roc_auc_score(y_test1,ompredictions_bow))\n",
    "plt.figure()\n",
    "#plt.plot(fpr[1], tpr[1])\n",
    "lw = 2\n",
    "plt.plot(fpr[0], tpr[0], color='darkorange',lw=lw, label=' Test ROC curve (area = %0.5f)' % roc_auc[0])\n",
    "plt.plot(fpr1[0], tpr1[0], color='blue',lw=lw, label='Train ROC curve (area = %0.5f)' % roc_auc1[0])\n",
    "plt.xlim([0.0, 1.0])\n",
    "plt.ylim([0.0, 1.05])\n",
    "plt.xlabel('False Positive Rate')\n",
    "plt.ylabel('True Positive Rate')\n",
    "plt.legend(loc=\"lower right\")\n",
    "plt.title('Receiver operating characteristic')\n",
    "plt.show()  "
   ]
  },
  {
   "cell_type": "markdown",
   "metadata": {},
   "source": [
    "# Observations :\n",
    "\n",
    "1) Even though the training score is high (0.8947) , the test score has been very less (0.5392)\n",
    "\n",
    "2) This implies that the model has not been that efficient"
   ]
  },
  {
   "cell_type": "markdown",
   "metadata": {},
   "source": [
    "# TFIDF AVG W2V "
   ]
  },
  {
   "cell_type": "code",
   "execution_count": 213,
   "metadata": {},
   "outputs": [
    {
     "data": {
      "image/png": "[encoded data removed]",
      "text/plain": [
       "<Figure size 432x288 with 1 Axes>"
      ]
     },
     "metadata": {
      "needs_background": "light"
     },
     "output_type": "display_data"
    },
    {
     "name": "stdout",
     "output_type": "stream",
     "text": [
      "\n",
      "\n",
      " C Values :\n",
      " [1e-05, 0.0001, 0.001, 0.01, 0.1, 1, 10, 100, 1000, 10000, 100000]\n",
      "\n",
      " Train AUC for each c value is :\n",
      "  [0.7737  0.7737  0.777   0.81216 0.80487 0.80015 0.84657 0.85173 0.85202\n",
      " 0.86113 0.88369]\n",
      "\n",
      " CV AUC for each c value is :\n",
      "  [0.76846 0.76846 0.77167 0.80159 0.79309 0.77435 0.81426 0.8195  0.81984\n",
      " 0.82173 0.82841]\n"
     ]
    }
   ],
   "source": [
    "train_auc_w2v1= model_w2vtfidf.cv_results_['mean_train_score']\n",
    "cv_auc_w2v1=model_w2vtfidf.cv_results_['mean_test_score']\n",
    "plt.plot(alpha,train_auc_w2v1)\n",
    "plt.plot(alpha,cv_auc_w2v1)\n",
    "plt.xlabel('C',size=10)\n",
    "plt.ylabel('AUC',size=10)\n",
    "plt.title('AUC VS HYPERPARAMETER C RBF KERNEL - W2V ',size=16)\n",
    "plt.xscale('log')\n",
    "plt.grid()\n",
    "plt.show()\n",
    "print(\"\\n\\n C Values :\\n\", alpha)\n",
    "print(\"\\n Train AUC for each c value is :\\n \", np.round(train_auc_w2v1,5))\n",
    "print(\"\\n CV AUC for each c value is :\\n \", np.round(cv_auc_w2v1,5))"
   ]
  },
  {
   "cell_type": "code",
   "execution_count": 214,
   "metadata": {},
   "outputs": [
    {
     "data": {
      "text/plain": [
       "0.828411680589382"
      ]
     },
     "execution_count": 214,
     "metadata": {},
     "output_type": "execute_result"
    }
   ],
   "source": [
    "max(cv_auc_w2v1) # Hence Optimal C = 100000"
   ]
  },
  {
   "cell_type": "code",
   "execution_count": 215,
   "metadata": {},
   "outputs": [],
   "source": [
    "om_w2vtfidf = SVC(C=100000, probability = True)"
   ]
  },
  {
   "cell_type": "code",
   "execution_count": 216,
   "metadata": {},
   "outputs": [
    {
     "name": "stdout",
     "output_type": "stream",
     "text": [
      "\n",
      "The Test Precision FOR RBF KERNEL SVM  (TFIDF AVGW2V) is 0.869307\n",
      "\n",
      "The Test Recall FOR RBF KERNEL SVM  (TFIDF AVGW2V) is  0.173176\n",
      "\n",
      "The Test F1-Score FOR RBF KERNEL SVM  (TFIDF AVGW2V) is  0.288816\n",
      "TPR of the RBF KERNEL SVM  (TFIDF AVG W2V) for alpha  is :  0.869307\n",
      "FPR of the RBF KERNEL SVM (TFIDF AVGW2V) for alpha  is :  0.840080\n",
      "TNR of the RBF KERNEL SVM (TFIDF AVGW2V) for alpha  is :  0.159920\n",
      "FNR of the RBF KERNEL SVM (TFIDF AVGW2V) for alpha  is :  0.130693\n"
     ]
    }
   ],
   "source": [
    "om_w2vtfidf.fit(g3_rbf, y_train2)\n",
    "ompredictions_w2vtfidf  = om_w2vtfidf.predict(h3_rbf)\n",
    "probs6 = om_w2vtfidf.predict_proba(g3_rbf)\n",
    "probs7 = om_w2vtfidf.predict_proba(h3_rbf)\n",
    "probs6= probs6[:, 1]\n",
    "probs7 = probs7[:, 1]\n",
    "precision_w2vtfidf = precision_score(y_test2, ompredictions_w2vtfidf, pos_label = 1) \n",
    "recall_w2vtfidf = recall_score(y_test2, ompredictions_w2vtfidf, pos_label = 1) \n",
    "f1score_w2vtfidf = f1_score(y_test2, ompredictions_w2vtfidf, pos_label = 1) \n",
    "print('\\nThe Test Precision FOR RBF KERNEL SVM  (TFIDF AVGW2V) is %f' % (precision_w2vtfidf))\n",
    "print('\\nThe Test Recall FOR RBF KERNEL SVM  (TFIDF AVGW2V) is  %f' % (recall_w2vtfidf))\n",
    "print('\\nThe Test F1-Score FOR RBF KERNEL SVM  (TFIDF AVGW2V) is  %f' % (f1score_w2vtfidf))\n",
    "TrueNeg,FalseNeg,FalsePos, TruePos = confusion_matrix(y_test2, ompredictions_w2vtfidf).ravel()\n",
    "TPR = TruePos/(FalseNeg + TruePos)\n",
    "FPR = FalsePos/(TrueNeg + FalsePos)\n",
    "TNR = TrueNeg/(TrueNeg + FalsePos)\n",
    "FNR = FalseNeg/(FalseNeg + TruePos)\n",
    "print(\"TPR of the RBF KERNEL SVM  (TFIDF AVG W2V) for alpha  is :  %f\" % (TPR))\n",
    "print(\"FPR of the RBF KERNEL SVM (TFIDF AVGW2V) for alpha  is :  %f\" % (FPR))\n",
    "print(\"TNR of the RBF KERNEL SVM (TFIDF AVGW2V) for alpha  is :  %f\" % (TNR))\n",
    "print(\"FNR of the RBF KERNEL SVM (TFIDF AVGW2V) for alpha  is :  %f\" % (FNR))"
   ]
  },
  {
   "cell_type": "code",
   "execution_count": 217,
   "metadata": {},
   "outputs": [
    {
     "data": {
      "text/plain": [
       "Text(0.5, 1.0, 'Confusion Matrix\\n')"
      ]
     },
     "execution_count": 217,
     "metadata": {},
     "output_type": "execute_result"
    },
    {
     "data": {
      "image/png": "[encoded data removed]",
      "text/plain": [
       "<Figure size 720x504 with 2 Axes>"
      ]
     },
     "metadata": {
      "needs_background": "light"
     },
     "output_type": "display_data"
    }
   ],
   "source": [
    "# Code for drawing seaborn heatmaps\n",
    "class_names = [ 0,1]\n",
    "df_heatmap = pd.DataFrame(confusion_matrix(y_test2, ompredictions_w2vtfidf), index=class_names, columns=class_names )\n",
    "fig = plt.figure(figsize=(10,7))\n",
    "heatmap = sns.heatmap(df_heatmap, annot=True, fmt=\"d\")\n",
    "\n",
    "# Setting tick labels for heatmap\n",
    "heatmap.yaxis.set_ticklabels(heatmap.yaxis.get_ticklabels(), rotation=0, ha='right', fontsize=10)#\n",
    "heatmap.xaxis.set_ticklabels(heatmap.xaxis.get_ticklabels(), rotation=0, ha='right', fontsize=10)\n",
    "plt.ylabel('Predicted label',size=18)\n",
    "plt.xlabel('Actual label',size=18)\n",
    "plt.title(\"Confusion Matrix\\n\",size=20)"
   ]
  },
  {
   "cell_type": "code",
   "execution_count": 218,
   "metadata": {},
   "outputs": [
    {
     "data": {
      "image/png": "[encoded data removed]",
      "text/plain": [
       "<Figure size 432x288 with 1 Axes>"
      ]
     },
     "metadata": {
      "needs_background": "light"
     },
     "output_type": "display_data"
    }
   ],
   "source": [
    "import matplotlib.pyplot as plt\n",
    "from sklearn.metrics import roc_curve, auc\n",
    "fpr = dict()\n",
    "tpr = dict()\n",
    "roc_auc = dict()\n",
    "\n",
    "fpr1 = dict()\n",
    "tpr1 = dict()\n",
    "roc_auc1 = dict()\n",
    "\n",
    "for i in range(4):\n",
    "    fpr[i], tpr[i], _ = roc_curve(y_test2,probs7)\n",
    "    roc_auc[i] = auc(fpr[i], tpr[i])\n",
    "\n",
    "\n",
    "from tqdm import tqdm\n",
    "for i in range(4):\n",
    "    fpr1[i], tpr1[i], _ = roc_curve(y_train2,probs6)\n",
    "    roc_auc1[i] = auc(fpr1[i], tpr1[i])    \n",
    "\n",
    "\n",
    "#print(roc_auc_score(y_test1,ompredictions_bow))\n",
    "plt.figure()\n",
    "#plt.plot(fpr[1], tpr[1])\n",
    "lw = 2\n",
    "plt.plot(fpr[0], tpr[0], color='darkorange',lw=lw, label=' Test ROC curve (area = %0.2f)' % roc_auc[0])\n",
    "plt.plot(fpr1[0], tpr1[0], color='blue',lw=lw, label='Train ROC curve (area = %0.2f)' % roc_auc1[0])\n",
    "plt.xlim([0.0, 1.0])\n",
    "plt.ylim([0.0, 1.05])\n",
    "plt.xlabel('False Positive Rate')\n",
    "plt.ylabel('True Positive Rate')\n",
    "plt.legend(loc=\"lower right\")\n",
    "plt.title('Receiver operating characteristic')\n",
    "plt.show()"
   ]
  },
  {
   "cell_type": "markdown",
   "metadata": {
    "colab_type": "text",
    "id": "23XVBLK8b_AL"
   },
   "source": [
    "# Conclusions"
   ]
  },
  {
   "cell_type": "code",
   "execution_count": 225,
   "metadata": {
    "colab": {},
    "colab_type": "code",
    "id": "KeYhjilLb_AL"
   },
   "outputs": [],
   "source": [
    "res = pd.DataFrame()"
   ]
  },
  {
   "cell_type": "code",
   "execution_count": 226,
   "metadata": {
    "colab": {},
    "colab_type": "code",
    "id": "BryRd-Fnb_AM"
   },
   "outputs": [],
   "source": [
    "model_names = [\"Linear - KERNEL  SVM\" , \"Linear - KERNEL  SVM\" ,\"Linear - KERNEL  SVM\" ,\"Linear - KERNEL  SVM\" ,\"RBF - KERNEL SVM \",\"RBF - KERNEL SVM \",\"RBF - KERNEL SVM \",\"RBF - KERNEL SVM \"]\n",
    "vectorizer = [\"BOW\",\"TFIDF\",\"AVG W2V\",\"TFIDF AVGW2V\"]*2\n",
    "test_AUC = [0.946,0.9497,0.7334,0.70,0.892,0.8935,0.5392,0.56 ]\n",
    "train_AUC = [0.958,0.9672,0.9025,0.88,0.917,0.917,0.8947, 0.88]\n",
    "hyperparameter = [\"alpha\",\"alpha\",\"alpha\",\"alpha\",\"C\",\"C\",\"C\",\"C\"]\n",
    "Value = [0.0001,0.0001,0.001,0.001,100,100,100000,100000]"
   ]
  },
  {
   "cell_type": "code",
   "execution_count": 227,
   "metadata": {
    "colab": {},
    "colab_type": "code",
    "id": "-2HuY_-Nb_AN"
   },
   "outputs": [],
   "source": [
    "res['Vectorizer'] = vectorizer\n",
    "res['Model '] = model_names\n",
    "res['Hyperparameter'] = hyperparameter  \n",
    "res['Value'] = Value\n",
    "res['Train_AUC'] = train_AUC\n",
    "res['Test_AUC'] = test_AUC"
   ]
  },
  {
   "cell_type": "code",
   "execution_count": 228,
   "metadata": {
    "colab": {},
    "colab_type": "code",
    "id": "WKd3L09Cb_AN",
    "outputId": "517b919e-58c7-4c65-d4b9-1258ec0ca9aa"
   },
   "outputs": [
    {
     "data": {
      "text/html": [
       "<div>\n",
       "<style scoped>\n",
       "    .dataframe tbody tr th:only-of-type {\n",
       "        vertical-align: middle;\n",
       "    }\n",
       "\n",
       "    .dataframe tbody tr th {\n",
       "        vertical-align: top;\n",
       "    }\n",
       "\n",
       "    .dataframe thead th {\n",
       "        text-align: right;\n",
       "    }\n",
       "</style>\n",
       "<table border=\"1\" class=\"dataframe\">\n",
       "  <thead>\n",
       "    <tr style=\"text-align: right;\">\n",
       "      <th></th>\n",
       "      <th>Vectorizer</th>\n",
       "      <th>Model</th>\n",
       "      <th>Hyperparameter</th>\n",
       "      <th>Value</th>\n",
       "      <th>Train_AUC</th>\n",
       "      <th>Test_AUC</th>\n",
       "    </tr>\n",
       "  </thead>\n",
       "  <tbody>\n",
       "    <tr>\n",
       "      <th>0</th>\n",
       "      <td>BOW</td>\n",
       "      <td>Linear - KERNEL  SVM</td>\n",
       "      <td>alpha</td>\n",
       "      <td>0.0001</td>\n",
       "      <td>0.9580</td>\n",
       "      <td>0.9460</td>\n",
       "    </tr>\n",
       "    <tr>\n",
       "      <th>1</th>\n",
       "      <td>TFIDF</td>\n",
       "      <td>Linear - KERNEL  SVM</td>\n",
       "      <td>alpha</td>\n",
       "      <td>0.0001</td>\n",
       "      <td>0.9672</td>\n",
       "      <td>0.9497</td>\n",
       "    </tr>\n",
       "    <tr>\n",
       "      <th>2</th>\n",
       "      <td>AVG W2V</td>\n",
       "      <td>Linear - KERNEL  SVM</td>\n",
       "      <td>alpha</td>\n",
       "      <td>0.0010</td>\n",
       "      <td>0.9025</td>\n",
       "      <td>0.7334</td>\n",
       "    </tr>\n",
       "    <tr>\n",
       "      <th>3</th>\n",
       "      <td>TFIDF AVGW2V</td>\n",
       "      <td>Linear - KERNEL  SVM</td>\n",
       "      <td>alpha</td>\n",
       "      <td>0.0010</td>\n",
       "      <td>0.8800</td>\n",
       "      <td>0.7000</td>\n",
       "    </tr>\n",
       "    <tr>\n",
       "      <th>4</th>\n",
       "      <td>BOW</td>\n",
       "      <td>RBF - KERNEL SVM</td>\n",
       "      <td>C</td>\n",
       "      <td>100.0000</td>\n",
       "      <td>0.9170</td>\n",
       "      <td>0.8920</td>\n",
       "    </tr>\n",
       "    <tr>\n",
       "      <th>5</th>\n",
       "      <td>TFIDF</td>\n",
       "      <td>RBF - KERNEL SVM</td>\n",
       "      <td>C</td>\n",
       "      <td>100.0000</td>\n",
       "      <td>0.9170</td>\n",
       "      <td>0.8935</td>\n",
       "    </tr>\n",
       "    <tr>\n",
       "      <th>6</th>\n",
       "      <td>AVG W2V</td>\n",
       "      <td>RBF - KERNEL SVM</td>\n",
       "      <td>C</td>\n",
       "      <td>100000.0000</td>\n",
       "      <td>0.8947</td>\n",
       "      <td>0.5392</td>\n",
       "    </tr>\n",
       "    <tr>\n",
       "      <th>7</th>\n",
       "      <td>TFIDF AVGW2V</td>\n",
       "      <td>RBF - KERNEL SVM</td>\n",
       "      <td>C</td>\n",
       "      <td>100000.0000</td>\n",
       "      <td>0.8800</td>\n",
       "      <td>0.5600</td>\n",
       "    </tr>\n",
       "  </tbody>\n",
       "</table>\n",
       "</div>"
      ],
      "text/plain": [
       "     Vectorizer                Model  Hyperparameter        Value  Train_AUC  \\\n",
       "0           BOW  Linear - KERNEL  SVM          alpha       0.0001     0.9580   \n",
       "1         TFIDF  Linear - KERNEL  SVM          alpha       0.0001     0.9672   \n",
       "2       AVG W2V  Linear - KERNEL  SVM          alpha       0.0010     0.9025   \n",
       "3  TFIDF AVGW2V  Linear - KERNEL  SVM          alpha       0.0010     0.8800   \n",
       "4           BOW     RBF - KERNEL SVM               C     100.0000     0.9170   \n",
       "5         TFIDF     RBF - KERNEL SVM               C     100.0000     0.9170   \n",
       "6       AVG W2V     RBF - KERNEL SVM               C  100000.0000     0.8947   \n",
       "7  TFIDF AVGW2V     RBF - KERNEL SVM               C  100000.0000     0.8800   \n",
       "\n",
       "   Test_AUC  \n",
       "0    0.9460  \n",
       "1    0.9497  \n",
       "2    0.7334  \n",
       "3    0.7000  \n",
       "4    0.8920  \n",
       "5    0.8935  \n",
       "6    0.5392  \n",
       "7    0.5600  "
      ]
     },
     "execution_count": 228,
     "metadata": {},
     "output_type": "execute_result"
    }
   ],
   "source": [
    "res"
   ]
  },
  {
   "cell_type": "code",
   "execution_count": 229,
   "metadata": {
    "colab": {},
    "colab_type": "code",
    "id": "xUHwv09Tb_AO"
   },
   "outputs": [],
   "source": [
    "import tabulatehelper as th"
   ]
  },
  {
   "cell_type": "markdown",
   "metadata": {
    "colab_type": "text",
    "id": "NU_dCjclb_AO"
   },
   "source": [
    "# DISPLAYING THE RESULTS IN TABULAR FORMAT "
   ]
  },
  {
   "cell_type": "code",
   "execution_count": 230,
   "metadata": {
    "colab": {},
    "colab_type": "code",
    "id": "Th4IXg73b_AP",
    "outputId": "da4cc015-5e99-4a48-9775-97d17b0e598c"
   },
   "outputs": [
    {
     "name": "stdout",
     "output_type": "stream",
     "text": [
      "| Vectorizer   | Model                | Hyperparameter   |       Value |   Train_AUC |   Test_AUC |\n",
      "|:-------------|:---------------------|:-----------------|------------:|------------:|:----------:|\n",
      "| BOW          | Linear - KERNEL  SVM | alpha            |      0.0001 |      0.958  |     0.946  |\n",
      "| TFIDF        | Linear - KERNEL  SVM | alpha            |      0.0001 |      0.9672 |     0.9497 |\n",
      "| AVG W2V      | Linear - KERNEL  SVM | alpha            |      0.001  |      0.9025 |     0.7334 |\n",
      "| TFIDF AVGW2V | Linear - KERNEL  SVM | alpha            |      0.001  |      0.88   |     0.7    |\n",
      "| BOW          | RBF - KERNEL SVM     | C                |    100      |      0.917  |     0.892  |\n",
      "| TFIDF        | RBF - KERNEL SVM     | C                |    100      |      0.917  |     0.8935 |\n",
      "| AVG W2V      | RBF - KERNEL SVM     | C                | 100000      |      0.8947 |     0.5392 |\n",
      "| TFIDF AVGW2V | RBF - KERNEL SVM     | C                | 100000      |      0.88   |     0.56   |\n"
     ]
    }
   ],
   "source": [
    "print(th.md_table(res, formats={-1: 'c'}))"
   ]
  },
  {
   "cell_type": "markdown",
   "metadata": {
    "colab_type": "text",
    "id": "S-TfYoEtb_AP"
   },
   "source": [
    "# Final Observations :\n",
    "\n",
    "\n",
    "1) The best models have come through BOW and TFIDF. In TFIDF the test AUC has been slightly better when compared to BOW.\n",
    "\n",
    "2) IN THE CASE OF Linear Kernel , among AVG W2V and TFIDF AVG W2V the AVG W2V has performed marginally better. However in the scenario of RBF- Kernel   TFIDF AVG W2V  has performed marginally better when compared to AVG W2V.\n",
    "\n",
    "3) The important observation that has to be made is in the case of AVG W2V the test AUC has been 0.73 in Linear SVM. It has dropped to 0.54 in the case of RBF KERNEL SVM. The same is the case with TFIDF AVG W2V vectorizer too. \n",
    "\n",
    "4) IN THE CASE OF TFIDF- AVG W2V, I HAVE NOT USED FEATURE ENGINEERING. Linear SVM performed better than the other one. \n",
    "\n",
    "5) As suggested I have added length of preprocessed reviews as one more feature which has been contributed for more accuracy. \n",
    "   However if i would have used more features like length of common words or something else, the results would have been \n",
    "   different( my assumption)\n",
    "\n",
    "6) In an overall perspective Linear Kernel performed better than RBF kernel in every vectoriser. However the point that needs to be noted is as I have taken few points for RBF kernel.  "
   ]
  },
  {
   "cell_type": "code",
   "execution_count": 232,
   "metadata": {},
   "outputs": [],
   "source": [
    "from sklearn.ensemble import GradientBoostingClassifier"
   ]
  },
  {
   "cell_type": "code",
   "execution_count": null,
   "metadata": {},
   "outputs": [
    {
     "name": "stdout",
     "output_type": "stream",
     "text": [
      "Fitting 3 folds for each of 28 candidates, totalling 84 fits\n"
     ]
    },
    {
     "name": "stderr",
     "output_type": "stream",
     "text": [
      "[Parallel(n_jobs=1)]: Using backend SequentialBackend with 1 concurrent workers.\n"
     ]
    },
    {
     "name": "stdout",
     "output_type": "stream",
     "text": [
      "[CV] max_depth=1, n_estimators=5 .....................................\n",
      "[CV]  max_depth=1, n_estimators=5, score=0.6869598224261829, total=   1.0s\n"
     ]
    },
    {
     "name": "stderr",
     "output_type": "stream",
     "text": [
      "[Parallel(n_jobs=1)]: Done   1 out of   1 | elapsed:    1.0s remaining:    0.0s\n"
     ]
    },
    {
     "name": "stdout",
     "output_type": "stream",
     "text": [
      "[CV] max_depth=1, n_estimators=5 .....................................\n",
      "[CV]  max_depth=1, n_estimators=5, score=0.699866606864799, total=   0.9s\n"
     ]
    },
    {
     "name": "stderr",
     "output_type": "stream",
     "text": [
      "[Parallel(n_jobs=1)]: Done   2 out of   2 | elapsed:    2.0s remaining:    0.0s\n"
     ]
    },
    {
     "name": "stdout",
     "output_type": "stream",
     "text": [
      "[CV] max_depth=1, n_estimators=5 .....................................\n",
      "[CV]  max_depth=1, n_estimators=5, score=0.6765706579866755, total=   1.0s\n",
      "[CV] max_depth=1, n_estimators=10 ....................................\n",
      "[CV]  max_depth=1, n_estimators=10, score=0.7127227273655146, total=   1.9s\n",
      "[CV] max_depth=1, n_estimators=10 ....................................\n",
      "[CV]  max_depth=1, n_estimators=10, score=0.7198467304722067, total=   2.0s\n",
      "[CV] max_depth=1, n_estimators=10 ....................................\n",
      "[CV]  max_depth=1, n_estimators=10, score=0.7092088083354826, total=   1.9s\n",
      "[CV] max_depth=1, n_estimators=100 ...................................\n",
      "[CV]  max_depth=1, n_estimators=100, score=0.817894600072069, total=  20.4s\n",
      "[CV] max_depth=1, n_estimators=100 ...................................\n",
      "[CV]  max_depth=1, n_estimators=100, score=0.8333158513195863, total=  18.6s\n",
      "[CV] max_depth=1, n_estimators=100 ...................................\n",
      "[CV]  max_depth=1, n_estimators=100, score=0.8207219949832758, total=  17.8s\n",
      "[CV] max_depth=1, n_estimators=500 ...................................\n"
     ]
    }
   ],
   "source": [
    "tree_para = [{'max_depth':[1,5,10,50,100,500,1000],'n_estimators' : [5, 10, 100, 500]}]\n",
    "gbc =  GradientBoostingClassifier()\n",
    "model_tfidf2 = GridSearchCV(gbc, tree_para, scoring = 'roc_auc', cv= 3, return_train_score= True,verbose = 3)\n",
    "model_tfidf2.fit(c3, y_train1)\n",
    "print(model_tfidf2.best_estimator_)\n",
    "print(model_tfidf2.score(d3, y_test1))"
   ]
  },
  {
   "cell_type": "markdown",
   "metadata": {
    "colab_type": "text",
    "id": "x7q177XAb_AP"
   },
   "source": [
    "# References \n",
    "\n",
    "I have referred many links. However part of my code has been inspired from the following links \n",
    "\n",
    "1) Applied AI Course \n",
    "\n",
    "2) SKLEARN \n",
    "\n",
    "3) STACK OVERFLOW  - MANY "
   ]
  }
 ],
 "metadata": {
  "colab": {
   "collapsed_sections": [
    "sq86YwdAb--q",
    "sLo1TYNVb--5",
    "WBE8uB0Pb-_E",
    "Bc4uFO7sb-_I",
    "w0kiJj9xb-_c",
    "9PzDPT3_b-_c",
    "EHCJ-bRGb-_f",
    "daOwJMu7b-_j",
    "n-cmuelLb-_n",
    "yWfR-JQRb-_n",
    "ir-cfy2Yb-_n",
    "6SI5PPiVb-_r",
    "Y5N85hX-b-_x",
    "g8CfGatXb-_4",
    "DqttF_S4b-_4",
    "UXQbtVFXb-_6",
    "_ZdmviF1b-_9",
    "rwDuJCAHb-_9",
    "YUQswzGZb-_-",
    "Nf1FmMvwb_AA",
    "dKWc9WJnb_AE",
    "5P5d5c4Cb_AF",
    "23XVBLK8b_AL",
    "NU_dCjclb_AO",
    "S-TfYoEtb_AP",
    "x7q177XAb_AP"
   ],
   "name": "Linear SVM123 .ipynb",
   "provenance": [],
   "version": "0.3.2"
  },
  "kernelspec": {
   "display_name": "Python 3",
   "language": "python",
   "name": "python3"
  },
  "language_info": {
   "codemirror_mode": {
    "name": "ipython",
    "version": 3
   },
   "file_extension": ".py",
   "mimetype": "text/x-python",
   "name": "python",
   "nbconvert_exporter": "python",
   "pygments_lexer": "ipython3",
   "version": "3.7.1"
  }
 },
 "nbformat": 4,
 "nbformat_minor": 1
}
